{
 "cells": [
  {
   "cell_type": "markdown",
   "id": "e04efb99-41d0-4bbd-a6a2-5c273f9269df",
   "metadata": {
    "tags": []
   },
   "source": [
    "Name  : Nurkholis \\\n",
    "Source: Datacamp"
   ]
  },
  {
   "cell_type": "markdown",
   "id": "0499e214-8551-42c6-b452-a1b7dc74b4a2",
   "metadata": {},
   "source": [
    "# Intro to basics"
   ]
  },
  {
   "cell_type": "markdown",
   "id": "002269ee-665b-480e-9880-a34d07c9918d",
   "metadata": {},
   "source": [
    "Master the basics of data analysis in R, including vectors, lists, and data frames, and practice R with real data sets."
   ]
  },
  {
   "cell_type": "markdown",
   "id": "aa7c804b-9f6c-42b5-958c-30ed0a495f4d",
   "metadata": {},
   "source": [
    "## How it works"
   ]
  },
  {
   "cell_type": "markdown",
   "id": "9c96c7f5-7da3-4ba6-85d9-12458f849454",
   "metadata": {},
   "source": [
    "In the editor on the right you should type R code to solve the exercises. When you hit the 'Submit Answer' button, every line of code is interpreted and executed by R and you get a message whether or not your code was correct. The output of your R code is shown in the console in the lower right corner.\n",
    "\n",
    "R makes use of the `#` sign to add comments, so that you and others can understand what the R code is about. Just like Twitter! Comments are not run as R code, so they will not influence your result. For example, **Calculate 3 + 4** in the editor on the right is a comment.\n",
    "\n",
    "You can also execute R commands straight in the console. This is a good way to experiment with R code, as your submission is not checked for correctness."
   ]
  },
  {
   "cell_type": "code",
   "execution_count": 3,
   "id": "61c51292-d849-4e33-831b-cca9c0924cc0",
   "metadata": {
    "tags": []
   },
   "outputs": [
    {
     "data": {
      "text/html": [
       "7"
      ],
      "text/latex": [
       "7"
      ],
      "text/markdown": [
       "7"
      ],
      "text/plain": [
       "[1] 7"
      ]
     },
     "metadata": {},
     "output_type": "display_data"
    },
    {
     "data": {
      "text/html": [
       "18"
      ],
      "text/latex": [
       "18"
      ],
      "text/markdown": [
       "18"
      ],
      "text/plain": [
       "[1] 18"
      ]
     },
     "metadata": {},
     "output_type": "display_data"
    }
   ],
   "source": [
    "# Calculate 3 + 4\n",
    "3 + 4\n",
    "\n",
    "# Calculate 6 + 12\n",
    "6 + 12"
   ]
  },
  {
   "cell_type": "markdown",
   "id": "e5abb59a-7f30-4159-95b5-a12b1a18889a",
   "metadata": {},
   "source": [
    "## Arithmetic with R"
   ]
  },
  {
   "cell_type": "markdown",
   "id": "824e31df-4347-41de-b52f-75bdf65b89a1",
   "metadata": {},
   "source": [
    "In its most basic form, R can be used as a simple calculator. Consider the following arithmetic operators:\n",
    "\n",
    "Addition: `+`\n",
    "Subtraction: `-`\n",
    "Multiplication: `*`\n",
    "Division: `/`\n",
    "Exponentiation: `^`\n",
    "Modulo: `%%`\n",
    "The last two might need some explaining:\n",
    "\n",
    "The `^` operator raises the number to its left to the power of the number to its right: for example `3^2` is 9.\n",
    "The modulo returns the remainder of the division of the number to the left by the number on its right, for example 5 modulo 3 or `5 %% 3` is 2.\n",
    "\n",
    "With this knowledge, follow the instructions to complete the exercise."
   ]
  },
  {
   "cell_type": "code",
   "execution_count": 4,
   "id": "b6df9e68-885c-409e-9571-46bd238016d3",
   "metadata": {
    "tags": []
   },
   "outputs": [],
   "source": [
    "# Type 2^5 in the editor to calculate 2 to the power 5.\n",
    "# Type 28 %% 6 to calculate 28 modulo 6.\n",
    "# Submit the answer and have a look at the R output in the console.\n",
    "# Note how the # symbol is used to add comments on the R code."
   ]
  },
  {
   "cell_type": "code",
   "execution_count": 5,
   "id": "b2d3f3d2-9614-41a1-888b-c1d6d6645839",
   "metadata": {
    "tags": []
   },
   "outputs": [
    {
     "data": {
      "text/html": [
       "10"
      ],
      "text/latex": [
       "10"
      ],
      "text/markdown": [
       "10"
      ],
      "text/plain": [
       "[1] 10"
      ]
     },
     "metadata": {},
     "output_type": "display_data"
    },
    {
     "data": {
      "text/html": [
       "0"
      ],
      "text/latex": [
       "0"
      ],
      "text/markdown": [
       "0"
      ],
      "text/plain": [
       "[1] 0"
      ]
     },
     "metadata": {},
     "output_type": "display_data"
    },
    {
     "data": {
      "text/html": [
       "15"
      ],
      "text/latex": [
       "15"
      ],
      "text/markdown": [
       "15"
      ],
      "text/plain": [
       "[1] 15"
      ]
     },
     "metadata": {},
     "output_type": "display_data"
    },
    {
     "data": {
      "text/html": [
       "5"
      ],
      "text/latex": [
       "5"
      ],
      "text/markdown": [
       "5"
      ],
      "text/plain": [
       "[1] 5"
      ]
     },
     "metadata": {},
     "output_type": "display_data"
    },
    {
     "data": {
      "text/html": [
       "32"
      ],
      "text/latex": [
       "32"
      ],
      "text/markdown": [
       "32"
      ],
      "text/plain": [
       "[1] 32"
      ]
     },
     "metadata": {},
     "output_type": "display_data"
    },
    {
     "data": {
      "text/html": [
       "4"
      ],
      "text/latex": [
       "4"
      ],
      "text/markdown": [
       "4"
      ],
      "text/plain": [
       "[1] 4"
      ]
     },
     "metadata": {},
     "output_type": "display_data"
    }
   ],
   "source": [
    "# An addition\n",
    "5 + 5 \n",
    "\n",
    "# A subtraction\n",
    "5 - 5 \n",
    "\n",
    "# A multiplication\n",
    "3 * 5\n",
    "\n",
    " # A division\n",
    "(5 + 5) / 2 \n",
    "\n",
    "# Exponentiation\n",
    "2^5\n",
    "\n",
    "# Modulo\n",
    "28%%6"
   ]
  },
  {
   "cell_type": "markdown",
   "id": "f76f73ae-51dd-4697-a673-ea7a7f82dcfc",
   "metadata": {},
   "source": [
    "## Variable assignment"
   ]
  },
  {
   "cell_type": "markdown",
   "id": "6ab47c05-4be9-447a-9a3d-86d4455dd6ea",
   "metadata": {},
   "source": [
    "A basic concept in (statistical) programming is called a variable.\n",
    "\n",
    "A variable allows you to store a value (e.g. 4) or an object (e.g. a function description) in R. You can then later use this variable's name to easily access the value or the object that is stored within this variable.\n",
    "\n",
    "You can assign a value 4 to a variable `my_var` with the command\n",
    "\n",
    "`my_var <- 4`"
   ]
  },
  {
   "cell_type": "code",
   "execution_count": 6,
   "id": "56ae6fbe-a100-449b-a245-1d05d5ada549",
   "metadata": {
    "tags": []
   },
   "outputs": [],
   "source": [
    "# Over to you: complete the code in the editor such that it assigns\n",
    "#- the value 42 to the variable x in the editor.\n",
    "#- Submit the answer. Notice that when you ask R to print x,\n",
    "#- the value 42 appears."
   ]
  },
  {
   "cell_type": "code",
   "execution_count": 7,
   "id": "22da28c4-2f25-4096-93d5-d971e7806144",
   "metadata": {
    "tags": []
   },
   "outputs": [
    {
     "data": {
      "text/html": [
       "42"
      ],
      "text/latex": [
       "42"
      ],
      "text/markdown": [
       "42"
      ],
      "text/plain": [
       "[1] 42"
      ]
     },
     "metadata": {},
     "output_type": "display_data"
    }
   ],
   "source": [
    "# Assign the value 42 to x\n",
    "x <- 42\n",
    "\n",
    "# Print out the value of the variable x\n",
    "x"
   ]
  },
  {
   "cell_type": "markdown",
   "id": "68f1aec5-36ba-424c-adcf-a3282eb1a8a5",
   "metadata": {},
   "source": [
    "## Variable assignment (2)"
   ]
  },
  {
   "cell_type": "markdown",
   "id": "d9878b3d-9dde-45f2-b12b-b0bbb92c5c80",
   "metadata": {},
   "source": [
    "Suppose you have a fruit basket with five apples. As a data analyst in training, you want to store the number of apples in a variable with the name `my_apples`."
   ]
  },
  {
   "cell_type": "code",
   "execution_count": 8,
   "id": "da9f9e1e-b427-4d1a-aff4-fc47373156ab",
   "metadata": {
    "tags": []
   },
   "outputs": [],
   "source": [
    "#Type the following code in the editor:\n",
    "#- my_apples <- 5. This will assign the value 5 to my_apples.\n",
    "\n",
    "# Type: my_apples below the second comment.\n",
    "#- This will print out the value of my_apples.\n",
    "\n",
    "#Submit your answer, and look at the output:\n",
    "#- you see that the number 5 is printed.\n",
    "#- So R now links the variable my_apples to the value 5."
   ]
  },
  {
   "cell_type": "code",
   "execution_count": 10,
   "id": "08935320-ade8-434d-8e5e-e33a796a5e1f",
   "metadata": {
    "tags": []
   },
   "outputs": [
    {
     "data": {
      "text/html": [
       "5"
      ],
      "text/latex": [
       "5"
      ],
      "text/markdown": [
       "5"
      ],
      "text/plain": [
       "[1] 5"
      ]
     },
     "metadata": {},
     "output_type": "display_data"
    }
   ],
   "source": [
    "# Assign the value 5 to the variable my_apples\n",
    "my_apples <- 5\n",
    "\n",
    "# Print out the value of the variable my_apples\n",
    "my_apples"
   ]
  },
  {
   "cell_type": "markdown",
   "id": "a6ca3c70-9a1b-462b-a9d5-e08274a827f7",
   "metadata": {},
   "source": [
    "## Variable assignment (3)"
   ]
  },
  {
   "cell_type": "markdown",
   "id": "ebee06bc-f826-47c2-84d0-148cea7c49f7",
   "metadata": {},
   "source": [
    "Every tasty fruit basket needs oranges, so you decide to add six oranges. As a data analyst, your reflex is to immediately create the variable `my_oranges` and assign the value 6 to it. Next, you want to calculate how many pieces of fruit you have in total. Since you have given meaningful names to these values, you can now code this in a clear way:\n",
    "\n",
    "`my_apples + my_oranges`"
   ]
  },
  {
   "cell_type": "code",
   "execution_count": null,
   "id": "36b96fe2-9491-4057-87b3-8a61666dc8f8",
   "metadata": {},
   "outputs": [],
   "source": [
    "# Assign to my_oranges the value 6.\n",
    "\n",
    "# Add the variables my_apples and my_oranges and\n",
    "#- have R simply print the result.\n",
    "\n",
    "# Assign the result of adding my_apples and my_oranges\n",
    "#- to a new variable my_fruit."
   ]
  },
  {
   "cell_type": "code",
   "execution_count": 11,
   "id": "7b593a36-0f9c-4754-aa38-c790020a21bc",
   "metadata": {
    "tags": []
   },
   "outputs": [
    {
     "data": {
      "text/html": [
       "11"
      ],
      "text/latex": [
       "11"
      ],
      "text/markdown": [
       "11"
      ],
      "text/plain": [
       "[1] 11"
      ]
     },
     "metadata": {},
     "output_type": "display_data"
    }
   ],
   "source": [
    "# Assign a value to the variables my_apples and my_oranges\n",
    "my_apples <- 5\n",
    "my_oranges <- 6\n",
    "\n",
    "# Add these two variables together\n",
    "my_apples + my_oranges\n",
    "\n",
    "# Create the variable my_fruit\n",
    "my_fruit <- my_apples + my_oranges"
   ]
  },
  {
   "cell_type": "markdown",
   "id": "85c66039-0138-48a7-bded-93f5d7356dea",
   "metadata": {},
   "source": [
    "## Apples and oranges"
   ]
  },
  {
   "cell_type": "markdown",
   "id": "2ff064d4-d7fa-409c-be04-c83c8fcbe708",
   "metadata": {},
   "source": [
    "Common knowledge tells you not to add apples and oranges. But hey, that is what you just did, no :-)? The `my_apples` and `my_oranges` variables both contained a number in the previous exercise. The + operator works with numeric variables in R. If you really tried to add \"apples\" and \"oranges\", and assigned a text value to the variable `my_oranges` (see the editor), you would be trying to assign the addition of a numeric and a character variable to the variable `my_fruit`. This is not possible."
   ]
  },
  {
   "cell_type": "code",
   "execution_count": 12,
   "id": "dfcbcc9c-4058-4c7f-9a2c-75529954bfea",
   "metadata": {
    "tags": []
   },
   "outputs": [],
   "source": [
    "# Submit the answer and read the error message.\n",
    "#- Make sure to understand why this did not work.\n",
    "\n",
    "# Adjust the code so that R knows you have 6 oranges and\n",
    "#- thus a fruit basket with 11 pieces of fruit."
   ]
  },
  {
   "cell_type": "code",
   "execution_count": 13,
   "id": "34455ffb-1e42-4d0b-aca3-b8f103acdf0e",
   "metadata": {
    "tags": []
   },
   "outputs": [
    {
     "ename": "ERROR",
     "evalue": "Error in my_apples + my_oranges: non-numeric argument to binary operator\n",
     "output_type": "error",
     "traceback": [
      "Error in my_apples + my_oranges: non-numeric argument to binary operator\nTraceback:\n"
     ]
    }
   ],
   "source": [
    "# Assign a value to the variable my_apples\n",
    "my_apples <- 5 \n",
    "\n",
    "# Fix the assignment of my_oranges\n",
    "my_oranges <- \"six\" \n",
    "\n",
    "# Create the variable my_fruit and print it out\n",
    "my_fruit <- my_apples + my_oranges \n",
    "my_fruit"
   ]
  },
  {
   "cell_type": "code",
   "execution_count": 14,
   "id": "6cfc4009-799e-41c0-9b84-1ae201ab9630",
   "metadata": {
    "tags": []
   },
   "outputs": [
    {
     "data": {
      "text/html": [
       "11"
      ],
      "text/latex": [
       "11"
      ],
      "text/markdown": [
       "11"
      ],
      "text/plain": [
       "[1] 11"
      ]
     },
     "metadata": {},
     "output_type": "display_data"
    }
   ],
   "source": [
    "# Assign a value to the variable my_apples\n",
    "my_apples <- 5 \n",
    "\n",
    "# Fix the assignment of my_oranges\n",
    "my_oranges <- 6 \n",
    "\n",
    "# Create the variable my_fruit and print it out\n",
    "my_fruit <- my_apples + my_oranges \n",
    "my_fruit"
   ]
  },
  {
   "cell_type": "markdown",
   "id": "4536f83c-abf5-4ece-b621-5ec3f7d9fbe2",
   "metadata": {},
   "source": [
    "## Basic data types in R"
   ]
  },
  {
   "cell_type": "markdown",
   "id": "d4d7c6c6-4d8f-4d4c-ac9c-ae31fce86df5",
   "metadata": {},
   "source": [
    "R works with numerous data types. Some of the most basic types to get started are:\n",
    "\n",
    "- **Decimal** values like `4.5` are called **numerics**.\n",
    "- **Whole numbers** like `4` are called **integers**. **Integers** are also **numerics**.\n",
    "- **Boolean** values (`TRUE` or `FALSE`) are called **logical**.\n",
    "- **Text** (or string) values are called **characters**.\n",
    "\n",
    "Note how the quotation marks in the editor indicate that `\"some text\"` is a string."
   ]
  },
  {
   "cell_type": "code",
   "execution_count": 16,
   "id": "ce94d813-cd1b-4dfc-9d47-fdb849fd9a5c",
   "metadata": {
    "tags": []
   },
   "outputs": [],
   "source": [
    "# Change the value of the:\n",
    "# -my_numeric variable to 42.\n",
    "# -my_character variable to \"universe\".\n",
    "#- Note that the quotation marks indicate that \"universe\" is a character\n",
    "# -my_logical variable to FALSE.\n",
    "\n",
    "# Note that R is case sensitive!"
   ]
  },
  {
   "cell_type": "code",
   "execution_count": 17,
   "id": "95078c82-c8f7-4646-98f9-f388fbe20ba3",
   "metadata": {
    "tags": []
   },
   "outputs": [],
   "source": [
    "# Change my_numeric to be 42\n",
    "my_numeric <- 42\n",
    "\n",
    "# Change my_character to be \"universe\"\n",
    "my_character <- \"universe\"\n",
    "\n",
    "# Change my_logical to be FALSE\n",
    "my_logical <- FALSE"
   ]
  },
  {
   "cell_type": "code",
   "execution_count": 21,
   "id": "5a93088f-7e56-4943-8769-793bb610b275",
   "metadata": {
    "tags": []
   },
   "outputs": [
    {
     "data": {
      "text/html": [
       "42"
      ],
      "text/latex": [
       "42"
      ],
      "text/markdown": [
       "42"
      ],
      "text/plain": [
       "[1] 42"
      ]
     },
     "metadata": {},
     "output_type": "display_data"
    }
   ],
   "source": [
    "my_numeric"
   ]
  },
  {
   "cell_type": "code",
   "execution_count": 22,
   "id": "05d5b9aa-9cf0-4935-83f3-6933edf2118f",
   "metadata": {
    "tags": []
   },
   "outputs": [
    {
     "data": {
      "text/html": [
       "'universe'"
      ],
      "text/latex": [
       "'universe'"
      ],
      "text/markdown": [
       "'universe'"
      ],
      "text/plain": [
       "[1] \"universe\""
      ]
     },
     "metadata": {},
     "output_type": "display_data"
    }
   ],
   "source": [
    "my_character"
   ]
  },
  {
   "cell_type": "code",
   "execution_count": 23,
   "id": "b80f5b7f-7702-43f8-9e28-0ad07f271cc4",
   "metadata": {
    "tags": []
   },
   "outputs": [
    {
     "data": {
      "text/html": [
       "FALSE"
      ],
      "text/latex": [
       "FALSE"
      ],
      "text/markdown": [
       "FALSE"
      ],
      "text/plain": [
       "[1] FALSE"
      ]
     },
     "metadata": {},
     "output_type": "display_data"
    }
   ],
   "source": [
    "my_logical"
   ]
  },
  {
   "cell_type": "markdown",
   "id": "c03c3cd2-27f8-4356-a60f-b20147ee490d",
   "metadata": {},
   "source": [
    "## What's that data type?"
   ]
  },
  {
   "cell_type": "markdown",
   "id": "b6d62a14-f343-4439-9061-3b4f82587c7c",
   "metadata": {},
   "source": [
    "Do you remember that when you added `5 + \"six\"`, you got an error due to a mismatch in data types? You can avoid such embarrassing situations by checking the data type of a variable beforehand. You can do this with the `class()` function, as the code in the editor shows."
   ]
  },
  {
   "cell_type": "code",
   "execution_count": 24,
   "id": "d5af2924-e967-40f2-a3cc-c4514eee7608",
   "metadata": {
    "tags": []
   },
   "outputs": [],
   "source": [
    "# Complete the code in the editor and also\n",
    "#- print out the classes of my_character and my_logical."
   ]
  },
  {
   "cell_type": "code",
   "execution_count": 25,
   "id": "5c43df9b-1f2c-4b44-8887-3faf643a2c3e",
   "metadata": {
    "tags": []
   },
   "outputs": [],
   "source": [
    "# Declare variables of different types\n",
    "my_numeric <- 42\n",
    "my_character <- \"universe\"\n",
    "my_logical <- FALSE "
   ]
  },
  {
   "cell_type": "code",
   "execution_count": 26,
   "id": "64e08cad-9597-452a-a182-6270d4efa042",
   "metadata": {
    "tags": []
   },
   "outputs": [
    {
     "data": {
      "text/html": [
       "'numeric'"
      ],
      "text/latex": [
       "'numeric'"
      ],
      "text/markdown": [
       "'numeric'"
      ],
      "text/plain": [
       "[1] \"numeric\""
      ]
     },
     "metadata": {},
     "output_type": "display_data"
    }
   ],
   "source": [
    "# Check class of my_numeric\n",
    "class(my_numeric)"
   ]
  },
  {
   "cell_type": "code",
   "execution_count": 27,
   "id": "ee9e146d-6077-4052-9639-f49e61ba1eea",
   "metadata": {
    "tags": []
   },
   "outputs": [
    {
     "data": {
      "text/html": [
       "'character'"
      ],
      "text/latex": [
       "'character'"
      ],
      "text/markdown": [
       "'character'"
      ],
      "text/plain": [
       "[1] \"character\""
      ]
     },
     "metadata": {},
     "output_type": "display_data"
    }
   ],
   "source": [
    "# Check class of my_character\n",
    "class(my_character)"
   ]
  },
  {
   "cell_type": "code",
   "execution_count": 29,
   "id": "8e313fdf-a378-4348-a090-0c21c5d5add2",
   "metadata": {
    "tags": []
   },
   "outputs": [
    {
     "data": {
      "text/html": [
       "'logical'"
      ],
      "text/latex": [
       "'logical'"
      ],
      "text/markdown": [
       "'logical'"
      ],
      "text/plain": [
       "[1] \"logical\""
      ]
     },
     "metadata": {},
     "output_type": "display_data"
    }
   ],
   "source": [
    "# Check class of my_logical\n",
    "class(my_logical)"
   ]
  }
 ],
 "metadata": {
  "kernelspec": {
   "display_name": "R",
   "language": "R",
   "name": "ir"
  },
  "language_info": {
   "codemirror_mode": "r",
   "file_extension": ".r",
   "mimetype": "text/x-r-source",
   "name": "R",
   "pygments_lexer": "r",
   "version": "3.6.1"
  }
 },
 "nbformat": 4,
 "nbformat_minor": 5
}
