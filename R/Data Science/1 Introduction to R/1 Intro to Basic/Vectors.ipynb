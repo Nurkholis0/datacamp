{
 "cells": [
  {
   "cell_type": "markdown",
   "id": "93652de5-3a0e-4f06-b540-a1955678e5a8",
   "metadata": {
    "tags": []
   },
   "source": [
    "Name  : Nurkholis \\\n",
    "Source: Datacamp"
   ]
  },
  {
   "cell_type": "markdown",
   "id": "db7e435f-c10c-4803-850c-675d440034b8",
   "metadata": {},
   "source": [
    "# Vectors"
   ]
  },
  {
   "cell_type": "markdown",
   "id": "67fef1a9-2648-4293-8067-89c1cc88144e",
   "metadata": {},
   "source": [
    "We take you on a trip to Vegas, where you will learn how to analyze your gambling results using vectors in R. After completing this chapter, you will be able to create vectors in R, name them, select elements from them, and compare different vectors."
   ]
  },
  {
   "cell_type": "markdown",
   "id": "9827fb58-6d46-4531-9305-893a5c647d9b",
   "metadata": {
    "tags": []
   },
   "source": [
    "## Create a vector "
   ]
  },
  {
   "cell_type": "markdown",
   "id": "134b769c-ff69-4dff-b4b0-3a248554aad5",
   "metadata": {},
   "source": [
    "Feeling lucky? You better, because this chapter takes you on a trip to the City of Sins, also known as **Statisticians Paradise**!\n",
    "\n",
    "Thanks to R and your new data-analytical skills, you will learn how to uplift your performance at the tables and fire off your career as a professional gambler. This chapter will show how you can easily keep track of your betting progress and how you can do some simple analyses on past actions. Next stop, Vegas Baby… VEGAS!!"
   ]
  },
  {
   "cell_type": "code",
   "execution_count": null,
   "id": "b8be0396-7c0a-4173-99ed-bc07d426226b",
   "metadata": {},
   "outputs": [],
   "source": [
    "# Do you still remember what you have learned in the first chapter?\n",
    "#- Assign the value \"Go!\" to the variable vegas. Remember: R is case sensitive!"
   ]
  },
  {
   "cell_type": "code",
   "execution_count": 2,
   "id": "635e1421-2a3f-4a7f-a68c-8b56e8281514",
   "metadata": {
    "tags": []
   },
   "outputs": [],
   "source": [
    "# Define the variable vegas\n",
    "vegas <- \"Go!\""
   ]
  },
  {
   "cell_type": "markdown",
   "id": "6edff5a3-cd4b-4535-9b48-cce116671c52",
   "metadata": {},
   "source": [
    "## Create a vector (2)"
   ]
  },
  {
   "cell_type": "markdown",
   "id": "501261dc-1a3b-44d4-90bc-574c27c10fe0",
   "metadata": {},
   "source": [
    "Let us focus first!\n",
    "\n",
    "On your way from rags to riches, you will make extensive use of vectors. Vectors are one-dimension arrays that can hold numeric data, character data, or logical data. In other words, a vector is a simple tool to store data. For example, you can store your daily gains and losses in the casinos.\n",
    "\n",
    "In R, you create a vector with **the combine** function `c()`. You place the vector elements separated by a comma between the parentheses. For example:\n",
    "\n",
    "`numeric_vector <- c(1, 2, 3)` \\\n",
    "`character_vector <- c(\"a\", \"b\", \"c\")`\n",
    "\n",
    "Once you have created these vectors in R, you can use them to do calculations."
   ]
  },
  {
   "cell_type": "code",
   "execution_count": 3,
   "id": "fc4f8655-a8c5-4466-b24f-d31239ed4e2e",
   "metadata": {
    "tags": []
   },
   "outputs": [],
   "source": [
    "# Complete the code such that boolean_vector contains the three elements:\n",
    "#- TRUE, FALSE and TRUE (in that order)."
   ]
  },
  {
   "cell_type": "code",
   "execution_count": null,
   "id": "487ddcce-a96b-45e1-bbb1-37a0f015b78b",
   "metadata": {},
   "outputs": [],
   "source": [
    "numeric_vector <- c(1, 10, 49)\n",
    "character_vector <- c(\"a\", \"b\", \"c\")\n",
    "\n",
    "# Complete the code for boolean_vector\n",
    "boolean_vector <- c( TRUE, FALSE, TRUE)"
   ]
  },
  {
   "cell_type": "markdown",
   "id": "151334a5-3b5f-45a5-9772-712d8af6b39e",
   "metadata": {},
   "source": [
    "## Create a vector (3)"
   ]
  },
  {
   "cell_type": "markdown",
   "id": "f7beb11e-3492-489c-8947-7e0d9f81edba",
   "metadata": {},
   "source": [
    "After one week in Las Vegas and still zero Ferraris in your garage, you decide that it is time to start using your data analytical superpowers.\n",
    "\n",
    "Before doing a first analysis, you decide to first collect all the winnings and losses for the last week:"
   ]
  },
  {
   "cell_type": "code",
   "execution_count": 5,
   "id": "17aaadfd-9408-45ae-b498-6e16046772e1",
   "metadata": {
    "tags": []
   },
   "outputs": [],
   "source": [
    "# For poker_vector:\n",
    "#- 1. On Monday you won $140\n",
    "#- 2. Tuesday you lost $50\n",
    "#- 3. Wednesday you won $20\n",
    "#- 4. Thursday you lost $120\n",
    "#- 5. Friday you won $240\n",
    "\n",
    "# For roulette_vector: \n",
    "#- 1. On Monday you lost $24\n",
    "#- 2. Tuesday you lost $50\n",
    "#- 3. Wednesday you won $100\n",
    "#- 4. Thursday you lost $350\n",
    "#- 5. Friday you won $10"
   ]
  },
  {
   "cell_type": "markdown",
   "id": "348f0bfc-e92d-48da-a789-8e693d4a2572",
   "metadata": {
    "tags": []
   },
   "source": [
    "You only played poker and roulette, since there was a delegation of mediums that occupied the craps tables. To be able to use this data in R, you decide to create the variables `poker_vector` and `roulette_vector`"
   ]
  },
  {
   "cell_type": "code",
   "execution_count": null,
   "id": "1a2bac23-7595-43da-aa99-ac2905a39b40",
   "metadata": {},
   "outputs": [],
   "source": [
    "# Assign the winnings/losses for roulette to the variable roulette_vector.\n",
    "#- You lost $24, then lost $50, won $100, lost $350, and won $10."
   ]
  },
  {
   "cell_type": "code",
   "execution_count": 7,
   "id": "6e0c0933-98d7-4579-8ad9-2ce8a4a4aee1",
   "metadata": {
    "tags": []
   },
   "outputs": [],
   "source": [
    "# Poker winnings from Monday to Friday\n",
    "poker_vector <- c(140, -50, 20, -120, 240)\n",
    "\n",
    "# Roulette winnings from Monday to Friday\n",
    "roulette_vector <-  c(-24, -50, 100, -350, 10)"
   ]
  },
  {
   "cell_type": "markdown",
   "id": "e7060f24-0a1e-4f9c-a725-164eb19cab4e",
   "metadata": {},
   "source": [
    "## Naming a vector"
   ]
  },
  {
   "cell_type": "markdown",
   "id": "791147eb-14ce-43df-b241-9b4b76a9ba82",
   "metadata": {},
   "source": [
    "As a data analyst, it is important to have a clear view on the data that you are using. Understanding what each element refers to is therefore essential.\n",
    "\n",
    "In the previous exercise, we created a vector with your winnings over the week. Each vector element refers to a day of the week but it is hard to tell which element belongs to which day. It would be nice if you could show that in the vector itself.\n",
    "\n",
    "You can give a name to the elements of a vector with the names() function. Have a look at this example:"
   ]
  },
  {
   "cell_type": "code",
   "execution_count": null,
   "id": "531489b0-121a-4529-a995-b1ea2d69da05",
   "metadata": {},
   "outputs": [],
   "source": [
    "some_vector <- c(\"John Doe\", \"poker player\")\n",
    "names(some_vector) <- c(\"Name\", \"Profession\")"
   ]
  },
  {
   "cell_type": "markdown",
   "id": "1beb9da4-341b-4ad5-90f7-2ef99bd105de",
   "metadata": {},
   "source": [
    "This code first creates a vector `some_vector` and then gives the two elements a name. The first element is assigned the name `Name`, while the second element is labeled `Profession`. Printing the contents to the console yields following output:"
   ]
  },
  {
   "cell_type": "markdown",
   "id": "8b0af968-4e22-4771-b587-101b612479ff",
   "metadata": {},
   "source": [
    "          Name     Profession \n",
    "    \"John Doe\" \"poker player\" "
   ]
  },
  {
   "cell_type": "code",
   "execution_count": 8,
   "id": "4e0de52b-8807-40c7-8b45-87e187979b1f",
   "metadata": {
    "tags": []
   },
   "outputs": [],
   "source": [
    "# The code in the editor names the elements in poker_vector with the days of the week.\n",
    "#- Add code to do the same thing for roulette_vector."
   ]
  },
  {
   "cell_type": "code",
   "execution_count": 9,
   "id": "a8dc58cf-2482-45b5-a625-b986b6ad7c4a",
   "metadata": {
    "tags": []
   },
   "outputs": [],
   "source": [
    "# Poker winnings from Monday to Friday\n",
    "poker_vector <- c(140, -50, 20, -120, 240)\n",
    "\n",
    "# Roulette winnings from Monday to Friday\n",
    "roulette_vector <- c(-24, -50, 100, -350, 10)\n",
    "\n",
    "# Assign days as names of poker_vector\n",
    "names(poker_vector) <- c(\"Monday\", \"Tuesday\", \"Wednesday\", \"Thursday\", \"Friday\")\n",
    "\n",
    "# Assign days as names of roulette_vector\n",
    "names(roulette_vector) <- c(\"Monday\", \"Tuesday\", \"Wednesday\", \"Thursday\", \"Friday\")"
   ]
  },
  {
   "cell_type": "code",
   "execution_count": 10,
   "id": "0e8df41f-aca3-45a5-8498-3ccfac6496ff",
   "metadata": {
    "tags": []
   },
   "outputs": [
    {
     "data": {
      "text/html": [
       "<dl class=dl-horizontal>\n",
       "\t<dt>Monday</dt>\n",
       "\t\t<dd>140</dd>\n",
       "\t<dt>Tuesday</dt>\n",
       "\t\t<dd>-50</dd>\n",
       "\t<dt>Wednesday</dt>\n",
       "\t\t<dd>20</dd>\n",
       "\t<dt>Thursday</dt>\n",
       "\t\t<dd>-120</dd>\n",
       "\t<dt>Friday</dt>\n",
       "\t\t<dd>240</dd>\n",
       "</dl>\n"
      ],
      "text/latex": [
       "\\begin{description*}\n",
       "\\item[Monday] 140\n",
       "\\item[Tuesday] -50\n",
       "\\item[Wednesday] 20\n",
       "\\item[Thursday] -120\n",
       "\\item[Friday] 240\n",
       "\\end{description*}\n"
      ],
      "text/markdown": [
       "Monday\n",
       ":   140Tuesday\n",
       ":   -50Wednesday\n",
       ":   20Thursday\n",
       ":   -120Friday\n",
       ":   240\n",
       "\n"
      ],
      "text/plain": [
       "   Monday   Tuesday Wednesday  Thursday    Friday \n",
       "      140       -50        20      -120       240 "
      ]
     },
     "metadata": {},
     "output_type": "display_data"
    }
   ],
   "source": [
    "poker_vector"
   ]
  },
  {
   "cell_type": "code",
   "execution_count": 11,
   "id": "46b909a9-eff0-4ddf-82e9-1fc3a2aa9bcb",
   "metadata": {
    "tags": []
   },
   "outputs": [
    {
     "data": {
      "text/html": [
       "<dl class=dl-horizontal>\n",
       "\t<dt>Monday</dt>\n",
       "\t\t<dd>-24</dd>\n",
       "\t<dt>Tuesday</dt>\n",
       "\t\t<dd>-50</dd>\n",
       "\t<dt>Wednesday</dt>\n",
       "\t\t<dd>100</dd>\n",
       "\t<dt>Thursday</dt>\n",
       "\t\t<dd>-350</dd>\n",
       "\t<dt>Friday</dt>\n",
       "\t\t<dd>10</dd>\n",
       "</dl>\n"
      ],
      "text/latex": [
       "\\begin{description*}\n",
       "\\item[Monday] -24\n",
       "\\item[Tuesday] -50\n",
       "\\item[Wednesday] 100\n",
       "\\item[Thursday] -350\n",
       "\\item[Friday] 10\n",
       "\\end{description*}\n"
      ],
      "text/markdown": [
       "Monday\n",
       ":   -24Tuesday\n",
       ":   -50Wednesday\n",
       ":   100Thursday\n",
       ":   -350Friday\n",
       ":   10\n",
       "\n"
      ],
      "text/plain": [
       "   Monday   Tuesday Wednesday  Thursday    Friday \n",
       "      -24       -50       100      -350        10 "
      ]
     },
     "metadata": {},
     "output_type": "display_data"
    }
   ],
   "source": [
    "roulette_vector"
   ]
  },
  {
   "cell_type": "markdown",
   "id": "35af6758-b0a3-4639-946b-bf3e0b1be316",
   "metadata": {},
   "source": [
    "## Naming a vector (2)"
   ]
  },
  {
   "cell_type": "markdown",
   "id": "7daea591-2388-4d4b-877a-2ed186e35372",
   "metadata": {},
   "source": [
    "If you want to become a good statistician, you have to become lazy. (If you are already lazy, chances are high you are one of those exceptional, natural-born statistical talents.)\n",
    "\n",
    "In the previous exercises you probably experienced that it is boring and frustrating to type and retype information such as the days of the week. However, when you look at it from a higher perspective, there is a more efficient way to do this, namely, to assign the days of the week vector to a variable!\n",
    "\n",
    "Just like you did with your poker and roulette returns, you can also create a variable that contains the days of the week. This way you can use and re-use it."
   ]
  },
  {
   "cell_type": "code",
   "execution_count": 12,
   "id": "c354efbd-507d-481e-b6fc-f3916c73a885",
   "metadata": {
    "tags": []
   },
   "outputs": [],
   "source": [
    "# A variable days_vector that contains the days of the week has already been created for you.\n",
    "# Use days_vector to set the names of poker_vector and roulette_vector."
   ]
  },
  {
   "cell_type": "code",
   "execution_count": 13,
   "id": "cbab2106-eec2-408f-bf17-5cfc0266ba60",
   "metadata": {
    "tags": []
   },
   "outputs": [],
   "source": [
    "# Poker winnings from Monday to Friday\n",
    "poker_vector <- c(140, -50, 20, -120, 240)\n",
    "\n",
    "# Roulette winnings from Monday to Friday\n",
    "roulette_vector <- c(-24, -50, 100, -350, 10)\n",
    "\n",
    "# The variable days_vector\n",
    "days_vector <- c(\"Monday\", \"Tuesday\", \"Wednesday\", \"Thursday\", \"Friday\")\n",
    " \n",
    "# Assign the names of the day to roulette_vector and poker_vector\n",
    "names(poker_vector) <- days_vector\n",
    "names(roulette_vector) <- days_vector"
   ]
  },
  {
   "cell_type": "markdown",
   "id": "ca6bb5ca-6005-4990-8f60-f70a5ac8382d",
   "metadata": {},
   "source": [
    "## Calculating total winnings"
   ]
  },
  {
   "cell_type": "markdown",
   "id": "9c4034db-5c7b-4f6e-8b04-3e70089fba4a",
   "metadata": {},
   "source": [
    "Now that you have the poker and roulette winnings nicely as named vectors, you can start doing some data analytical magic.\n",
    "\n",
    "You want to find out the following type of information:\n",
    "\n",
    "- How much has been your overall profit or loss per day of the week?\n",
    "- Have you lost money over the week in total?\n",
    "- Are you winning/losing money on poker or on roulette?\n",
    "\n",
    "To get the answers, you have to do arithmetic calculations on vectors.\n",
    "\n",
    "It is important to know that if you sum two vectors in R, it takes the element-wise sum. For example, the following three statements are completely equivalent:"
   ]
  },
  {
   "cell_type": "code",
   "execution_count": 14,
   "id": "da928ac7-b379-4770-9c44-b40853607cce",
   "metadata": {
    "tags": []
   },
   "outputs": [
    {
     "data": {
      "text/html": [
       "<ol class=list-inline>\n",
       "\t<li>5</li>\n",
       "\t<li>7</li>\n",
       "\t<li>9</li>\n",
       "</ol>\n"
      ],
      "text/latex": [
       "\\begin{enumerate*}\n",
       "\\item 5\n",
       "\\item 7\n",
       "\\item 9\n",
       "\\end{enumerate*}\n"
      ],
      "text/markdown": [
       "1. 5\n",
       "2. 7\n",
       "3. 9\n",
       "\n",
       "\n"
      ],
      "text/plain": [
       "[1] 5 7 9"
      ]
     },
     "metadata": {},
     "output_type": "display_data"
    },
    {
     "data": {
      "text/html": [
       "<ol class=list-inline>\n",
       "\t<li>5</li>\n",
       "\t<li>7</li>\n",
       "\t<li>9</li>\n",
       "</ol>\n"
      ],
      "text/latex": [
       "\\begin{enumerate*}\n",
       "\\item 5\n",
       "\\item 7\n",
       "\\item 9\n",
       "\\end{enumerate*}\n"
      ],
      "text/markdown": [
       "1. 5\n",
       "2. 7\n",
       "3. 9\n",
       "\n",
       "\n"
      ],
      "text/plain": [
       "[1] 5 7 9"
      ]
     },
     "metadata": {},
     "output_type": "display_data"
    },
    {
     "data": {
      "text/html": [
       "<ol class=list-inline>\n",
       "\t<li>5</li>\n",
       "\t<li>7</li>\n",
       "\t<li>9</li>\n",
       "</ol>\n"
      ],
      "text/latex": [
       "\\begin{enumerate*}\n",
       "\\item 5\n",
       "\\item 7\n",
       "\\item 9\n",
       "\\end{enumerate*}\n"
      ],
      "text/markdown": [
       "1. 5\n",
       "2. 7\n",
       "3. 9\n",
       "\n",
       "\n"
      ],
      "text/plain": [
       "[1] 5 7 9"
      ]
     },
     "metadata": {},
     "output_type": "display_data"
    }
   ],
   "source": [
    "c(1, 2, 3) + c(4, 5, 6)\n",
    "c(1 + 4, 2 + 5, 3 + 6)\n",
    "c(5, 7, 9)"
   ]
  },
  {
   "cell_type": "markdown",
   "id": "662c5bcf-3e63-42a9-a7d1-b534ac170375",
   "metadata": {},
   "source": [
    "You can also do the calculations with variables that represent vectors:"
   ]
  },
  {
   "cell_type": "code",
   "execution_count": 15,
   "id": "5319e14e-d0f2-4041-ab15-3b7ab2c157fb",
   "metadata": {
    "tags": []
   },
   "outputs": [],
   "source": [
    "a <- c(1, 2, 3) \n",
    "b <- c(4, 5, 6)\n",
    "c <- a + b"
   ]
  },
  {
   "cell_type": "code",
   "execution_count": 16,
   "id": "57b4de93-3e9a-42b4-8d11-aaf8bc259d2e",
   "metadata": {
    "tags": []
   },
   "outputs": [],
   "source": [
    "# Take the sum of the variables A_vector and B_vector and assign it to total_vector.\n",
    "# Inspect the result by printing out total_vector."
   ]
  },
  {
   "cell_type": "code",
   "execution_count": 17,
   "id": "8e452eab-e4fd-4815-924f-11c29b0ccf4b",
   "metadata": {
    "tags": []
   },
   "outputs": [
    {
     "data": {
      "text/html": [
       "<ol class=list-inline>\n",
       "\t<li>5</li>\n",
       "\t<li>7</li>\n",
       "\t<li>9</li>\n",
       "</ol>\n"
      ],
      "text/latex": [
       "\\begin{enumerate*}\n",
       "\\item 5\n",
       "\\item 7\n",
       "\\item 9\n",
       "\\end{enumerate*}\n"
      ],
      "text/markdown": [
       "1. 5\n",
       "2. 7\n",
       "3. 9\n",
       "\n",
       "\n"
      ],
      "text/plain": [
       "[1] 5 7 9"
      ]
     },
     "metadata": {},
     "output_type": "display_data"
    }
   ],
   "source": [
    "A_vector <- c(1, 2, 3)\n",
    "B_vector <- c(4, 5, 6)\n",
    "\n",
    "# Take the sum of A_vector and B_vector\n",
    "total_vector <- A_vector + B_vector\n",
    "  \n",
    "# Print out total_vector\n",
    "total_vector"
   ]
  },
  {
   "cell_type": "markdown",
   "id": "fde49172-6ae7-4462-8b3e-ba9f1025f476",
   "metadata": {},
   "source": [
    "## Calculating total winnings (2)"
   ]
  },
  {
   "cell_type": "markdown",
   "id": "ca6623e3-26fe-437d-87cc-711ffb37b1a0",
   "metadata": {},
   "source": [
    "Now you understand how R does arithmetic with vectors, it is time to get those Ferraris in your garage! First, you need to understand what the overall profit or loss per day of the week was. The total daily profit is the sum of the profit/loss you realized on poker per day, and the profit/loss you realized on roulette per day.\n",
    "\n",
    "In R, this is just the sum of `roulette_vector` and `poker_vector`."
   ]
  },
  {
   "cell_type": "code",
   "execution_count": 18,
   "id": "ae17c350-bd27-417e-9355-166219354506",
   "metadata": {
    "tags": []
   },
   "outputs": [],
   "source": [
    "# Assign to the variable total_daily how much you won or lost on each day\n",
    "#- in total (poker and roulette combined)."
   ]
  },
  {
   "cell_type": "code",
   "execution_count": 20,
   "id": "b8f6dc52-827e-49da-85dc-ad377ed63595",
   "metadata": {
    "tags": []
   },
   "outputs": [],
   "source": [
    "# Poker and roulette winnings from Monday to Friday:\n",
    "poker_vector <- c(140, -50, 20, -120, 240)\n",
    "roulette_vector <- c(-24, -50, 100, -350, 10)\n",
    "days_vector <- c(\"Monday\", \"Tuesday\", \"Wednesday\", \"Thursday\", \"Friday\")\n",
    "names(poker_vector) <- days_vector\n",
    "names(roulette_vector) <- days_vector\n",
    "\n",
    "# Assign to total_daily how much you won/lost on each day\n",
    "total_daily <- poker_vector + roulette_vector"
   ]
  },
  {
   "cell_type": "code",
   "execution_count": 21,
   "id": "53c96779-83b5-4cc0-8b27-edbd5120356a",
   "metadata": {
    "tags": []
   },
   "outputs": [
    {
     "data": {
      "text/html": [
       "<dl class=dl-horizontal>\n",
       "\t<dt>Monday</dt>\n",
       "\t\t<dd>116</dd>\n",
       "\t<dt>Tuesday</dt>\n",
       "\t\t<dd>-100</dd>\n",
       "\t<dt>Wednesday</dt>\n",
       "\t\t<dd>120</dd>\n",
       "\t<dt>Thursday</dt>\n",
       "\t\t<dd>-470</dd>\n",
       "\t<dt>Friday</dt>\n",
       "\t\t<dd>250</dd>\n",
       "</dl>\n"
      ],
      "text/latex": [
       "\\begin{description*}\n",
       "\\item[Monday] 116\n",
       "\\item[Tuesday] -100\n",
       "\\item[Wednesday] 120\n",
       "\\item[Thursday] -470\n",
       "\\item[Friday] 250\n",
       "\\end{description*}\n"
      ],
      "text/markdown": [
       "Monday\n",
       ":   116Tuesday\n",
       ":   -100Wednesday\n",
       ":   120Thursday\n",
       ":   -470Friday\n",
       ":   250\n",
       "\n"
      ],
      "text/plain": [
       "   Monday   Tuesday Wednesday  Thursday    Friday \n",
       "      116      -100       120      -470       250 "
      ]
     },
     "metadata": {},
     "output_type": "display_data"
    }
   ],
   "source": [
    "total_daily"
   ]
  },
  {
   "cell_type": "markdown",
   "id": "20384158-8d29-4e31-9dd6-3a4e82a022be",
   "metadata": {},
   "source": [
    "## Calculating total winnings (3)"
   ]
  },
  {
   "cell_type": "markdown",
   "id": "24b425ee-ed06-4225-a605-9a8e49021c6f",
   "metadata": {},
   "source": [
    "Based on the previous analysis, it looks like you had a mix of good and bad days. This is not what your ego expected, and you wonder if there may be a very tiny chance you have lost money over the week in total?\n",
    "\n",
    "A function that helps you to answer this question is `sum()`. It calculates the sum of all elements of a vector. For example, to calculate the total amount of money you have lost/won with poker you do:\n",
    "\n",
    "`total_poker <- sum(poker_vector)`"
   ]
  },
  {
   "cell_type": "code",
   "execution_count": 22,
   "id": "8b808cea-7ce0-4d89-80e8-aa6e12d77058",
   "metadata": {
    "tags": []
   },
   "outputs": [],
   "source": [
    "# Calculate the total amount of money that you have won/lost\n",
    "#- with roulette and assign to the variable total_roulette.\n",
    "\n",
    "# Now that you have the totals for roulette and poker,\n",
    "#- you can easily calculate total_week (which is the sum of all gains and losses of the week).\n",
    "\n",
    "# Print out total_week."
   ]
  },
  {
   "cell_type": "code",
   "execution_count": 26,
   "id": "c1dc25b6-884f-40c3-8a00-1c91e64c0199",
   "metadata": {
    "tags": []
   },
   "outputs": [],
   "source": [
    "# Poker and roulette winnings from Monday to Friday:\n",
    "poker_vector <- c(140, -50, 20, -120, 240)\n",
    "roulette_vector <- c(-24, -50, 100, -350, 10)\n",
    "days_vector <- c(\"Monday\", \"Tuesday\", \"Wednesday\", \"Thursday\", \"Friday\")\n",
    "names(poker_vector) <- days_vector\n",
    "names(roulette_vector) <- days_vector\n",
    "\n",
    "# Total winnings with poker\n",
    "total_poker <- sum(poker_vector)\n",
    "\n",
    "# Total winnings with roulette\n",
    "total_roulette <-  sum(roulette_vector)\n",
    "\n",
    "# Total winnings overall\n",
    "total_week <- total_poker + total_roulette"
   ]
  },
  {
   "cell_type": "code",
   "execution_count": 24,
   "id": "9acaa8d7-82c0-42ee-a025-3fdf892261f1",
   "metadata": {
    "tags": []
   },
   "outputs": [
    {
     "data": {
      "text/html": [
       "230"
      ],
      "text/latex": [
       "230"
      ],
      "text/markdown": [
       "230"
      ],
      "text/plain": [
       "[1] 230"
      ]
     },
     "metadata": {},
     "output_type": "display_data"
    }
   ],
   "source": [
    "total_poker"
   ]
  },
  {
   "cell_type": "code",
   "execution_count": 25,
   "id": "8f2c521e-ccd8-4825-956c-482efe08ab56",
   "metadata": {
    "tags": []
   },
   "outputs": [
    {
     "data": {
      "text/html": [
       "-314"
      ],
      "text/latex": [
       "-314"
      ],
      "text/markdown": [
       "-314"
      ],
      "text/plain": [
       "[1] -314"
      ]
     },
     "metadata": {},
     "output_type": "display_data"
    }
   ],
   "source": [
    "total_roulette"
   ]
  },
  {
   "cell_type": "code",
   "execution_count": 27,
   "id": "2ab42397-a499-4aa5-8c38-c4fb6f3bb695",
   "metadata": {
    "tags": []
   },
   "outputs": [
    {
     "data": {
      "text/html": [
       "-84"
      ],
      "text/latex": [
       "-84"
      ],
      "text/markdown": [
       "-84"
      ],
      "text/plain": [
       "[1] -84"
      ]
     },
     "metadata": {},
     "output_type": "display_data"
    }
   ],
   "source": [
    "# Print out total_week\n",
    "total_week"
   ]
  },
  {
   "cell_type": "markdown",
   "id": "5d37a811-5b7d-4307-85cb-c77289f4319d",
   "metadata": {},
   "source": [
    "## Comparing total winnings"
   ]
  },
  {
   "cell_type": "markdown",
   "id": "03893ed4-fd6b-449c-afb0-f3728de8e6cd",
   "metadata": {},
   "source": [
    "Oops, it seems like you are losing money. Time to rethink and adapt your strategy! This will require some deeper analysis…\n",
    "\n",
    "After a short brainstorm in your hotel's jacuzzi, you realize that a possible explanation might be that your skills in roulette are not as well developed as your skills in poker. So maybe your total gains in poker are higher (or `>` ) than in roulette."
   ]
  },
  {
   "cell_type": "code",
   "execution_count": null,
   "id": "43b44072-8fd0-4ae4-8e44-8824918af49c",
   "metadata": {},
   "outputs": [],
   "source": [
    "# Calculate total_poker and total_roulette as in the previous exercise.\n",
    "#- Use the sum() function twice.\n",
    "\n",
    "# Check if your total gains in poker are higher than for roulette by using a comparison.\n",
    "#- Simply print out the result of this comparison. What do you conclude,\n",
    "#- should you focus on roulette or on poker?"
   ]
  },
  {
   "cell_type": "code",
   "execution_count": 28,
   "id": "b2269783-a484-4e5f-a790-0e85cc882aee",
   "metadata": {
    "tags": []
   },
   "outputs": [
    {
     "data": {
      "text/html": [
       "TRUE"
      ],
      "text/latex": [
       "TRUE"
      ],
      "text/markdown": [
       "TRUE"
      ],
      "text/plain": [
       "[1] TRUE"
      ]
     },
     "metadata": {},
     "output_type": "display_data"
    }
   ],
   "source": [
    "# Poker and roulette winnings from Monday to Friday:\n",
    "poker_vector <- c(140, -50, 20, -120, 240)\n",
    "roulette_vector <- c(-24, -50, 100, -350, 10)\n",
    "days_vector <- c(\"Monday\", \"Tuesday\", \"Wednesday\", \"Thursday\", \"Friday\")\n",
    "names(poker_vector) <- days_vector\n",
    "names(roulette_vector) <- days_vector\n",
    "\n",
    "# Calculate total gains for poker and roulette\n",
    "total_poker <- sum(poker_vector)\n",
    "total_roulette <-sum(roulette_vector)\n",
    "\n",
    "# Check if you realized higher total gains in poker than in roulette\n",
    "total_poker > total_roulette"
   ]
  },
  {
   "cell_type": "markdown",
   "id": "4875dd08-fbda-421e-b1a3-ca798b786e17",
   "metadata": {},
   "source": [
    "## Vector selection: the good times"
   ]
  },
  {
   "cell_type": "markdown",
   "id": "4626d3b3-876f-4bb6-bdeb-884f98f164c2",
   "metadata": {},
   "source": [
    "Your hunch seemed to be right. It appears that the poker game is more your cup of tea than roulette.\n",
    "\n",
    "Another possible route for investigation is your performance at the beginning of the working week compared to the end of it. You did have a couple of Margarita cocktails at the end of the week…\n",
    "\n",
    "To answer that question, you only want to focus on a selection of the `total_vector`. In other words, our goal is to select specific elements of the vector. To select elements of a vector (and later matrices, data frames, …), you can use square brackets. Between the square brackets, you indicate what elements to select. For example, to select the first element of the vector, you type `poker_vector[1]`. To select the second element of the vector, you type `poker_vector[2]`, etc. Notice that the first element in a vector has index 1, not 0 as in many other programming languages."
   ]
  },
  {
   "cell_type": "code",
   "execution_count": 29,
   "id": "240cde4f-2cb0-4174-99ad-8163b6edff64",
   "metadata": {
    "tags": []
   },
   "outputs": [],
   "source": [
    "# Assign the poker results of Wednesday to the variable poker_wednesday."
   ]
  },
  {
   "cell_type": "code",
   "execution_count": 31,
   "id": "9a392919-7a8f-436a-89f2-85ec44ca1f75",
   "metadata": {
    "tags": []
   },
   "outputs": [],
   "source": [
    "# Poker and roulette winnings from Monday to Friday:\n",
    "poker_vector <- c(140, -50, 20, -120, 240)\n",
    "roulette_vector <- c(-24, -50, 100, -350, 10)\n",
    "days_vector <- c(\"Monday\", \"Tuesday\", \"Wednesday\", \"Thursday\", \"Friday\")\n",
    "names(poker_vector) <- days_vector\n",
    "names(roulette_vector) <- days_vector\n",
    "\n",
    "# Define a new variable based on a selection\n",
    "poker_wednesday <- poker_vector[3]"
   ]
  },
  {
   "cell_type": "code",
   "execution_count": 32,
   "id": "1e3971ab-3dc6-42e0-bc65-fa48ff2987e4",
   "metadata": {
    "tags": []
   },
   "outputs": [
    {
     "data": {
      "text/html": [
       "<strong>Wednesday:</strong> 20"
      ],
      "text/latex": [
       "\\textbf{Wednesday:} 20"
      ],
      "text/markdown": [
       "**Wednesday:** 20"
      ],
      "text/plain": [
       "Wednesday \n",
       "       20 "
      ]
     },
     "metadata": {},
     "output_type": "display_data"
    }
   ],
   "source": [
    "poker_wednesday"
   ]
  },
  {
   "cell_type": "markdown",
   "id": "18a2f3ef-81cc-43d5-8000-7a1d1005a949",
   "metadata": {},
   "source": [
    "## Vector selection: the good times (2)"
   ]
  },
  {
   "cell_type": "markdown",
   "id": "e0b40575-4f68-4fb9-abcb-239678fd893e",
   "metadata": {},
   "source": [
    "How about analyzing your midweek results?\n",
    "\n",
    "To select multiple elements from a vector, you can add square brackets at the end of it. You can indicate between the brackets what elements should be selected. For example: suppose you want to select the first and the fifth day of the week: use the vector `c(1, 5)` between the square brackets. For example, the code below selects the first and fifth element of poker_vector:\n",
    "\n",
    "`poker_vector[c(1, 5)]`"
   ]
  },
  {
   "cell_type": "code",
   "execution_count": 33,
   "id": "f5e064c9-c72c-495e-ad2a-3bf8998c40ed",
   "metadata": {
    "tags": []
   },
   "outputs": [],
   "source": [
    "# Assign the poker results of Tuesday, Wednesday and Thursday to the variable poker_midweek."
   ]
  },
  {
   "cell_type": "code",
   "execution_count": 35,
   "id": "38f0dbb1-e7cb-4e99-b709-80137e7f83a9",
   "metadata": {
    "tags": []
   },
   "outputs": [],
   "source": [
    "# Poker and roulette winnings from Monday to Friday:\n",
    "poker_vector <- c(140, -50, 20, -120, 240)\n",
    "roulette_vector <- c(-24, -50, 100, -350, 10)\n",
    "days_vector <- c(\"Monday\", \"Tuesday\", \"Wednesday\", \"Thursday\", \"Friday\")\n",
    "names(poker_vector) <- days_vector\n",
    "names(roulette_vector) <- days_vector\n",
    "\n",
    "# Define a new variable based on a selection\n",
    "poker_midweek <- poker_vector[c(2,3,4)]"
   ]
  },
  {
   "cell_type": "code",
   "execution_count": 36,
   "id": "92aff28b-342a-4b18-8371-145e7df0a48d",
   "metadata": {
    "tags": []
   },
   "outputs": [
    {
     "data": {
      "text/html": [
       "<dl class=dl-horizontal>\n",
       "\t<dt>Tuesday</dt>\n",
       "\t\t<dd>-50</dd>\n",
       "\t<dt>Wednesday</dt>\n",
       "\t\t<dd>20</dd>\n",
       "\t<dt>Thursday</dt>\n",
       "\t\t<dd>-120</dd>\n",
       "</dl>\n"
      ],
      "text/latex": [
       "\\begin{description*}\n",
       "\\item[Tuesday] -50\n",
       "\\item[Wednesday] 20\n",
       "\\item[Thursday] -120\n",
       "\\end{description*}\n"
      ],
      "text/markdown": [
       "Tuesday\n",
       ":   -50Wednesday\n",
       ":   20Thursday\n",
       ":   -120\n",
       "\n"
      ],
      "text/plain": [
       "  Tuesday Wednesday  Thursday \n",
       "      -50        20      -120 "
      ]
     },
     "metadata": {},
     "output_type": "display_data"
    }
   ],
   "source": [
    "poker_midweek"
   ]
  },
  {
   "cell_type": "markdown",
   "id": "1f301742-3eee-4926-9025-5333e125ec3c",
   "metadata": {},
   "source": [
    "## Vector selection: the good times (3)"
   ]
  },
  {
   "cell_type": "markdown",
   "id": "975543b7-24a0-4c20-9d06-a2a09a86b0dc",
   "metadata": {},
   "source": [
    "Selecting multiple elements of poker_vector with `c(2, 3, 4)` is not very convenient. Many statisticians are lazy people by nature, so they created an easier way to do this: `c(2, 3, 4)` can be abbreviated to `2:4`, which generates a vector with all natural numbers from **2 up to 4**.\n",
    "\n",
    "So, another way to find the mid-week results is `poker_vector[2:4]`. Notice how the vector `2:4` is placed between the square brackets to select element **2 up to 4**."
   ]
  },
  {
   "cell_type": "code",
   "execution_count": 37,
   "id": "09355218-5ddb-44f5-9312-4fb18b0962f7",
   "metadata": {
    "tags": []
   },
   "outputs": [],
   "source": [
    "# Assign to roulette_selection_vector the roulette results from Tuesday up to Friday;\n",
    "#- make use of : if it makes things easier for you."
   ]
  },
  {
   "cell_type": "code",
   "execution_count": 40,
   "id": "ff731f18-289c-4790-98e8-1d5a8de463a6",
   "metadata": {
    "tags": []
   },
   "outputs": [],
   "source": [
    "# Poker and roulette winnings from Monday to Friday:\n",
    "poker_vector <- c(140, -50, 20, -120, 240)\n",
    "roulette_vector <- c(-24, -50, 100, -350, 10)\n",
    "days_vector <- c(\"Monday\", \"Tuesday\", \"Wednesday\", \"Thursday\", \"Friday\")\n",
    "names(poker_vector) <- days_vector\n",
    "names(roulette_vector) <- days_vector\n",
    "\n",
    "# Define a new variable based on a selection\n",
    "roulette_selection_vector <- roulette_vector[2:5]"
   ]
  },
  {
   "cell_type": "code",
   "execution_count": 41,
   "id": "caeffc7a-e485-4ad1-ae6b-fc73fefb8d9d",
   "metadata": {
    "tags": []
   },
   "outputs": [
    {
     "data": {
      "text/html": [
       "<dl class=dl-horizontal>\n",
       "\t<dt>Tuesday</dt>\n",
       "\t\t<dd>-50</dd>\n",
       "\t<dt>Wednesday</dt>\n",
       "\t\t<dd>100</dd>\n",
       "\t<dt>Thursday</dt>\n",
       "\t\t<dd>-350</dd>\n",
       "\t<dt>Friday</dt>\n",
       "\t\t<dd>10</dd>\n",
       "</dl>\n"
      ],
      "text/latex": [
       "\\begin{description*}\n",
       "\\item[Tuesday] -50\n",
       "\\item[Wednesday] 100\n",
       "\\item[Thursday] -350\n",
       "\\item[Friday] 10\n",
       "\\end{description*}\n"
      ],
      "text/markdown": [
       "Tuesday\n",
       ":   -50Wednesday\n",
       ":   100Thursday\n",
       ":   -350Friday\n",
       ":   10\n",
       "\n"
      ],
      "text/plain": [
       "  Tuesday Wednesday  Thursday    Friday \n",
       "      -50       100      -350        10 "
      ]
     },
     "metadata": {},
     "output_type": "display_data"
    }
   ],
   "source": [
    "roulette_selection_vector"
   ]
  },
  {
   "cell_type": "markdown",
   "id": "ef14e529-ec68-449a-8318-f366fd167b52",
   "metadata": {},
   "source": [
    "## Vector selection: the good times (4)"
   ]
  },
  {
   "cell_type": "markdown",
   "id": "409bd162-bc63-44dc-a539-4ab181378492",
   "metadata": {},
   "source": [
    "Another way to tackle the previous exercise is by using the names of the vector elements (Monday, Tuesday, …) instead of their numeric positions. For example,\n",
    "\n",
    "`poker_vector[\"Monday\"]`\n",
    "will select the first element of `poker_vector` since `\"Monday\"` is the name of that first element.\n",
    "\n",
    "Just like you did in the previous exercise with numerics, you can also use the element names to select multiple elements, for example:\n",
    "\n",
    "`poker_vector[c(\"Monday\",\"Tuesday\")]`"
   ]
  },
  {
   "cell_type": "code",
   "execution_count": 42,
   "id": "971163fe-8af7-4585-9dfc-d224f5207998",
   "metadata": {
    "tags": []
   },
   "outputs": [],
   "source": [
    "# Select the first three elements in poker_vector by using their names:\n",
    "#- \"Monday\", \"Tuesday\" and \"Wednesday\".\n",
    "#- Assign the result of the selection to poker_start.\n",
    "\n",
    "# Calculate the average of the values in poker_start with the mean() function.\n",
    "#- Simply print out the result so you can inspect it."
   ]
  },
  {
   "cell_type": "code",
   "execution_count": 49,
   "id": "b570c685-e650-4bd1-b975-1724a38b9366",
   "metadata": {
    "tags": []
   },
   "outputs": [
    {
     "data": {
      "text/html": [
       "36.6666666666667"
      ],
      "text/latex": [
       "36.6666666666667"
      ],
      "text/markdown": [
       "36.6666666666667"
      ],
      "text/plain": [
       "[1] 36.66667"
      ]
     },
     "metadata": {},
     "output_type": "display_data"
    }
   ],
   "source": [
    "# Poker and roulette winnings from Monday to Friday:\n",
    "poker_vector <- c(140, -50, 20, -120, 240)\n",
    "roulette_vector <- c(-24, -50, 100, -350, 10)\n",
    "days_vector <- c(\"Monday\", \"Tuesday\", \"Wednesday\", \"Thursday\", \"Friday\")\n",
    "names(poker_vector) <- days_vector\n",
    "names(roulette_vector) <- days_vector\n",
    "\n",
    "# Select poker results for Monday, Tuesday and Wednesday\n",
    "poker_start <- poker_vector[c(\"Monday\", \"Tuesday\", \"Wednesday\")]\n",
    "  \n",
    "# Calculate the average of the elements in poker_start\n",
    "mean(poker_start)"
   ]
  },
  {
   "cell_type": "markdown",
   "id": "8baad49f-b0f9-415d-b6dc-272d7794a399",
   "metadata": {},
   "source": [
    "## Selection by comparison - Step 1"
   ]
  },
  {
   "cell_type": "markdown",
   "id": "3f630a82-4d50-4379-9fd8-bb4117e6ef83",
   "metadata": {},
   "source": [
    "By making use of comparison operators, we can approach the previous question in a more proactive way.\n",
    "\n",
    "The (logical) comparison operators known to R are:\n",
    "\n",
    "`<` for less than \\\n",
    "`>` for greater than \\\n",
    "`<=` for less than or equal to \\\n",
    "`>=` for greater than or equal to \\\n",
    "`==` for equal to each other \\\n",
    "`!=` not equal to each other \\\n",
    "\n",
    "As seen in the previous chapter, stating `6 > 5` returns `TRUE`. The nice thing about R is that you can use these comparison operators also on vectors. For example:\n",
    "\n",
    "`c(4, 5, 6) > 5` \\\n",
    "`[1] FALSE FALSE TRUE` \\\n",
    "This command tests for every element of the vector if the condition stated by the comparison operator is `TRUE` or `FALSE`."
   ]
  },
  {
   "cell_type": "code",
   "execution_count": 50,
   "id": "7cc990a6-fda4-4980-95bc-1c85de474fae",
   "metadata": {
    "tags": []
   },
   "outputs": [],
   "source": [
    "# Check which elements in poker_vector are positive (i.e. > 0) and\n",
    "#- assign this to selection_vector.\n",
    "\n",
    "# Print out selection_vector so you can inspect it.\n",
    "#- The printout tells you whether you won (TRUE) or lost (FALSE) any money for each day."
   ]
  },
  {
   "cell_type": "code",
   "execution_count": 51,
   "id": "7012965a-9877-45a5-9c32-25d94240e4c9",
   "metadata": {
    "tags": []
   },
   "outputs": [
    {
     "data": {
      "text/html": [
       "<dl class=dl-horizontal>\n",
       "\t<dt>Monday</dt>\n",
       "\t\t<dd>TRUE</dd>\n",
       "\t<dt>Tuesday</dt>\n",
       "\t\t<dd>FALSE</dd>\n",
       "\t<dt>Wednesday</dt>\n",
       "\t\t<dd>TRUE</dd>\n",
       "\t<dt>Thursday</dt>\n",
       "\t\t<dd>FALSE</dd>\n",
       "\t<dt>Friday</dt>\n",
       "\t\t<dd>TRUE</dd>\n",
       "</dl>\n"
      ],
      "text/latex": [
       "\\begin{description*}\n",
       "\\item[Monday] TRUE\n",
       "\\item[Tuesday] FALSE\n",
       "\\item[Wednesday] TRUE\n",
       "\\item[Thursday] FALSE\n",
       "\\item[Friday] TRUE\n",
       "\\end{description*}\n"
      ],
      "text/markdown": [
       "Monday\n",
       ":   TRUETuesday\n",
       ":   FALSEWednesday\n",
       ":   TRUEThursday\n",
       ":   FALSEFriday\n",
       ":   TRUE\n",
       "\n"
      ],
      "text/plain": [
       "   Monday   Tuesday Wednesday  Thursday    Friday \n",
       "     TRUE     FALSE      TRUE     FALSE      TRUE "
      ]
     },
     "metadata": {},
     "output_type": "display_data"
    }
   ],
   "source": [
    "# Poker and roulette winnings from Monday to Friday:\n",
    "poker_vector <- c(140, -50, 20, -120, 240)\n",
    "roulette_vector <- c(-24, -50, 100, -350, 10)\n",
    "days_vector <- c(\"Monday\", \"Tuesday\", \"Wednesday\", \"Thursday\", \"Friday\")\n",
    "names(poker_vector) <- days_vector\n",
    "names(roulette_vector) <- days_vector\n",
    "\n",
    "# Which days did you make money on poker?\n",
    "selection_vector <- poker_vector > 0\n",
    "  \n",
    "# Print out selection_vector\n",
    "selection_vector"
   ]
  },
  {
   "cell_type": "markdown",
   "id": "dcd2fb16-ec3e-420c-8653-c6e64b20bee0",
   "metadata": {},
   "source": [
    "## Selection by comparison - Step 2"
   ]
  },
  {
   "cell_type": "markdown",
   "id": "3fe7936c-66bb-4a02-a6b7-476fcdaedc13",
   "metadata": {},
   "source": [
    "Working with comparisons will make your data analytical life easier. Instead of selecting a subset of days to investigate yourself (like before), you can simply ask R to return only those days where you realized a positive return for poker.\n",
    "\n",
    "In the previous exercises you used \n",
    "`selection_vector <- poker_vector > 0` to find the days on which you had a positive poker return. Now, you would like to know not only the days on which you won, but also how much you won on those days.\n",
    "\n",
    "You can select the desired elements, by putting selection_vector between the square brackets that follow `poker_vector`:\n",
    "\n",
    "`poker_vector[selection_vector]`\n",
    "R knows what to do when you pass a logical vector in square brackets: it will only select the elements that correspond to `TRUE` in `selection_vector`."
   ]
  },
  {
   "cell_type": "code",
   "execution_count": null,
   "id": "df0ee4d6-4301-4c21-abdd-2bed96888295",
   "metadata": {},
   "outputs": [],
   "source": [
    "# Use selection_vector in square brackets to assign the amounts\n",
    "#- that you won on the profitable days to the variable poker_winning_days."
   ]
  },
  {
   "cell_type": "code",
   "execution_count": 57,
   "id": "ea5183a7-b344-4bfa-8221-e957a11edb0d",
   "metadata": {
    "tags": []
   },
   "outputs": [],
   "source": [
    "# Poker and roulette winnings from Monday to Friday:\n",
    "poker_vector <- c(140, -50, 20, -120, 240)\n",
    "roulette_vector <- c(-24, -50, 100, -350, 10)\n",
    "days_vector <- c(\"Monday\", \"Tuesday\", \"Wednesday\", \"Thursday\", \"Friday\")\n",
    "names(poker_vector) <- days_vector\n",
    "names(roulette_vector) <- days_vector\n",
    "\n",
    "# Which days did you make money on poker?\n",
    "selection_vector <- poker_vector > 0\n",
    "\n",
    "# Select from poker_vector these days\n",
    "poker_winning_days <- poker_vector[selection_vector]"
   ]
  },
  {
   "cell_type": "code",
   "execution_count": 58,
   "id": "9239bdda-aac3-4d24-8ca8-de5f61993c92",
   "metadata": {
    "tags": []
   },
   "outputs": [
    {
     "data": {
      "text/html": [
       "<dl class=dl-horizontal>\n",
       "\t<dt>Monday</dt>\n",
       "\t\t<dd>140</dd>\n",
       "\t<dt>Wednesday</dt>\n",
       "\t\t<dd>20</dd>\n",
       "\t<dt>Friday</dt>\n",
       "\t\t<dd>240</dd>\n",
       "</dl>\n"
      ],
      "text/latex": [
       "\\begin{description*}\n",
       "\\item[Monday] 140\n",
       "\\item[Wednesday] 20\n",
       "\\item[Friday] 240\n",
       "\\end{description*}\n"
      ],
      "text/markdown": [
       "Monday\n",
       ":   140Wednesday\n",
       ":   20Friday\n",
       ":   240\n",
       "\n"
      ],
      "text/plain": [
       "   Monday Wednesday    Friday \n",
       "      140        20       240 "
      ]
     },
     "metadata": {},
     "output_type": "display_data"
    }
   ],
   "source": [
    "poker_winning_days"
   ]
  },
  {
   "cell_type": "markdown",
   "id": "dd050290-10aa-4005-a214-fa365b692383",
   "metadata": {},
   "source": [
    "## Advanced selection"
   ]
  },
  {
   "cell_type": "markdown",
   "id": "9dcda633-814c-4977-81ac-9359e3526571",
   "metadata": {},
   "source": [
    "Just like you did for poker, you also want to know those days where you realized a positive return for roulette."
   ]
  },
  {
   "cell_type": "code",
   "execution_count": 59,
   "id": "764557eb-3a05-4a46-b66f-b6d5c749d0d8",
   "metadata": {
    "tags": []
   },
   "outputs": [],
   "source": [
    "# Create the variable selection_vector, this time to see if you\n",
    "#- made profit with roulette for different days.\n",
    "\n",
    "# Assign the amounts that you made on the days that you ended positively\n",
    "#- for roulette to the variable roulette_winning_days.\n",
    "#- This vector thus contains the positive winnings of roulette_vector."
   ]
  },
  {
   "cell_type": "code",
   "execution_count": 60,
   "id": "f9fd11e8-a435-4b3c-865d-d67973c93aac",
   "metadata": {
    "tags": []
   },
   "outputs": [],
   "source": [
    "# Poker and roulette winnings from Monday to Friday:\n",
    "poker_vector <- c(140, -50, 20, -120, 240)\n",
    "roulette_vector <- c(-24, -50, 100, -350, 10)\n",
    "days_vector <- c(\"Monday\", \"Tuesday\", \"Wednesday\", \"Thursday\", \"Friday\")\n",
    "names(poker_vector) <- days_vector\n",
    "names(roulette_vector) <- days_vector\n",
    "\n",
    "# Which days did you make money on roulette?\n",
    "selection_vector <- roulette_vector > 0 \n",
    "\n",
    "# Select from roulette_vector these days\n",
    "roulette_winning_days <- roulette_vector[selection_vector]"
   ]
  },
  {
   "cell_type": "code",
   "execution_count": 61,
   "id": "baa7f83f-42a1-4872-acbe-42f03ec16486",
   "metadata": {
    "tags": []
   },
   "outputs": [
    {
     "data": {
      "text/html": [
       "<dl class=dl-horizontal>\n",
       "\t<dt>Wednesday</dt>\n",
       "\t\t<dd>100</dd>\n",
       "\t<dt>Friday</dt>\n",
       "\t\t<dd>10</dd>\n",
       "</dl>\n"
      ],
      "text/latex": [
       "\\begin{description*}\n",
       "\\item[Wednesday] 100\n",
       "\\item[Friday] 10\n",
       "\\end{description*}\n"
      ],
      "text/markdown": [
       "Wednesday\n",
       ":   100Friday\n",
       ":   10\n",
       "\n"
      ],
      "text/plain": [
       "Wednesday    Friday \n",
       "      100        10 "
      ]
     },
     "metadata": {},
     "output_type": "display_data"
    }
   ],
   "source": [
    "roulette_winning_days"
   ]
  }
 ],
 "metadata": {
  "kernelspec": {
   "display_name": "R",
   "language": "R",
   "name": "ir"
  },
  "language_info": {
   "codemirror_mode": "r",
   "file_extension": ".r",
   "mimetype": "text/x-r-source",
   "name": "R",
   "pygments_lexer": "r",
   "version": "3.6.1"
  }
 },
 "nbformat": 4,
 "nbformat_minor": 5
}
