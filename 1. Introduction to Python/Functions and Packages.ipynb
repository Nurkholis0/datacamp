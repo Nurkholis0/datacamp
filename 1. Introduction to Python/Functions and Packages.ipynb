{
 "cells": [
  {
   "cell_type": "markdown",
   "id": "1be1fb66-8ddb-4a10-8bab-198344c06bbe",
   "metadata": {
    "tags": []
   },
   "source": [
    "Name: Nurkholis\\\n",
    "Source: Datacamp"
   ]
  },
  {
   "cell_type": "markdown",
   "id": "28e11636-4f9c-466c-bfe0-aecb6a930704",
   "metadata": {},
   "source": [
    "# Functions and Packages"
   ]
  },
  {
   "cell_type": "markdown",
   "id": "beb7eed2-23be-4410-a1b1-0aaa3fcaa929",
   "metadata": {},
   "source": [
    "You'll learn how to use functions, methods, and packages to efficiently leverage the code that brilliant Python developers have written. The goal is to reduce the amount of code you need to solve challenging problems!"
   ]
  },
  {
   "cell_type": "markdown",
   "id": "8ed115aa-b6ba-4a12-8bc6-1a4c24c47388",
   "metadata": {},
   "source": [
    "## Familiar functions"
   ]
  },
  {
   "cell_type": "markdown",
   "id": "e7a34d29-6049-40de-b1a0-04d1e15579b0",
   "metadata": {},
   "source": [
    "Out of the box, Python offers a bunch of built-in functions to make your life as a data scientist easier. You already know two such functions: $\\color{green}{\\text{print()}}$ and $\\color{green}{\\text{type()}}$. You've also used the functions $\\color{green}{\\text{str()}}$, $\\color{green}{\\text{int()}}$, $\\color{green}{\\text{bool()}}$ and $\\color{green}{\\text{float()}}$ to switch between data types. These are built-in functions as well."
   ]
  },
  {
   "cell_type": "markdown",
   "id": "36cd3424-7df0-42b3-9c1a-250ae59d4985",
   "metadata": {},
   "source": [
    "Calling a function is easy. To get the type of $\\color{blue}{\\text{3.0}}$ and store the output as a new variable, $\\color{blue}{\\text{result}}$, you can use the following:"
   ]
  },
  {
   "cell_type": "code",
   "execution_count": 1,
   "id": "fc92c1d3-f6e0-4ba3-91a6-736e0a92757c",
   "metadata": {
    "tags": []
   },
   "outputs": [],
   "source": [
    "result = type(3.0)"
   ]
  },
  {
   "cell_type": "markdown",
   "id": "f1540dfd-b2c1-4a17-b8dc-747ab27c5a94",
   "metadata": {},
   "source": [
    "The general recipe for calling functions and saving the result to a variable is thus:"
   ]
  },
  {
   "cell_type": "markdown",
   "id": "32086e99-b0cb-42e1-ae27-e03cf08340ab",
   "metadata": {
    "tags": []
   },
   "source": [
    "output = $\\color{green}{\\text{function\\_name}}$($\\color{blue}{\\text{input}}$)"
   ]
  },
  {
   "cell_type": "code",
   "execution_count": 2,
   "id": "ee436438-5cfd-4db6-9f55-058279e00491",
   "metadata": {
    "tags": []
   },
   "outputs": [
    {
     "name": "stdout",
     "output_type": "stream",
     "text": [
      "var_1 -> type <class 'list'>\n",
      "length var1 is  4\n",
      "integer out2 is  1\n"
     ]
    }
   ],
   "source": [
    "# Create variables var1 and var2\n",
    "var1 = [1, 2, 3, 4]\n",
    "var2 = True\n",
    "\n",
    "# Print out type of var1\n",
    "print(\"var_1 -> type\", type(var1))\n",
    "\n",
    "# Print out length of var1 -> total list on the var1\n",
    "print(\"length var1 is \", len(var1))\n",
    "\n",
    "# Convert var2 to an integer: out2 ->integer True is 1; integer False is 0.\n",
    "out2 = int(var2)\n",
    "print(\"integer out2 is \", out2)"
   ]
  },
  {
   "cell_type": "markdown",
   "id": "700fea7b-e443-4d44-85f0-77e8df5b49d8",
   "metadata": {},
   "source": [
    "## Help!"
   ]
  },
  {
   "cell_type": "markdown",
   "id": "869a2c5c-59f8-4335-b52e-7e2870d7de6c",
   "metadata": {},
   "source": [
    "Maybe you already know the name of a Python function, but you still have to figure out how to use it. Ironically, you have to ask for information about a function with another function: $\\color{blue}{\\text{help()}}$."
   ]
  },
  {
   "cell_type": "markdown",
   "id": "7e919d9c-6d8c-4523-874f-65eceb231a67",
   "metadata": {},
   "source": [
    "To get help on the $\\color{blue}{\\text{max()}}$ function, for example, you can use one of these calls:"
   ]
  },
  {
   "cell_type": "code",
   "execution_count": 3,
   "id": "68ef7573-a120-4e79-aae0-1fa61c52b0b7",
   "metadata": {
    "tags": []
   },
   "outputs": [
    {
     "name": "stdout",
     "output_type": "stream",
     "text": [
      "Help on built-in function max in module builtins:\n",
      "\n",
      "max(...)\n",
      "    max(iterable, *[, default=obj, key=func]) -> value\n",
      "    max(arg1, arg2, *args, *[, key=func]) -> value\n",
      "    \n",
      "    With a single iterable argument, return its biggest item. The\n",
      "    default keyword-only argument specifies an object to return if\n",
      "    the provided iterable is empty.\n",
      "    With two or more arguments, return the largest argument.\n",
      "\n"
     ]
    }
   ],
   "source": [
    "#help(max) or ?max\n",
    "help(max)\n"
   ]
  },
  {
   "cell_type": "code",
   "execution_count": 4,
   "id": "698de33d-cbdb-4d91-9659-8c1e9c15f169",
   "metadata": {
    "tags": []
   },
   "outputs": [
    {
     "data": {
      "text/plain": [
       "\u001b[1;31mDocstring:\u001b[0m\n",
       "max(iterable, *[, default=obj, key=func]) -> value\n",
       "max(arg1, arg2, *args, *[, key=func]) -> value\n",
       "\n",
       "With a single iterable argument, return its biggest item. The\n",
       "default keyword-only argument specifies an object to return if\n",
       "the provided iterable is empty.\n",
       "With two or more arguments, return the largest argument.\n",
       "\u001b[1;31mType:\u001b[0m      builtin_function_or_method"
      ]
     },
     "metadata": {},
     "output_type": "display_data"
    }
   ],
   "source": [
    "#help(max) or ?max\n",
    "?max"
   ]
  },
  {
   "cell_type": "markdown",
   "id": "0b5b27b3-1205-4045-8a81-b8b7f3635f50",
   "metadata": {},
   "source": [
    "Open up the documentation on $\\color{blue}{\\text{pow()}}$. Which of the following statements is true?"
   ]
  },
  {
   "cell_type": "markdown",
   "id": "b2456d45-92f4-4fed-aeff-6a613dcd238a",
   "metadata": {},
   "source": [
    "$\\color{black}{\\text{Possible answers:}}$ \\\n",
    "- $\\color{blue}{\\text{pow()}}$ takes three arguments: $\\color{green}{\\text{base}}$, $\\color{green}{\\text{exp}}$, and $\\color{green}{\\text{mod}}$. If you don't specify $\\color{green}{\\text{mod}}$, the function will return an error. \\\n",
    "- $\\color{blue}{\\text{pow()}}$ takes three arguments: $\\color{green}{\\text{base}}$, $\\color{green}{\\text{exp}}$, and $\\color{green}{\\text{None}}$. All of these arguments are required. \\\n",
    "- $\\color{blue}{\\text{pow()}}$ $\\color{red}{\\text{takes three arguments:}}$ $\\color{green}{\\text{base}}$, $\\color{green}{\\text{exp}}$, $\\color{red}{\\text{and}}$ $\\color{green}{\\text{mod}}$. $\\color{green}{\\text{base}}$ $\\color{red}{\\text{and}}$ $\\color{green}{\\text{exp}}$ $\\color{red}{\\text{are required arguments}}$, $\\color{green}{\\text{mod}}$ $\\color{red}{\\text{is an optional argument}}$. \\\n",
    "- $\\color{blue}{\\text{pow()}}$ takes two arguments: $\\color{green}{\\text{exp}}$ and $\\color{green}{\\text{mod}}$. If you don't specify $\\color{green}{\\text{exp}}$, the function will return an error."
   ]
  },
  {
   "cell_type": "markdown",
   "id": "19d63dd3-9118-4b28-ba77-aa5ecabcde79",
   "metadata": {},
   "source": [
    "## Multiple arguments"
   ]
  },
  {
   "cell_type": "markdown",
   "id": "dd468943-b91c-4a27-b287-f884ed7be89b",
   "metadata": {},
   "source": [
    "In the previous exercise, you identified optional arguments by viewing the documentation with $\\color{blue}{\\text{help()}}$. You'll now apply this to change the behavior of the $\\color{blue}{\\text{sorted()}}$ function."
   ]
  },
  {
   "cell_type": "markdown",
   "id": "ccde8121-7911-4c02-aa98-54b263d91400",
   "metadata": {},
   "source": [
    "Have a look at the documentation of $\\color{blue}{\\text{sorted()}}$ by typing $\\color{blue}{\\text{help(sorted)}}$."
   ]
  },
  {
   "cell_type": "markdown",
   "id": "34d44e74-31d1-404a-89c8-4096b7659709",
   "metadata": {},
   "source": [
    "You'll see that $\\color{blue}{\\text{sorted()}}$ takes three arguments: $\\color{green}{\\text{iterable}}$, $\\color{green}{\\text{key}}$, and $\\color{green}{\\text{reverse}}$."
   ]
  },
  {
   "cell_type": "markdown",
   "id": "e1e00a41-21fc-4dd5-909c-f7bf832ffa48",
   "metadata": {},
   "source": [
    "$\\color{green}{\\text{key=None}}$ means that if you don't specify the $\\color{green}{\\text{key}}$ argument, it will be $\\color{green}{\\text{None}}$. $\\color{green}{\\text{reverse=False}}$ means that if you don't specify the $\\color{green}{\\text{reverse}}$ argument, it will be $\\color{green}{\\text{False}}$, by default."
   ]
  },
  {
   "cell_type": "markdown",
   "id": "ba09ad8b-92e9-4295-b580-5680aabb6c32",
   "metadata": {},
   "source": [
    "In this exercise, you'll only have to specify $\\color{green}{\\text{iterable}}$ and $\\color{green}{\\text{reverse}}$, not $\\color{green}{\\text{key}}$. The first input you pass to $\\color{blue}{\\text{sorted()}}$ will be matched to the $\\color{green}{\\text{iterable}}$ argument, but what about the second input? To tell Python you want to specify $\\color{green}{\\text{reverse}}$ without changing anything about $\\color{green}{\\text{key}}$, you can use $\\color{green}{\\text{=}}$ to assign it a new value:"
   ]
  },
  {
   "cell_type": "markdown",
   "id": "dcbf505a-d1ea-41d3-bf18-033b66c890ca",
   "metadata": {},
   "source": [
    "$\\color{green}{\\text{sorted}}$(...., reverse=....)"
   ]
  },
  {
   "cell_type": "markdown",
   "id": "40034471-a66c-4166-b7dc-9563c8501153",
   "metadata": {},
   "source": [
    "Two lists have been created for you. Can you paste them together and sort them in descending order?"
   ]
  },
  {
   "cell_type": "markdown",
   "id": "2db8dd33-c61c-462c-bd47-a71e3d61df11",
   "metadata": {},
   "source": [
    "$\\color{black}{\\text{Note:}}$ For now, we can understand an $\\color{red}{\\text{iterable}}$ as being any collection of objects, e.g., a List."
   ]
  },
  {
   "cell_type": "code",
   "execution_count": 5,
   "id": "ff0be90f-de56-4d7c-89d8-eaaad7c6f5ce",
   "metadata": {},
   "outputs": [
    {
     "name": "stdout",
     "output_type": "stream",
     "text": [
      "[20.0, 18.0, 11.25, 10.75, 9.5]\n"
     ]
    }
   ],
   "source": [
    "# Create lists first and second\n",
    "first = [11.25, 18.0, 20.0]\n",
    "second = [10.75, 9.50]\n",
    "\n",
    "# Paste together first and second: full\n",
    "full = first + second\n",
    "\n",
    "# Sort full in descending order: full_sorted\n",
    "full_sorted = sorted(full, reverse = True)\n",
    "\n",
    "# Print out full_sorted\n",
    "print(full_sorted)"
   ]
  },
  {
   "cell_type": "markdown",
   "id": "0ffc998b-94fd-4a65-8380-2f86760e804b",
   "metadata": {},
   "source": [
    "## String Methods"
   ]
  },
  {
   "cell_type": "markdown",
   "id": "28c54905-8e22-4129-830c-d32feed6d570",
   "metadata": {},
   "source": [
    "Strings come with a bunch of methods. Follow the instructions closely to discover some of them. If you want to discover them in more detail, you can always type $\\color{blue}{\\text{help(str)}}$.\n",
    "\n",
    "A string $\\color{green}{\\text{place}}$ has already been created for you to experiment with."
   ]
  },
  {
   "cell_type": "code",
   "execution_count": 6,
   "id": "42b29588-877e-435b-91bb-d4013a4d88ca",
   "metadata": {},
   "outputs": [
    {
     "name": "stdout",
     "output_type": "stream",
     "text": [
      "string-place \t: poolhouse\n",
      "upper-place \t: POOLHOUSE\n",
      "the number of o's in place : 3\n"
     ]
    }
   ],
   "source": [
    "# string to experiment with: place\n",
    "place = \"poolhouse\"\n",
    "\n",
    "# Use upper() on place: place_up\n",
    "place_up = place.upper()\n",
    "\n",
    "# Print out place and place_up\n",
    "print(\"string-place \\t:\", place)\n",
    "print(\"upper-place \\t:\", place_up)\n",
    "\n",
    "# Print out the number of o's in place\n",
    "print(\"the number of o's in place :\", place.count(\"o\"))"
   ]
  },
  {
   "cell_type": "markdown",
   "id": "4b7359ad-990b-4c28-88b6-d448a1c11d1d",
   "metadata": {},
   "source": [
    "## List Methods"
   ]
  },
  {
   "cell_type": "markdown",
   "id": "c1fb840d-8f96-4b16-9a14-7661af221e72",
   "metadata": {},
   "source": [
    "Strings are not the only Python types that have methods associated with them. Lists, floats, integers and booleans are also types that come packaged with a bunch of useful methods. In this exercise, you'll be experimenting with:"
   ]
  },
  {
   "cell_type": "markdown",
   "id": "ab6f23d2-9b57-4d58-8de0-53050843d896",
   "metadata": {},
   "source": [
    "- $\\color{blue}{\\text{index()}}$, to get the index of the first element of a list that matches its input and\n",
    "- $\\color{blue}{\\text{count()}}$, to get the number of times an element appears in a list."
   ]
  },
  {
   "cell_type": "markdown",
   "id": "e2576402-35df-4792-b7d9-f084a577ebe6",
   "metadata": {},
   "source": [
    "You'll be working on the list with the area of different parts of a house: $\\color{blue}{\\text{areas.}}$"
   ]
  },
  {
   "cell_type": "code",
   "execution_count": 7,
   "id": "5b1e25c0-654a-482f-a382-24774b76adbc",
   "metadata": {},
   "outputs": [
    {
     "name": "stdout",
     "output_type": "stream",
     "text": [
      "The number index of 20.0 in areas variable is 2\n",
      "The total count of 9.5 in areas variable is 1\n"
     ]
    }
   ],
   "source": [
    "# Create list areas\n",
    "areas = [11.25, 18.0, 20.0, 10.75, 9.50]\n",
    "\n",
    "# Print out the index of the element 20.0\n",
    "print(\"The number index of 20.0 in areas variable is\", areas.index(20.0))\n",
    "\n",
    "# Print out how often 9.50 appears in areas\n",
    "print(\"The total count of 9.5 in areas variable is\", areas.count(9.50))"
   ]
  },
  {
   "cell_type": "markdown",
   "id": "a008e5bf-5d8e-4aa9-be6c-765c4f541921",
   "metadata": {},
   "source": [
    "## List Methods (2)"
   ]
  },
  {
   "cell_type": "markdown",
   "id": "099a9814-41c2-4724-88cf-6ea3e3c3b441",
   "metadata": {},
   "source": [
    "Most list methods will change the list they're called on. Examples are:"
   ]
  },
  {
   "cell_type": "markdown",
   "id": "70497d4a-c9ef-4ef7-9220-ea806e2680de",
   "metadata": {},
   "source": [
    "- $\\color{blue}{\\text{append()}}$, that adds an element to the list it is called on,\n",
    "- $\\color{blue}{\\text{remove()}}$, that removes the first element of a list that matches the input, and\n",
    "- $\\color{blue}{\\text{reverse()}}$, that reverses the order of the elements in the list it is called on."
   ]
  },
  {
   "cell_type": "markdown",
   "id": "3d0b614f-e90c-452c-b194-ce413f8b2322",
   "metadata": {},
   "source": [
    "You'll be working on the list with the area of different parts of the house: $\\color{blue}{\\text{areas.}}$"
   ]
  },
  {
   "cell_type": "code",
   "execution_count": 8,
   "id": "a149e331-cb9d-4979-abc2-a65b49471c98",
   "metadata": {},
   "outputs": [
    {
     "name": "stdout",
     "output_type": "stream",
     "text": [
      "areas after append with new elements of 24.5 and 15.45 is [11.25, 18.0, 20.0, 10.75, 9.5, 24.5, 15.45]\n",
      "areas after reverse is [15.45, 24.5, 9.5, 10.75, 20.0, 18.0, 11.25]\n"
     ]
    }
   ],
   "source": [
    "# Create list areas\n",
    "areas = [11.25, 18.0, 20.0, 10.75, 9.50]\n",
    "\n",
    "# Use append twice to add poolhouse and garage size\n",
    "areas.append(24.5); areas.append(15.45)\n",
    "\n",
    "\n",
    "# Print out areas before reverse\n",
    "print(\"areas after append with new elements of 24.5 and 15.45 is\", areas)\n",
    "\n",
    "# Reverse the orders of the elements in areas\n",
    "areas.reverse()\n",
    "\n",
    "# Print out areas\n",
    "print(\"areas after reverse is\", areas)"
   ]
  },
  {
   "cell_type": "markdown",
   "id": "720d8163-f55f-4db5-bac6-7fe6a0dc5473",
   "metadata": {},
   "source": [
    "## Import package"
   ]
  },
  {
   "cell_type": "markdown",
   "id": "f8c41c10-bfe5-4dcb-8ce1-cd61e286ae28",
   "metadata": {},
   "source": [
    "As a data scientist, some notions of geometry never hurt. Let's refresh some of the basics."
   ]
  },
  {
   "cell_type": "markdown",
   "id": "35069a68-997a-4567-bb9c-f10e12468de6",
   "metadata": {},
   "source": [
    "For a fancy clustering algorithm, you want to find the circumference, $\\color{red}{\\text{C}}$, and area, $\\color{red}{\\text{A}}$, of a circle. When the radius of the circle is $\\color{red}{\\text{r}}$, you can calculate \n",
    "$\\color{red}{\\text{C}}$ and $\\color{red}{\\text{A}}$ as:"
   ]
  },
  {
   "cell_type": "markdown",
   "id": "fdfab485-8db7-4f6c-a8e2-3636bafa68b9",
   "metadata": {},
   "source": [
    "- C = 2 * pi * r \\\n",
    "- A = pi * r**2"
   ]
  },
  {
   "cell_type": "markdown",
   "id": "41dd7e7d-9311-4a77-b2c3-33f0c80af911",
   "metadata": {},
   "source": [
    "In Python, the symbol for exponentiation is $\\color{red}{\\text{**}}$. This operator raises the number to its left to the power of the number to its right. For example $\\color{red}{\\text{3**}}$$\\color{blue}{\\text{4}}$ is $\\color{red}{\\text{3}}$ to the power of $\\color{blue}{\\text{4}}$ and will give 81."
   ]
  },
  {
   "cell_type": "markdown",
   "id": "479e9d87-da9b-44df-a4cf-40c56b2f505a",
   "metadata": {},
   "source": [
    "To use the constant $\\color{red}{\\text{pi}}$, you'll need the $\\color{green}{\\text{math}}$ package. A variable $\\color{red}{\\text{r}}$ is already coded in the script. Fill in the code to calculate $\\color{red}{\\text{C}}$ and $\\color{red}{\\text{A}}$ and see how the $\\color{blue}{\\text{print()}}$ functions create some nice printouts."
   ]
  },
  {
   "cell_type": "code",
   "execution_count": 9,
   "id": "b0bcf314-5970-41eb-8493-663bd80a0207",
   "metadata": {},
   "outputs": [
    {
     "name": "stdout",
     "output_type": "stream",
     "text": [
      "Circumference\t: 2.701769682087222\n",
      "Area\t\t: 0.5808804816487527\n"
     ]
    }
   ],
   "source": [
    "# Import the math package\n",
    "import math\n",
    "\n",
    "# Definition of radius\n",
    "r = 0.43\n",
    "\n",
    "# Calculate C\n",
    "C = 2 * math.pi * r\n",
    "\n",
    "# Calculate A\n",
    "A = math.pi * r**2\n",
    "\n",
    "# Build printout\n",
    "# notice that C and A variable is string not float.\n",
    "print(\"Circumference\\t: \" + str(C)) \n",
    "print(\"Area\\t\\t: \" + str(A)) "
   ]
  },
  {
   "cell_type": "markdown",
   "id": "e9d7113f-ddd9-44b4-be47-bf05fc4f882c",
   "metadata": {},
   "source": [
    "## Selective Import"
   ]
  },
  {
   "cell_type": "markdown",
   "id": "846f2458-44ac-4024-bb7b-cca82a980f2e",
   "metadata": {},
   "source": [
    "General imports, like $\\color{blue}{\\text{import math}}$, make all functionality from the $\\color{green}{\\text{math package}}$ available to you. However, if you decide to only use a specific part of a package, you can always make your import more selective:"
   ]
  },
  {
   "cell_type": "code",
   "execution_count": 10,
   "id": "844a6161-c441-4843-9c75-9cabbc28e1a1",
   "metadata": {},
   "outputs": [],
   "source": [
    "from math import pi"
   ]
  },
  {
   "cell_type": "markdown",
   "id": "a18014dd-4b4b-4fee-90cb-02726e7cb443",
   "metadata": {},
   "source": [
    "Let's say the Moon's orbit around planet Earth is a perfect circle, with a radius $\\color{red}{\\text{r}}$ (in km) that is defined in the script."
   ]
  },
  {
   "cell_type": "code",
   "execution_count": 11,
   "id": "646e6f30-0c1e-4f9e-b7fd-f6ae76c8ac41",
   "metadata": {},
   "outputs": [
    {
     "name": "stdout",
     "output_type": "stream",
     "text": [
      "Travel distance of Moon over 12 degrees is 40317.10572106901 km.\n"
     ]
    }
   ],
   "source": [
    "# Import radians function of math package\n",
    "from math import radians\n",
    "\n",
    "# Definition of radius\n",
    "r = 192500\n",
    "\n",
    "# Travel distance of Moon over 12 degrees. Store in dist.\n",
    "dist = r * radians(12)\n",
    "\n",
    "# Print out dist\n",
    "print(\"Travel distance of Moon over 12 degrees is \"+ str(dist) + \" km.\")"
   ]
  },
  {
   "cell_type": "markdown",
   "id": "5875a4dd-898e-46f2-ac64-eb5b725cfcbf",
   "metadata": {},
   "source": [
    "## Different ways of Importing"
   ]
  },
  {
   "cell_type": "markdown",
   "id": "a1e80530-8fdf-47e3-b66c-2af10511f224",
   "metadata": {},
   "source": [
    "There are several ways to import packages and modules into Python. Depending on the import call, you'll have to use different Python code."
   ]
  },
  {
   "cell_type": "markdown",
   "id": "dc84d393-be8e-4d82-969b-74675d7eb86d",
   "metadata": {},
   "source": [
    "Suppose you want to use the function $\\color{blue}{\\text{inv()}}$, which is in the $\\color{green}{\\text{linalg}}$ subpackage of the scipy package. You want to be able to use this function as follows:"
   ]
  },
  {
   "cell_type": "markdown",
   "id": "73206295-d735-4e08-8f97-79bab40307ca",
   "metadata": {
    "tags": []
   },
   "source": [
    "**my_inv([[1,2], [3,4]])**"
   ]
  },
  {
   "cell_type": "markdown",
   "id": "6867bdc0-3ae5-4701-8c17-d117104c9e53",
   "metadata": {},
   "source": [
    "Which import statement will you need in order to run the above code without an error?"
   ]
  },
  {
   "cell_type": "markdown",
   "id": "d8eb7695-6470-443e-981e-21de548717dc",
   "metadata": {},
   "source": [
    "**Possible answers:** \\\n",
    "- import scipy \\\n",
    "- import scipy.linalg \\\n",
    "- from scipy.linalg import my_inv \\\n",
    "- **from scipy.linalg import inv as my_inv**"
   ]
  }
 ],
 "metadata": {
  "kernelspec": {
   "display_name": "Python 3 (ipykernel)",
   "language": "python",
   "name": "python3"
  },
  "language_info": {
   "codemirror_mode": {
    "name": "ipython",
    "version": 3
   },
   "file_extension": ".py",
   "mimetype": "text/x-python",
   "name": "python",
   "nbconvert_exporter": "python",
   "pygments_lexer": "ipython3",
   "version": "3.11.5"
  }
 },
 "nbformat": 4,
 "nbformat_minor": 5
}
