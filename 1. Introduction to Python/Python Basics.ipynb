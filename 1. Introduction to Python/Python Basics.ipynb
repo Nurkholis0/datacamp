{
 "cells": [
  {
   "cell_type": "markdown",
   "id": "d9e2c711-b65b-4ff4-ae56-b002e0187767",
   "metadata": {
    "tags": []
   },
   "source": [
    "Name: Nurkholis\\\n",
    "Source: Datacamp"
   ]
  },
  {
   "cell_type": "markdown",
   "id": "aa5ab10d-3076-4e06-bd5e-132b01cb3fa3",
   "metadata": {
    "tags": []
   },
   "source": [
    "# Python Basics"
   ]
  },
  {
   "cell_type": "markdown",
   "id": "a4128d2b-30e4-41b8-97d2-cc81ad9419ff",
   "metadata": {},
   "source": [
    "An introduction to the basic concepts of Python. Learn how to use Python interactively and by using a script. Create your first variables and acquaint yourself with Python&apos;s basic data types."
   ]
  },
  {
   "cell_type": "markdown",
   "id": "6adae888-a7f5-4e80-9445-d75ccb16f5c6",
   "metadata": {
    "tags": []
   },
   "source": [
    "## When to use Python?"
   ]
  },
  {
   "cell_type": "markdown",
   "id": "07c41680-24f4-4f33-8be8-81f4c804ec50",
   "metadata": {},
   "source": [
    "Python is a flexible language. For which applications can you use Python?"
   ]
  },
  {
   "cell_type": "markdown",
   "id": "fa8256d1-e893-44bb-b553-a7e13ccd820a",
   "metadata": {},
   "source": [
    "a. For quick calculations.\n",
    "b. Develop a database-driven website.\n",
    "c. Clean and analyze data.\n",
    "d. $\\color{blue}{\\text{All of the above.}}$"
   ]
  },
  {
   "cell_type": "markdown",
   "id": "c9143dd7-db9c-4905-9355-e4204c6a484d",
   "metadata": {},
   "source": [
    "## Any comments?"
   ]
  },
  {
   "cell_type": "markdown",
   "id": "63aa7224-457c-463a-83b8-0fa7f9bd36ee",
   "metadata": {},
   "source": [
    "You can also add comments to your Python scripts. Comments are important to make sure that you and others can understand what your code is about and do not run as Python code."
   ]
  },
  {
   "cell_type": "markdown",
   "id": "579a3c86-c9b2-414f-a319-7180f7e78f93",
   "metadata": {},
   "source": [
    "They start with $\\color{blue}{\\text{\\#}}$ tag. See the comment in the editor, $\\color{blue}{\\text{\\# Division}}$; now it's your turn to add a comment!"
   ]
  },
  {
   "cell_type": "code",
   "execution_count": 1,
   "id": "3c395ff2-ca9b-43c0-8526-efb7b8c39710",
   "metadata": {
    "tags": []
   },
   "outputs": [
    {
     "name": "stdout",
     "output_type": "stream",
     "text": [
      "0.625\n",
      "17\n"
     ]
    }
   ],
   "source": [
    "# Division\n",
    "print(5 / 8)\n",
    "# Addition\n",
    "print(7 + 10)"
   ]
  },
  {
   "cell_type": "markdown",
   "id": "d57b8ea8-31f1-4d0c-a46f-601f5e07f344",
   "metadata": {},
   "source": [
    "## Python as a calculator"
   ]
  },
  {
   "cell_type": "markdown",
   "id": "1fe94966-9c53-4441-acf6-67f3aaab7edb",
   "metadata": {},
   "source": [
    "Python is perfectly suited to do basic calculations. It can do $\\color{blue}{\\text{addition}}$, $\\color{blue}{\\text{subtraction}}$, $\\color{blue}{\\text{multiplication}}$, $\\color{blue}{\\text{division}}$."
   ]
  },
  {
   "cell_type": "code",
   "execution_count": 2,
   "id": "74dbb225-4529-466d-9d98-3445d7292397",
   "metadata": {
    "tags": []
   },
   "outputs": [
    {
     "name": "stdout",
     "output_type": "stream",
     "text": [
      "9\n",
      "0\n",
      "15\n",
      "5.0\n"
     ]
    }
   ],
   "source": [
    "# Addition\n",
    "print ( 4 + 5 )\n",
    "\n",
    "# Subtraction\n",
    "print (5 - 5)\n",
    "\n",
    "# Multiplication\n",
    "print(3*5)\n",
    "\n",
    "# Division\n",
    "print(10/2)"
   ]
  },
  {
   "cell_type": "markdown",
   "id": "366f866e-5b50-4655-8b8e-a3c34c8674b2",
   "metadata": {},
   "source": [
    "## Variable"
   ]
  },
  {
   "cell_type": "markdown",
   "id": "ad918f47-2c4b-474c-8df5-329656981157",
   "metadata": {},
   "source": [
    "- Specific, case-sensitive name\n",
    "- Call up value through variable name\n",
    "- 1.79 m - 68.7 kg"
   ]
  },
  {
   "cell_type": "code",
   "execution_count": 3,
   "id": "a829dfab-09bc-4c1e-afb1-6f6608db7d82",
   "metadata": {
    "tags": []
   },
   "outputs": [
    {
     "data": {
      "text/plain": [
       "1.79"
      ]
     },
     "execution_count": 3,
     "metadata": {},
     "output_type": "execute_result"
    }
   ],
   "source": [
    "height = 1.79\n",
    "weight = 68.7\n",
    "height"
   ]
  },
  {
   "cell_type": "markdown",
   "id": "33f7bdbc-b777-4dd4-bd97-653cfbbc0ad0",
   "metadata": {
    "tags": []
   },
   "source": [
    "## Variable Assignment"
   ]
  },
  {
   "cell_type": "markdown",
   "id": "36dacafa-f54f-4c49-82bb-080b77d115a6",
   "metadata": {},
   "source": [
    "In Python, a variable allows you to refer to a value with a name. To create a variable x with a value of 5, you use $\\color{blue}{\\text{=}}$, like this example:"
   ]
  },
  {
   "cell_type": "markdown",
   "id": "6d3b53d8-defb-4c0b-844a-4dd171a8c2d2",
   "metadata": {},
   "source": [
    "x $\\color{blue}{\\text{=}}$ 5"
   ]
  },
  {
   "cell_type": "markdown",
   "id": "b76ef818-8983-402d-b3f3-a8428730441c",
   "metadata": {},
   "source": [
    "You can now use the name of this variable, x, instead of the actual value, 5.\\\n",
    "Remember, $\\color{blue}{\\text{=}}$ in Python means $\\color{blue}{\\text{assignment}}$, it $\\color{black}{\\text{doesn't}}$ test equality!"
   ]
  },
  {
   "cell_type": "code",
   "execution_count": 4,
   "id": "75c5b703-02f1-4fa6-a5c9-2f5ce34f9f6c",
   "metadata": {
    "tags": []
   },
   "outputs": [
    {
     "name": "stdout",
     "output_type": "stream",
     "text": [
      "100\n"
     ]
    }
   ],
   "source": [
    "# Create a variable savings\n",
    "savings = 100\n",
    "\n",
    "# Print out savings\n",
    "print(savings)"
   ]
  },
  {
   "cell_type": "markdown",
   "id": "27979060-8c6c-4ffd-8586-6f71325a6f77",
   "metadata": {},
   "source": [
    "## Calculations with variables"
   ]
  },
  {
   "cell_type": "markdown",
   "id": "e224f8df-ddef-42a3-af5e-f6898347db6e",
   "metadata": {},
   "source": [
    "You've now created a $\\color{blue}{\\text{savings variable}}$, so let's start saving!"
   ]
  },
  {
   "cell_type": "markdown",
   "id": "388e99d1-5898-4d3a-a6f8-4bb806b72777",
   "metadata": {},
   "source": [
    "Instead of calculating with the actual values, you can use variables instead. The $\\color{blue}{\\text{savings}}$ variable you created in the previous exercise with a value of $\\color{blue}{\\text{\\$100}}$ is available to you."
   ]
  },
  {
   "cell_type": "markdown",
   "id": "19c6d227-d60f-4851-bc79-1925f802e9c6",
   "metadata": {},
   "source": [
    "How much money would you have saved four months from now, if you saved $\\color{blue}{\\text{\\$10}}$ each month?"
   ]
  },
  {
   "cell_type": "code",
   "execution_count": 5,
   "id": "b54c3efb-72a8-4283-a24d-36bcc7740a53",
   "metadata": {
    "tags": []
   },
   "outputs": [
    {
     "name": "stdout",
     "output_type": "stream",
     "text": [
      "140\n"
     ]
    }
   ],
   "source": [
    "# Create the variables monthly_savings and num_months\n",
    "monthly_savings = 10\n",
    "num_months = 4\n",
    "\n",
    "# Multiply monthly_savings and num_months\n",
    "new_savings = monthly_savings * num_months\n",
    "\n",
    "# Add new_savings to your savings\n",
    "total_savings = new_savings + savings\n",
    "\n",
    "# Print total_savings\n",
    "print(total_savings)"
   ]
  },
  {
   "cell_type": "markdown",
   "id": "0861cc4a-f06f-4991-83b0-da6dbeda5139",
   "metadata": {},
   "source": [
    "## Other variable types"
   ]
  },
  {
   "cell_type": "markdown",
   "id": "24ec44d6-3c12-4f4f-a552-3d4f49800242",
   "metadata": {},
   "source": [
    "In the previous exercise, you worked with the integer Python data type:"
   ]
  },
  {
   "cell_type": "markdown",
   "id": "9eae6f2b-f5ae-45be-a4bb-9034f82324ad",
   "metadata": {},
   "source": [
    "- $\\color{blue}{\\text{int}}$, or integer: a number without a fractional part. savings, with the value 100, is an example of an integer."
   ]
  },
  {
   "cell_type": "markdown",
   "id": "8282efea-135c-43de-9432-2609f42d9e02",
   "metadata": {},
   "source": [
    "Next to numerical data types, there are $\\color{blue}{\\text{three}}$ other very common data types:"
   ]
  },
  {
   "cell_type": "markdown",
   "id": "0fe30dae-f72e-42dc-b4a9-3d6eb00f8acb",
   "metadata": {},
   "source": [
    "- $\\color{blue}{\\text{float}}$, or floating point: a number that has both an integer and fractional part, separated by a point. $\\color{blue}{\\text{1.1}}$, is an example of a float.\n",
    "- $\\color{blue}{\\text{str}}$, or string: a type to represent text. You can use single or double quotes to build a string.\n",
    "- $\\color{blue}{\\text{bool}}$, or boolean: a type to represent logical values. It can only be $\\color{blue}{\\text{True}}$ or $\\color{blue}{\\text{False}}$ (the capitalization is important!)."
   ]
  },
  {
   "cell_type": "code",
   "execution_count": 6,
   "id": "fae86dc3-053e-4fa7-a7b2-605dd8eb761c",
   "metadata": {
    "tags": []
   },
   "outputs": [
    {
     "name": "stdout",
     "output_type": "stream",
     "text": [
      "half= 0.5 \n",
      "intro: Hello! How are you? \n",
      "is good?  True\n"
     ]
    }
   ],
   "source": [
    "# Create a variable half\n",
    "half = 0.5\n",
    "\n",
    "# Create a variable intro\n",
    "intro = \"Hello! How are you?\"\n",
    "\n",
    "# Create a variable is_good\n",
    "is_good = True\n",
    "\n",
    "# print half, intro, and is_good\n",
    "print(\"half=\", half, \"\\nintro:\", intro, \"\\nis good? \", is_good)"
   ]
  },
  {
   "cell_type": "markdown",
   "id": "b7013dcc-7ec3-4dc0-8197-571e4e86d8fa",
   "metadata": {},
   "source": [
    "## Guess the type"
   ]
  },
  {
   "cell_type": "markdown",
   "id": "c11b320d-3082-4c8f-b1a4-2cdf1e7bffb5",
   "metadata": {},
   "source": [
    "To find out the type of a value or $\\color{blue}{\\text{a}}$ variable that refers to that value, you can use the $\\color{blue}{\\text{type()}}$ function. Suppose you've defined a variable $\\color{blue}{\\text{a}}$, but you forgot the type of this variable. To determine the type of $\\color{blue}{\\text{a}}$, simply execute:"
   ]
  },
  {
   "cell_type": "markdown",
   "id": "46845f55-36c4-4c84-92a1-a68106ddf80f",
   "metadata": {},
   "source": [
    "$\\color{blue}{\\text{type(a)}}$"
   ]
  },
  {
   "cell_type": "code",
   "execution_count": 7,
   "id": "058048ca-88c9-4e35-a7bf-b1142005d130",
   "metadata": {
    "tags": []
   },
   "outputs": [
    {
     "name": "stdout",
     "output_type": "stream",
     "text": [
      "half <class 'float'> \n",
      "intro <class 'str'> \n",
      "is_good? <class 'bool'>\n"
     ]
    }
   ],
   "source": [
    "# Create a variable half\n",
    "half = 0.5\n",
    "\n",
    "# Create a variable intro\n",
    "intro = \"Hello! How are you?\"\n",
    "\n",
    "# Create a variable is_good\n",
    "is_good = True\n",
    "\n",
    "# print type half, intro, and is_good\n",
    "print(\"half\", type(half), \"\\nintro\", type(intro), \"\\nis_good?\", type(is_good))"
   ]
  },
  {
   "cell_type": "markdown",
   "id": "0fd26ce9-1f76-4e09-9ad4-9cb13a98bd57",
   "metadata": {
    "tags": []
   },
   "source": [
    "## Operations with other types"
   ]
  },
  {
   "cell_type": "markdown",
   "id": "4bc134aa-c3b2-4e2e-b6a0-ae17f95b61bd",
   "metadata": {},
   "source": [
    "$\\color{blue}{\\text{different types}}$ $\\color{black}{\\text{behave}}$ $\\color{blue}{\\text{differently}}$ in Python."
   ]
  },
  {
   "cell_type": "markdown",
   "id": "e1e10bfa-a16b-4739-aafa-92d72f77c671",
   "metadata": {},
   "source": [
    "When you $\\color{blue}{\\text{sum two strings}}$, for example, you'll get $\\color{black}{\\text{different behavior}}$ than when you $\\color{blue}{\\text{sum two integers}}$ or $\\color{blue}{\\text{two booleans}}$."
   ]
  },
  {
   "cell_type": "code",
   "execution_count": 8,
   "id": "3480aae4-a331-4944-adca-f8c782d2c5d8",
   "metadata": {
    "tags": []
   },
   "outputs": [
    {
     "name": "stdout",
     "output_type": "stream",
     "text": [
      "<class 'int'>\n",
      "doublenum_months =  24\n",
      "doubleintro =  Hello! How are you?Hello! How are you?\n",
      "doubleis_good =  2\n"
     ]
    }
   ],
   "source": [
    "monthly_savings = 10\n",
    "num_months = 12\n",
    "intro = \"Hello! How are you?\"\n",
    "is_good = True\n",
    "\n",
    "# Calculate year_savings using monthly_savings and num_months\n",
    "year_savings = monthly_savings*num_months\n",
    "\n",
    "# Print the type of year_savings\n",
    "print(type(year_savings))\n",
    "\n",
    "# Assign sum of intro and intro to doublenum_months (numbers)\n",
    "doublenum_months = num_months + num_months\n",
    "\n",
    "# Print out doubleis_good\n",
    "print('doublenum_months = ', doublenum_months)\n",
    "\n",
    "# Assign sum of intro and intro to doubleintro (string)\n",
    "doubleintro = intro + intro\n",
    "\n",
    "# Print out doubleintro\n",
    "print('doubleintro = ', doubleintro)\n",
    "\n",
    "# Assign sum of intro and intro to doubleis_good (Boolean)\n",
    "doubleis_good = is_good + is_good\n",
    "\n",
    "# Print out doubleis_good\n",
    "print('doubleis_good = ', doubleis_good)"
   ]
  },
  {
   "cell_type": "markdown",
   "id": "338ed2d7-0f75-4ca7-aca0-17498e2bbee4",
   "metadata": {
    "tags": []
   },
   "source": [
    "## Type conversion"
   ]
  },
  {
   "cell_type": "markdown",
   "id": "60d9c76d-5d2c-41f7-926b-710cdba316a2",
   "metadata": {},
   "source": [
    "Using the $\\color{blue}{\\text{+}}$ operator to paste together two strings can be very useful in building custom messages."
   ]
  },
  {
   "cell_type": "markdown",
   "id": "99176072-b209-4154-85d4-77d151bb2f35",
   "metadata": {},
   "source": [
    "Suppose, for example, that you've calculated your savings want to summarize the results in a string."
   ]
  },
  {
   "cell_type": "markdown",
   "id": "1a6485e3-1dd5-453e-9a5d-e51f2c94fdbc",
   "metadata": {},
   "source": [
    "To do this, you'll need to explicitly convert the types of your variables. More specifically, you'll need str(), to convert a value into a string. $\\color{blue}{\\text{str(savings)}}$, for example, will convert the integer $\\color{blue}{\\text{savings}}$ to a string."
   ]
  },
  {
   "cell_type": "markdown",
   "id": "4dec401b-4c0b-45f7-bd2f-7ec1a70f81fc",
   "metadata": {},
   "source": [
    "Similar functions such as $\\color{blue}{\\text{int()}}$, $\\color{blue}{\\text{float()}}$ and $\\color{blue}{\\text{bool()}}$."
   ]
  },
  {
   "cell_type": "code",
   "execution_count": 9,
   "id": "534bb4d1-a22c-4cde-9437-2ae8c70b4ff1",
   "metadata": {
    "tags": []
   },
   "outputs": [
    {
     "name": "stdout",
     "output_type": "stream",
     "text": [
      "I started with $100 and now have $150. Awesome!\n",
      "pi_float =  3.1415926 <class 'float'>\n"
     ]
    }
   ],
   "source": [
    "# Definition of savings and total_savings\n",
    "savings = 100\n",
    "total_savings = 150\n",
    "\n",
    "# Fix the printout\n",
    "print(\"I started with $\" + str(savings) + \" and now have $\" + str(total_savings) + \". Awesome!\")\n",
    "\n",
    "# Definition of pi_string\n",
    "pi_string = \"3.1415926\"\n",
    "\n",
    "# Convert pi_string into float: pi_float\n",
    "pi_float = float(pi_string)\n",
    "\n",
    "# print pi_float and type of pi_float\n",
    "print(\"pi_float = \", pi_float, type(pi_float))"
   ]
  },
  {
   "cell_type": "markdown",
   "id": "2468389e-b901-4287-9cca-75ec802392db",
   "metadata": {},
   "source": [
    "## Can Python handle everything?"
   ]
  },
  {
   "cell_type": "markdown",
   "id": "d61d1a96-bb4f-4339-9246-d0d7296038ce",
   "metadata": {},
   "source": [
    "Now that you know something more about combining different sources of information, have a look at the four Python expressions below. Which one of these will throw an error?"
   ]
  },
  {
   "cell_type": "markdown",
   "id": "f6fe0fb9-2cbf-405c-9ec3-0735ddf7fe98",
   "metadata": {},
   "source": [
    "a. \"I can add integers, like \" + str(5) + \" to strings.\"\n",
    "b. \"I said \" + (\"Hey \" * 2) + \"Hey!\"\n",
    "c. $\\color{blue}{\\text{\"The correct answer to this multiple choice exercise is answer number \" + 2}}$\n",
    "d. True + False"
   ]
  },
  {
   "cell_type": "markdown",
   "id": "2ad26f6a-91c4-4f2c-b01c-06485d536242",
   "metadata": {},
   "source": [
    "$\\color{green}{\\text{Because you're not converting 2 to a string with str(), this will give an error.}}$"
   ]
  },
  {
   "cell_type": "markdown",
   "id": "65f27e2e-75bb-49a9-aeef-5e4b4f2a55e6",
   "metadata": {},
   "source": [
    "Learn to $\\color{green}{\\text{store}}$, $\\color{green}{\\text{access}}$, and $\\color{green}{\\text{manipulate data}}$ in $\\color{black}{\\text{lists}}$: the first step toward efficiently working with huge amounts of data."
   ]
  }
 ],
 "metadata": {
  "kernelspec": {
   "display_name": "Python 3 (ipykernel)",
   "language": "python",
   "name": "python3"
  },
  "language_info": {
   "codemirror_mode": {
    "name": "ipython",
    "version": 3
   },
   "file_extension": ".py",
   "mimetype": "text/x-python",
   "name": "python",
   "nbconvert_exporter": "python",
   "pygments_lexer": "ipython3",
   "version": "3.11.5"
  }
 },
 "nbformat": 4,
 "nbformat_minor": 5
}
