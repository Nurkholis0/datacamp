{
 "cells": [
  {
   "cell_type": "markdown",
   "id": "d9e2c711-b65b-4ff4-ae56-b002e0187767",
   "metadata": {
    "tags": []
   },
   "source": [
    "Name: Nurkholis\\\n",
    "Source: Datacamp"
   ]
  },
  {
   "cell_type": "markdown",
   "id": "740ba2bc-14a8-4f51-b83a-b39b7254a6e5",
   "metadata": {
    "tags": []
   },
   "source": [
    "# Python Lists"
   ]
  },
  {
   "cell_type": "markdown",
   "id": "65f27e2e-75bb-49a9-aeef-5e4b4f2a55e6",
   "metadata": {},
   "source": [
    "Learn to $\\color{green}{\\text{store}}$, $\\color{green}{\\text{access}}$, and $\\color{green}{\\text{manipulate data}}$ in $\\color{black}{\\text{lists}}$: the first step toward efficiently working with huge amounts of data."
   ]
  },
  {
   "cell_type": "markdown",
   "id": "f88dea6a-183f-4ce2-a1d1-872c97a9fc2a",
   "metadata": {},
   "source": [
    "## Create a list"
   ]
  },
  {
   "cell_type": "markdown",
   "id": "d7976545-63e1-4a27-bb03-2b0fb74cc99d",
   "metadata": {},
   "source": [
    "$\\color{red}{\\text{As opposed}}$ to int, bool etc., a $\\color{blue}{\\text{list}}$ is a $\\color{black}{\\text{compound data type}}$; you can $\\color{blue}{\\text{group values}}$ together:"
   ]
  },
  {
   "cell_type": "code",
   "execution_count": 1,
   "id": "56150f0d-232b-4871-b1ed-e758ed32e373",
   "metadata": {
    "tags": []
   },
   "outputs": [
    {
     "name": "stdout",
     "output_type": "stream",
     "text": [
      "is\n",
      "nice\n",
      "['my', 'list', 'is', 'nice']\n"
     ]
    }
   ],
   "source": [
    "a = \"is\"\n",
    "b = \"nice\"\n",
    "my_list = [\"my\", \"list\", a, b]\n",
    "\n",
    "print(a)\n",
    "print(b)\n",
    "print(my_list)"
   ]
  },
  {
   "cell_type": "markdown",
   "id": "0ebb74ec-1484-48c5-8cb7-1fde27cc4401",
   "metadata": {},
   "source": [
    "After measuring the height of your family, you decide $\\color{blue}{\\text{to collect}}$ some information on $\\color{blue}{\\text{the house}}$  you're living in. The areas of the different parts of your house are stored in separate variables for now, as shown in the script."
   ]
  },
  {
   "cell_type": "code",
   "execution_count": 2,
   "id": "641286ec-61a5-41a3-b09d-44a48a5fddbe",
   "metadata": {
    "tags": []
   },
   "outputs": [
    {
     "name": "stdout",
     "output_type": "stream",
     "text": [
      "[11.25, 18.0, 20.0, 10.75, 9.5]\n"
     ]
    }
   ],
   "source": [
    "# area variables (in square meters)\n",
    "hall = 11.25\n",
    "kit = 18.0\n",
    "liv = 20.0\n",
    "bed = 10.75\n",
    "bath = 9.50\n",
    "\n",
    "# Create list areas\n",
    "areas = [hall, kit, liv, bed, bath]\n",
    "\n",
    "# Print areas\n",
    "print(areas)"
   ]
  },
  {
   "cell_type": "markdown",
   "id": "d16389b7-6a60-48f1-a85f-66d51f78445f",
   "metadata": {},
   "source": [
    "## Create list with different types"
   ]
  },
  {
   "cell_type": "markdown",
   "id": "4f82df6f-90de-48dc-a338-622c0f2e4739",
   "metadata": {},
   "source": [
    "A list can contain any Python type. Although it's not really common, a list can also contain a mix of Python types including strings, floats, booleans, etc."
   ]
  },
  {
   "cell_type": "markdown",
   "id": "cf279588-4166-4b53-b51b-4b4a1bdb2aec",
   "metadata": {},
   "source": [
    "The printout of the previous exercise wasn't really satisfying. It's just a list of numbers representing the areas, but you can't tell which area corresponds to which part of your house."
   ]
  },
  {
   "cell_type": "markdown",
   "id": "1488e047-fe65-4cad-a709-3c3e47723f16",
   "metadata": {},
   "source": [
    "The code in the editor is the start of a solution. For some of the areas, the name of the corresponding room is already placed in front. Pay attention here! $\\color{green}{\\text{\"bathroom\"}}$ is a $\\color{blue}{\\text{string}}$, while $\\color{green}{\\text{bath}}$ is a variable that represents the $\\color{blue}{\\text{float 9.50}}$ you specified earlier."
   ]
  },
  {
   "cell_type": "code",
   "execution_count": 3,
   "id": "acd40bd0-19d6-4b9e-903e-27b7a69eae79",
   "metadata": {
    "tags": []
   },
   "outputs": [
    {
     "name": "stdout",
     "output_type": "stream",
     "text": [
      "['hallway', 11.25, 'kitchen', 18.0, 'living room', 20.0, 'bedroom', 10.75, 'bathroom', 9.5]\n"
     ]
    }
   ],
   "source": [
    "# area variables (in square meters)\n",
    "hall = 11.25\n",
    "kit = 18.0\n",
    "liv = 20.0\n",
    "bed = 10.75\n",
    "bath = 9.50\n",
    "\n",
    "# Adapt list areas\n",
    "areas = [\"hallway\", hall, \"kitchen\", kit, \"living room\", liv, \"bedroom\", bed, \"bathroom\", bath]\n",
    "\n",
    "# Print areas\n",
    "print(areas)"
   ]
  },
  {
   "cell_type": "markdown",
   "id": "60fc2fae-fc9d-4060-b11a-3f8520a17b29",
   "metadata": {},
   "source": [
    "## Select the valid list"
   ]
  },
  {
   "cell_type": "markdown",
   "id": "bbdfabd3-53c0-4af2-a5e2-963bdb86ca54",
   "metadata": {},
   "source": [
    "A list can contain any Python type. But a list itself is also a Python type. That means that a list can also contain a list! Python is getting funkier by the minute, but fear not, just remember the list syntax:"
   ]
  },
  {
   "cell_type": "markdown",
   "id": "a03c7f37-5411-4a31-95b1-c2934f855465",
   "metadata": {},
   "source": [
    "my_list = [el1, el2, el3]"
   ]
  },
  {
   "cell_type": "markdown",
   "id": "5b98e6d4-e2e0-45eb-a809-e41060e83b06",
   "metadata": {},
   "source": [
    "Can you tell which ones of the following lines of Python code are valid ways to build a list?"
   ]
  },
  {
   "cell_type": "markdown",
   "id": "309c0c58-b044-41d0-950f-8057440e518a",
   "metadata": {},
   "source": [
    "A. [1, 3, 4, 2]\\\n",
    "B. [[1, 2, 3], [4, 5, 7]]\\\n",
    "C. [1 + 2, \"a\" * 5, 3]"
   ]
  },
  {
   "cell_type": "markdown",
   "id": "76e04ba7-f21a-44b4-ad35-8fcc06d007f4",
   "metadata": {},
   "source": [
    "$\\color{black}{\\text{Possible Answer:}}$\\\n",
    "- $\\color{green}{\\text{A, B, and C}}$\\\n",
    "- B\\\n",
    "- B and C\\\n",
    "- C"
   ]
  },
  {
   "cell_type": "markdown",
   "id": "7e0fd972-a49f-4c42-a96c-3eb3422f5643",
   "metadata": {
    "tags": []
   },
   "source": [
    "## List of lists"
   ]
  },
  {
   "cell_type": "markdown",
   "id": "ae960dca-9362-40e5-af41-da283597dc3a",
   "metadata": {},
   "source": [
    "As a data scientist, you'll often be dealing with a lot of data, and it will make sense to group some of this data."
   ]
  },
  {
   "cell_type": "markdown",
   "id": "cc0869e5-27c8-4d4a-8d0e-0c251974b5b2",
   "metadata": {},
   "source": [
    "Instead of creating a flat list containing strings and floats, representing the names and areas of the rooms in your house, you can create a list of lists. The script in the editor can already give you an idea."
   ]
  },
  {
   "cell_type": "markdown",
   "id": "65c1a017-93ce-40c1-8d34-a7639b0523e8",
   "metadata": {},
   "source": [
    "Don't get confused here: $\\color{green}{\\text{\"hallway\"}}$ is a $\\color{blue}{\\text{string}}$, while $\\color{green}{\\text{hall}}$ is a variable that represents the $\\color{blue}{\\text{float 11.25}}$ you specified earlier."
   ]
  },
  {
   "cell_type": "code",
   "execution_count": 4,
   "id": "5aedf9fe-7671-459e-80e7-748106b7b496",
   "metadata": {
    "tags": []
   },
   "outputs": [
    {
     "name": "stdout",
     "output_type": "stream",
     "text": [
      "[['hallway', 11.25], ['kitchen', 18.0], ['living room', 20.0], ['bedroom', 10.75], ['bathroom', 9.5]]\n",
      "<class 'list'>\n"
     ]
    }
   ],
   "source": [
    "# area variables (in square meters)\n",
    "hall = 11.25\n",
    "kit = 18.0\n",
    "liv = 20.0\n",
    "bed = 10.75\n",
    "bath = 9.50\n",
    "\n",
    "# house information as list of lists\n",
    "house = [[\"hallway\", hall],\n",
    "         [\"kitchen\", kit],\n",
    "         [\"living room\", liv],\n",
    "         [\"bedroom\", bed],\n",
    "         [\"bathroom\", bath]]\n",
    "\n",
    "# Print out house\n",
    "print(house)\n",
    "\n",
    "# Print out the type of house\n",
    "print(type(house))"
   ]
  },
  {
   "cell_type": "markdown",
   "id": "61c44dda-e133-4106-825d-8af19a80200e",
   "metadata": {},
   "source": [
    "## Subset and conquer"
   ]
  },
  {
   "cell_type": "markdown",
   "id": "6a788e40-d8e9-4819-a455-936515d50784",
   "metadata": {},
   "source": [
    "Subsetting Python lists is a piece of cake. Take the code sample below, which creates a list $\\color{blue}{\\text{x}}$ and then $\\color{blue}{\\text{selects \"b\"}}$ from it. Remember that this is the $\\color{green}{\\text{second element}}$, so it has $\\color{green}{\\text{index 1}}$. You can also use negative indexing."
   ]
  },
  {
   "cell_type": "code",
   "execution_count": 5,
   "id": "77be5a1d-7bd9-4f09-8a51-332b3fa03732",
   "metadata": {
    "tags": []
   },
   "outputs": [
    {
     "name": "stdout",
     "output_type": "stream",
     "text": [
      "b b\n"
     ]
    }
   ],
   "source": [
    "x = [\"a\", \"b\", \"c\", \"d\"]\n",
    "print(x[1], x[-3]) # same result!"
   ]
  },
  {
   "cell_type": "markdown",
   "id": "bbfc567c-15c2-4c67-9131-8b9b02fd827e",
   "metadata": {},
   "source": [
    "Remember the $\\color{green}{\\text{areas}}$ list from before, containing both strings and floats? Its definition is already in the script."
   ]
  },
  {
   "cell_type": "code",
   "execution_count": 6,
   "id": "c98a5996-3a2e-45d7-9190-7ff28f119ae4",
   "metadata": {
    "tags": []
   },
   "outputs": [
    {
     "name": "stdout",
     "output_type": "stream",
     "text": [
      "11.25\n",
      "9.5\n",
      "20.0\n"
     ]
    }
   ],
   "source": [
    "# Create the areas list\n",
    "areas = [\"hallway\", 11.25, \"kitchen\", 18.0, \"living room\", 20.0, \"bedroom\", 10.75, \"bathroom\", 9.50]\n",
    "\n",
    "# Print out second element from areas\n",
    "print(areas[1])\n",
    "\n",
    "# Print out last element from areas\n",
    "print(areas[-1])\n",
    "\n",
    "# Print out the area of the living room\n",
    "print(areas[5])"
   ]
  },
  {
   "cell_type": "markdown",
   "id": "8ac59cda-e563-4acc-b20e-ab6b0eab281f",
   "metadata": {},
   "source": [
    "## Subset and calculate"
   ]
  },
  {
   "cell_type": "markdown",
   "id": "939c987a-1621-4d31-a010-532106105bf5",
   "metadata": {},
   "source": [
    "After you've extracted values from a list, you can use them to perform additional calculations. Take this example, where the second and fourth element of a list $\\color{blue}{\\text{x}}$ are extracted. The strings that result are pasted together using the $\\color{blue}{\\text{+}}$ operator:"
   ]
  },
  {
   "cell_type": "code",
   "execution_count": 7,
   "id": "26c610a6-1cfb-4f7f-82c8-af2c48415338",
   "metadata": {
    "tags": []
   },
   "outputs": [
    {
     "name": "stdout",
     "output_type": "stream",
     "text": [
      "bd\n"
     ]
    }
   ],
   "source": [
    "x = [\"a\", \"b\", \"c\", \"d\"]\n",
    "print(x[1] + x[3])"
   ]
  },
  {
   "cell_type": "code",
   "execution_count": 8,
   "id": "a433ef7c-55f0-43f6-909b-90a2c85862ce",
   "metadata": {
    "tags": []
   },
   "outputs": [
    {
     "name": "stdout",
     "output_type": "stream",
     "text": [
      "eat_sleep_area =  areas kitchen + areas bedroom =  18.0  +  10.75  =  28.75\n"
     ]
    }
   ],
   "source": [
    "# Create the areas list\n",
    "areas = [\"hallway\", 11.25, \"kitchen\", 18.0, \"living room\", 20.0, \"bedroom\", 10.75, \"bathroom\", 9.50]\n",
    "\n",
    "# Sum of kitchen and bedroom area: eat_sleep_area\n",
    "eat_sleep_area = areas[3] + areas[7]\n",
    "\n",
    "# Print the variable eat_sleep_area\n",
    "print(\"eat_sleep_area = \", \"areas kitchen + areas bedroom = \", areas[3], \" + \", areas[7], \" = \", eat_sleep_area)"
   ]
  },
  {
   "cell_type": "markdown",
   "id": "26c97b49-e2c5-4948-a367-7cc9be6c86a5",
   "metadata": {},
   "source": [
    "## Slicing and dicing"
   ]
  },
  {
   "cell_type": "markdown",
   "id": "6ae9eb72-0cfa-4862-a352-efa891923b7f",
   "metadata": {},
   "source": [
    "Selecting single values from a list is just one part of the story. It's also possible to slice your list, which means selecting multiple elements from your list. Use the following syntax:"
   ]
  },
  {
   "cell_type": "markdown",
   "id": "13cc9815-d5a3-413d-a1d8-48d8f06f878f",
   "metadata": {
    "tags": []
   },
   "source": [
    "my_list[$\\color{green}{\\text{start}}$:$\\color{red}{\\text{end}}$]"
   ]
  },
  {
   "cell_type": "markdown",
   "id": "6bc60b2c-8ce4-4796-82f1-d82aaeae7dd4",
   "metadata": {},
   "source": [
    "The $\\color{green}{\\text{start}}$ index will be $\\color{black}{\\text{included}}$, while the $\\color{red}{\\text{end}}$ index is $\\color{black}{\\text{not}}$."
   ]
  },
  {
   "cell_type": "markdown",
   "id": "6b44a911-7008-43fd-a856-0f979b59bc5a",
   "metadata": {},
   "source": [
    "The code sample below shows an example. A list with $\\color{black}{\\text{\"b\"}}$ and $\\color{black}{\\text{\"c\"}}$, corresponding to indexes 1 and 2, are selected from a list $\\color{blue}{\\text{x}}$:"
   ]
  },
  {
   "cell_type": "code",
   "execution_count": 9,
   "id": "e4f54cb4-4bad-4333-b8b0-fceba759716d",
   "metadata": {
    "tags": []
   },
   "outputs": [
    {
     "data": {
      "text/plain": [
       "['b', 'c']"
      ]
     },
     "execution_count": 9,
     "metadata": {},
     "output_type": "execute_result"
    }
   ],
   "source": [
    "x = [\"a\", \"b\", \"c\", \"d\"]\n",
    "x[1:3]"
   ]
  },
  {
   "cell_type": "markdown",
   "id": "479c5505-3e92-4b8e-ae63-172212fc56a1",
   "metadata": {},
   "source": [
    "The elements with index $\\color{green}{\\text{1 and 2}}$ are $\\color{black}{\\text{included}}$, while the element with index $\\color{red}{\\text{3}}$ is $\\color{black}{\\text{not}}$."
   ]
  },
  {
   "cell_type": "code",
   "execution_count": 10,
   "id": "da25f17c-9ad0-4036-9e9e-43ab689cb053",
   "metadata": {
    "tags": []
   },
   "outputs": [
    {
     "name": "stdout",
     "output_type": "stream",
     "text": [
      "downstairs \t=  ['hallway', 11.25, 'kitchen', 18.0, 'living room', 20.0] \n",
      "upstairs \t=  ['bedroom', 10.75, 'bathroom', 9.5]\n"
     ]
    }
   ],
   "source": [
    "# Create the areas list\n",
    "areas = [\"hallway\", 11.25, \"kitchen\", 18.0, \"living room\", 20.0, \"bedroom\", 10.75, \"bathroom\", 9.50]\n",
    "\n",
    "# Use slicing to create downstairs\n",
    "downstairs = areas[0:6]\n",
    "\n",
    "# Use slicing to create upstairs\n",
    "upstairs = areas[-4:]\n",
    "\n",
    "# Print out downstairs and upstairs\n",
    "print(\"downstairs \\t= \", downstairs, \"\\nupstairs \\t= \", upstairs)"
   ]
  },
  {
   "cell_type": "markdown",
   "id": "d93c6f7f-e8bc-4672-8dca-7eef849e9fe2",
   "metadata": {},
   "source": [
    "## Slicing and dicing (2)"
   ]
  },
  {
   "cell_type": "markdown",
   "id": "b53f5a27-6e7e-436d-a861-1bf53a106bc8",
   "metadata": {},
   "source": [
    "the syntax where you specify both where to begin and end the slice of your list:"
   ]
  },
  {
   "cell_type": "markdown",
   "id": "0b078b93-4f90-4f43-9f83-1add7786daad",
   "metadata": {
    "tags": []
   },
   "source": [
    "my_list[$\\color{green}{\\text{begin}}$:$\\color{red}{\\text{end}}$]"
   ]
  },
  {
   "cell_type": "markdown",
   "id": "e9000c07-dcd9-4b4a-9dbe-06b2a3dbe92c",
   "metadata": {},
   "source": [
    "However, it's also possible not to specify these indexes. If you don't specify the $\\color{green}{\\text{begin}}$ index, Python figures out that you want to start your slice at the beginning of your list. If you don't specify the $\\color{red}{\\text{end}}$ index, the slice will go all the way to the last element of your list."
   ]
  },
  {
   "cell_type": "code",
   "execution_count": 11,
   "id": "12ebff41-9ad8-4f10-a66b-7c1e876c8102",
   "metadata": {
    "tags": []
   },
   "outputs": [
    {
     "name": "stdout",
     "output_type": "stream",
     "text": [
      "x[:2] \t= ['a', 'b'] \n",
      "x[2:] \t= ['c', 'd'] \n",
      "x[:] \t= ['a', 'b', 'c', 'd']\n"
     ]
    }
   ],
   "source": [
    "x = [\"a\", \"b\", \"c\", \"d\"]\n",
    "print(\"x[:2] \\t=\", x[:2], \"\\nx[2:] \\t=\", x[2:], \"\\nx[:] \\t=\",  x[:])"
   ]
  },
  {
   "cell_type": "markdown",
   "id": "c3a2660b-c7a8-4b26-9f40-b12a35ee15ff",
   "metadata": {},
   "source": [
    "Create $\\color{blue}{\\text{downstairs}}$ again, as the $\\color{red}{\\text{first 6 elements}}$ of areas. This time, simplify the slicing by omitting $\\color{black}{\\text{the begin index.}}$"
   ]
  },
  {
   "cell_type": "code",
   "execution_count": 12,
   "id": "4d067ea6-dd36-454e-afcc-a30f53f531a0",
   "metadata": {
    "tags": []
   },
   "outputs": [
    {
     "name": "stdout",
     "output_type": "stream",
     "text": [
      "downstairs \t=  ['hallway', 11.25, 'kitchen', 18.0, 'living room', 20.0]\n"
     ]
    }
   ],
   "source": [
    "# Create the areas list\n",
    "areas = [\"hallway\", 11.25, \"kitchen\", 18.0, \"living room\", 20.0, \"bedroom\", 10.75, \"bathroom\", 9.50]\n",
    "\n",
    "# Alternative slicing to create downstairs with first 6 elements of areas\n",
    "downstairs = areas[:6]\n",
    "\n",
    "# print slicing to create downstairs with first 6 elements of areas\n",
    "print(\"downstairs \\t= \", downstairs)"
   ]
  },
  {
   "cell_type": "markdown",
   "id": "72eb10ca-c5be-43d0-a336-bffe22d24c07",
   "metadata": {},
   "source": [
    "Create $\\color{blue}{\\text{upstairs}}$ again, as the $\\color{red}{\\text{last 4 elements}}$ of areas. This time, simplify the slicing by omitting $\\color{black}{\\text{the end index.}}$"
   ]
  },
  {
   "cell_type": "code",
   "execution_count": 13,
   "id": "0d495e41-7f37-4afe-ab7b-abcd18d91ef7",
   "metadata": {
    "tags": []
   },
   "outputs": [
    {
     "name": "stdout",
     "output_type": "stream",
     "text": [
      "upstairs \t=  ['bedroom', 10.75, 'bathroom', 9.5]\n"
     ]
    }
   ],
   "source": [
    "# Create the areas list\n",
    "areas = [\"hallway\", 11.25, \"kitchen\", 18.0, \"living room\", 20.0, \"bedroom\", 10.75, \"bathroom\", 9.50]\n",
    "\n",
    "# Alternative slicing to create upstairs with last 4 elements\n",
    "upstairs = areas[-4:]\n",
    "\n",
    "# print slicing to create upstairs with last 4 elements\n",
    "print(\"upstairs \\t= \", upstairs)"
   ]
  },
  {
   "cell_type": "markdown",
   "id": "b845b426-4fd6-435e-a5a4-5387234f57e3",
   "metadata": {},
   "source": [
    "## Subsetting lists of lists"
   ]
  },
  {
   "cell_type": "markdown",
   "id": "0afef319-66fa-4721-a32c-c5803b4d4e6d",
   "metadata": {},
   "source": [
    "You saw before that a Python list can contain practically anything; even other lists! To subset lists of lists, you can use the same technique as before: square brackets."
   ]
  },
  {
   "cell_type": "code",
   "execution_count": 14,
   "id": "b909b05b-1690-41cd-a159-308c56d90641",
   "metadata": {
    "tags": []
   },
   "outputs": [
    {
     "name": "stdout",
     "output_type": "stream",
     "text": [
      "x[2][0] \t=  g \n",
      "x[2][:2] \t= ['g', 'h']\n"
     ]
    }
   ],
   "source": [
    "x = [[\"a\", \"b\", \"c\"],\n",
    "     [\"d\", \"e\", \"f\"],\n",
    "     [\"g\", \"h\", \"i\"]]\n",
    "print(\"x[2][0] \\t= \", x[2][0], \"\\nx[2][:2] \\t=\" ,x[2][:2])"
   ]
  },
  {
   "cell_type": "markdown",
   "id": "2e9525ba-afce-440c-a836-3413adfaf601",
   "metadata": {},
   "source": [
    "$\\color{blue}{\\text{x[2]}}$ results in a list, that you can $\\color{red}{\\text{subset again}}$ by adding $\\color{black}{\\text{additional}}$ square brackets."
   ]
  },
  {
   "cell_type": "markdown",
   "id": "bbfe1d95-c57a-4c28-90a3-ce799517db33",
   "metadata": {},
   "source": [
    "What will $\\color{blue}{\\text{house[-1][1]}}$ return? $\\color{blue}{\\text{house}}$, the list of lists that you created before, is already defined for you in the workspace."
   ]
  },
  {
   "cell_type": "code",
   "execution_count": 15,
   "id": "f4cec973-5f5e-4ffd-aa83-57dfde34c2f8",
   "metadata": {
    "tags": []
   },
   "outputs": [
    {
     "name": "stdout",
     "output_type": "stream",
     "text": [
      "house[-1][0] =  bathroom \n",
      "house[-1][1] =  9.5\n"
     ]
    }
   ],
   "source": [
    "# house information as list of lists\n",
    "house = [[\"hallway\", hall],\n",
    "         [\"kitchen\", kit],\n",
    "         [\"living room\", liv],\n",
    "         [\"bedroom\", bed],\n",
    "         [\"bathroom\", bath]]\n",
    "print(\"house[-1][0] = \", house[-1][0], \"\\nhouse[-1][1] = \", house[-1][1])"
   ]
  },
  {
   "cell_type": "markdown",
   "id": "e2e9de48-917f-46b7-840c-88c13e75b793",
   "metadata": {},
   "source": [
    "$\\color{black}{\\text{Possible answers:}}$ \\\n",
    "- A float: the kitchen area \\\n",
    "- A string: \"kitchen\" \\\n",
    "- $\\color{blue}{\\text{A float: the bathroom area}}$ \\\n",
    "- A string: \"bathroom\""
   ]
  },
  {
   "cell_type": "markdown",
   "id": "ca084828-2129-4056-a5dd-a6e6cca9eaae",
   "metadata": {},
   "source": [
    "## Replace list elements"
   ]
  },
  {
   "cell_type": "markdown",
   "id": "35ab49c4-ebc1-415b-a84e-7f88b0bbb227",
   "metadata": {},
   "source": [
    "Replacing list elements is pretty easy. Simply subset the list and assign new values to the subset. You can select single elements or you can change entire list slices at once."
   ]
  },
  {
   "cell_type": "markdown",
   "id": "e4e5e783-19a5-4a01-a3b4-4fcf431c2c8c",
   "metadata": {},
   "source": [
    "Can you tell $\\color{black}{\\text{what's}}$ happening and $\\color{black}{\\text{why}}$?"
   ]
  },
  {
   "cell_type": "code",
   "execution_count": 16,
   "id": "966735f3-a55c-450c-b869-4c3eb5bde110",
   "metadata": {},
   "outputs": [],
   "source": [
    "x = [\"a\", \"b\", \"c\", \"d\"]\n",
    "x[1] = \"r\"\n",
    "x[2:] = [\"s\", \"t\"]"
   ]
  },
  {
   "cell_type": "markdown",
   "id": "84b6124e-3a51-4ad5-af20-509bf8282d1d",
   "metadata": {},
   "source": [
    "For this and the following exercises, you'll continue working on the $\\color{blue}{\\text{areas}}$ list that contains the names and areas of different rooms in a house."
   ]
  },
  {
   "cell_type": "code",
   "execution_count": 17,
   "id": "2cfe4904-9b7c-425f-b416-bf4f64623693",
   "metadata": {
    "tags": []
   },
   "outputs": [
    {
     "name": "stdout",
     "output_type": "stream",
     "text": [
      "areas \t\t=  ['hallway', 11.25, 'kitchen', 18.0, 'chill zone', 20.0, 'bedroom', 10.75, 'bathroom', 10.5] \n",
      "areas[4] \t=  chill zone\n"
     ]
    }
   ],
   "source": [
    "# Create the areas list\n",
    "areas = [\"hallway\", 11.25, \"kitchen\", 18.0, \"living room\", 20.0, \"bedroom\", 10.75, \"bathroom\", 9.50]\n",
    "\n",
    "# Correct the bathroom area\n",
    "areas[-1] = 10.50\n",
    "\n",
    "# Change \"living room\" to \"chill zone\"\n",
    "areas[4] = \"chill zone\"\n",
    "\n",
    "# print areas and areas[4]\n",
    "print(\"areas \\t\\t= \" , areas, \"\\nareas[4] \\t= \" , areas[4])"
   ]
  },
  {
   "cell_type": "markdown",
   "id": "b6942844-c7a5-4e19-b96b-93fd57b94797",
   "metadata": {},
   "source": [
    "## Extend a list"
   ]
  },
  {
   "cell_type": "markdown",
   "id": "76a14612-d404-46de-a8cb-bb1c4b2887e1",
   "metadata": {},
   "source": [
    "If you can change elements in a list, you sure want to be able to add elements to it, right? You can use the $\\color{blue}{\\text{+}}$ operator:"
   ]
  },
  {
   "cell_type": "code",
   "execution_count": 18,
   "id": "7029a529-2c38-4148-a350-970cabeb1fe0",
   "metadata": {},
   "outputs": [],
   "source": [
    "x = [\"a\", \"b\", \"c\", \"d\"]\n",
    "y = x + [\"e\", \"f\"]"
   ]
  },
  {
   "cell_type": "markdown",
   "id": "1837cde9-dbdb-4838-8f74-b8e66196aba1",
   "metadata": {},
   "source": [
    "You just won the lottery, awesome! You decide to build a poolhouse and a garage. Can you add the information to the $\\color{blue}{\\text{areas}}$ list?"
   ]
  },
  {
   "cell_type": "markdown",
   "id": "3a292dfc-e740-475f-8173-e4704b605be1",
   "metadata": {},
   "source": [
    "- Use the $\\color{blue}{\\text{+}}$ operator to paste the list $\\color{green}{\\text{[\"poolhouse\", 24.5]}}$ to the end of the $\\color{blue}{\\text{areas}}$ list. Store the resulting list as $\\color{green}{\\text{areas\\_1}}$.\n",
    "- Further extend $\\color{green}{\\text{areas\\_1}}$ by adding data on your garage. Add the string $\\color{green}{\\text{\"garage\"}}$ and float $\\color{green}{\\text{15.45}}$. Name the resulting list $\\color{green}{\\text{areas\\_2}}$."
   ]
  },
  {
   "cell_type": "code",
   "execution_count": 19,
   "id": "2272d9a7-107c-48a5-bd87-b31824facdbf",
   "metadata": {
    "tags": []
   },
   "outputs": [
    {
     "name": "stdout",
     "output_type": "stream",
     "text": [
      "areas_1 \t=  ['hallway', 11.25, 'kitchen', 18.0, 'chill zone', 20.0, 'bedroom', 10.75, 'bathroom', 10.5, 'poolhouse', 24.5] \n",
      "areas_2 \t=  ['hallway', 11.25, 'kitchen', 18.0, 'chill zone', 20.0, 'bedroom', 10.75, 'bathroom', 10.5, 'poolhouse', 24.5, 'garage', 15.45]\n"
     ]
    }
   ],
   "source": [
    "# Create the areas list and make some changes\n",
    "areas = [\"hallway\", 11.25, \"kitchen\", 18.0, \"chill zone\", 20.0,\n",
    "         \"bedroom\", 10.75, \"bathroom\", 10.50]\n",
    "\n",
    "# Add poolhouse data to areas, new list is areas_1\n",
    "areas_1 = areas + [\"poolhouse\", 24.5]\n",
    "\n",
    "# Add garage data to areas_1, new list is areas_2\n",
    "areas_2 = areas_1 + [\"garage\", 15.45]\n",
    "\n",
    "# print areas_1 and areas_2\n",
    "print(\"areas_1 \\t= \", areas_1,\"\\nareas_2 \\t= \", areas_2)"
   ]
  },
  {
   "cell_type": "markdown",
   "id": "32a5603c-7f72-4ebc-bb60-2a744b259e50",
   "metadata": {},
   "source": [
    "## Delete list elements"
   ]
  },
  {
   "cell_type": "markdown",
   "id": "1f403592-cc95-4ad6-8057-7dfcc64aab7b",
   "metadata": {},
   "source": [
    "Finally, you can also remove elements from your list. You can do this with the $\\color{blue}{\\text{del}}$ statement:"
   ]
  },
  {
   "cell_type": "code",
   "execution_count": 20,
   "id": "aca96f0e-0ed6-49f3-a105-840fbf66271a",
   "metadata": {},
   "outputs": [],
   "source": [
    "x = [\"a\", \"b\", \"c\", \"d\"]\n",
    "del(x[1])"
   ]
  },
  {
   "cell_type": "markdown",
   "id": "5eb9cbf0-b233-4dce-8fa4-0305f9134611",
   "metadata": {},
   "source": [
    "Pay attention here: as soon as you remove an element from a list, the indexes of the elements that come after the deleted element all change!"
   ]
  },
  {
   "cell_type": "markdown",
   "id": "9c8de1cf-41a1-4133-85ca-b5cf157a36ba",
   "metadata": {},
   "source": [
    "The updated and extended version of $\\color{blue}{\\text{areas}}$ that you've built in the previous exercises is coded below."
   ]
  },
  {
   "cell_type": "code",
   "execution_count": 21,
   "id": "83b957e9-1312-4de9-83a6-0e06b4021baa",
   "metadata": {},
   "outputs": [],
   "source": [
    "areas = [\"hallway\", 11.25, \"kitchen\", 18.0,\n",
    "        \"chill zone\", 20.0, \"bedroom\", 10.75,\n",
    "         \"bathroom\", 10.50, \"poolhouse\", 24.5,\n",
    "         \"garage\", 15.45]"
   ]
  },
  {
   "cell_type": "markdown",
   "id": "55f6427f-fd38-4b97-86f4-de3383584aee",
   "metadata": {},
   "source": [
    "There was a mistake! The amount you won with the lottery is not that big after all and it looks like the poolhouse isn't going to happen. You decide to remove the corresponding string and float from the $\\color{blue}{\\text{areas}}$ list."
   ]
  },
  {
   "cell_type": "markdown",
   "id": "58e59d77-2e29-4a00-93e8-63116bc8b518",
   "metadata": {},
   "source": [
    "The $\\color{green}{\\text{;}}$ sign is used to place commands on the same line. The following two code chunks are equivalent:"
   ]
  },
  {
   "cell_type": "markdown",
   "id": "367d03d0-9530-42de-932e-54fcea11fada",
   "metadata": {},
   "source": [
    "$\\color{blue}{\\text{Same line: }}$ \\\n",
    "- command1; command2\n",
    "\n",
    "$\\color{blue}{\\text{Separate lines:}}$ \\\n",
    "- command1 \\\n",
    "- command2"
   ]
  },
  {
   "cell_type": "markdown",
   "id": "cb368c32-ee4a-4643-85a8-bab1f0820cea",
   "metadata": {},
   "source": [
    "Which of the code chunks will do the job for us?"
   ]
  },
  {
   "cell_type": "markdown",
   "id": "cfec799a-182f-4fd0-b0fb-9b3ea0f265d6",
   "metadata": {},
   "source": [
    "$\\color{black}{\\text{Possible answers:}}$"
   ]
  },
  {
   "cell_type": "markdown",
   "id": "49ff41c7-6625-4de3-a48a-d281440551f6",
   "metadata": {},
   "source": [
    "- del(areas[10]); del(areas[11])\n",
    "- del(areas[10:11])\n",
    "- $\\color{blue}{\\text{del(areas[-4:-2])}}$\n",
    "- del(areas[-3]); del(areas[-4])"
   ]
  },
  {
   "cell_type": "code",
   "execution_count": 22,
   "id": "f0475050-da8e-459e-8631-6cbc76cdfdbd",
   "metadata": {
    "tags": []
   },
   "outputs": [
    {
     "name": "stdout",
     "output_type": "stream",
     "text": [
      "['hallway', 11.25, 'kitchen', 18.0, 'chill zone', 20.0, 'bedroom', 10.75, 'bathroom', 10.5, 24.5, 15.45]\n"
     ]
    }
   ],
   "source": [
    "areas = [\"hallway\", 11.25, \"kitchen\", 18.0,\n",
    "        \"chill zone\", 20.0, \"bedroom\", 10.75,\n",
    "         \"bathroom\", 10.50, \"poolhouse\", 24.5,\n",
    "         \"garage\", 15.45]\n",
    "\n",
    "# delete areas[10] or poolhouse;\n",
    "# delete areas[11] after areas[10] has been deleted or garage (index 12 become index 11)\n",
    "del(areas[10]); del(areas[11])\n",
    "\n",
    "# print del(areas[10]); del(areas[11]) -> String poolhouse and garage has been deleted.\n",
    "print(areas)"
   ]
  },
  {
   "cell_type": "code",
   "execution_count": 23,
   "id": "7884d79b-fbe2-477d-8f77-7114f83e6314",
   "metadata": {
    "tags": []
   },
   "outputs": [
    {
     "name": "stdout",
     "output_type": "stream",
     "text": [
      "['hallway', 11.25, 'kitchen', 18.0, 'chill zone', 20.0, 'bedroom', 10.75, 'bathroom', 10.5, 24.5, 'garage', 15.45]\n"
     ]
    }
   ],
   "source": [
    "areas = [\"hallway\", 11.25, \"kitchen\", 18.0,\n",
    "        \"chill zone\", 20.0, \"bedroom\", 10.75,\n",
    "         \"bathroom\", 10.50, \"poolhouse\", 24.5,\n",
    "         \"garage\", 15.45]\n",
    "\n",
    "# delete areas[10:11] or just area[10] or poolhouse;\n",
    "del(areas[10:11])\n",
    "\n",
    "# print del(areas[10:11]) -> String poolhouse has been deleted\n",
    "print(areas)"
   ]
  },
  {
   "cell_type": "code",
   "execution_count": 24,
   "id": "88bc5ba6-5990-4783-a3bb-650a5e4ae404",
   "metadata": {
    "tags": []
   },
   "outputs": [
    {
     "name": "stdout",
     "output_type": "stream",
     "text": [
      "['hallway', 11.25, 'kitchen', 18.0, 'chill zone', 20.0, 'bedroom', 10.75, 'bathroom', 10.5, 'garage', 15.45]\n"
     ]
    }
   ],
   "source": [
    "areas = [\"hallway\", 11.25, \"kitchen\", 18.0,\n",
    "        \"chill zone\", 20.0, \"bedroom\", 10.75,\n",
    "         \"bathroom\", 10.50, \"poolhouse\", 24.5,\n",
    "         \"garage\", 15.45]\n",
    "\n",
    "# delete areas[-4:-2] or just area[-4] and area[-3] or poolhouse and float 24.5;\n",
    "del(areas[-4:-2])\n",
    "\n",
    "# print del(areas[-4:-2]) -> String poolhouse and float 24.5 has been deleted\n",
    "print(areas)"
   ]
  },
  {
   "cell_type": "code",
   "execution_count": 25,
   "id": "0f188575-b015-4861-b43d-fad21453e391",
   "metadata": {
    "tags": []
   },
   "outputs": [
    {
     "name": "stdout",
     "output_type": "stream",
     "text": [
      "['hallway', 11.25, 'kitchen', 18.0, 'chill zone', 20.0, 'bedroom', 10.75, 'bathroom', 'poolhouse', 'garage', 15.45]\n"
     ]
    }
   ],
   "source": [
    "areas = [\"hallway\", 11.25, \"kitchen\", 18.0,\n",
    "        \"chill zone\", 20.0, \"bedroom\", 10.75,\n",
    "         \"bathroom\", 10.50, \"poolhouse\", 24.5,\n",
    "         \"garage\", 15.45]\n",
    "\n",
    "# delete areas[-3] or float 24.5;\n",
    "# delete areas[-4] after areas[-3] has been deleted or float 10.50 (index -5 become index -4)\n",
    "del(areas[-3]); del(areas[-4])\n",
    "\n",
    "# print del(del(areas[-3]); del(areas[-4])) -> float 24.5 and float 10.50 has been deleted\n",
    "print(areas)"
   ]
  },
  {
   "cell_type": "markdown",
   "id": "517523d2-bc53-42fc-9833-4b2d96109d08",
   "metadata": {},
   "source": [
    "## Inner workings of lists"
   ]
  },
  {
   "cell_type": "markdown",
   "id": "b87291dd-80e2-45ed-9922-33a8be091437",
   "metadata": {},
   "source": [
    "How Python lists work behind the scenes. In this exercise you'll get some hands-on experience with this."
   ]
  },
  {
   "cell_type": "markdown",
   "id": "06dd1f35-3394-4707-9c29-7a04880d9d12",
   "metadata": {},
   "source": [
    "The Python code in the script already creates a list with the name $\\color{blue}{\\text{areas}}$ and a copy named $\\color{green}{\\text{areas\\_copy}}$. Next, the first element in the $\\color{green}{\\text{areas\\_copy}}$ list is changed and the $\\color{blue}{\\text{areas}}$ list is printed out. If you hit Run Code you'll see that, although you've changed $\\color{green}{\\text{areas\\_copy}}$, the change also takes effect in the $\\color{blue}{\\text{areas}}$ list. That's because $\\color{blue}{\\text{areas}}$ and $\\color{green}{\\text{areas\\_copy}}$ point to the same list."
   ]
  },
  {
   "cell_type": "markdown",
   "id": "d9156d48-a5b3-499e-83d0-f9ca2846966f",
   "metadata": {},
   "source": [
    "If you want to prevent changes in $\\color{green}{\\text{areas\\_copy}}$ from also taking effect in $\\color{blue}{\\text{areas}}$, you'll have to do a more explicit copy of the $\\color{blue}{\\text{areas}}$ list. You can do this with $\\color{blue}{\\text{list()}}$ or by using $\\color{green}{\\text{[:]}}$."
   ]
  },
  {
   "cell_type": "code",
   "execution_count": 26,
   "id": "635f7f2c-5a4e-4212-9799-c89f256f313b",
   "metadata": {
    "tags": []
   },
   "outputs": [
    {
     "name": "stdout",
     "output_type": "stream",
     "text": [
      "[5.0, 18.0, 20.0, 10.75, 9.5]\n"
     ]
    }
   ],
   "source": [
    "# Create list areas\n",
    "areas = [11.25, 18.0, 20.0, 10.75, 9.50]\n",
    "\n",
    "# Create areas_copy\n",
    "areas_copy = areas\n",
    "\n",
    "# Change areas_copy\n",
    "areas_copy[0] = 5.0\n",
    "\n",
    "# Print areas. So, float 11.25 will be changed become float 5.0 in the areas variable\n",
    "print(areas)"
   ]
  },
  {
   "cell_type": "code",
   "execution_count": 27,
   "id": "bd07f46b-d22d-4c47-88dd-c0cebeda910b",
   "metadata": {
    "tags": []
   },
   "outputs": [
    {
     "name": "stdout",
     "output_type": "stream",
     "text": [
      "[11.25, 18.0, 20.0, 10.75, 9.5]\n"
     ]
    }
   ],
   "source": [
    "# Create list areas\n",
    "areas = [11.25, 18.0, 20.0, 10.75, 9.50]\n",
    "\n",
    "# Create areas_copy with areas[:] or list(areas)\n",
    "areas_copy = areas[:]\n",
    "\n",
    "# Change areas_copy\n",
    "areas_copy[0] = 5.0\n",
    "\n",
    "# Print areas. The areas aren't changed \n",
    "print(areas)"
   ]
  }
 ],
 "metadata": {
  "kernelspec": {
   "display_name": "Python 3 (ipykernel)",
   "language": "python",
   "name": "python3"
  },
  "language_info": {
   "codemirror_mode": {
    "name": "ipython",
    "version": 3
   },
   "file_extension": ".py",
   "mimetype": "text/x-python",
   "name": "python",
   "nbconvert_exporter": "python",
   "pygments_lexer": "ipython3",
   "version": "3.11.5"
  }
 },
 "nbformat": 4,
 "nbformat_minor": 5
}
