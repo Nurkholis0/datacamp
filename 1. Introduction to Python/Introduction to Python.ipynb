{
 "cells": [
  {
   "cell_type": "markdown",
   "id": "d9e2c711-b65b-4ff4-ae56-b002e0187767",
   "metadata": {
    "tags": []
   },
   "source": [
    "Name: Nurkholis\\\n",
    "Source: Datacamp"
   ]
  },
  {
   "cell_type": "markdown",
   "id": "aa5ab10d-3076-4e06-bd5e-132b01cb3fa3",
   "metadata": {
    "jp-MarkdownHeadingCollapsed": true,
    "tags": []
   },
   "source": [
    "# Python Basics"
   ]
  },
  {
   "cell_type": "markdown",
   "id": "a4128d2b-30e4-41b8-97d2-cc81ad9419ff",
   "metadata": {},
   "source": [
    "An introduction to the basic concepts of Python. Learn how to use Python interactively and by using a script. Create your first variables and acquaint yourself with Python&apos;s basic data types."
   ]
  },
  {
   "cell_type": "markdown",
   "id": "6adae888-a7f5-4e80-9445-d75ccb16f5c6",
   "metadata": {
    "tags": []
   },
   "source": [
    "## When to use Python?"
   ]
  },
  {
   "cell_type": "markdown",
   "id": "07c41680-24f4-4f33-8be8-81f4c804ec50",
   "metadata": {},
   "source": [
    "Python is a flexible language. For which applications can you use Python?"
   ]
  },
  {
   "cell_type": "markdown",
   "id": "fa8256d1-e893-44bb-b553-a7e13ccd820a",
   "metadata": {},
   "source": [
    "a. For quick calculations.\n",
    "b. Develop a database-driven website.\n",
    "c. Clean and analyze data.\n",
    "d. $\\color{blue}{\\text{All of the above.}}$"
   ]
  },
  {
   "cell_type": "markdown",
   "id": "c9143dd7-db9c-4905-9355-e4204c6a484d",
   "metadata": {},
   "source": [
    "## Any comments?"
   ]
  },
  {
   "cell_type": "markdown",
   "id": "63aa7224-457c-463a-83b8-0fa7f9bd36ee",
   "metadata": {},
   "source": [
    "You can also add comments to your Python scripts. Comments are important to make sure that you and others can understand what your code is about and do not run as Python code."
   ]
  },
  {
   "cell_type": "markdown",
   "id": "579a3c86-c9b2-414f-a319-7180f7e78f93",
   "metadata": {},
   "source": [
    "They start with $\\color{blue}{\\text{\\#}}$ tag. See the comment in the editor, $\\color{blue}{\\text{\\# Division}}$; now it's your turn to add a comment!"
   ]
  },
  {
   "cell_type": "code",
   "execution_count": 1,
   "id": "3c395ff2-ca9b-43c0-8526-efb7b8c39710",
   "metadata": {
    "tags": []
   },
   "outputs": [
    {
     "name": "stdout",
     "output_type": "stream",
     "text": [
      "0.625\n",
      "17\n"
     ]
    }
   ],
   "source": [
    "# Division\n",
    "print(5 / 8)\n",
    "# Addition\n",
    "print(7 + 10)"
   ]
  },
  {
   "cell_type": "markdown",
   "id": "d57b8ea8-31f1-4d0c-a46f-601f5e07f344",
   "metadata": {},
   "source": [
    "## Python as a calculator"
   ]
  },
  {
   "cell_type": "markdown",
   "id": "1fe94966-9c53-4441-acf6-67f3aaab7edb",
   "metadata": {},
   "source": [
    "Python is perfectly suited to do basic calculations. It can do $\\color{blue}{\\text{addition}}$, $\\color{blue}{\\text{subtraction}}$, $\\color{blue}{\\text{multiplication}}$, $\\color{blue}{\\text{division}}$."
   ]
  },
  {
   "cell_type": "code",
   "execution_count": 2,
   "id": "74dbb225-4529-466d-9d98-3445d7292397",
   "metadata": {
    "tags": []
   },
   "outputs": [
    {
     "name": "stdout",
     "output_type": "stream",
     "text": [
      "9\n",
      "0\n",
      "15\n",
      "5.0\n"
     ]
    }
   ],
   "source": [
    "# Addition\n",
    "print ( 4 + 5 )\n",
    "\n",
    "# Subtraction\n",
    "print (5 - 5)\n",
    "\n",
    "# Multiplication\n",
    "print(3*5)\n",
    "\n",
    "# Division\n",
    "print(10/2)"
   ]
  },
  {
   "cell_type": "markdown",
   "id": "366f866e-5b50-4655-8b8e-a3c34c8674b2",
   "metadata": {},
   "source": [
    "## Variable"
   ]
  },
  {
   "cell_type": "markdown",
   "id": "ad918f47-2c4b-474c-8df5-329656981157",
   "metadata": {},
   "source": [
    "- Specific, case-sensitive name\n",
    "- Call up value through variable name\n",
    "- 1.79 m - 68.7 kg"
   ]
  },
  {
   "cell_type": "code",
   "execution_count": 3,
   "id": "a829dfab-09bc-4c1e-afb1-6f6608db7d82",
   "metadata": {
    "tags": []
   },
   "outputs": [
    {
     "data": {
      "text/plain": [
       "1.79"
      ]
     },
     "execution_count": 3,
     "metadata": {},
     "output_type": "execute_result"
    }
   ],
   "source": [
    "height = 1.79\n",
    "weight = 68.7\n",
    "height"
   ]
  },
  {
   "cell_type": "markdown",
   "id": "33f7bdbc-b777-4dd4-bd97-653cfbbc0ad0",
   "metadata": {
    "tags": []
   },
   "source": [
    "## Variable Assignment"
   ]
  },
  {
   "cell_type": "markdown",
   "id": "36dacafa-f54f-4c49-82bb-080b77d115a6",
   "metadata": {},
   "source": [
    "In Python, a variable allows you to refer to a value with a name. To create a variable x with a value of 5, you use $\\color{blue}{\\text{=}}$, like this example:"
   ]
  },
  {
   "cell_type": "markdown",
   "id": "6d3b53d8-defb-4c0b-844a-4dd171a8c2d2",
   "metadata": {},
   "source": [
    "x $\\color{blue}{\\text{=}}$ 5"
   ]
  },
  {
   "cell_type": "markdown",
   "id": "b76ef818-8983-402d-b3f3-a8428730441c",
   "metadata": {},
   "source": [
    "You can now use the name of this variable, x, instead of the actual value, 5.\\\n",
    "Remember, $\\color{blue}{\\text{=}}$ in Python means $\\color{blue}{\\text{assignment}}$, it $\\color{black}{\\text{doesn't}}$ test equality!"
   ]
  },
  {
   "cell_type": "code",
   "execution_count": 4,
   "id": "75c5b703-02f1-4fa6-a5c9-2f5ce34f9f6c",
   "metadata": {
    "tags": []
   },
   "outputs": [
    {
     "name": "stdout",
     "output_type": "stream",
     "text": [
      "100\n"
     ]
    }
   ],
   "source": [
    "# Create a variable savings\n",
    "savings = 100\n",
    "\n",
    "# Print out savings\n",
    "print(savings)"
   ]
  },
  {
   "cell_type": "markdown",
   "id": "27979060-8c6c-4ffd-8586-6f71325a6f77",
   "metadata": {},
   "source": [
    "## Calculations with variables"
   ]
  },
  {
   "cell_type": "markdown",
   "id": "e224f8df-ddef-42a3-af5e-f6898347db6e",
   "metadata": {},
   "source": [
    "You've now created a $\\color{blue}{\\text{savings variable}}$, so let's start saving!"
   ]
  },
  {
   "cell_type": "markdown",
   "id": "388e99d1-5898-4d3a-a6f8-4bb806b72777",
   "metadata": {},
   "source": [
    "Instead of calculating with the actual values, you can use variables instead. The $\\color{blue}{\\text{savings}}$ variable you created in the previous exercise with a value of $\\color{blue}{\\text{\\$100}}$ is available to you."
   ]
  },
  {
   "cell_type": "markdown",
   "id": "19c6d227-d60f-4851-bc79-1925f802e9c6",
   "metadata": {},
   "source": [
    "How much money would you have saved four months from now, if you saved $\\color{blue}{\\text{\\$10}}$ each month?"
   ]
  },
  {
   "cell_type": "code",
   "execution_count": 5,
   "id": "b54c3efb-72a8-4283-a24d-36bcc7740a53",
   "metadata": {
    "tags": []
   },
   "outputs": [
    {
     "name": "stdout",
     "output_type": "stream",
     "text": [
      "140\n"
     ]
    }
   ],
   "source": [
    "# Create the variables monthly_savings and num_months\n",
    "monthly_savings = 10\n",
    "num_months = 4\n",
    "\n",
    "# Multiply monthly_savings and num_months\n",
    "new_savings = monthly_savings * num_months\n",
    "\n",
    "# Add new_savings to your savings\n",
    "total_savings = new_savings + savings\n",
    "\n",
    "# Print total_savings\n",
    "print(total_savings)"
   ]
  },
  {
   "cell_type": "markdown",
   "id": "0861cc4a-f06f-4991-83b0-da6dbeda5139",
   "metadata": {},
   "source": [
    "## Other variable types"
   ]
  },
  {
   "cell_type": "markdown",
   "id": "24ec44d6-3c12-4f4f-a552-3d4f49800242",
   "metadata": {},
   "source": [
    "In the previous exercise, you worked with the integer Python data type:"
   ]
  },
  {
   "cell_type": "markdown",
   "id": "9eae6f2b-f5ae-45be-a4bb-9034f82324ad",
   "metadata": {},
   "source": [
    "- $\\color{blue}{\\text{int}}$, or integer: a number without a fractional part. savings, with the value 100, is an example of an integer."
   ]
  },
  {
   "cell_type": "markdown",
   "id": "8282efea-135c-43de-9432-2609f42d9e02",
   "metadata": {},
   "source": [
    "Next to numerical data types, there are $\\color{blue}{\\text{three}}$ other very common data types:"
   ]
  },
  {
   "cell_type": "markdown",
   "id": "0fe30dae-f72e-42dc-b4a9-3d6eb00f8acb",
   "metadata": {},
   "source": [
    "- $\\color{blue}{\\text{float}}$, or floating point: a number that has both an integer and fractional part, separated by a point. $\\color{blue}{\\text{1.1}}$, is an example of a float.\n",
    "- $\\color{blue}{\\text{str}}$, or string: a type to represent text. You can use single or double quotes to build a string.\n",
    "- $\\color{blue}{\\text{bool}}$, or boolean: a type to represent logical values. It can only be $\\color{blue}{\\text{True}}$ or $\\color{blue}{\\text{False}}$ (the capitalization is important!)."
   ]
  },
  {
   "cell_type": "code",
   "execution_count": 6,
   "id": "fae86dc3-053e-4fa7-a7b2-605dd8eb761c",
   "metadata": {
    "tags": []
   },
   "outputs": [
    {
     "name": "stdout",
     "output_type": "stream",
     "text": [
      "half= 0.5 \n",
      "intro: Hello! How are you? \n",
      "is good?  True\n"
     ]
    }
   ],
   "source": [
    "# Create a variable half\n",
    "half = 0.5\n",
    "\n",
    "# Create a variable intro\n",
    "intro = \"Hello! How are you?\"\n",
    "\n",
    "# Create a variable is_good\n",
    "is_good = True\n",
    "\n",
    "# print half, intro, and is_good\n",
    "print(\"half=\", half, \"\\nintro:\", intro, \"\\nis good? \", is_good)"
   ]
  },
  {
   "cell_type": "markdown",
   "id": "b7013dcc-7ec3-4dc0-8197-571e4e86d8fa",
   "metadata": {},
   "source": [
    "## Guess the type"
   ]
  },
  {
   "cell_type": "markdown",
   "id": "c11b320d-3082-4c8f-b1a4-2cdf1e7bffb5",
   "metadata": {},
   "source": [
    "To find out the type of a value or $\\color{blue}{\\text{a}}$ variable that refers to that value, you can use the $\\color{blue}{\\text{type()}}$ function. Suppose you've defined a variable $\\color{blue}{\\text{a}}$, but you forgot the type of this variable. To determine the type of $\\color{blue}{\\text{a}}$, simply execute:"
   ]
  },
  {
   "cell_type": "markdown",
   "id": "46845f55-36c4-4c84-92a1-a68106ddf80f",
   "metadata": {},
   "source": [
    "$\\color{blue}{\\text{type(a)}}$"
   ]
  },
  {
   "cell_type": "code",
   "execution_count": 7,
   "id": "058048ca-88c9-4e35-a7bf-b1142005d130",
   "metadata": {
    "tags": []
   },
   "outputs": [
    {
     "name": "stdout",
     "output_type": "stream",
     "text": [
      "half <class 'float'> \n",
      "intro <class 'str'> \n",
      "is_good? <class 'bool'>\n"
     ]
    }
   ],
   "source": [
    "# Create a variable half\n",
    "half = 0.5\n",
    "\n",
    "# Create a variable intro\n",
    "intro = \"Hello! How are you?\"\n",
    "\n",
    "# Create a variable is_good\n",
    "is_good = True\n",
    "\n",
    "# print type half, intro, and is_good\n",
    "print(\"half\", type(half), \"\\nintro\", type(intro), \"\\nis_good?\", type(is_good))"
   ]
  },
  {
   "cell_type": "markdown",
   "id": "0fd26ce9-1f76-4e09-9ad4-9cb13a98bd57",
   "metadata": {
    "tags": []
   },
   "source": [
    "## Operations with other types"
   ]
  },
  {
   "cell_type": "markdown",
   "id": "4bc134aa-c3b2-4e2e-b6a0-ae17f95b61bd",
   "metadata": {},
   "source": [
    "$\\color{blue}{\\text{different types}}$ $\\color{black}{\\text{behave}}$ $\\color{blue}{\\text{differently}}$ in Python."
   ]
  },
  {
   "cell_type": "markdown",
   "id": "e1e10bfa-a16b-4739-aafa-92d72f77c671",
   "metadata": {},
   "source": [
    "When you $\\color{blue}{\\text{sum two strings}}$, for example, you'll get $\\color{black}{\\text{different behavior}}$ than when you $\\color{blue}{\\text{sum two integers}}$ or $\\color{blue}{\\text{two booleans}}$."
   ]
  },
  {
   "cell_type": "code",
   "execution_count": 8,
   "id": "3480aae4-a331-4944-adca-f8c782d2c5d8",
   "metadata": {
    "tags": []
   },
   "outputs": [
    {
     "name": "stdout",
     "output_type": "stream",
     "text": [
      "<class 'int'>\n",
      "doublenum_months =  24\n",
      "doubleintro =  Hello! How are you?Hello! How are you?\n",
      "doubleis_good =  2\n"
     ]
    }
   ],
   "source": [
    "monthly_savings = 10\n",
    "num_months = 12\n",
    "intro = \"Hello! How are you?\"\n",
    "is_good = True\n",
    "\n",
    "# Calculate year_savings using monthly_savings and num_months\n",
    "year_savings = monthly_savings*num_months\n",
    "\n",
    "# Print the type of year_savings\n",
    "print(type(year_savings))\n",
    "\n",
    "# Assign sum of intro and intro to doublenum_months (numbers)\n",
    "doublenum_months = num_months + num_months\n",
    "\n",
    "# Print out doubleis_good\n",
    "print('doublenum_months = ', doublenum_months)\n",
    "\n",
    "# Assign sum of intro and intro to doubleintro (string)\n",
    "doubleintro = intro + intro\n",
    "\n",
    "# Print out doubleintro\n",
    "print('doubleintro = ', doubleintro)\n",
    "\n",
    "# Assign sum of intro and intro to doubleis_good (Boolean)\n",
    "doubleis_good = is_good + is_good\n",
    "\n",
    "# Print out doubleis_good\n",
    "print('doubleis_good = ', doubleis_good)"
   ]
  },
  {
   "cell_type": "markdown",
   "id": "338ed2d7-0f75-4ca7-aca0-17498e2bbee4",
   "metadata": {},
   "source": [
    "## Type conversion"
   ]
  },
  {
   "cell_type": "markdown",
   "id": "60d9c76d-5d2c-41f7-926b-710cdba316a2",
   "metadata": {},
   "source": [
    "Using the $\\color{blue}{\\text{+}}$ operator to paste together two strings can be very useful in building custom messages."
   ]
  },
  {
   "cell_type": "markdown",
   "id": "99176072-b209-4154-85d4-77d151bb2f35",
   "metadata": {},
   "source": [
    "Suppose, for example, that you've calculated your savings want to summarize the results in a string."
   ]
  },
  {
   "cell_type": "markdown",
   "id": "1a6485e3-1dd5-453e-9a5d-e51f2c94fdbc",
   "metadata": {},
   "source": [
    "To do this, you'll need to explicitly convert the types of your variables. More specifically, you'll need str(), to convert a value into a string. $\\color{blue}{\\text{str(savings)}}$, for example, will convert the integer $\\color{blue}{\\text{savings}}$ to a string."
   ]
  },
  {
   "cell_type": "markdown",
   "id": "4dec401b-4c0b-45f7-bd2f-7ec1a70f81fc",
   "metadata": {},
   "source": [
    "Similar functions such as $\\color{blue}{\\text{int()}}$, $\\color{blue}{\\text{float()}}$ and $\\color{blue}{\\text{bool()}}$."
   ]
  },
  {
   "cell_type": "code",
   "execution_count": 9,
   "id": "534bb4d1-a22c-4cde-9437-2ae8c70b4ff1",
   "metadata": {
    "tags": []
   },
   "outputs": [
    {
     "name": "stdout",
     "output_type": "stream",
     "text": [
      "I started with $100 and now have $150. Awesome!\n",
      "pi_float =  3.1415926 <class 'float'>\n"
     ]
    }
   ],
   "source": [
    "# Definition of savings and total_savings\n",
    "savings = 100\n",
    "total_savings = 150\n",
    "\n",
    "# Fix the printout\n",
    "print(\"I started with $\" + str(savings) + \" and now have $\" + str(total_savings) + \". Awesome!\")\n",
    "\n",
    "# Definition of pi_string\n",
    "pi_string = \"3.1415926\"\n",
    "\n",
    "# Convert pi_string into float: pi_float\n",
    "pi_float = float(pi_string)\n",
    "\n",
    "# print pi_float and type of pi_float\n",
    "print(\"pi_float = \", pi_float, type(pi_float))"
   ]
  },
  {
   "cell_type": "markdown",
   "id": "2468389e-b901-4287-9cca-75ec802392db",
   "metadata": {},
   "source": [
    "## Can Python handle everything?"
   ]
  },
  {
   "cell_type": "markdown",
   "id": "d61d1a96-bb4f-4339-9246-d0d7296038ce",
   "metadata": {},
   "source": [
    "Now that you know something more about combining different sources of information, have a look at the four Python expressions below. Which one of these will throw an error?"
   ]
  },
  {
   "cell_type": "markdown",
   "id": "f6fe0fb9-2cbf-405c-9ec3-0735ddf7fe98",
   "metadata": {},
   "source": [
    "a. \"I can add integers, like \" + str(5) + \" to strings.\"\n",
    "b. \"I said \" + (\"Hey \" * 2) + \"Hey!\"\n",
    "c. $\\color{blue}{\\text{\"The correct answer to this multiple choice exercise is answer number \" + 2}}$\n",
    "d. True + False"
   ]
  },
  {
   "cell_type": "markdown",
   "id": "2ad26f6a-91c4-4f2c-b01c-06485d536242",
   "metadata": {},
   "source": [
    "$\\color{green}{\\text{Because you're not converting 2 to a string with str(), this will give an error.}}$"
   ]
  },
  {
   "cell_type": "markdown",
   "id": "740ba2bc-14a8-4f51-b83a-b39b7254a6e5",
   "metadata": {
    "jp-MarkdownHeadingCollapsed": true,
    "tags": []
   },
   "source": [
    "# Python Lists"
   ]
  },
  {
   "cell_type": "markdown",
   "id": "65f27e2e-75bb-49a9-aeef-5e4b4f2a55e6",
   "metadata": {},
   "source": [
    "Learn to $\\color{green}{\\text{store}}$, $\\color{green}{\\text{access}}$, and $\\color{green}{\\text{manipulate data}}$ in $\\color{black}{\\text{lists}}$: the first step toward efficiently working with huge amounts of data."
   ]
  },
  {
   "cell_type": "markdown",
   "id": "f88dea6a-183f-4ce2-a1d1-872c97a9fc2a",
   "metadata": {},
   "source": [
    "## Create a list"
   ]
  },
  {
   "cell_type": "markdown",
   "id": "d7976545-63e1-4a27-bb03-2b0fb74cc99d",
   "metadata": {},
   "source": [
    "$\\color{red}{\\text{As opposed}}$ to int, bool etc., a $\\color{blue}{\\text{list}}$ is a $\\color{black}{\\text{compound data type}}$; you can $\\color{blue}{\\text{group values}}$ together:"
   ]
  },
  {
   "cell_type": "code",
   "execution_count": 10,
   "id": "56150f0d-232b-4871-b1ed-e758ed32e373",
   "metadata": {
    "tags": []
   },
   "outputs": [
    {
     "name": "stdout",
     "output_type": "stream",
     "text": [
      "is\n",
      "nice\n",
      "['my', 'list', 'is', 'nice']\n"
     ]
    }
   ],
   "source": [
    "a = \"is\"\n",
    "b = \"nice\"\n",
    "my_list = [\"my\", \"list\", a, b]\n",
    "\n",
    "print(a)\n",
    "print(b)\n",
    "print(my_list)"
   ]
  },
  {
   "cell_type": "markdown",
   "id": "0ebb74ec-1484-48c5-8cb7-1fde27cc4401",
   "metadata": {},
   "source": [
    "After measuring the height of your family, you decide $\\color{blue}{\\text{to collect}}$ some information on $\\color{blue}{\\text{the house}}$  you're living in. The areas of the different parts of your house are stored in separate variables for now, as shown in the script."
   ]
  },
  {
   "cell_type": "code",
   "execution_count": 11,
   "id": "641286ec-61a5-41a3-b09d-44a48a5fddbe",
   "metadata": {
    "tags": []
   },
   "outputs": [
    {
     "name": "stdout",
     "output_type": "stream",
     "text": [
      "[11.25, 18.0, 20.0, 10.75, 9.5]\n"
     ]
    }
   ],
   "source": [
    "# area variables (in square meters)\n",
    "hall = 11.25\n",
    "kit = 18.0\n",
    "liv = 20.0\n",
    "bed = 10.75\n",
    "bath = 9.50\n",
    "\n",
    "# Create list areas\n",
    "areas = [hall, kit, liv, bed, bath]\n",
    "\n",
    "# Print areas\n",
    "print(areas)"
   ]
  },
  {
   "cell_type": "markdown",
   "id": "d16389b7-6a60-48f1-a85f-66d51f78445f",
   "metadata": {},
   "source": [
    "## Create list with different types"
   ]
  },
  {
   "cell_type": "markdown",
   "id": "4f82df6f-90de-48dc-a338-622c0f2e4739",
   "metadata": {},
   "source": [
    "A list can contain any Python type. Although it's not really common, a list can also contain a mix of Python types including strings, floats, booleans, etc."
   ]
  },
  {
   "cell_type": "markdown",
   "id": "cf279588-4166-4b53-b51b-4b4a1bdb2aec",
   "metadata": {},
   "source": [
    "The printout of the previous exercise wasn't really satisfying. It's just a list of numbers representing the areas, but you can't tell which area corresponds to which part of your house."
   ]
  },
  {
   "cell_type": "markdown",
   "id": "1488e047-fe65-4cad-a709-3c3e47723f16",
   "metadata": {},
   "source": [
    "The code in the editor is the start of a solution. For some of the areas, the name of the corresponding room is already placed in front. Pay attention here! $\\color{green}{\\text{\"bathroom\"}}$ is a $\\color{blue}{\\text{string}}$, while $\\color{green}{\\text{bath}}$ is a variable that represents the $\\color{blue}{\\text{float 9.50}}$ you specified earlier."
   ]
  },
  {
   "cell_type": "code",
   "execution_count": 12,
   "id": "acd40bd0-19d6-4b9e-903e-27b7a69eae79",
   "metadata": {
    "tags": []
   },
   "outputs": [
    {
     "name": "stdout",
     "output_type": "stream",
     "text": [
      "['hallway', 11.25, 'kitchen', 18.0, 'living room', 20.0, 'bedroom', 10.75, 'bathroom', 9.5]\n"
     ]
    }
   ],
   "source": [
    "# area variables (in square meters)\n",
    "hall = 11.25\n",
    "kit = 18.0\n",
    "liv = 20.0\n",
    "bed = 10.75\n",
    "bath = 9.50\n",
    "\n",
    "# Adapt list areas\n",
    "areas = [\"hallway\", hall, \"kitchen\", kit, \"living room\", liv, \"bedroom\", bed, \"bathroom\", bath]\n",
    "\n",
    "# Print areas\n",
    "print(areas)"
   ]
  },
  {
   "cell_type": "markdown",
   "id": "60fc2fae-fc9d-4060-b11a-3f8520a17b29",
   "metadata": {},
   "source": [
    "## Select the valid list"
   ]
  },
  {
   "cell_type": "markdown",
   "id": "bbdfabd3-53c0-4af2-a5e2-963bdb86ca54",
   "metadata": {},
   "source": [
    "A list can contain any Python type. But a list itself is also a Python type. That means that a list can also contain a list! Python is getting funkier by the minute, but fear not, just remember the list syntax:"
   ]
  },
  {
   "cell_type": "markdown",
   "id": "a03c7f37-5411-4a31-95b1-c2934f855465",
   "metadata": {},
   "source": [
    "my_list = [el1, el2, el3]"
   ]
  },
  {
   "cell_type": "markdown",
   "id": "5b98e6d4-e2e0-45eb-a809-e41060e83b06",
   "metadata": {},
   "source": [
    "Can you tell which ones of the following lines of Python code are valid ways to build a list?"
   ]
  },
  {
   "cell_type": "markdown",
   "id": "309c0c58-b044-41d0-950f-8057440e518a",
   "metadata": {},
   "source": [
    "A. [1, 3, 4, 2]\\\n",
    "B. [[1, 2, 3], [4, 5, 7]]\\\n",
    "C. [1 + 2, \"a\" * 5, 3]"
   ]
  },
  {
   "cell_type": "markdown",
   "id": "76e04ba7-f21a-44b4-ad35-8fcc06d007f4",
   "metadata": {},
   "source": [
    "$\\color{black}{\\text{Possible Answer:}}$\\\n",
    "- $\\color{green}{\\text{A, B, and C}}$\\\n",
    "- B\\\n",
    "- B and C\\\n",
    "- C"
   ]
  },
  {
   "cell_type": "markdown",
   "id": "7e0fd972-a49f-4c42-a96c-3eb3422f5643",
   "metadata": {
    "tags": []
   },
   "source": [
    "## List of lists"
   ]
  },
  {
   "cell_type": "markdown",
   "id": "ae960dca-9362-40e5-af41-da283597dc3a",
   "metadata": {},
   "source": [
    "As a data scientist, you'll often be dealing with a lot of data, and it will make sense to group some of this data."
   ]
  },
  {
   "cell_type": "markdown",
   "id": "cc0869e5-27c8-4d4a-8d0e-0c251974b5b2",
   "metadata": {},
   "source": [
    "Instead of creating a flat list containing strings and floats, representing the names and areas of the rooms in your house, you can create a list of lists. The script in the editor can already give you an idea."
   ]
  },
  {
   "cell_type": "markdown",
   "id": "65c1a017-93ce-40c1-8d34-a7639b0523e8",
   "metadata": {},
   "source": [
    "Don't get confused here: $\\color{green}{\\text{\"hallway\"}}$ is a $\\color{blue}{\\text{string}}$, while $\\color{green}{\\text{hall}}$ is a variable that represents the $\\color{blue}{\\text{float 11.25}}$ you specified earlier."
   ]
  },
  {
   "cell_type": "code",
   "execution_count": 13,
   "id": "5aedf9fe-7671-459e-80e7-748106b7b496",
   "metadata": {
    "tags": []
   },
   "outputs": [
    {
     "name": "stdout",
     "output_type": "stream",
     "text": [
      "[['hallway', 11.25], ['kitchen', 18.0], ['living room', 20.0], ['bedroom', 10.75], ['bathroom', 9.5]]\n",
      "<class 'list'>\n"
     ]
    }
   ],
   "source": [
    "# area variables (in square meters)\n",
    "hall = 11.25\n",
    "kit = 18.0\n",
    "liv = 20.0\n",
    "bed = 10.75\n",
    "bath = 9.50\n",
    "\n",
    "# house information as list of lists\n",
    "house = [[\"hallway\", hall],\n",
    "         [\"kitchen\", kit],\n",
    "         [\"living room\", liv],\n",
    "         [\"bedroom\", bed],\n",
    "         [\"bathroom\", bath]]\n",
    "\n",
    "# Print out house\n",
    "print(house)\n",
    "\n",
    "# Print out the type of house\n",
    "print(type(house))"
   ]
  },
  {
   "cell_type": "markdown",
   "id": "61c44dda-e133-4106-825d-8af19a80200e",
   "metadata": {},
   "source": [
    "## Subset and conquer"
   ]
  },
  {
   "cell_type": "markdown",
   "id": "6a788e40-d8e9-4819-a455-936515d50784",
   "metadata": {},
   "source": [
    "Subsetting Python lists is a piece of cake. Take the code sample below, which creates a list $\\color{blue}{\\text{x}}$ and then $\\color{blue}{\\text{selects \"b\"}}$ from it. Remember that this is the $\\color{green}{\\text{second element}}$, so it has $\\color{green}{\\text{index 1}}$. You can also use negative indexing."
   ]
  },
  {
   "cell_type": "code",
   "execution_count": 14,
   "id": "77be5a1d-7bd9-4f09-8a51-332b3fa03732",
   "metadata": {
    "tags": []
   },
   "outputs": [
    {
     "name": "stdout",
     "output_type": "stream",
     "text": [
      "b b\n"
     ]
    }
   ],
   "source": [
    "x = [\"a\", \"b\", \"c\", \"d\"]\n",
    "print(x[1], x[-3]) # same result!"
   ]
  },
  {
   "cell_type": "markdown",
   "id": "bbfc567c-15c2-4c67-9131-8b9b02fd827e",
   "metadata": {},
   "source": [
    "Remember the $\\color{green}{\\text{areas}}$ list from before, containing both strings and floats? Its definition is already in the script."
   ]
  },
  {
   "cell_type": "code",
   "execution_count": 15,
   "id": "c98a5996-3a2e-45d7-9190-7ff28f119ae4",
   "metadata": {
    "tags": []
   },
   "outputs": [
    {
     "name": "stdout",
     "output_type": "stream",
     "text": [
      "11.25\n",
      "9.5\n",
      "20.0\n"
     ]
    }
   ],
   "source": [
    "# Create the areas list\n",
    "areas = [\"hallway\", 11.25, \"kitchen\", 18.0, \"living room\", 20.0, \"bedroom\", 10.75, \"bathroom\", 9.50]\n",
    "\n",
    "# Print out second element from areas\n",
    "print(areas[1])\n",
    "\n",
    "# Print out last element from areas\n",
    "print(areas[-1])\n",
    "\n",
    "# Print out the area of the living room\n",
    "print(areas[5])"
   ]
  },
  {
   "cell_type": "markdown",
   "id": "8ac59cda-e563-4acc-b20e-ab6b0eab281f",
   "metadata": {},
   "source": [
    "## Subset and calculate"
   ]
  },
  {
   "cell_type": "markdown",
   "id": "939c987a-1621-4d31-a010-532106105bf5",
   "metadata": {},
   "source": [
    "After you've extracted values from a list, you can use them to perform additional calculations. Take this example, where the second and fourth element of a list $\\color{blue}{\\text{x}}$ are extracted. The strings that result are pasted together using the $\\color{blue}{\\text{+}}$ operator:"
   ]
  },
  {
   "cell_type": "code",
   "execution_count": 16,
   "id": "26c610a6-1cfb-4f7f-82c8-af2c48415338",
   "metadata": {
    "tags": []
   },
   "outputs": [
    {
     "name": "stdout",
     "output_type": "stream",
     "text": [
      "bd\n"
     ]
    }
   ],
   "source": [
    "x = [\"a\", \"b\", \"c\", \"d\"]\n",
    "print(x[1] + x[3])"
   ]
  },
  {
   "cell_type": "code",
   "execution_count": 17,
   "id": "a433ef7c-55f0-43f6-909b-90a2c85862ce",
   "metadata": {
    "tags": []
   },
   "outputs": [
    {
     "name": "stdout",
     "output_type": "stream",
     "text": [
      "eat_sleep_area =  areas kitchen + areas bedroom =  18.0  +  10.75  =  28.75\n"
     ]
    }
   ],
   "source": [
    "# Create the areas list\n",
    "areas = [\"hallway\", 11.25, \"kitchen\", 18.0, \"living room\", 20.0, \"bedroom\", 10.75, \"bathroom\", 9.50]\n",
    "\n",
    "# Sum of kitchen and bedroom area: eat_sleep_area\n",
    "eat_sleep_area = areas[3] + areas[7]\n",
    "\n",
    "# Print the variable eat_sleep_area\n",
    "print(\"eat_sleep_area = \", \"areas kitchen + areas bedroom = \", areas[3], \" + \", areas[7], \" = \", eat_sleep_area)"
   ]
  },
  {
   "cell_type": "markdown",
   "id": "26c97b49-e2c5-4948-a367-7cc9be6c86a5",
   "metadata": {},
   "source": [
    "## Slicing and dicing"
   ]
  },
  {
   "cell_type": "markdown",
   "id": "6ae9eb72-0cfa-4862-a352-efa891923b7f",
   "metadata": {},
   "source": [
    "Selecting single values from a list is just one part of the story. It's also possible to slice your list, which means selecting multiple elements from your list. Use the following syntax:"
   ]
  },
  {
   "cell_type": "markdown",
   "id": "13cc9815-d5a3-413d-a1d8-48d8f06f878f",
   "metadata": {
    "tags": []
   },
   "source": [
    "my_list[$\\color{green}{\\text{start}}$:$\\color{red}{\\text{end}}$]"
   ]
  },
  {
   "cell_type": "markdown",
   "id": "6bc60b2c-8ce4-4796-82f1-d82aaeae7dd4",
   "metadata": {},
   "source": [
    "The $\\color{green}{\\text{start}}$ index will be $\\color{black}{\\text{included}}$, while the $\\color{red}{\\text{end}}$ index is $\\color{black}{\\text{not}}$."
   ]
  },
  {
   "cell_type": "markdown",
   "id": "6b44a911-7008-43fd-a856-0f979b59bc5a",
   "metadata": {},
   "source": [
    "The code sample below shows an example. A list with $\\color{black}{\\text{\"b\"}}$ and $\\color{black}{\\text{\"c\"}}$, corresponding to indexes 1 and 2, are selected from a list $\\color{blue}{\\text{x}}$:"
   ]
  },
  {
   "cell_type": "code",
   "execution_count": 18,
   "id": "e4f54cb4-4bad-4333-b8b0-fceba759716d",
   "metadata": {
    "tags": []
   },
   "outputs": [
    {
     "data": {
      "text/plain": [
       "['b', 'c']"
      ]
     },
     "execution_count": 18,
     "metadata": {},
     "output_type": "execute_result"
    }
   ],
   "source": [
    "x = [\"a\", \"b\", \"c\", \"d\"]\n",
    "x[1:3]"
   ]
  },
  {
   "cell_type": "markdown",
   "id": "479c5505-3e92-4b8e-ae63-172212fc56a1",
   "metadata": {},
   "source": [
    "The elements with index $\\color{green}{\\text{1 and 2}}$ are $\\color{black}{\\text{included}}$, while the element with index $\\color{red}{\\text{3}}$ is $\\color{black}{\\text{not}}$."
   ]
  },
  {
   "cell_type": "code",
   "execution_count": 19,
   "id": "da25f17c-9ad0-4036-9e9e-43ab689cb053",
   "metadata": {
    "tags": []
   },
   "outputs": [
    {
     "name": "stdout",
     "output_type": "stream",
     "text": [
      "downstairs \t=  ['hallway', 11.25, 'kitchen', 18.0, 'living room', 20.0] \n",
      "upstairs \t=  ['bedroom', 10.75, 'bathroom', 9.5]\n"
     ]
    }
   ],
   "source": [
    "# Create the areas list\n",
    "areas = [\"hallway\", 11.25, \"kitchen\", 18.0, \"living room\", 20.0, \"bedroom\", 10.75, \"bathroom\", 9.50]\n",
    "\n",
    "# Use slicing to create downstairs\n",
    "downstairs = areas[0:6]\n",
    "\n",
    "# Use slicing to create upstairs\n",
    "upstairs = areas[-4:]\n",
    "\n",
    "# Print out downstairs and upstairs\n",
    "print(\"downstairs \\t= \", downstairs, \"\\nupstairs \\t= \", upstairs)"
   ]
  },
  {
   "cell_type": "markdown",
   "id": "d93c6f7f-e8bc-4672-8dca-7eef849e9fe2",
   "metadata": {},
   "source": [
    "## Slicing and dicing (2)"
   ]
  },
  {
   "cell_type": "markdown",
   "id": "b53f5a27-6e7e-436d-a861-1bf53a106bc8",
   "metadata": {},
   "source": [
    "the syntax where you specify both where to begin and end the slice of your list:"
   ]
  },
  {
   "cell_type": "markdown",
   "id": "0b078b93-4f90-4f43-9f83-1add7786daad",
   "metadata": {
    "tags": []
   },
   "source": [
    "my_list[$\\color{green}{\\text{begin}}$:$\\color{red}{\\text{end}}$]"
   ]
  },
  {
   "cell_type": "markdown",
   "id": "e9000c07-dcd9-4b4a-9dbe-06b2a3dbe92c",
   "metadata": {},
   "source": [
    "However, it's also possible not to specify these indexes. If you don't specify the $\\color{green}{\\text{begin}}$ index, Python figures out that you want to start your slice at the beginning of your list. If you don't specify the $\\color{red}{\\text{end}}$ index, the slice will go all the way to the last element of your list."
   ]
  },
  {
   "cell_type": "code",
   "execution_count": 20,
   "id": "12ebff41-9ad8-4f10-a66b-7c1e876c8102",
   "metadata": {
    "tags": []
   },
   "outputs": [
    {
     "name": "stdout",
     "output_type": "stream",
     "text": [
      "x[:2] \t= ['a', 'b'] \n",
      "x[2:] \t= ['c', 'd'] \n",
      "x[:] \t= ['a', 'b', 'c', 'd']\n"
     ]
    }
   ],
   "source": [
    "x = [\"a\", \"b\", \"c\", \"d\"]\n",
    "print(\"x[:2] \\t=\", x[:2], \"\\nx[2:] \\t=\", x[2:], \"\\nx[:] \\t=\",  x[:])"
   ]
  },
  {
   "cell_type": "markdown",
   "id": "c3a2660b-c7a8-4b26-9f40-b12a35ee15ff",
   "metadata": {},
   "source": [
    "Create $\\color{blue}{\\text{downstairs}}$ again, as the $\\color{red}{\\text{first 6 elements}}$ of areas. This time, simplify the slicing by omitting $\\color{black}{\\text{the begin index.}}$"
   ]
  },
  {
   "cell_type": "code",
   "execution_count": 21,
   "id": "4d067ea6-dd36-454e-afcc-a30f53f531a0",
   "metadata": {
    "tags": []
   },
   "outputs": [
    {
     "name": "stdout",
     "output_type": "stream",
     "text": [
      "downstairs \t=  ['hallway', 11.25, 'kitchen', 18.0, 'living room', 20.0]\n"
     ]
    }
   ],
   "source": [
    "# Create the areas list\n",
    "areas = [\"hallway\", 11.25, \"kitchen\", 18.0, \"living room\", 20.0, \"bedroom\", 10.75, \"bathroom\", 9.50]\n",
    "\n",
    "# Alternative slicing to create downstairs with first 6 elements of areas\n",
    "downstairs = areas[:6]\n",
    "\n",
    "# print slicing to create downstairs with first 6 elements of areas\n",
    "print(\"downstairs \\t= \", downstairs)"
   ]
  },
  {
   "cell_type": "markdown",
   "id": "72eb10ca-c5be-43d0-a336-bffe22d24c07",
   "metadata": {},
   "source": [
    "Create $\\color{blue}{\\text{upstairs}}$ again, as the $\\color{red}{\\text{last 4 elements}}$ of areas. This time, simplify the slicing by omitting $\\color{black}{\\text{the end index.}}$"
   ]
  },
  {
   "cell_type": "code",
   "execution_count": 22,
   "id": "0d495e41-7f37-4afe-ab7b-abcd18d91ef7",
   "metadata": {
    "tags": []
   },
   "outputs": [
    {
     "name": "stdout",
     "output_type": "stream",
     "text": [
      "upstairs \t=  ['bedroom', 10.75, 'bathroom', 9.5]\n"
     ]
    }
   ],
   "source": [
    "# Create the areas list\n",
    "areas = [\"hallway\", 11.25, \"kitchen\", 18.0, \"living room\", 20.0, \"bedroom\", 10.75, \"bathroom\", 9.50]\n",
    "\n",
    "# Alternative slicing to create upstairs with last 4 elements\n",
    "upstairs = areas[-4:]\n",
    "\n",
    "# print slicing to create upstairs with last 4 elements\n",
    "print(\"upstairs \\t= \", upstairs)"
   ]
  },
  {
   "cell_type": "markdown",
   "id": "b845b426-4fd6-435e-a5a4-5387234f57e3",
   "metadata": {},
   "source": [
    "## Subsetting lists of lists"
   ]
  },
  {
   "cell_type": "markdown",
   "id": "0afef319-66fa-4721-a32c-c5803b4d4e6d",
   "metadata": {},
   "source": [
    "You saw before that a Python list can contain practically anything; even other lists! To subset lists of lists, you can use the same technique as before: square brackets."
   ]
  },
  {
   "cell_type": "code",
   "execution_count": 23,
   "id": "b909b05b-1690-41cd-a159-308c56d90641",
   "metadata": {
    "tags": []
   },
   "outputs": [
    {
     "name": "stdout",
     "output_type": "stream",
     "text": [
      "x[2][0] \t=  g \n",
      "x[2][:2] \t= ['g', 'h']\n"
     ]
    }
   ],
   "source": [
    "x = [[\"a\", \"b\", \"c\"],\n",
    "     [\"d\", \"e\", \"f\"],\n",
    "     [\"g\", \"h\", \"i\"]]\n",
    "print(\"x[2][0] \\t= \", x[2][0], \"\\nx[2][:2] \\t=\" ,x[2][:2])"
   ]
  },
  {
   "cell_type": "markdown",
   "id": "2e9525ba-afce-440c-a836-3413adfaf601",
   "metadata": {},
   "source": [
    "$\\color{blue}{\\text{x[2]}}$ results in a list, that you can $\\color{red}{\\text{subset again}}$ by adding $\\color{black}{\\text{additional}}$ square brackets."
   ]
  },
  {
   "cell_type": "markdown",
   "id": "bbfe1d95-c57a-4c28-90a3-ce799517db33",
   "metadata": {},
   "source": [
    "What will $\\color{blue}{\\text{house[-1][1]}}$ return? $\\color{blue}{\\text{house}}$, the list of lists that you created before, is already defined for you in the workspace."
   ]
  },
  {
   "cell_type": "code",
   "execution_count": 24,
   "id": "f4cec973-5f5e-4ffd-aa83-57dfde34c2f8",
   "metadata": {
    "tags": []
   },
   "outputs": [
    {
     "name": "stdout",
     "output_type": "stream",
     "text": [
      "house[-1][0] =  bathroom \n",
      "house[-1][1] =  9.5\n"
     ]
    }
   ],
   "source": [
    "# house information as list of lists\n",
    "house = [[\"hallway\", hall],\n",
    "         [\"kitchen\", kit],\n",
    "         [\"living room\", liv],\n",
    "         [\"bedroom\", bed],\n",
    "         [\"bathroom\", bath]]\n",
    "print(\"house[-1][0] = \", house[-1][0], \"\\nhouse[-1][1] = \", house[-1][1])"
   ]
  },
  {
   "cell_type": "markdown",
   "id": "e2e9de48-917f-46b7-840c-88c13e75b793",
   "metadata": {},
   "source": [
    "$\\color{black}{\\text{Possible answers:}}$ \\\n",
    "- A float: the kitchen area \\\n",
    "- A string: \"kitchen\" \\\n",
    "- $\\color{blue}{\\text{A float: the bathroom area}}$ \\\n",
    "- A string: \"bathroom\""
   ]
  },
  {
   "cell_type": "markdown",
   "id": "ca084828-2129-4056-a5dd-a6e6cca9eaae",
   "metadata": {},
   "source": [
    "## Replace list elements"
   ]
  },
  {
   "cell_type": "markdown",
   "id": "35ab49c4-ebc1-415b-a84e-7f88b0bbb227",
   "metadata": {},
   "source": [
    "Replacing list elements is pretty easy. Simply subset the list and assign new values to the subset. You can select single elements or you can change entire list slices at once."
   ]
  },
  {
   "cell_type": "markdown",
   "id": "e4e5e783-19a5-4a01-a3b4-4fcf431c2c8c",
   "metadata": {},
   "source": [
    "Can you tell $\\color{black}{\\text{what's}}$ happening and $\\color{black}{\\text{why}}$?"
   ]
  },
  {
   "cell_type": "code",
   "execution_count": 25,
   "id": "966735f3-a55c-450c-b869-4c3eb5bde110",
   "metadata": {},
   "outputs": [
    {
     "data": {
      "text/plain": [
       "['a', 'r', 'c', 'd']"
      ]
     },
     "execution_count": 25,
     "metadata": {},
     "output_type": "execute_result"
    }
   ],
   "source": [
    "x = [\"a\", \"b\", \"c\", \"d\"]\n",
    "x[1] = \"r\"\n",
    "x"
   ]
  },
  {
   "cell_type": "code",
   "execution_count": 26,
   "id": "ac6335e8-b14e-48c3-84f1-69880019c040",
   "metadata": {
    "tags": []
   },
   "outputs": [
    {
     "data": {
      "text/plain": [
       "['a', 'r', 's', 't']"
      ]
     },
     "execution_count": 26,
     "metadata": {},
     "output_type": "execute_result"
    }
   ],
   "source": [
    "x = [\"a\", \"b\", \"c\", \"d\"]\n",
    "x[1] = \"r\"\n",
    "x[2:] = [\"s\", \"t\"]\n",
    "x"
   ]
  },
  {
   "cell_type": "markdown",
   "id": "84b6124e-3a51-4ad5-af20-509bf8282d1d",
   "metadata": {},
   "source": [
    "For this and the following exercises, you'll continue working on the $\\color{blue}{\\text{areas}}$ list that contains the names and areas of different rooms in a house."
   ]
  },
  {
   "cell_type": "code",
   "execution_count": 27,
   "id": "2cfe4904-9b7c-425f-b416-bf4f64623693",
   "metadata": {
    "tags": []
   },
   "outputs": [
    {
     "name": "stdout",
     "output_type": "stream",
     "text": [
      "areas \t\t=  ['hallway', 11.25, 'kitchen', 18.0, 'chill zone', 20.0, 'bedroom', 10.75, 'bathroom', 10.5] \n",
      "areas[4] \t=  chill zone\n"
     ]
    }
   ],
   "source": [
    "# Create the areas list\n",
    "areas = [\"hallway\", 11.25, \"kitchen\", 18.0, \"living room\", 20.0, \"bedroom\", 10.75, \"bathroom\", 9.50]\n",
    "\n",
    "# Correct the bathroom area\n",
    "areas[-1] = 10.50\n",
    "\n",
    "# Change \"living room\" to \"chill zone\"\n",
    "areas[4] = \"chill zone\"\n",
    "\n",
    "# print areas and areas[4]\n",
    "print(\"areas \\t\\t= \" , areas, \"\\nareas[4] \\t= \" , areas[4])"
   ]
  },
  {
   "cell_type": "markdown",
   "id": "b6942844-c7a5-4e19-b96b-93fd57b94797",
   "metadata": {},
   "source": [
    "## Extend a list"
   ]
  },
  {
   "cell_type": "markdown",
   "id": "76a14612-d404-46de-a8cb-bb1c4b2887e1",
   "metadata": {},
   "source": [
    "If you can change elements in a list, you sure want to be able to add elements to it, right? You can use the $\\color{blue}{\\text{+}}$ operator:"
   ]
  },
  {
   "cell_type": "code",
   "execution_count": 28,
   "id": "7029a529-2c38-4148-a350-970cabeb1fe0",
   "metadata": {},
   "outputs": [
    {
     "data": {
      "text/plain": [
       "['a', 'b', 'c', 'd', 'e', 'f']"
      ]
     },
     "execution_count": 28,
     "metadata": {},
     "output_type": "execute_result"
    }
   ],
   "source": [
    "x = [\"a\", \"b\", \"c\", \"d\"]\n",
    "y = x + [\"e\", \"f\"]\n",
    "y"
   ]
  },
  {
   "cell_type": "markdown",
   "id": "1837cde9-dbdb-4838-8f74-b8e66196aba1",
   "metadata": {},
   "source": [
    "You just won the lottery, awesome! You decide to build a poolhouse and a garage. Can you add the information to the $\\color{blue}{\\text{areas}}$ list?"
   ]
  },
  {
   "cell_type": "markdown",
   "id": "3a292dfc-e740-475f-8173-e4704b605be1",
   "metadata": {},
   "source": [
    "- Use the $\\color{blue}{\\text{+}}$ operator to paste the list $\\color{green}{\\text{[\"poolhouse\", 24.5]}}$ to the end of the $\\color{blue}{\\text{areas}}$ list. Store the resulting list as $\\color{green}{\\text{areas\\_1}}$.\n",
    "- Further extend $\\color{green}{\\text{areas\\_1}}$ by adding data on your garage. Add the string $\\color{green}{\\text{\"garage\"}}$ and float $\\color{green}{\\text{15.45}}$. Name the resulting list $\\color{green}{\\text{areas\\_2}}$."
   ]
  },
  {
   "cell_type": "code",
   "execution_count": 29,
   "id": "2272d9a7-107c-48a5-bd87-b31824facdbf",
   "metadata": {
    "tags": []
   },
   "outputs": [
    {
     "name": "stdout",
     "output_type": "stream",
     "text": [
      "areas_1 \t=  ['hallway', 11.25, 'kitchen', 18.0, 'chill zone', 20.0, 'bedroom', 10.75, 'bathroom', 10.5, 'poolhouse', 24.5] \n",
      "areas_2 \t=  ['hallway', 11.25, 'kitchen', 18.0, 'chill zone', 20.0, 'bedroom', 10.75, 'bathroom', 10.5, 'poolhouse', 24.5, 'garage', 15.45]\n"
     ]
    }
   ],
   "source": [
    "# Create the areas list and make some changes\n",
    "areas = [\"hallway\", 11.25, \"kitchen\", 18.0, \"chill zone\", 20.0,\n",
    "         \"bedroom\", 10.75, \"bathroom\", 10.50]\n",
    "\n",
    "# Add poolhouse data to areas, new list is areas_1\n",
    "areas_1 = areas + [\"poolhouse\", 24.5]\n",
    "\n",
    "# Add garage data to areas_1, new list is areas_2\n",
    "areas_2 = areas_1 + [\"garage\", 15.45]\n",
    "\n",
    "# print areas_1 and areas_2\n",
    "print(\"areas_1 \\t= \", areas_1,\"\\nareas_2 \\t= \", areas_2)"
   ]
  },
  {
   "cell_type": "markdown",
   "id": "32a5603c-7f72-4ebc-bb60-2a744b259e50",
   "metadata": {},
   "source": [
    "## Delete list elements"
   ]
  },
  {
   "cell_type": "markdown",
   "id": "1f403592-cc95-4ad6-8057-7dfcc64aab7b",
   "metadata": {},
   "source": [
    "Finally, you can also remove elements from your list. You can do this with the $\\color{blue}{\\text{del}}$ statement:"
   ]
  },
  {
   "cell_type": "code",
   "execution_count": 30,
   "id": "aca96f0e-0ed6-49f3-a105-840fbf66271a",
   "metadata": {},
   "outputs": [
    {
     "data": {
      "text/plain": [
       "['a', 'c', 'd']"
      ]
     },
     "execution_count": 30,
     "metadata": {},
     "output_type": "execute_result"
    }
   ],
   "source": [
    "x = [\"a\", \"b\", \"c\", \"d\"]\n",
    "del(x[1])\n",
    "x"
   ]
  },
  {
   "cell_type": "markdown",
   "id": "5eb9cbf0-b233-4dce-8fa4-0305f9134611",
   "metadata": {},
   "source": [
    "Pay attention here: as soon as you remove an element from a list, the indexes of the elements that come after the deleted element all change!"
   ]
  },
  {
   "cell_type": "markdown",
   "id": "9c8de1cf-41a1-4133-85ca-b5cf157a36ba",
   "metadata": {},
   "source": [
    "The updated and extended version of $\\color{blue}{\\text{areas}}$ that you've built in the previous exercises is coded below."
   ]
  },
  {
   "cell_type": "code",
   "execution_count": 31,
   "id": "83b957e9-1312-4de9-83a6-0e06b4021baa",
   "metadata": {},
   "outputs": [],
   "source": [
    "areas = [\"hallway\", 11.25, \"kitchen\", 18.0,\n",
    "        \"chill zone\", 20.0, \"bedroom\", 10.75,\n",
    "         \"bathroom\", 10.50, \"poolhouse\", 24.5,\n",
    "         \"garage\", 15.45]"
   ]
  },
  {
   "cell_type": "markdown",
   "id": "55f6427f-fd38-4b97-86f4-de3383584aee",
   "metadata": {},
   "source": [
    "There was a mistake! The amount you won with the lottery is not that big after all and it looks like the poolhouse isn't going to happen. You decide to remove the corresponding string and float from the $\\color{blue}{\\text{areas}}$ list."
   ]
  },
  {
   "cell_type": "markdown",
   "id": "58e59d77-2e29-4a00-93e8-63116bc8b518",
   "metadata": {},
   "source": [
    "The $\\color{green}{\\text{;}}$ sign is used to place commands on the same line. The following two code chunks are equivalent:"
   ]
  },
  {
   "cell_type": "markdown",
   "id": "367d03d0-9530-42de-932e-54fcea11fada",
   "metadata": {},
   "source": [
    "$\\color{blue}{\\text{Same line: }}$ \\\n",
    "- command1; command2\n",
    "\n",
    "$\\color{blue}{\\text{Separate lines:}}$ \\\n",
    "- command1 \\\n",
    "- command2"
   ]
  },
  {
   "cell_type": "markdown",
   "id": "cb368c32-ee4a-4643-85a8-bab1f0820cea",
   "metadata": {},
   "source": [
    "Which of the code chunks will do the job for us?"
   ]
  },
  {
   "cell_type": "markdown",
   "id": "cfec799a-182f-4fd0-b0fb-9b3ea0f265d6",
   "metadata": {},
   "source": [
    "$\\color{black}{\\text{Possible answers:}}$"
   ]
  },
  {
   "cell_type": "markdown",
   "id": "49ff41c7-6625-4de3-a48a-d281440551f6",
   "metadata": {},
   "source": [
    "- del(areas[10]); del(areas[11])\n",
    "- del(areas[10:11])\n",
    "- $\\color{blue}{\\text{del(areas[-4:-2])}}$\n",
    "- del(areas[-3]); del(areas[-4])"
   ]
  },
  {
   "cell_type": "code",
   "execution_count": 32,
   "id": "f0475050-da8e-459e-8631-6cbc76cdfdbd",
   "metadata": {
    "tags": []
   },
   "outputs": [
    {
     "name": "stdout",
     "output_type": "stream",
     "text": [
      "['hallway', 11.25, 'kitchen', 18.0, 'chill zone', 20.0, 'bedroom', 10.75, 'bathroom', 10.5, 24.5, 15.45]\n"
     ]
    }
   ],
   "source": [
    "areas = [\"hallway\", 11.25, \"kitchen\", 18.0,\n",
    "        \"chill zone\", 20.0, \"bedroom\", 10.75,\n",
    "         \"bathroom\", 10.50, \"poolhouse\", 24.5,\n",
    "         \"garage\", 15.45]\n",
    "\n",
    "# delete areas[10] or poolhouse;\n",
    "# delete areas[11] after areas[10] has been deleted or garage (index 12 become index 11)\n",
    "del(areas[10]); del(areas[11])\n",
    "\n",
    "# print del(areas[10]); del(areas[11]) -> String poolhouse and garage has been deleted.\n",
    "print(areas)"
   ]
  },
  {
   "cell_type": "code",
   "execution_count": 33,
   "id": "7884d79b-fbe2-477d-8f77-7114f83e6314",
   "metadata": {
    "tags": []
   },
   "outputs": [
    {
     "name": "stdout",
     "output_type": "stream",
     "text": [
      "['hallway', 11.25, 'kitchen', 18.0, 'chill zone', 20.0, 'bedroom', 10.75, 'bathroom', 10.5, 24.5, 'garage', 15.45]\n"
     ]
    }
   ],
   "source": [
    "areas = [\"hallway\", 11.25, \"kitchen\", 18.0,\n",
    "        \"chill zone\", 20.0, \"bedroom\", 10.75,\n",
    "         \"bathroom\", 10.50, \"poolhouse\", 24.5,\n",
    "         \"garage\", 15.45]\n",
    "\n",
    "# delete areas[10:11] or just area[10] or poolhouse;\n",
    "del(areas[10:11])\n",
    "\n",
    "# print del(areas[10:11]) -> String poolhouse has been deleted\n",
    "print(areas)"
   ]
  },
  {
   "cell_type": "code",
   "execution_count": 34,
   "id": "88bc5ba6-5990-4783-a3bb-650a5e4ae404",
   "metadata": {
    "tags": []
   },
   "outputs": [
    {
     "name": "stdout",
     "output_type": "stream",
     "text": [
      "['hallway', 11.25, 'kitchen', 18.0, 'chill zone', 20.0, 'bedroom', 10.75, 'bathroom', 10.5, 'garage', 15.45]\n"
     ]
    }
   ],
   "source": [
    "areas = [\"hallway\", 11.25, \"kitchen\", 18.0,\n",
    "        \"chill zone\", 20.0, \"bedroom\", 10.75,\n",
    "         \"bathroom\", 10.50, \"poolhouse\", 24.5,\n",
    "         \"garage\", 15.45]\n",
    "\n",
    "# delete areas[-4:-2] or just area[-4] and area[-3] or poolhouse and float 24.5;\n",
    "del(areas[-4:-2])\n",
    "\n",
    "# print del(areas[-4:-2]) -> String poolhouse and float 24.5 has been deleted\n",
    "print(areas)"
   ]
  },
  {
   "cell_type": "code",
   "execution_count": 35,
   "id": "0f188575-b015-4861-b43d-fad21453e391",
   "metadata": {
    "tags": []
   },
   "outputs": [
    {
     "name": "stdout",
     "output_type": "stream",
     "text": [
      "['hallway', 11.25, 'kitchen', 18.0, 'chill zone', 20.0, 'bedroom', 10.75, 'bathroom', 'poolhouse', 'garage', 15.45]\n"
     ]
    }
   ],
   "source": [
    "areas = [\"hallway\", 11.25, \"kitchen\", 18.0,\n",
    "        \"chill zone\", 20.0, \"bedroom\", 10.75,\n",
    "         \"bathroom\", 10.50, \"poolhouse\", 24.5,\n",
    "         \"garage\", 15.45]\n",
    "\n",
    "# delete areas[-3] or float 24.5;\n",
    "# delete areas[-4] after areas[-3] has been deleted or float 10.50 (index -5 become index -4)\n",
    "del(areas[-3]); del(areas[-4])\n",
    "\n",
    "# print del(del(areas[-3]); del(areas[-4])) -> float 24.5 and float 10.50 has been deleted\n",
    "print(areas)"
   ]
  },
  {
   "cell_type": "markdown",
   "id": "517523d2-bc53-42fc-9833-4b2d96109d08",
   "metadata": {},
   "source": [
    "## Inner workings of lists"
   ]
  },
  {
   "cell_type": "markdown",
   "id": "b87291dd-80e2-45ed-9922-33a8be091437",
   "metadata": {},
   "source": [
    "How Python lists work behind the scenes. In this exercise you'll get some hands-on experience with this."
   ]
  },
  {
   "cell_type": "markdown",
   "id": "06dd1f35-3394-4707-9c29-7a04880d9d12",
   "metadata": {},
   "source": [
    "The Python code in the script already creates a list with the name $\\color{blue}{\\text{areas}}$ and a copy named $\\color{green}{\\text{areas\\_copy}}$. Next, the first element in the $\\color{green}{\\text{areas\\_copy}}$ list is changed and the $\\color{blue}{\\text{areas}}$ list is printed out. If you hit Run Code you'll see that, although you've changed $\\color{green}{\\text{areas\\_copy}}$, the change also takes effect in the $\\color{blue}{\\text{areas}}$ list. That's because $\\color{blue}{\\text{areas}}$ and $\\color{green}{\\text{areas\\_copy}}$ point to the same list."
   ]
  },
  {
   "cell_type": "markdown",
   "id": "d9156d48-a5b3-499e-83d0-f9ca2846966f",
   "metadata": {},
   "source": [
    "If you want to prevent changes in $\\color{green}{\\text{areas\\_copy}}$ from also taking effect in $\\color{blue}{\\text{areas}}$, you'll have to do a more explicit copy of the $\\color{blue}{\\text{areas}}$ list. You can do this with $\\color{blue}{\\text{list()}}$ or by using $\\color{green}{\\text{[:]}}$."
   ]
  },
  {
   "cell_type": "code",
   "execution_count": 36,
   "id": "635f7f2c-5a4e-4212-9799-c89f256f313b",
   "metadata": {
    "tags": []
   },
   "outputs": [
    {
     "name": "stdout",
     "output_type": "stream",
     "text": [
      "[5.0, 18.0, 20.0, 10.75, 9.5]\n"
     ]
    }
   ],
   "source": [
    "# Create list areas\n",
    "areas = [11.25, 18.0, 20.0, 10.75, 9.50]\n",
    "\n",
    "# Create areas_copy\n",
    "areas_copy = areas\n",
    "\n",
    "# Change areas_copy\n",
    "areas_copy[0] = 5.0\n",
    "\n",
    "# Print areas. So, float 11.25 will be changed become float 5.0 in the areas variable\n",
    "print(areas)"
   ]
  },
  {
   "cell_type": "code",
   "execution_count": 37,
   "id": "bd07f46b-d22d-4c47-88dd-c0cebeda910b",
   "metadata": {
    "tags": []
   },
   "outputs": [
    {
     "name": "stdout",
     "output_type": "stream",
     "text": [
      "[11.25, 18.0, 20.0, 10.75, 9.5]\n"
     ]
    }
   ],
   "source": [
    "# Create list areas\n",
    "areas = [11.25, 18.0, 20.0, 10.75, 9.50]\n",
    "\n",
    "# Create areas_copy with areas[:] or list(areas)\n",
    "areas_copy = areas[:]\n",
    "\n",
    "# Change areas_copy\n",
    "areas_copy[0] = 5.0\n",
    "\n",
    "# Print areas. The areas aren't changed \n",
    "print(areas)"
   ]
  },
  {
   "cell_type": "markdown",
   "id": "ae1b8f62-0b27-46d7-98a3-a3469f6ae318",
   "metadata": {},
   "source": [
    "# Functions and Packages"
   ]
  },
  {
   "cell_type": "markdown",
   "id": "af8a9ddb-3513-4959-90d4-0dfbd7f42c1f",
   "metadata": {},
   "source": [
    "You'll learn how to use functions, methods, and packages to efficiently leverage the code that brilliant Python developers have written. The goal is to reduce the amount of code you need to solve challenging problems!"
   ]
  },
  {
   "cell_type": "markdown",
   "id": "9d3f5303-ba58-4146-8e62-f92d7be32aa9",
   "metadata": {},
   "source": [
    "## Familiar functions"
   ]
  },
  {
   "cell_type": "markdown",
   "id": "e1a944e6-fddf-458e-ad70-9ef7c30dce02",
   "metadata": {},
   "source": [
    "Out of the box, Python offers a bunch of built-in functions to make your life as a data scientist easier. You already know two such functions: $\\color{green}{\\text{print()}}$ and $\\color{green}{\\text{type()}}$. You've also used the functions $\\color{green}{\\text{str()}}$, $\\color{green}{\\text{int()}}$, $\\color{green}{\\text{bool()}}$ and $\\color{green}{\\text{float()}}$ to switch between data types. These are built-in functions as well."
   ]
  },
  {
   "cell_type": "markdown",
   "id": "c22468d2-bd48-46c6-949e-9744956aca15",
   "metadata": {},
   "source": [
    "Calling a function is easy. To get the type of $\\color{blue}{\\text{3.0}}$ and store the output as a new variable, $\\color{blue}{\\text{result}}$, you can use the following:"
   ]
  },
  {
   "cell_type": "code",
   "execution_count": 38,
   "id": "b87ef77f-38e2-4b45-a536-21b2c774ecc1",
   "metadata": {
    "tags": []
   },
   "outputs": [],
   "source": [
    "result = type(3.0)"
   ]
  },
  {
   "cell_type": "markdown",
   "id": "876e6694-b82f-4cc3-a550-bdc08600fd5f",
   "metadata": {},
   "source": [
    "The general recipe for calling functions and saving the result to a variable is thus:"
   ]
  },
  {
   "cell_type": "markdown",
   "id": "977d0233-8916-42de-8eca-925b43326cfb",
   "metadata": {
    "tags": []
   },
   "source": [
    "output = $\\color{green}{\\text{function\\_name}}$($\\color{blue}{\\text{input}}$)"
   ]
  },
  {
   "cell_type": "code",
   "execution_count": 39,
   "id": "059a8b31-e0ec-4b39-96ce-d4fe8b932ccd",
   "metadata": {
    "tags": []
   },
   "outputs": [
    {
     "name": "stdout",
     "output_type": "stream",
     "text": [
      "var_1 -> type <class 'list'>\n",
      "length var1 is  4\n",
      "integer out2 is  1\n"
     ]
    }
   ],
   "source": [
    "# Create variables var1 and var2\n",
    "var1 = [1, 2, 3, 4]\n",
    "var2 = True\n",
    "\n",
    "# Print out type of var1\n",
    "print(\"var_1 -> type\", type(var1))\n",
    "\n",
    "# Print out length of var1 -> total list on the var1\n",
    "print(\"length var1 is \", len(var1))\n",
    "\n",
    "# Convert var2 to an integer: out2 ->integer True is 1; integer False is 0.\n",
    "out2 = int(var2)\n",
    "print(\"integer out2 is \", out2)"
   ]
  },
  {
   "cell_type": "markdown",
   "id": "88a2fbb3-5025-4068-8d0a-573157ff3e99",
   "metadata": {},
   "source": [
    "## Help!"
   ]
  },
  {
   "cell_type": "markdown",
   "id": "e89e7915-ed99-409d-8d90-34fb7aa9a316",
   "metadata": {},
   "source": [
    "Maybe you already know the name of a Python function, but you still have to figure out how to use it. Ironically, you have to ask for information about a function with another function: $\\color{blue}{\\text{help()}}$."
   ]
  },
  {
   "cell_type": "markdown",
   "id": "79a1d941-1748-4a02-b97a-9b4929e4bd38",
   "metadata": {},
   "source": [
    "To get help on the $\\color{blue}{\\text{max()}}$ function, for example, you can use one of these calls:"
   ]
  },
  {
   "cell_type": "code",
   "execution_count": 40,
   "id": "c189a969-3a65-4e11-932c-9a0ef5a84cb4",
   "metadata": {
    "tags": []
   },
   "outputs": [
    {
     "name": "stdout",
     "output_type": "stream",
     "text": [
      "Help on built-in function max in module builtins:\n",
      "\n",
      "max(...)\n",
      "    max(iterable, *[, default=obj, key=func]) -> value\n",
      "    max(arg1, arg2, *args, *[, key=func]) -> value\n",
      "    \n",
      "    With a single iterable argument, return its biggest item. The\n",
      "    default keyword-only argument specifies an object to return if\n",
      "    the provided iterable is empty.\n",
      "    With two or more arguments, return the largest argument.\n",
      "\n"
     ]
    }
   ],
   "source": [
    "#help(max) or ?max\n",
    "help(max)\n"
   ]
  },
  {
   "cell_type": "code",
   "execution_count": 41,
   "id": "58b59a4e-9565-4847-9e33-b300977a6d82",
   "metadata": {
    "tags": []
   },
   "outputs": [
    {
     "data": {
      "text/plain": [
       "\u001b[1;31mDocstring:\u001b[0m\n",
       "max(iterable, *[, default=obj, key=func]) -> value\n",
       "max(arg1, arg2, *args, *[, key=func]) -> value\n",
       "\n",
       "With a single iterable argument, return its biggest item. The\n",
       "default keyword-only argument specifies an object to return if\n",
       "the provided iterable is empty.\n",
       "With two or more arguments, return the largest argument.\n",
       "\u001b[1;31mType:\u001b[0m      builtin_function_or_method"
      ]
     },
     "metadata": {},
     "output_type": "display_data"
    }
   ],
   "source": [
    "#help(max) or ?max\n",
    "?max"
   ]
  },
  {
   "cell_type": "markdown",
   "id": "132837fd-095c-4db4-b6f9-8b89b99486a9",
   "metadata": {},
   "source": [
    "Open up the documentation on $\\color{blue}{\\text{pow()}}$. Which of the following statements is true?"
   ]
  },
  {
   "cell_type": "markdown",
   "id": "149f8719-f50e-463e-b775-213b75b3818d",
   "metadata": {},
   "source": [
    "$\\color{black}{\\text{Possible answers:}}$ \\\n",
    "- $\\color{blue}{\\text{pow()}}$ takes three arguments: $\\color{green}{\\text{base}}$, $\\color{green}{\\text{exp}}$, and $\\color{green}{\\text{mod}}$. If you don't specify $\\color{green}{\\text{mod}}$, the function will return an error. \\\n",
    "- $\\color{blue}{\\text{pow()}}$ takes three arguments: $\\color{green}{\\text{base}}$, $\\color{green}{\\text{exp}}$, and $\\color{green}{\\text{None}}$. All of these arguments are required. \\\n",
    "- $\\color{blue}{\\text{pow()}}$ $\\color{red}{\\text{takes three arguments:}}$ $\\color{green}{\\text{base}}$, $\\color{green}{\\text{exp}}$, $\\color{red}{\\text{and}}$ $\\color{green}{\\text{mod}}$. $\\color{green}{\\text{base}}$ $\\color{red}{\\text{and}}$ $\\color{green}{\\text{exp}}$ $\\color{red}{\\text{are required arguments}}$, $\\color{green}{\\text{mod}}$ $\\color{red}{\\text{is an optional argument}}$. \\\n",
    "- $\\color{blue}{\\text{pow()}}$ takes two arguments: $\\color{green}{\\text{exp}}$ and $\\color{green}{\\text{mod}}$. If you don't specify $\\color{green}{\\text{exp}}$, the function will return an error."
   ]
  },
  {
   "cell_type": "markdown",
   "id": "e5dc76c0-43c5-4291-ac34-e93af046456b",
   "metadata": {},
   "source": [
    "## Multiple arguments"
   ]
  },
  {
   "cell_type": "markdown",
   "id": "6ed22541-7833-499a-9610-7b3dab9553c2",
   "metadata": {},
   "source": [
    "In the previous exercise, you identified optional arguments by viewing the documentation with $\\color{blue}{\\text{help()}}$. You'll now apply this to change the behavior of the $\\color{blue}{\\text{sorted()}}$ function."
   ]
  },
  {
   "cell_type": "markdown",
   "id": "a8dae1e1-81b1-4e50-8dbe-467a9b8d825d",
   "metadata": {},
   "source": [
    "Have a look at the documentation of $\\color{blue}{\\text{sorted()}}$ by typing $\\color{blue}{\\text{help(sorted)}}$."
   ]
  },
  {
   "cell_type": "markdown",
   "id": "486fb52b-85f0-44a2-89d9-64d10b42d391",
   "metadata": {},
   "source": [
    "You'll see that $\\color{blue}{\\text{sorted()}}$ takes three arguments: $\\color{green}{\\text{iterable}}$, $\\color{green}{\\text{key}}$, and $\\color{green}{\\text{reverse}}$."
   ]
  },
  {
   "cell_type": "markdown",
   "id": "3dbc3da8-8eba-462b-bcbd-4eaa6ed60a89",
   "metadata": {},
   "source": [
    "$\\color{green}{\\text{key=None}}$ means that if you don't specify the $\\color{green}{\\text{key}}$ argument, it will be $\\color{green}{\\text{None}}$. $\\color{green}{\\text{reverse=False}}$ means that if you don't specify the $\\color{green}{\\text{reverse}}$ argument, it will be $\\color{green}{\\text{False}}$, by default."
   ]
  },
  {
   "cell_type": "markdown",
   "id": "6c9e489d-be8d-4024-8af6-522ca07f4c0e",
   "metadata": {},
   "source": [
    "In this exercise, you'll only have to specify $\\color{green}{\\text{iterable}}$ and $\\color{green}{\\text{reverse}}$, not $\\color{green}{\\text{key}}$. The first input you pass to $\\color{blue}{\\text{sorted()}}$ will be matched to the $\\color{green}{\\text{iterable}}$ argument, but what about the second input? To tell Python you want to specify $\\color{green}{\\text{reverse}}$ without changing anything about $\\color{green}{\\text{key}}$, you can use $\\color{green}{\\text{=}}$ to assign it a new value:"
   ]
  },
  {
   "cell_type": "markdown",
   "id": "7ae4a75d-721b-45a9-93e9-df97ccfaa6c8",
   "metadata": {},
   "source": [
    "$\\color{green}{\\text{sorted}}$(...., reverse=....)"
   ]
  },
  {
   "cell_type": "markdown",
   "id": "48d19414-2029-454a-9e5b-2e5ff1dc9241",
   "metadata": {},
   "source": [
    "Two lists have been created for you. Can you paste them together and sort them in descending order?"
   ]
  },
  {
   "cell_type": "markdown",
   "id": "1c58d929-3c44-40ff-9c50-0ff89aded5f8",
   "metadata": {},
   "source": [
    "$\\color{black}{\\text{Note:}}$ For now, we can understand an $\\color{red}{\\text{iterable}}$ as being any collection of objects, e.g., a List."
   ]
  },
  {
   "cell_type": "code",
   "execution_count": 42,
   "id": "64ba2c85-77db-443c-9506-ce4cc1611f06",
   "metadata": {},
   "outputs": [
    {
     "name": "stdout",
     "output_type": "stream",
     "text": [
      "[20.0, 18.0, 11.25, 10.75, 9.5]\n"
     ]
    }
   ],
   "source": [
    "# Create lists first and second\n",
    "first = [11.25, 18.0, 20.0]\n",
    "second = [10.75, 9.50]\n",
    "\n",
    "# Paste together first and second: full\n",
    "full = first + second\n",
    "\n",
    "# Sort full in descending order: full_sorted\n",
    "full_sorted = sorted(full, reverse = True)\n",
    "\n",
    "# Print out full_sorted\n",
    "print(full_sorted)"
   ]
  },
  {
   "cell_type": "markdown",
   "id": "7c646f78-5e8d-4075-8a56-8aad8125cac6",
   "metadata": {},
   "source": [
    "## String Methods"
   ]
  },
  {
   "cell_type": "markdown",
   "id": "15d86197-067e-4de7-bd0c-aef6b2c0894e",
   "metadata": {},
   "source": [
    "Strings come with a bunch of methods. Follow the instructions closely to discover some of them. If you want to discover them in more detail, you can always type $\\color{blue}{\\text{help(str)}}$.\n",
    "\n",
    "A string $\\color{green}{\\text{place}}$ has already been created for you to experiment with."
   ]
  },
  {
   "cell_type": "code",
   "execution_count": 43,
   "id": "bc1da547-c678-4459-b2d4-44987efabcf9",
   "metadata": {},
   "outputs": [
    {
     "name": "stdout",
     "output_type": "stream",
     "text": [
      "string-place \t: poolhouse\n",
      "upper-place \t: POOLHOUSE\n",
      "the number of o's in place : 3\n"
     ]
    }
   ],
   "source": [
    "# string to experiment with: place\n",
    "place = \"poolhouse\"\n",
    "\n",
    "# Use upper() on place: place_up\n",
    "place_up = place.upper()\n",
    "\n",
    "# Print out place and place_up\n",
    "print(\"string-place \\t:\", place)\n",
    "print(\"upper-place \\t:\", place_up)\n",
    "\n",
    "# Print out the number of o's in place\n",
    "print(\"the number of o's in place :\", place.count(\"o\"))"
   ]
  },
  {
   "cell_type": "markdown",
   "id": "f1cdf078-34ed-4637-a998-ee428d383393",
   "metadata": {},
   "source": [
    "## List Methods"
   ]
  },
  {
   "cell_type": "markdown",
   "id": "28bedf18-ca72-4452-9e70-2818ddf9e4ae",
   "metadata": {},
   "source": [
    "Strings are not the only Python types that have methods associated with them. Lists, floats, integers and booleans are also types that come packaged with a bunch of useful methods. In this exercise, you'll be experimenting with:"
   ]
  },
  {
   "cell_type": "markdown",
   "id": "d0c32600-1e24-4fa9-b800-b813ba3dfea3",
   "metadata": {},
   "source": [
    "- $\\color{blue}{\\text{index()}}$, to get the index of the first element of a list that matches its input and\n",
    "- $\\color{blue}{\\text{count()}}$, to get the number of times an element appears in a list."
   ]
  },
  {
   "cell_type": "markdown",
   "id": "270cac2d-0ce8-4ff5-a354-fb8f7f679c1c",
   "metadata": {},
   "source": [
    "You'll be working on the list with the area of different parts of a house: $\\color{blue}{\\text{areas.}}$"
   ]
  },
  {
   "cell_type": "code",
   "execution_count": 44,
   "id": "dc0a0f3a-86a6-4011-8222-2d5f4bbfde05",
   "metadata": {},
   "outputs": [
    {
     "name": "stdout",
     "output_type": "stream",
     "text": [
      "The number index of 20.0 in areas variable is 2\n",
      "The total count of 9.5 in areas variable is 1\n"
     ]
    }
   ],
   "source": [
    "# Create list areas\n",
    "areas = [11.25, 18.0, 20.0, 10.75, 9.50]\n",
    "\n",
    "# Print out the index of the element 20.0\n",
    "print(\"The number index of 20.0 in areas variable is\", areas.index(20.0))\n",
    "\n",
    "# Print out how often 9.50 appears in areas\n",
    "print(\"The total count of 9.5 in areas variable is\", areas.count(9.50))"
   ]
  },
  {
   "cell_type": "markdown",
   "id": "d915b3e9-9d8c-4e68-9e0e-95595694e96c",
   "metadata": {},
   "source": [
    "## List Methods (2)"
   ]
  },
  {
   "cell_type": "markdown",
   "id": "ccda4af3-fc3a-42de-b709-d1162889119f",
   "metadata": {},
   "source": [
    "Most list methods will change the list they're called on. Examples are:"
   ]
  },
  {
   "cell_type": "markdown",
   "id": "32e5f080-9e1a-46ea-ad14-e723f7944e93",
   "metadata": {},
   "source": [
    "- $\\color{blue}{\\text{append()}}$, that adds an element to the list it is called on,\n",
    "- $\\color{blue}{\\text{remove()}}$, that removes the first element of a list that matches the input, and\n",
    "- $\\color{blue}{\\text{reverse()}}$, that reverses the order of the elements in the list it is called on."
   ]
  },
  {
   "cell_type": "markdown",
   "id": "11ac787f-179f-40ef-88ce-88566ab51616",
   "metadata": {},
   "source": [
    "You'll be working on the list with the area of different parts of the house: $\\color{blue}{\\text{areas.}}$"
   ]
  },
  {
   "cell_type": "code",
   "execution_count": 45,
   "id": "c4a3d308-e797-48b7-97de-0e0e07b07b5f",
   "metadata": {},
   "outputs": [
    {
     "name": "stdout",
     "output_type": "stream",
     "text": [
      "areas after append with new elements of 24.5 and 15.45 is [11.25, 18.0, 20.0, 10.75, 9.5, 24.5, 15.45]\n",
      "areas after reverse is [15.45, 24.5, 9.5, 10.75, 20.0, 18.0, 11.25]\n"
     ]
    }
   ],
   "source": [
    "# Create list areas\n",
    "areas = [11.25, 18.0, 20.0, 10.75, 9.50]\n",
    "\n",
    "# Use append twice to add poolhouse and garage size\n",
    "areas.append(24.5); areas.append(15.45)\n",
    "\n",
    "\n",
    "# Print out areas before reverse\n",
    "print(\"areas after append with new elements of 24.5 and 15.45 is\", areas)\n",
    "\n",
    "# Reverse the orders of the elements in areas\n",
    "areas.reverse()\n",
    "\n",
    "# Print out areas\n",
    "print(\"areas after reverse is\", areas)"
   ]
  },
  {
   "cell_type": "markdown",
   "id": "cd5d9938-34b8-4413-a134-c2b5c7558566",
   "metadata": {},
   "source": [
    "## Import package"
   ]
  },
  {
   "cell_type": "markdown",
   "id": "61964aac-61a0-413c-ad18-d1157a9c4d70",
   "metadata": {},
   "source": [
    "As a data scientist, some notions of geometry never hurt. Let's refresh some of the basics."
   ]
  },
  {
   "cell_type": "markdown",
   "id": "9386d20d-f2e6-4173-8a3b-8613caff97ae",
   "metadata": {},
   "source": [
    "For a fancy clustering algorithm, you want to find the circumference, $\\color{red}{\\text{C}}$, and area, $\\color{red}{\\text{A}}$, of a circle. When the radius of the circle is $\\color{red}{\\text{r}}$, you can calculate \n",
    "$\\color{red}{\\text{C}}$ and $\\color{red}{\\text{A}}$ as:"
   ]
  },
  {
   "cell_type": "markdown",
   "id": "49b50af0-ca0c-4397-8869-755c472d72fb",
   "metadata": {},
   "source": [
    "- C = 2 * pi * r \\\n",
    "- A = pi * r**2"
   ]
  },
  {
   "cell_type": "markdown",
   "id": "7237c72d-6577-4dea-a34c-7b2e1529a9cb",
   "metadata": {},
   "source": [
    "In Python, the symbol for exponentiation is $\\color{red}{\\text{**}}$. This operator raises the number to its left to the power of the number to its right. For example $\\color{red}{\\text{3**}}$$\\color{blue}{\\text{4}}$ is $\\color{red}{\\text{3}}$ to the power of $\\color{blue}{\\text{4}}$ and will give 81."
   ]
  },
  {
   "cell_type": "markdown",
   "id": "81091321-9bea-4a99-a414-8792cfa9ed94",
   "metadata": {},
   "source": [
    "To use the constant $\\color{red}{\\text{pi}}$, you'll need the $\\color{green}{\\text{math}}$ package. A variable $\\color{red}{\\text{r}}$ is already coded in the script. Fill in the code to calculate $\\color{red}{\\text{C}}$ and $\\color{red}{\\text{A}}$ and see how the $\\color{blue}{\\text{print()}}$ functions create some nice printouts."
   ]
  },
  {
   "cell_type": "code",
   "execution_count": 46,
   "id": "77976f55-2b89-4703-bf17-8c80714dd8b2",
   "metadata": {},
   "outputs": [
    {
     "name": "stdout",
     "output_type": "stream",
     "text": [
      "Circumference\t: 2.701769682087222\n",
      "Area\t\t: 0.5808804816487527\n"
     ]
    }
   ],
   "source": [
    "# Import the math package\n",
    "import math\n",
    "\n",
    "# Definition of radius\n",
    "r = 0.43\n",
    "\n",
    "# Calculate C\n",
    "C = 2 * math.pi * r\n",
    "\n",
    "# Calculate A\n",
    "A = math.pi * r**2\n",
    "\n",
    "# Build printout\n",
    "# notice that C and A variable is string not float.\n",
    "print(\"Circumference\\t: \" + str(C)) \n",
    "print(\"Area\\t\\t: \" + str(A)) "
   ]
  },
  {
   "cell_type": "markdown",
   "id": "9ddaae8d-206b-4bc3-8281-0dea8e8dbdd0",
   "metadata": {},
   "source": [
    "## Selective Import"
   ]
  },
  {
   "cell_type": "markdown",
   "id": "42c5ff9a-728f-4696-8a23-f2e0300cb906",
   "metadata": {},
   "source": [
    "General imports, like $\\color{blue}{\\text{import math}}$, make all functionality from the $\\color{green}{\\text{math package}}$ available to you. However, if you decide to only use a specific part of a package, you can always make your import more selective:"
   ]
  },
  {
   "cell_type": "code",
   "execution_count": 47,
   "id": "6f12e6e1-a4b8-42b2-9f23-e8ef085d82b8",
   "metadata": {},
   "outputs": [],
   "source": [
    "from math import pi"
   ]
  },
  {
   "cell_type": "markdown",
   "id": "27c65a0d-b4ff-4a58-96d4-7daef0aa703a",
   "metadata": {},
   "source": [
    "Let's say the Moon's orbit around planet Earth is a perfect circle, with a radius $\\color{red}{\\text{r}}$ (in km) that is defined in the script."
   ]
  },
  {
   "cell_type": "code",
   "execution_count": 48,
   "id": "2a99b7e8-ac16-4eb1-b670-996d27fe98f5",
   "metadata": {},
   "outputs": [
    {
     "name": "stdout",
     "output_type": "stream",
     "text": [
      "Travel distance of Moon over 12 degrees is 40317.10572106901 km.\n"
     ]
    }
   ],
   "source": [
    "# Import radians function of math package\n",
    "from math import radians\n",
    "\n",
    "# Definition of radius\n",
    "r = 192500\n",
    "\n",
    "# Travel distance of Moon over 12 degrees. Store in dist.\n",
    "dist = r * radians(12)\n",
    "\n",
    "# Print out dist\n",
    "print(\"Travel distance of Moon over 12 degrees is \"+ str(dist) + \" km.\")"
   ]
  },
  {
   "cell_type": "markdown",
   "id": "43ff85f2-6f50-4f45-b7e7-f9b2218e049a",
   "metadata": {},
   "source": [
    "## Different ways of Importing"
   ]
  },
  {
   "cell_type": "markdown",
   "id": "7fb59adb-bf89-42ca-bced-5242a32bc653",
   "metadata": {},
   "source": [
    "There are several ways to import packages and modules into Python. Depending on the import call, you'll have to use different Python code."
   ]
  },
  {
   "cell_type": "markdown",
   "id": "a3eedc03-b8a0-479a-ad3a-f29c2e970388",
   "metadata": {},
   "source": [
    "Suppose you want to use the function $\\color{blue}{\\text{inv()}}$, which is in the $\\color{green}{\\text{linalg}}$ subpackage of the scipy package. You want to be able to use this function as follows:"
   ]
  },
  {
   "cell_type": "markdown",
   "id": "3a44ea35-7ada-40c1-a4bc-f04b3da5dfb2",
   "metadata": {
    "tags": []
   },
   "source": [
    "**my_inv([[1,2], [3,4]])**"
   ]
  },
  {
   "cell_type": "markdown",
   "id": "d5296ff7-22fc-45ca-b9a6-14b036d3758e",
   "metadata": {},
   "source": [
    "Which import statement will you need in order to run the above code without an error?"
   ]
  },
  {
   "cell_type": "markdown",
   "id": "9ff002c7-e8e5-4c6c-9801-6142a7b05c95",
   "metadata": {},
   "source": [
    "**Possible answers:** \\\n",
    "- import scipy \\\n",
    "- import scipy.linalg \\\n",
    "- from scipy.linalg import my_inv \\\n",
    "- **from scipy.linalg import inv as my_inv**"
   ]
  },
  {
   "cell_type": "markdown",
   "id": "89172b67-3dab-46ea-8d0b-dc108b3ca0b2",
   "metadata": {
    "jp-MarkdownHeadingCollapsed": true,
    "tags": []
   },
   "source": [
    "# NumPy"
   ]
  },
  {
   "cell_type": "markdown",
   "id": "ddf07487-1f7b-4497-8524-48ff0dfd7012",
   "metadata": {},
   "source": [
    "NumPy is a fundamental Python package to efficiently practice data science. Learn to work with powerful tools in the NumPy array, and get started with data exploration."
   ]
  },
  {
   "cell_type": "markdown",
   "id": "0a4f7887-e011-4bb9-ba9c-04f58966ccca",
   "metadata": {},
   "source": [
    "## Your First NumPy Array"
   ]
  },
  {
   "cell_type": "markdown",
   "id": "40baf320-a053-49bf-9abc-dfb37de9c622",
   "metadata": {},
   "source": [
    "In this chapter, we're going to dive into the world of baseball. Along the way, you'll get comfortable with the basics of $\\color{blue}{\\text{numpy}}$, a powerful package to do data science."
   ]
  },
  {
   "cell_type": "markdown",
   "id": "b8aeb003-72aa-4ce4-8c4a-d0fd49a90d02",
   "metadata": {},
   "source": [
    "A **list baseball** has already been defined in the Python script, representing the height of some baseball players in centimeters. Can you add some code here and there to create a $\\color{blue}{\\text{numpy}}$ array from it?"
   ]
  },
  {
   "cell_type": "code",
   "execution_count": 49,
   "id": "0d2db1e7-6aac-4f7c-b6b3-b58cd3245bb5",
   "metadata": {
    "tags": []
   },
   "outputs": [
    {
     "name": "stdout",
     "output_type": "stream",
     "text": [
      "List baseball with numpy array\t: [180 215 210 210 188 176 209 200] \n",
      "type\t\t\t\t: <class 'numpy.ndarray'>\n"
     ]
    }
   ],
   "source": [
    "# Import the numpy package as np\n",
    "import numpy as np\n",
    "\n",
    "# Create list baseball\n",
    "baseball = [180, 215, 210, 210, 188, 176, 209, 200]\n",
    "\n",
    "# Create a numpy array from baseball: np_baseball\n",
    "np_baseball = np.array(baseball)\n",
    "\n",
    "# Print out type of np_baseball\n",
    "print(\"List baseball with numpy array\\t:\", np_baseball,\n",
    "      \"\\ntype\\t\\t\\t\\t:\", type(np_baseball))"
   ]
  },
  {
   "cell_type": "markdown",
   "id": "51be9654-e91e-417e-8b7b-35b503144df3",
   "metadata": {},
   "source": [
    "## Baseball players' height"
   ]
  },
  {
   "cell_type": "markdown",
   "id": "b510a335-c90a-47b8-a6c4-c1fe2102b145",
   "metadata": {},
   "source": [
    "You are a huge baseball fan. You decide to call the MLB (Major League Baseball) and ask around for some more statistics on the height of the main players. They pass along data on more than a thousand players, which is stored as a regular Python list: $\\color{blue}{\\text{height\\_in}}$. The height is expressed in inches. Can you make a $\\color{blue}{\\text{numpy}}$ array out of it and convert the units to meters?"
   ]
  },
  {
   "cell_type": "markdown",
   "id": "93e346cd-7ddc-4322-bdae-08e15a67f7a1",
   "metadata": {},
   "source": [
    "$\\color{blue}{\\text{height\\_in}}$ is already available and the numpy package is loaded, so you can start straight away (Source: <a href=\"https://wiki.stat.ucla.edu/socr/index.php/SOCR_Data_MLB_HeightsWeights\" target=\"_blank\" rel=\"noopener noreferrer\">$\\color{blue}{\\text{stat.ucla.edu}}$</a>)."
   ]
  },
  {
   "cell_type": "code",
   "execution_count": 50,
   "id": "66e22bd6-4f89-409a-bd2c-b68eaba3b925",
   "metadata": {
    "tags": []
   },
   "outputs": [
    {
     "name": "stdout",
     "output_type": "stream",
     "text": [
      "baseball player height (in inches): [74 74 72 ... 75 75 73]\n",
      "baseball player height (in meters): [1.88 1.88 1.83 ... 1.9  1.9  1.85]\n"
     ]
    }
   ],
   "source": [
    "#import pandas\n",
    "import pandas as pd\n",
    "\n",
    "# Import numpy\n",
    "import numpy as np\n",
    "\n",
    "# Read the CSV file\n",
    "baseball_csv = pd.read_csv(\"baseball.csv\")\n",
    "\n",
    "# create np_baseball_csv as numpy arrays\n",
    "np_baseball_csv = np.array(baseball_csv)\n",
    "\n",
    "# Read just the list height.\n",
    "height_in = np_baseball_csv[:, 3]\n",
    "\n",
    "# Create a numpy array from height_in: np_height_in\n",
    "np_height_in = np.array(height_in)\n",
    "\n",
    "# Print out np_height_in \n",
    "print(\"baseball player height (in inches):\", np_height_in)\n",
    "\n",
    "# Convert np_height_in to m: np_height_m\n",
    "np_height_m = np_height_in * 0.0254\n",
    "\n",
    "# Convert np_height_m with int function to float function: np_height_m_float\n",
    "np_height_m_float = np_height_m.astype(float)\n",
    "\n",
    "# Print np_height_m_float\n",
    "print(\"baseball player height (in meters):\", np.round(np_height_m_float, decimals=2))"
   ]
  },
  {
   "cell_type": "markdown",
   "id": "773c3d83-2354-49b2-bafa-0765e2fa0fce",
   "metadata": {},
   "source": [
    "## Baseball player's BMI"
   ]
  },
  {
   "cell_type": "markdown",
   "id": "30cf82e6-0383-4b6f-a857-252f2bcc6100",
   "metadata": {},
   "source": [
    "The MLB also offers to let you analyze their weight data. Again, both are available as regular Python lists: $\\color{blue}{\\text{height\\_in}}$ and $\\color{blue}{\\text{weight\\_lb}}$. $\\color{blue}{\\text{height\\_in}}$ is **in inches** and $\\color{blue}{\\text{weight\\_lb}}$ is **in pounds**."
   ]
  },
  {
   "cell_type": "markdown",
   "id": "2e47a04e-7920-462f-8824-abc8631ca9c9",
   "metadata": {},
   "source": [
    "It's now possible to calculate the BMI of each baseball player."
   ]
  },
  {
   "cell_type": "code",
   "execution_count": 51,
   "id": "69578cd5-4be4-4800-a053-7d198b62d19e",
   "metadata": {
    "tags": []
   },
   "outputs": [
    {
     "name": "stdout",
     "output_type": "stream",
     "text": [
      "BMI of each baseball player: [23.11  27.604 28.481 ... 25.623 23.748 25.727]\n"
     ]
    }
   ],
   "source": [
    "#import pandas\n",
    "import pandas as pd\n",
    "\n",
    "# Import numpy\n",
    "import numpy as np\n",
    "\n",
    "# Read the CSV file and just list height and weight\n",
    "baseball_csv = pd.read_csv(\"baseball.csv\")\n",
    "\n",
    "# create np_baseball_csv as numpy arrays\n",
    "np_baseball_csv = np.array(baseball_csv)\n",
    "\n",
    "# Read just the list height and weight.\n",
    "height_in = np_baseball_csv[:, 3]\n",
    "weight_lb = np_baseball_csv[:, 4]\n",
    "\n",
    "# Create array from height_in with metric units: np_height_m\n",
    "np_height_m = (np.array(height_in) * 0.0254).astype(float)\n",
    "\n",
    "# Create array from weight_lb with metric units: np_weight_kg\n",
    "np_weight_kg = (np.array(weight_lb) * 0.453592).astype(float)\n",
    "\n",
    "# Calculate the BMI: bmi\n",
    "bmi = np.round(np_weight_kg / np_height_m **2, decimals=3)\n",
    "\n",
    "# Print out bmi\n",
    "print(\"BMI of each baseball player:\", bmi)"
   ]
  },
  {
   "cell_type": "markdown",
   "id": "0e08777b-1d32-4bfb-a3d9-8ff3122fc291",
   "metadata": {},
   "source": [
    "## Lightweight baseball players"
   ]
  },
  {
   "cell_type": "markdown",
   "id": "f8fafac2-9d2b-4a6c-8389-60a5801ea1ab",
   "metadata": {},
   "source": [
    "To subset both regular Python lists and $\\color{blue}{\\text{numpy}}$ arrays, you can use square brackets:"
   ]
  },
  {
   "cell_type": "code",
   "execution_count": 52,
   "id": "b1640e04-ae49-4b88-bb4d-e35cf5c3f80a",
   "metadata": {
    "tags": []
   },
   "outputs": [
    {
     "data": {
      "text/plain": [
       "9"
      ]
     },
     "execution_count": 52,
     "metadata": {},
     "output_type": "execute_result"
    }
   ],
   "source": [
    "x = [4 , 9 , 6, 3, 1]\n",
    "x[1]"
   ]
  },
  {
   "cell_type": "code",
   "execution_count": 53,
   "id": "824605f7-26ec-4da5-8c26-c30c7c21a344",
   "metadata": {
    "tags": []
   },
   "outputs": [
    {
     "data": {
      "text/plain": [
       "9"
      ]
     },
     "execution_count": 53,
     "metadata": {},
     "output_type": "execute_result"
    }
   ],
   "source": [
    "x = [4 , 9 , 6, 3, 1]\n",
    "\n",
    "import numpy as np\n",
    "y = np.array(x)\n",
    "y[1]"
   ]
  },
  {
   "cell_type": "markdown",
   "id": "2e03e352-fe12-48d0-9a1a-4245cb947603",
   "metadata": {},
   "source": [
    "For numpy specifically, you can also use **boolean** $\\color{blue}{\\text{numpy}}$ arrays:"
   ]
  },
  {
   "cell_type": "code",
   "execution_count": 54,
   "id": "7b5c7ef1-b9a2-4d00-b195-c0807c54e7c0",
   "metadata": {
    "tags": []
   },
   "outputs": [
    {
     "data": {
      "text/plain": [
       "array([9, 6])"
      ]
     },
     "execution_count": 54,
     "metadata": {},
     "output_type": "execute_result"
    }
   ],
   "source": [
    "y = np.array([4 , 9 , 6, 3, 1])\n",
    "high = y > 5\n",
    "y[high]"
   ]
  },
  {
   "cell_type": "markdown",
   "id": "121bee68-dd40-4466-baf7-f37140394f61",
   "metadata": {},
   "source": [
    "Follow the instructions and reveal interesting things from the data! $\\color{blue}{\\text{height\\_in}}$ and $\\color{blue}{\\text{weight\\_lb}}$ are available as regular lists."
   ]
  },
  {
   "cell_type": "code",
   "execution_count": 55,
   "id": "3ec75765-9442-447f-9434-e941850a1dcb",
   "metadata": {
    "tags": []
   },
   "outputs": [
    {
     "name": "stdout",
     "output_type": "stream",
     "text": [
      "Boolean light of BMI\t: [[False False False ... False False False]]\n",
      "BMI\t\t\t: [20.54 20.54 20.69 20.69 20.34 20.34 20.69 20.16 19.5  20.69 20.92]\n"
     ]
    }
   ],
   "source": [
    "#import pandas\n",
    "import pandas as pd\n",
    "\n",
    "# Import numpy\n",
    "import numpy as np\n",
    "\n",
    "# Read the CSV file and just list height and weight\n",
    "baseball_csv = pd.read_csv(\"baseball.csv\")\n",
    "# create np_baseball_csv as numpy arrays\n",
    "np_baseball_csv = np.array(baseball_csv)\n",
    "\n",
    "# Calculate the BMI: bmi\n",
    "np_height_m = (np.array(height_in) * 0.0254).astype(float)\n",
    "np_weight_kg = (np.array(weight_lb) * 0.453592).astype(float)\n",
    "bmi = np.round(np_weight_kg / np_height_m ** 2, decimals = 2)\n",
    "\n",
    "# Create the light array\n",
    "Light = bmi < 21\n",
    "\n",
    "# Print out light\n",
    "print(\"Boolean light of BMI\\t:\", Light[True])\n",
    "\n",
    "# Print out BMIs of all baseball players whose BMI is below 21\n",
    "print(\"BMI\\t\\t\\t:\", bmi[Light])"
   ]
  },
  {
   "cell_type": "markdown",
   "id": "e84f6fdb-6d6c-4974-8c8b-ae9e8f65d0a1",
   "metadata": {},
   "source": [
    "## NumPy Side Effects"
   ]
  },
  {
   "cell_type": "markdown",
   "id": "ce3de7c2-a811-4276-a0c7-80f255683d59",
   "metadata": {},
   "source": [
    "As Hugo explained before, $\\color{blue}{\\text{numpy}}$ is great for doing vector arithmetic. If you compare its functionality with regular Python lists, however, some things have changed."
   ]
  },
  {
   "cell_type": "markdown",
   "id": "53f4b952-4cfd-4a35-bc8e-462c36a65855",
   "metadata": {},
   "source": [
    "First of all, $\\color{blue}{\\text{numpy}}$ arrays cannot contain elements with different types. If you try to build such a list, some of the elements' types are changed to end up with a homogeneous list. This is known as type coercion."
   ]
  },
  {
   "cell_type": "markdown",
   "id": "92df7899-a4ef-4436-9bf6-52e14b5f78d7",
   "metadata": {},
   "source": [
    "Second, the typical arithmetic operators, **such as +, -, * and /** have a different meaning for regular Python lists and numpy arrays."
   ]
  },
  {
   "cell_type": "markdown",
   "id": "403a015a-5891-41d4-aac9-82bd2756e521",
   "metadata": {},
   "source": [
    "Have a look at this line of code:"
   ]
  },
  {
   "cell_type": "code",
   "execution_count": 56,
   "id": "42e19695-cba3-4c93-873e-76f3e5bde529",
   "metadata": {
    "tags": []
   },
   "outputs": [
    {
     "data": {
      "text/plain": [
       "array([4, 5, 2])"
      ]
     },
     "execution_count": 56,
     "metadata": {},
     "output_type": "execute_result"
    }
   ],
   "source": [
    "np.array([True, 1, 2]) + np.array([3, 4, False])"
   ]
  },
  {
   "cell_type": "markdown",
   "id": "b9e8c8f2-9489-4a37-aa41-b4f9ae6fb2a3",
   "metadata": {},
   "source": [
    "Can you tell which code chunk builds the exact same Python object? The $\\color{blue}{\\text{numpy}}$ package is already imported as $\\color{blue}{\\text{np}}$, so you can start experimenting in the Python!"
   ]
  },
  {
   "cell_type": "markdown",
   "id": "3997708a-bfc9-4326-927e-36b4550582e5",
   "metadata": {},
   "source": [
    "**Possible answers:** \\\n",
    "- np.array([True, 1, 2, 3, 4, False]) \\\n",
    "- **np.array([4, 3, 0]) + np.array([0, 2, 2])** \\\n",
    "- np.array([1, 1, 2]) + np.array([3, 4, -1]) \\\n",
    "- np.array([0, 1, 2, 3, 4, 5])"
   ]
  },
  {
   "cell_type": "markdown",
   "id": "587b17b4-71ee-49c7-917d-ce542456c75e",
   "metadata": {},
   "source": [
    "## Subsetting Numpy Arrays"
   ]
  },
  {
   "cell_type": "markdown",
   "id": "0c1110a4-9a53-4c16-a9ca-b4bc68904576",
   "metadata": {},
   "source": [
    "You've seen it with your own eyes: Python lists and $\\color{blue}{\\text{numpy}}$ arrays sometimes behave differently. Luckily, there are still certainties in this world. For example, subsetting (using the square bracket notation on lists or arrays) works exactly the same. To see this for yourself, try the following lines of code in the Python:"
   ]
  },
  {
   "cell_type": "code",
   "execution_count": 57,
   "id": "3e720222-3a71-4d57-a732-477c1ec45ab6",
   "metadata": {
    "tags": []
   },
   "outputs": [
    {
     "data": {
      "text/plain": [
       "'b'"
      ]
     },
     "execution_count": 57,
     "metadata": {},
     "output_type": "execute_result"
    }
   ],
   "source": [
    "x = [\"a\", \"b\", \"c\"]\n",
    "x[1]"
   ]
  },
  {
   "cell_type": "code",
   "execution_count": 58,
   "id": "d78c22dc-2d20-49da-b341-016acbfe5a9a",
   "metadata": {
    "tags": []
   },
   "outputs": [
    {
     "data": {
      "text/plain": [
       "'b'"
      ]
     },
     "execution_count": 58,
     "metadata": {},
     "output_type": "execute_result"
    }
   ],
   "source": [
    "import numpy as np\n",
    "x = [\"a\", \"b\", \"c\"]\n",
    "\n",
    "np_x = np.array(x)\n",
    "np_x[1]"
   ]
  },
  {
   "cell_type": "markdown",
   "id": "23b0322e-81a7-417f-bc57-cef1e3e9ac66",
   "metadata": {},
   "source": [
    "The script in the editor already contains code that imports $\\color{blue}{\\text{numpy}}$ as $\\color{blue}{\\text{np}}$, and stores both the height and weight of the MLB players as numpy arrays. $\\color{blue}{\\text{height\\_in}}$ and $\\color{blue}{\\text{weight\\_lb}}$ are available as regular lists."
   ]
  },
  {
   "cell_type": "code",
   "execution_count": 59,
   "id": "ef7c8100-2ad1-43c1-8b28-318fd39ed6c6",
   "metadata": {
    "tags": []
   },
   "outputs": [
    {
     "name": "stdout",
     "output_type": "stream",
     "text": [
      "the weight at index 50\t\t: 200\n",
      "the height at index 100-111\t: [73 74 72 73 69 72 73 75 75 73 72]\n"
     ]
    }
   ],
   "source": [
    "#import pandas\n",
    "import pandas as pd\n",
    "\n",
    "# Import numpy\n",
    "import numpy as np\n",
    "\n",
    "# Read the CSV file and just list height and weight\n",
    "baseball_csv = pd.read_csv(\"baseball.csv\")\n",
    "\n",
    "# create np_baseball_csv as numpy arrays\n",
    "np_baseball_csv = np.array(baseball_csv)\n",
    "\n",
    "# Read just the list height and weight.\n",
    "height_in = np_baseball_csv[:, 3]\n",
    "weight_lb = np_baseball_csv[:, 4]\n",
    "\n",
    "# Store weight and height lists as numpy arrays\n",
    "np_weight_lb = np.array(weight_lb)\n",
    "np_height_in = np.array(height_in)\n",
    "\n",
    "# Print out the weight at index 50\n",
    "print(\"the weight at index 50\\t\\t:\", np_weight_lb[50])\n",
    "\n",
    "# Print out sub-array of np_height_in: index 100 up to and including index 110\n",
    "print(\"the height at index 100-111\\t:\", np_height_in[100:111])"
   ]
  },
  {
   "cell_type": "markdown",
   "id": "cd10072b-d1a3-4ce2-8464-aeaf319d6a2f",
   "metadata": {},
   "source": [
    "## Your First 2D NumPy Array"
   ]
  },
  {
   "cell_type": "markdown",
   "id": "4e4faec3-e1d1-493b-a51b-6b1eb46ed116",
   "metadata": {},
   "source": [
    "Before working on the actual MLB data, let's try to create a 2D $\\color{blue}{\\text{numpy}}$ array from a small list of lists."
   ]
  },
  {
   "cell_type": "markdown",
   "id": "e2d92062-3660-4713-b9e8-b7e13fddcb75",
   "metadata": {},
   "source": [
    "In this exercise, $\\color{blue}{\\text{baseball}}$ is a list of lists. The main list contains 4 elements. Each of these elements is a list containing the height and the weight of 4 baseball players, in this order. $\\color{blue}{\\text{baseball}}$ is already coded for you in the script."
   ]
  },
  {
   "cell_type": "code",
   "execution_count": 60,
   "id": "77e9b0e1-0700-42ee-9f24-44eeafd8aacd",
   "metadata": {
    "tags": []
   },
   "outputs": [
    {
     "name": "stdout",
     "output_type": "stream",
     "text": [
      "type of np_baseball\t: <class 'numpy.ndarray'>\n",
      "shape of np_baseball\t: (4, 2)\n"
     ]
    }
   ],
   "source": [
    "# Import numpy\n",
    "import numpy as np\n",
    "\n",
    "# Create baseball, a list of lists\n",
    "baseball = [[180, 78.4],\n",
    "            [215, 102.7],\n",
    "            [210, 98.5],\n",
    "            [188, 75.2]]\n",
    "\n",
    "# Create a 2D numpy array from baseball: np_baseball\n",
    "np_baseball = np.array(baseball)\n",
    "\n",
    "# Print out the type of np_baseball\n",
    "print(\"type of np_baseball\\t:\", type(np_baseball))\n",
    "\n",
    "# Print out the shape of np_baseball\n",
    "print(\"shape of np_baseball\\t:\", np_baseball.shape)"
   ]
  },
  {
   "cell_type": "markdown",
   "id": "75fab6a5-7756-4385-bcac-1b6922463d73",
   "metadata": {},
   "source": [
    "## Baseball data in 2D form"
   ]
  },
  {
   "cell_type": "markdown",
   "id": "17645913-af61-4250-9e17-10fa645beda0",
   "metadata": {},
   "source": [
    "You have another look at the MLB data and realize that it makes more sense to restructure all this information in a 2D $\\color{blue}{\\text{numpy}}$ array. This array should have 1015 rows, corresponding to the 1015 baseball players you have information on, and 2 columns (for height and weight)."
   ]
  },
  {
   "cell_type": "markdown",
   "id": "4284a0c3-39c4-4393-b557-e142d3043935",
   "metadata": {},
   "source": [
    "The MLB was, again, very helpful and passed you the data in a different structure, a Python list of lists. In this list of lists, each sublist represents the height and weight of a single baseball player. The name of this embedded list is $\\color{blue}{\\text{baseball}}$."
   ]
  },
  {
   "cell_type": "markdown",
   "id": "2564e53f-d03b-4c00-a950-32248ef7a799",
   "metadata": {},
   "source": [
    "Can you store the data as a 2D array to unlock $\\color{blue}{\\text{numpy}}$'s extra functionality? $\\color{blue}{\\text{baseball}}$ is available as a regular list of lists."
   ]
  },
  {
   "cell_type": "code",
   "execution_count": 61,
   "id": "1e0c5676-9148-4260-aed2-4578d112ac10",
   "metadata": {
    "tags": []
   },
   "outputs": [
    {
     "name": "stdout",
     "output_type": "stream",
     "text": [
      "shape of np_baseball: (1015, 2)\n"
     ]
    }
   ],
   "source": [
    "#import pandas\n",
    "import pandas as pd\n",
    "\n",
    "# Import numpy\n",
    "import numpy as np\n",
    "\n",
    "# Read the CSV file and just list height and weight\n",
    "baseball_csv = pd.read_csv(\"baseball.csv\")\n",
    "\n",
    "# create np_baseball_csv as numpy arrays\n",
    "np_baseball_csv = np.array(baseball_csv)\n",
    "\n",
    "# Create and Read the list combined of height and weight: np_baseball\n",
    "np_baseball = np_baseball_csv[:, 3:5]\n",
    "\n",
    "# Print out the shape of np_baseball\n",
    "print(\"shape of np_baseball:\", np_baseball.shape)"
   ]
  },
  {
   "cell_type": "markdown",
   "id": "48260f67-78da-4cd5-8753-cb8e8bb0b0a0",
   "metadata": {},
   "source": [
    "## Subsetting 2D NumPy Arrays"
   ]
  },
  {
   "cell_type": "markdown",
   "id": "67d5c383-a0de-4345-8489-4a346b3d5e9e",
   "metadata": {},
   "source": [
    "If your 2D $\\color{blue}{\\text{numpy}}$ array has a regular structure, i.e. each row and column has a fixed number of values, complicated ways of subsetting become very easy. Have a look at the code below where the elements $\\color{red}{\\text{\"a\"}}$ and $\\color{red}{\\text{\"c\"}}$ are extracted from a **list of lists**."
   ]
  },
  {
   "cell_type": "code",
   "execution_count": 62,
   "id": "5c43e59d-2bb4-4edb-9bfe-edc7d48b73d7",
   "metadata": {
    "tags": []
   },
   "outputs": [
    {
     "data": {
      "text/plain": [
       "['a', 'c']"
      ]
     },
     "execution_count": 62,
     "metadata": {},
     "output_type": "execute_result"
    }
   ],
   "source": [
    "# regular list of lists\n",
    "x = [[\"a\", \"b\"], [\"c\", \"d\"]]\n",
    "[x[0][0], x[1][0]]"
   ]
  },
  {
   "cell_type": "code",
   "execution_count": 63,
   "id": "b6348dd1-929e-4bb4-b799-1ce33ce1375b",
   "metadata": {
    "tags": []
   },
   "outputs": [
    {
     "data": {
      "text/plain": [
       "array(['a', 'c'], dtype='<U1')"
      ]
     },
     "execution_count": 63,
     "metadata": {},
     "output_type": "execute_result"
    }
   ],
   "source": [
    "# regular list of lists\n",
    "x = [[\"a\", \"b\"], [\"c\", \"d\"]]\n",
    "\n",
    "# numpy\n",
    "import numpy as np\n",
    "np_x = np.array(x)\n",
    "np_x[:, 0]"
   ]
  },
  {
   "cell_type": "markdown",
   "id": "0ca2013e-7276-4e84-9d22-f3b92a82d5c9",
   "metadata": {},
   "source": [
    "For regular Python lists, this is a real pain. For 2D $\\color{blue}{\\text{numpy}}$ arrays, however, it's pretty intuitive! The indexes before the comma refer to the rows, while those after the comma refer to the columns. The $\\color{blue}{\\text{:}}$ is for slicing; in this example, it tells Python to include all rows."
   ]
  },
  {
   "cell_type": "markdown",
   "id": "1f8221ce-b429-498e-bd1f-8a94a14e3090",
   "metadata": {},
   "source": [
    "The code that converts the pre-loaded $\\color{blue}{\\text{baseball}}$ list to a 2D $\\color{blue}{\\text{numpy}}$ array is already in the script. The first column contains the players' height in inches and the second column holds player weight, in pounds. Add some lines to make the correct selections. Remember that in Python, the first element is at index 0! $\\color{blue}{\\text{baseball}}$ is available as a regular list of lists."
   ]
  },
  {
   "cell_type": "code",
   "execution_count": 64,
   "id": "348e9541-705d-4baa-ab9b-62c18e17ab43",
   "metadata": {
    "tags": []
   },
   "outputs": [
    {
     "name": "stdout",
     "output_type": "stream",
     "text": [
      "the 5th row of np_baseball:\n",
      " [[74 180]\n",
      " [74 215]\n",
      " [72 210]\n",
      " [72 210]\n",
      " [73 188]]\n",
      "height of 124th player is 75\n"
     ]
    }
   ],
   "source": [
    "#import pandas\n",
    "import pandas as pd\n",
    "\n",
    "# Import numpy\n",
    "import numpy as np\n",
    "\n",
    "# Read the CSV file and just list height and weight\n",
    "baseball_csv = pd.read_csv(\"baseball.csv\")\n",
    "\n",
    "# create np_baseball_csv as numpy arrays\n",
    "np_baseball_csv = np.array(baseball_csv)\n",
    "\n",
    "# Create and Read the list of height, weight, and age or 2 columns: np_baseball\n",
    "np_baseball = np_baseball_csv[:, 3:5]\n",
    "\n",
    "# Print out the 5th row of np_baseball\n",
    "print(\"the 5th row of np_baseball:\\n\", np_baseball[:5])\n",
    "\n",
    "# Select the entire second column of np_baseball: np_weight_lb\n",
    "np_weight_lb = np_baseball[:, 1]\n",
    "\n",
    "# Print out height of 124th player -> The element of 124th is index 123\n",
    "print(\"height of 124th player is\", np_baseball[123, 0])"
   ]
  },
  {
   "cell_type": "markdown",
   "id": "165c279b-77fb-4a8a-ba2c-0af5a64a843d",
   "metadata": {},
   "source": [
    "## 2D Arithmetic"
   ]
  },
  {
   "cell_type": "markdown",
   "id": "2e772be5-2ecf-474b-bb38-c7a74db4f3a7",
   "metadata": {},
   "source": [
    "Remember how you calculated the Body Mass Index for all baseball players? $\\color{blue}{\\text{numpy}}$ was able to perform all calculations element-wise (i.e. element by element). For 2D $\\color{blue}{\\text{numpy}}$ arrays this isn't any different! You can combine matrices with single numbers, with vectors, and with other matrices."
   ]
  },
  {
   "cell_type": "markdown",
   "id": "975dc545-44d1-46a8-9283-1a8c96f8ef1b",
   "metadata": {},
   "source": [
    "Execute the code below in the Python and see if you understand:"
   ]
  },
  {
   "cell_type": "code",
   "execution_count": 65,
   "id": "43fa58cf-d2de-4db5-8c9b-46c9d4376106",
   "metadata": {
    "tags": []
   },
   "outputs": [
    {
     "data": {
      "text/plain": [
       "array([[ 2,  4],\n",
       "       [ 6,  8],\n",
       "       [10, 12]])"
      ]
     },
     "execution_count": 65,
     "metadata": {},
     "output_type": "execute_result"
    }
   ],
   "source": [
    "import numpy as np\n",
    "np_mat = np.array([[1, 2],\n",
    "                   [3, 4],\n",
    "                   [5, 6]])\n",
    "np_mat * 2"
   ]
  },
  {
   "cell_type": "code",
   "execution_count": 66,
   "id": "29846a11-a6f1-47ce-861c-69cad6852986",
   "metadata": {
    "tags": []
   },
   "outputs": [
    {
     "data": {
      "text/plain": [
       "array([[11, 12],\n",
       "       [13, 14],\n",
       "       [15, 16]])"
      ]
     },
     "execution_count": 66,
     "metadata": {},
     "output_type": "execute_result"
    }
   ],
   "source": [
    "import numpy as np\n",
    "np_mat = np.array([[1, 2],\n",
    "                   [3, 4],\n",
    "                   [5, 6]])\n",
    "np_mat + np.array([10, 10])"
   ]
  },
  {
   "cell_type": "code",
   "execution_count": 67,
   "id": "5a10a912-337e-4585-a56c-96a18db1765e",
   "metadata": {
    "tags": []
   },
   "outputs": [
    {
     "data": {
      "text/plain": [
       "array([[ 2,  4],\n",
       "       [ 6,  8],\n",
       "       [10, 12]])"
      ]
     },
     "execution_count": 67,
     "metadata": {},
     "output_type": "execute_result"
    }
   ],
   "source": [
    "import numpy as np\n",
    "np_mat = np.array([[1, 2],\n",
    "                   [3, 4],\n",
    "                   [5, 6]])\n",
    "np_mat + np_mat"
   ]
  },
  {
   "cell_type": "markdown",
   "id": "fd3821ee-14ff-4302-a154-d033802e37cc",
   "metadata": {},
   "source": [
    "$\\color{blue}{\\text{np\\_baseball}}$ is coded for you; it's again a 2D $\\color{blue}{\\text{numpy}}$ array with **3 columns** representing **height (in inches)**, **weight (in pounds)** and **age (in years)**."
   ]
  },
  {
   "cell_type": "code",
   "execution_count": 68,
   "id": "917b3241-1f25-4b8f-b90e-47d7f16dac29",
   "metadata": {
    "tags": []
   },
   "outputs": [
    {
     "name": "stdout",
     "output_type": "stream",
     "text": [
      "baseball 3 columns(height, weight, age) conversion:\n",
      " [[ 1.88  81.647 22.99 ]\n",
      " [ 1.88  97.522 34.69 ]\n",
      " [ 1.829 95.254 30.78 ]\n",
      " ...\n",
      " [ 1.905 92.986 25.19 ]\n",
      " [ 1.905 86.182 31.01 ]\n",
      " [ 1.854 88.45  27.92 ]]\n"
     ]
    }
   ],
   "source": [
    "#import pandas\n",
    "import pandas as pd\n",
    "\n",
    "# Import numpy package\n",
    "import numpy as np\n",
    "\n",
    "# Read the CSV file and just list height and weight\n",
    "baseball_csv = pd.read_csv(\"baseball.csv\")\n",
    "\n",
    "# create np_baseball_csv as numpy arrays\n",
    "np_baseball_csv = np.array(baseball_csv)\n",
    "\n",
    "# Create and Read the list of height, weight, and age or 3 columns: np_baseball\n",
    "np_baseball = (np_baseball_csv[:, 3:6]).astype(float)\n",
    "\n",
    "# Create numpy array: conversion\n",
    "conversion = (np.array([0.0254, 0.453592, 1])).astype(float)\n",
    "\n",
    "# Print out product of np_baseball and conversion\n",
    "print(\"baseball 3 columns(height, weight, age) conversion:\\n\", np.round(np_baseball * conversion, decimals=3))"
   ]
  },
  {
   "cell_type": "markdown",
   "id": "6251ee34-9e75-44ab-a148-530d84e4db3b",
   "metadata": {},
   "source": [
    "## Average versus median"
   ]
  },
  {
   "cell_type": "markdown",
   "id": "0b5dc99d-5888-4a40-ab75-acf26d803dbf",
   "metadata": {},
   "source": [
    "You now know how to use $\\color{blue}{\\text{numpy}}$ functions to get a better feeling for your data. It basically comes down to importing $\\color{blue}{\\text{numpy}}$ and then calling several simple functions on the $\\color{blue}{\\text{numpy}}$ arrays:"
   ]
  },
  {
   "cell_type": "code",
   "execution_count": 69,
   "id": "75851a0e-30f4-40e8-82dd-c3e20829dce1",
   "metadata": {
    "tags": []
   },
   "outputs": [
    {
     "data": {
      "text/plain": [
       "7.0"
      ]
     },
     "execution_count": 69,
     "metadata": {},
     "output_type": "execute_result"
    }
   ],
   "source": [
    "import numpy as np\n",
    "x = [1, 4, 8, 10, 12]\n",
    "np.mean(x)"
   ]
  },
  {
   "cell_type": "code",
   "execution_count": 70,
   "id": "f535c10e-9ef4-4565-9348-116f2e2e0e31",
   "metadata": {
    "tags": []
   },
   "outputs": [
    {
     "data": {
      "text/plain": [
       "8.0"
      ]
     },
     "execution_count": 70,
     "metadata": {},
     "output_type": "execute_result"
    }
   ],
   "source": [
    "import numpy as np\n",
    "x = [1, 4, 8, 10, 12]\n",
    "np.median(x)"
   ]
  },
  {
   "cell_type": "markdown",
   "id": "ee012de0-e906-4ee2-a2ac-84b5a43a367f",
   "metadata": {},
   "source": [
    "The baseball data is available as a 2D $\\color{blue}{\\text{numpy}}$ array with 3 columns (height, weight, age) and 1015 rows. The name of this $\\color{blue}{\\text{numpy}}$ array is $\\color{blue}{\\text{np\\_baseball}}$."
   ]
  },
  {
   "cell_type": "code",
   "execution_count": 71,
   "id": "28542552-4c8b-4eff-b9ce-2801cd82fd05",
   "metadata": {
    "tags": []
   },
   "outputs": [
    {
     "name": "stdout",
     "output_type": "stream",
     "text": [
      "73.6896551724138\n",
      "74.0\n"
     ]
    }
   ],
   "source": [
    "#import pandas\n",
    "import pandas as pd\n",
    "\n",
    "# Import numpy package\n",
    "import numpy as np\n",
    "\n",
    "# Read the CSV file and just list height and weight\n",
    "baseball_csv = pd.read_csv(\"baseball.csv\")\n",
    "\n",
    "# create np_baseball_csv as numpy arrays\n",
    "np_baseball_csv = np.array(baseball_csv)\n",
    "\n",
    "# Create and Read the list of height, weight, and age or 3 columns: np_baseball\n",
    "np_baseball = np_baseball_csv[:, 3:6]\n",
    "\n",
    "# Create np_height_in from np_baseball\n",
    "np_height_in = np_baseball[:,0]\n",
    "\n",
    "# Print out the mean of np_height_in\n",
    "print(np.mean(np_height_in))\n",
    "\n",
    "# Print out the median of np_height_in\n",
    "print(np.median(np_height_in))"
   ]
  },
  {
   "cell_type": "markdown",
   "id": "ce7d8595-3c1a-4e0a-9d2c-1653cf9f44a0",
   "metadata": {},
   "source": [
    "## Explore the baseball data"
   ]
  },
  {
   "cell_type": "markdown",
   "id": "99466268-14b1-414d-88ae-8f0781d6fe81",
   "metadata": {},
   "source": [
    "Because the mean and median are so far apart, you decide to complain to the MLB. They find the error and send the corrected data over to you. It's again available as a 2D NumPy array $\\color{blue}{\\text{np\\_baseball}}$, with three columns."
   ]
  },
  {
   "cell_type": "markdown",
   "id": "38d770f6-6bcf-4b09-b81c-4a4c1d7aec9e",
   "metadata": {},
   "source": [
    "The Python script in the editor already includes code to print out informative messages with the different summary statistics. Can you finish the job? $\\color{blue}{\\text{np\\_baseball}}$ is available."
   ]
  },
  {
   "cell_type": "code",
   "execution_count": 72,
   "id": "8acd616a-9550-461d-a81b-d7002a2b8c69",
   "metadata": {
    "tags": []
   },
   "outputs": [
    {
     "name": "stdout",
     "output_type": "stream",
     "text": [
      "Average\t\t\t: 73.6896551724138\n",
      "Median\t\t\t: 74.0\n",
      "Standard Deviation\t: 2.312791881046546\n",
      "\n",
      "Correlation:\n",
      "[[1.         0.53153932]\n",
      " [0.53153932 1.        ]]\n"
     ]
    }
   ],
   "source": [
    "#import pandas\n",
    "import pandas as pd\n",
    "\n",
    "# Import numpy package\n",
    "import numpy as np\n",
    "\n",
    "# Read the CSV file and just list height and weight\n",
    "baseball_csv = pd.read_csv(\"baseball.csv\")\n",
    "\n",
    "# create np_baseball_csv as numpy arrays\n",
    "np_baseball_csv = np.array(baseball_csv)\n",
    "\n",
    "# Create and Read the list of height, weight, and age or 3 columns: np_baseball\n",
    "np_baseball = (np_baseball_csv[:, 3:6]).astype(float)\n",
    "\n",
    "# Print mean height (first column)\n",
    "avg = np.mean(np_baseball[:,0])\n",
    "print(\"Average\\t\\t\\t: \" + str(avg))\n",
    "\n",
    "# Print median height. Replace 'None'\n",
    "med = np.median(np_baseball[:,0])\n",
    "print(\"Median\\t\\t\\t: \" + str(med))\n",
    "\n",
    "# Print out the standard deviation on height. Replace 'None'\n",
    "stddev = np.std(np_baseball[:,0])\n",
    "print(\"Standard Deviation\\t: \" + str(stddev))\n",
    "\n",
    "# Print out correlation between first and second column. Replace 'None'\n",
    "corr = np.corrcoef(np_baseball[:,0], np_baseball[:,1])\n",
    "print(\"\\nCorrelation:\\n\" + str(corr))"
   ]
  },
  {
   "cell_type": "markdown",
   "id": "54720fba-4aba-47c3-84ea-96e189ae2ed5",
   "metadata": {},
   "source": [
    "## Blend it all together"
   ]
  },
  {
   "cell_type": "markdown",
   "id": "383f626b-837f-48ce-8b00-f15970ee9765",
   "metadata": {},
   "source": [
    "In the last few exercises you've learned everything there is to know about heights and weights of baseball players. Now it's time to dive into another sport: soccer."
   ]
  },
  {
   "cell_type": "markdown",
   "id": "47e93f25-2c7d-49c2-85dc-4a81bc75a5a9",
   "metadata": {},
   "source": [
    "You've contacted FIFA for some data and they handed you two lists. The lists are the following:"
   ]
  },
  {
   "cell_type": "markdown",
   "id": "fc3a6d6d-6bb2-4d77-b5af-fbff43a9bb9c",
   "metadata": {},
   "source": [
    "positions = ['GK', 'M', 'A', 'D', ...]\n",
    "heights = [191, 184, 185, 180, ...]"
   ]
  },
  {
   "cell_type": "markdown",
   "id": "ec032cdc-f000-4d1f-9772-cc8c11f5e09b",
   "metadata": {},
   "source": [
    "Each element in the lists corresponds to a player. The first list, $\\color{blue}{\\text{positions}}$, contains strings representing each player's position. The possible positions are: $\\color{red}{\\text{'GK'}}$ (goalkeeper), $\\color{red}{\\text{'M'}}$ (midfield), $\\color{red}{\\text{'A'}}$ (attack) and $\\color{red}{\\text{'D'}}$ (defense). The second list, $\\color{blue}{\\text{heights}}$, contains integers representing the height of the player in cm. The first player in the lists is a goalkeeper and is pretty tall (191 cm)."
   ]
  },
  {
   "cell_type": "markdown",
   "id": "6ddf8186-afdc-40f1-a4ff-70887b326a09",
   "metadata": {},
   "source": [
    "You're fairly confident that the median height of goalkeepers is higher than that of other players on the soccer field. Some of your friends don't believe you, so you are determined to show them using the data you received from FIFA and your newly acquired Python skills. $\\color{blue}{\\text{heights}}$ and $\\color{blue}{\\text{positions}}$ are available as lists"
   ]
  },
  {
   "cell_type": "code",
   "execution_count": 73,
   "id": "de2b30e7-f505-4d65-bb9f-c3598311a2c6",
   "metadata": {
    "tags": []
   },
   "outputs": [
    {
     "name": "stdout",
     "output_type": "stream",
     "text": [
      "fifa shape\t\t: (8847, 2)\n",
      "np_positions\t\t: [' GK' ' M' ' A' ... ' D' ' D' ' M']\n",
      "np_heights\t\t: [191 184 185 ... 183 179 179]\n",
      "np_positions_wws\t: ['GK' 'M' 'A' ... 'D' 'D' 'M']\n",
      "\n",
      "Median height of goalkeepers\t: 188.0\n",
      "Median height of other players\t: 181.0\n"
     ]
    }
   ],
   "source": [
    "#import pandas\n",
    "import pandas as pd\n",
    "\n",
    "# Import numpy package\n",
    "import numpy as np\n",
    "\n",
    "# Read the CSV file and just list height and weight\n",
    "fifa_csv = pd.read_csv(\"fifa.csv\")\n",
    "\n",
    "# create np_baseball_csv as numpy arrays\n",
    "np_fifa_csv = np.array(fifa_csv)\n",
    "\n",
    "# Create and Read the list of height, weight, and age or 3 columns: np_baseball\n",
    "np_fifa = np_fifa_csv[:, 3:5]\n",
    "print(\"fifa shape\\t\\t:\", np_fifa.shape)\n",
    "# Convert positions and heights to numpy arrays: np_positions, np_heights\n",
    "np_positions = (np_fifa[:,0]).astype(str)\n",
    "np_heights   = (np_fifa[:,1]).astype(int)\n",
    "\n",
    "# print : np_positions, np_heights\n",
    "print(\"np_positions\\t\\t:\", np_positions)\n",
    "print(\"np_heights\\t\\t:\", np_heights)\n",
    "\n",
    "# because list in np_positions there are white space,\n",
    "# so we can remove white space with np.char.strip()\n",
    "# wws = without white space\n",
    "np_positions_wws = np.char.strip(np_positions)\n",
    "print(\"np_positions_wws\\t:\", np_positions_wws)\n",
    "\n",
    "# Heights of the goalkeepers: gk_heights\n",
    "gk_heights = np_heights[np_positions_wws == \"GK\"]\n",
    "\n",
    "# Heights of the other players: other_heights\n",
    "other_heights = np_heights[np_positions_wws != \"GK\"]\n",
    "\n",
    "# Print out the median height of goalkeepers. Replace 'None'\n",
    "print(\"\\nMedian height of goalkeepers\\t: \" + str(np.median(gk_heights)))\n",
    "\n",
    "# Print out the median height of other players. Replace 'None'\n",
    "print(\"Median height of other players\\t: \" + str(np.median(other_heights)))"
   ]
  }
 ],
 "metadata": {
  "kernelspec": {
   "display_name": "Python 3 (ipykernel)",
   "language": "python",
   "name": "python3"
  },
  "language_info": {
   "codemirror_mode": {
    "name": "ipython",
    "version": 3
   },
   "file_extension": ".py",
   "mimetype": "text/x-python",
   "name": "python",
   "nbconvert_exporter": "python",
   "pygments_lexer": "ipython3",
   "version": "3.11.5"
  }
 },
 "nbformat": 4,
 "nbformat_minor": 5
}
