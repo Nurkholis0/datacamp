{
 "cells": [
  {
   "cell_type": "markdown",
   "id": "d9e2c711-b65b-4ff4-ae56-b002e0187767",
   "metadata": {
    "tags": []
   },
   "source": [
    "Name: Nurkholis\\\n",
    "Source: Datacamp"
   ]
  },
  {
   "cell_type": "markdown",
   "id": "ba708f83-686c-4574-849f-68b7f749dc16",
   "metadata": {},
   "source": [
    "# NumPy"
   ]
  },
  {
   "cell_type": "markdown",
   "id": "e6f05162-6153-47c5-abf2-95fb0b3afaeb",
   "metadata": {},
   "source": [
    "NumPy is a fundamental Python package to efficiently practice data science. Learn to work with powerful tools in the NumPy array, and get started with data exploration."
   ]
  },
  {
   "cell_type": "markdown",
   "id": "77b25b33-d45a-4a1d-be39-83f6a51496ea",
   "metadata": {},
   "source": [
    "## Your First NumPy Array"
   ]
  },
  {
   "cell_type": "markdown",
   "id": "274f15c3-5118-4878-9cab-fc371d54880b",
   "metadata": {},
   "source": [
    "In this chapter, we're going to dive into the world of baseball. Along the way, you'll get comfortable with the basics of $\\color{blue}{\\text{numpy}}$, a powerful package to do data science."
   ]
  },
  {
   "cell_type": "markdown",
   "id": "44ceb876-7385-4e91-936c-72393bb8eb79",
   "metadata": {},
   "source": [
    "A **list baseball** has already been defined in the Python script, representing the height of some baseball players in centimeters. Can you add some code here and there to create a $\\color{blue}{\\text{numpy}}$ array from it?"
   ]
  },
  {
   "cell_type": "code",
   "execution_count": 1,
   "id": "7e3ae48d-351c-45f4-b2ae-5b980071ac2f",
   "metadata": {
    "tags": []
   },
   "outputs": [
    {
     "name": "stdout",
     "output_type": "stream",
     "text": [
      "List baseball with numpy array\t: [180 215 210 210 188 176 209 200] \n",
      "type\t\t\t\t: <class 'numpy.ndarray'>\n"
     ]
    }
   ],
   "source": [
    "# Import the numpy package as np\n",
    "import numpy as np\n",
    "\n",
    "# Create list baseball\n",
    "baseball = [180, 215, 210, 210, 188, 176, 209, 200]\n",
    "\n",
    "# Create a numpy array from baseball: np_baseball\n",
    "np_baseball = np.array(baseball)\n",
    "\n",
    "# Print out type of np_baseball\n",
    "print(\"List baseball with numpy array\\t:\", np_baseball,\n",
    "      \"\\ntype\\t\\t\\t\\t:\", type(np_baseball))"
   ]
  },
  {
   "cell_type": "markdown",
   "id": "4f55817a-00b3-4f8d-af62-cdb9b1fef6f5",
   "metadata": {},
   "source": [
    "## Baseball players' height"
   ]
  },
  {
   "cell_type": "markdown",
   "id": "b80b29ad-6c2c-47f7-866f-635c30a3b11a",
   "metadata": {},
   "source": [
    "You are a huge baseball fan. You decide to call the MLB (Major League Baseball) and ask around for some more statistics on the height of the main players. They pass along data on more than a thousand players, which is stored as a regular Python list: $\\color{blue}{\\text{height\\_in}}$. The height is expressed in inches. Can you make a $\\color{blue}{\\text{numpy}}$ array out of it and convert the units to meters?"
   ]
  },
  {
   "cell_type": "markdown",
   "id": "8d3e408d-1e0a-4fcf-ae85-6eefc61f2b77",
   "metadata": {},
   "source": [
    "$\\color{blue}{\\text{height\\_in}}$ is already available and the numpy package is loaded, so you can start straight away (Source: <a href=\"https://wiki.stat.ucla.edu/socr/index.php/SOCR_Data_MLB_HeightsWeights\" target=\"_blank\" rel=\"noopener noreferrer\">$\\color{blue}{\\text{stat.ucla.edu}}$</a>)."
   ]
  },
  {
   "cell_type": "code",
   "execution_count": 2,
   "id": "02d98b2c-71c3-4c0e-b751-3a4ef8960c3d",
   "metadata": {
    "tags": []
   },
   "outputs": [
    {
     "name": "stdout",
     "output_type": "stream",
     "text": [
      "baseball player height (in inches): [74 74 72 ... 75 75 73]\n",
      "baseball player height (in meters): [1.88 1.88 1.83 ... 1.9  1.9  1.85]\n"
     ]
    }
   ],
   "source": [
    "#import pandas\n",
    "import pandas as pd\n",
    "\n",
    "# Import numpy\n",
    "import numpy as np\n",
    "\n",
    "# Read the CSV file\n",
    "baseball_csv = pd.read_csv(\"baseball.csv\")\n",
    "\n",
    "# create np_baseball_csv as numpy arrays\n",
    "np_baseball_csv = np.array(baseball_csv)\n",
    "\n",
    "# Read just the list height.\n",
    "height_in = np_baseball_csv[:, 3]\n",
    "\n",
    "# Create a numpy array from height_in: np_height_in\n",
    "np_height_in = np.array(height_in)\n",
    "\n",
    "# Print out np_height_in \n",
    "print(\"baseball player height (in inches):\", np_height_in)\n",
    "\n",
    "# Convert np_height_in to m: np_height_m\n",
    "np_height_m = np_height_in * 0.0254\n",
    "\n",
    "# Convert np_height_m with int function to float function: np_height_m_float\n",
    "np_height_m_float = np_height_m.astype(float)\n",
    "\n",
    "# Print np_height_m_float\n",
    "print(\"baseball player height (in meters):\", np.round(np_height_m_float, decimals=2))"
   ]
  },
  {
   "cell_type": "markdown",
   "id": "2d468baa-9760-43b5-b511-4256f90882cc",
   "metadata": {},
   "source": [
    "## Baseball player's BMI"
   ]
  },
  {
   "cell_type": "markdown",
   "id": "243da9f2-9cc0-44fb-99ab-9152a2fc3903",
   "metadata": {},
   "source": [
    "The MLB also offers to let you analyze their weight data. Again, both are available as regular Python lists: $\\color{blue}{\\text{height\\_in}}$ and $\\color{blue}{\\text{weight\\_lb}}$. $\\color{blue}{\\text{height\\_in}}$ is **in inches** and $\\color{blue}{\\text{weight\\_lb}}$ is **in pounds**."
   ]
  },
  {
   "cell_type": "markdown",
   "id": "f2778049-de41-41f7-93c7-7a51564b55a1",
   "metadata": {},
   "source": [
    "It's now possible to calculate the BMI of each baseball player."
   ]
  },
  {
   "cell_type": "code",
   "execution_count": 3,
   "id": "7874969d-7e76-4661-87b9-66fe3d741654",
   "metadata": {
    "tags": []
   },
   "outputs": [
    {
     "name": "stdout",
     "output_type": "stream",
     "text": [
      "BMI of each baseball player: [23.11  27.604 28.481 ... 25.623 23.748 25.727]\n"
     ]
    }
   ],
   "source": [
    "#import pandas\n",
    "import pandas as pd\n",
    "\n",
    "# Import numpy\n",
    "import numpy as np\n",
    "\n",
    "# Read the CSV file and just list height and weight\n",
    "baseball_csv = pd.read_csv(\"baseball.csv\")\n",
    "\n",
    "# create np_baseball_csv as numpy arrays\n",
    "np_baseball_csv = np.array(baseball_csv)\n",
    "\n",
    "# Read just the list height and weight.\n",
    "height_in = np_baseball_csv[:, 3]\n",
    "weight_lb = np_baseball_csv[:, 4]\n",
    "\n",
    "# Create array from height_in with metric units: np_height_m\n",
    "np_height_m = (np.array(height_in) * 0.0254).astype(float)\n",
    "\n",
    "# Create array from weight_lb with metric units: np_weight_kg\n",
    "np_weight_kg = (np.array(weight_lb) * 0.453592).astype(float)\n",
    "\n",
    "# Calculate the BMI: bmi\n",
    "bmi = np.round(np_weight_kg / np_height_m **2, decimals=3)\n",
    "\n",
    "# Print out bmi\n",
    "print(\"BMI of each baseball player:\", bmi)"
   ]
  },
  {
   "cell_type": "markdown",
   "id": "3f62f7b5-2b4d-42b7-bd05-30decbcec55c",
   "metadata": {},
   "source": [
    "## Lightweight baseball players"
   ]
  },
  {
   "cell_type": "markdown",
   "id": "1c07505e-4f54-4792-a893-7c72c24d28e1",
   "metadata": {},
   "source": [
    "To subset both regular Python lists and $\\color{blue}{\\text{numpy}}$ arrays, you can use square brackets:"
   ]
  },
  {
   "cell_type": "code",
   "execution_count": 4,
   "id": "67789232-b57e-4f61-9bf3-a7bffb3f6af4",
   "metadata": {
    "tags": []
   },
   "outputs": [
    {
     "data": {
      "text/plain": [
       "9"
      ]
     },
     "execution_count": 4,
     "metadata": {},
     "output_type": "execute_result"
    }
   ],
   "source": [
    "x = [4 , 9 , 6, 3, 1]\n",
    "x[1]"
   ]
  },
  {
   "cell_type": "code",
   "execution_count": 5,
   "id": "03da7fe6-7c95-4b07-8ce9-9890488e8ca3",
   "metadata": {
    "tags": []
   },
   "outputs": [
    {
     "data": {
      "text/plain": [
       "9"
      ]
     },
     "execution_count": 5,
     "metadata": {},
     "output_type": "execute_result"
    }
   ],
   "source": [
    "x = [4 , 9 , 6, 3, 1]\n",
    "\n",
    "import numpy as np\n",
    "y = np.array(x)\n",
    "y[1]"
   ]
  },
  {
   "cell_type": "markdown",
   "id": "ef40df25-346d-421b-9125-b6419cc6a708",
   "metadata": {},
   "source": [
    "For numpy specifically, you can also use **boolean** $\\color{blue}{\\text{numpy}}$ arrays:"
   ]
  },
  {
   "cell_type": "code",
   "execution_count": 6,
   "id": "0f8b1756-1e66-47f7-b594-6528baa716d7",
   "metadata": {
    "tags": []
   },
   "outputs": [
    {
     "data": {
      "text/plain": [
       "array([9, 6])"
      ]
     },
     "execution_count": 6,
     "metadata": {},
     "output_type": "execute_result"
    }
   ],
   "source": [
    "y = np.array([4 , 9 , 6, 3, 1])\n",
    "high = y > 5\n",
    "y[high]"
   ]
  },
  {
   "cell_type": "markdown",
   "id": "4166393c-0060-4719-b4a9-a75ab618da3b",
   "metadata": {},
   "source": [
    "Follow the instructions and reveal interesting things from the data! $\\color{blue}{\\text{height\\_in}}$ and $\\color{blue}{\\text{weight\\_lb}}$ are available as regular lists."
   ]
  },
  {
   "cell_type": "code",
   "execution_count": 7,
   "id": "84fceea7-f06b-417a-a2fd-5585052d9a93",
   "metadata": {
    "tags": []
   },
   "outputs": [
    {
     "name": "stdout",
     "output_type": "stream",
     "text": [
      "Boolean light of BMI\t: [[False False False ... False False False]]\n",
      "BMI\t\t\t: [20.54 20.54 20.69 20.69 20.34 20.34 20.69 20.16 19.5  20.69 20.92]\n"
     ]
    }
   ],
   "source": [
    "#import pandas\n",
    "import pandas as pd\n",
    "\n",
    "# Import numpy\n",
    "import numpy as np\n",
    "\n",
    "# Read the CSV file and just list height and weight\n",
    "baseball_csv = pd.read_csv(\"baseball.csv\")\n",
    "# create np_baseball_csv as numpy arrays\n",
    "np_baseball_csv = np.array(baseball_csv)\n",
    "\n",
    "# Calculate the BMI: bmi\n",
    "np_height_m = (np.array(height_in) * 0.0254).astype(float)\n",
    "np_weight_kg = (np.array(weight_lb) * 0.453592).astype(float)\n",
    "bmi = np.round(np_weight_kg / np_height_m ** 2, decimals = 2)\n",
    "\n",
    "# Create the light array\n",
    "Light = bmi < 21\n",
    "\n",
    "# Print out light\n",
    "print(\"Boolean light of BMI\\t:\", Light[True])\n",
    "\n",
    "# Print out BMIs of all baseball players whose BMI is below 21\n",
    "print(\"BMI\\t\\t\\t:\", bmi[Light])"
   ]
  },
  {
   "cell_type": "markdown",
   "id": "f8b324ea-c5ae-46a7-83bc-331d7419887e",
   "metadata": {},
   "source": [
    "## NumPy Side Effects"
   ]
  },
  {
   "cell_type": "markdown",
   "id": "4e3e3646-4fe3-4306-b15e-35843b8d4c9c",
   "metadata": {},
   "source": [
    "As Hugo explained before, $\\color{blue}{\\text{numpy}}$ is great for doing vector arithmetic. If you compare its functionality with regular Python lists, however, some things have changed."
   ]
  },
  {
   "cell_type": "markdown",
   "id": "6d2faafb-dee8-4dc9-80fb-5c081ca64033",
   "metadata": {},
   "source": [
    "First of all, $\\color{blue}{\\text{numpy}}$ arrays cannot contain elements with different types. If you try to build such a list, some of the elements' types are changed to end up with a homogeneous list. This is known as type coercion."
   ]
  },
  {
   "cell_type": "markdown",
   "id": "59173a0d-3216-4986-9be2-bac756245bb8",
   "metadata": {},
   "source": [
    "Second, the typical arithmetic operators, **such as +, -, * and /** have a different meaning for regular Python lists and numpy arrays."
   ]
  },
  {
   "cell_type": "markdown",
   "id": "4dbcaa28-a11b-493d-ade3-3fff14531d19",
   "metadata": {},
   "source": [
    "Have a look at this line of code:"
   ]
  },
  {
   "cell_type": "code",
   "execution_count": 8,
   "id": "fa90a77b-ca74-4831-bbb2-ddf7e7cccaeb",
   "metadata": {
    "tags": []
   },
   "outputs": [
    {
     "data": {
      "text/plain": [
       "array([4, 5, 2])"
      ]
     },
     "execution_count": 8,
     "metadata": {},
     "output_type": "execute_result"
    }
   ],
   "source": [
    "np.array([True, 1, 2]) + np.array([3, 4, False])"
   ]
  },
  {
   "cell_type": "markdown",
   "id": "dbea4249-2182-4f2a-b730-6380d847a339",
   "metadata": {},
   "source": [
    "Can you tell which code chunk builds the exact same Python object? The $\\color{blue}{\\text{numpy}}$ package is already imported as $\\color{blue}{\\text{np}}$, so you can start experimenting in the Python!"
   ]
  },
  {
   "cell_type": "markdown",
   "id": "ae45533f-897a-4c09-87c1-71788f39124b",
   "metadata": {},
   "source": [
    "**Possible answers:** \\\n",
    "- np.array([True, 1, 2, 3, 4, False]) \\\n",
    "- **np.array([4, 3, 0]) + np.array([0, 2, 2])** \\\n",
    "- np.array([1, 1, 2]) + np.array([3, 4, -1]) \\\n",
    "- np.array([0, 1, 2, 3, 4, 5])"
   ]
  },
  {
   "cell_type": "markdown",
   "id": "06e161bf-4302-409f-9358-e9efc2e7c0c8",
   "metadata": {},
   "source": [
    "## Subsetting Numpy Arrays"
   ]
  },
  {
   "cell_type": "markdown",
   "id": "66c2a7ca-069a-41a3-a636-ec9ff6e4d0ae",
   "metadata": {},
   "source": [
    "You've seen it with your own eyes: Python lists and $\\color{blue}{\\text{numpy}}$ arrays sometimes behave differently. Luckily, there are still certainties in this world. For example, subsetting (using the square bracket notation on lists or arrays) works exactly the same. To see this for yourself, try the following lines of code in the Python:"
   ]
  },
  {
   "cell_type": "code",
   "execution_count": 9,
   "id": "6c113ed2-3c32-47a5-9387-a3d1ca991612",
   "metadata": {
    "tags": []
   },
   "outputs": [
    {
     "data": {
      "text/plain": [
       "'b'"
      ]
     },
     "execution_count": 9,
     "metadata": {},
     "output_type": "execute_result"
    }
   ],
   "source": [
    "x = [\"a\", \"b\", \"c\"]\n",
    "x[1]"
   ]
  },
  {
   "cell_type": "code",
   "execution_count": 10,
   "id": "4a0b56f9-ecdb-4544-9535-2cd2f3973285",
   "metadata": {
    "tags": []
   },
   "outputs": [
    {
     "data": {
      "text/plain": [
       "'b'"
      ]
     },
     "execution_count": 10,
     "metadata": {},
     "output_type": "execute_result"
    }
   ],
   "source": [
    "import numpy as np\n",
    "x = [\"a\", \"b\", \"c\"]\n",
    "\n",
    "np_x = np.array(x)\n",
    "np_x[1]"
   ]
  },
  {
   "cell_type": "markdown",
   "id": "8406163b-ae87-4c37-a361-c344998f2f0c",
   "metadata": {},
   "source": [
    "The script in the editor already contains code that imports $\\color{blue}{\\text{numpy}}$ as $\\color{blue}{\\text{np}}$, and stores both the height and weight of the MLB players as numpy arrays. $\\color{blue}{\\text{height\\_in}}$ and $\\color{blue}{\\text{weight\\_lb}}$ are available as regular lists."
   ]
  },
  {
   "cell_type": "code",
   "execution_count": 11,
   "id": "3e64ffbf-082e-4dc1-93e2-5d37014327e7",
   "metadata": {
    "tags": []
   },
   "outputs": [
    {
     "name": "stdout",
     "output_type": "stream",
     "text": [
      "the weight at index 50\t\t: 200\n",
      "the height at index 100-111\t: [73 74 72 73 69 72 73 75 75 73 72]\n"
     ]
    }
   ],
   "source": [
    "#import pandas\n",
    "import pandas as pd\n",
    "\n",
    "# Import numpy\n",
    "import numpy as np\n",
    "\n",
    "# Read the CSV file and just list height and weight\n",
    "baseball_csv = pd.read_csv(\"baseball.csv\")\n",
    "\n",
    "# create np_baseball_csv as numpy arrays\n",
    "np_baseball_csv = np.array(baseball_csv)\n",
    "\n",
    "# Read just the list height and weight.\n",
    "height_in = np_baseball_csv[:, 3]\n",
    "weight_lb = np_baseball_csv[:, 4]\n",
    "\n",
    "# Store weight and height lists as numpy arrays\n",
    "np_weight_lb = np.array(weight_lb)\n",
    "np_height_in = np.array(height_in)\n",
    "\n",
    "# Print out the weight at index 50\n",
    "print(\"the weight at index 50\\t\\t:\", np_weight_lb[50])\n",
    "\n",
    "# Print out sub-array of np_height_in: index 100 up to and including index 110\n",
    "print(\"the height at index 100-111\\t:\", np_height_in[100:111])"
   ]
  },
  {
   "cell_type": "markdown",
   "id": "da573ec2-fd26-43a7-ac67-49bed6a13854",
   "metadata": {},
   "source": [
    "## Your First 2D NumPy Array"
   ]
  },
  {
   "cell_type": "markdown",
   "id": "01efed8a-9378-4713-aadf-790c4ba756bd",
   "metadata": {},
   "source": [
    "Before working on the actual MLB data, let's try to create a 2D $\\color{blue}{\\text{numpy}}$ array from a small list of lists."
   ]
  },
  {
   "cell_type": "markdown",
   "id": "34081045-4e8b-4f29-8fd2-875206b7fea5",
   "metadata": {},
   "source": [
    "In this exercise, $\\color{blue}{\\text{baseball}}$ is a list of lists. The main list contains 4 elements. Each of these elements is a list containing the height and the weight of 4 baseball players, in this order. $\\color{blue}{\\text{baseball}}$ is already coded for you in the script."
   ]
  },
  {
   "cell_type": "code",
   "execution_count": 12,
   "id": "8bd1b4be-1b8c-4ab2-92b9-02ee90fb82aa",
   "metadata": {
    "tags": []
   },
   "outputs": [
    {
     "name": "stdout",
     "output_type": "stream",
     "text": [
      "type of np_baseball\t: <class 'numpy.ndarray'>\n",
      "shape of np_baseball\t: (4, 2)\n"
     ]
    }
   ],
   "source": [
    "# Import numpy\n",
    "import numpy as np\n",
    "\n",
    "# Create baseball, a list of lists\n",
    "baseball = [[180, 78.4],\n",
    "            [215, 102.7],\n",
    "            [210, 98.5],\n",
    "            [188, 75.2]]\n",
    "\n",
    "# Create a 2D numpy array from baseball: np_baseball\n",
    "np_baseball = np.array(baseball)\n",
    "\n",
    "# Print out the type of np_baseball\n",
    "print(\"type of np_baseball\\t:\", type(np_baseball))\n",
    "\n",
    "# Print out the shape of np_baseball\n",
    "print(\"shape of np_baseball\\t:\", np_baseball.shape)"
   ]
  },
  {
   "cell_type": "markdown",
   "id": "953e3995-2502-4030-856f-cf3b14437b84",
   "metadata": {},
   "source": [
    "## Baseball data in 2D form"
   ]
  },
  {
   "cell_type": "markdown",
   "id": "fe3299d3-59ba-4922-8a19-2c8edcedc65f",
   "metadata": {},
   "source": [
    "You have another look at the MLB data and realize that it makes more sense to restructure all this information in a 2D $\\color{blue}{\\text{numpy}}$ array. This array should have 1015 rows, corresponding to the 1015 baseball players you have information on, and 2 columns (for height and weight)."
   ]
  },
  {
   "cell_type": "markdown",
   "id": "a81ec332-0083-49d5-9539-643ba5661e4b",
   "metadata": {},
   "source": [
    "The MLB was, again, very helpful and passed you the data in a different structure, a Python list of lists. In this list of lists, each sublist represents the height and weight of a single baseball player. The name of this embedded list is $\\color{blue}{\\text{baseball}}$."
   ]
  },
  {
   "cell_type": "markdown",
   "id": "57b3dd9c-4a89-42e5-95ee-76bfa48f31ac",
   "metadata": {},
   "source": [
    "Can you store the data as a 2D array to unlock $\\color{blue}{\\text{numpy}}$'s extra functionality? $\\color{blue}{\\text{baseball}}$ is available as a regular list of lists."
   ]
  },
  {
   "cell_type": "code",
   "execution_count": 13,
   "id": "1212b3a4-c096-494f-a15e-aa48f2f9d2cb",
   "metadata": {
    "tags": []
   },
   "outputs": [
    {
     "name": "stdout",
     "output_type": "stream",
     "text": [
      "shape of np_baseball: (1015, 2)\n"
     ]
    }
   ],
   "source": [
    "#import pandas\n",
    "import pandas as pd\n",
    "\n",
    "# Import numpy\n",
    "import numpy as np\n",
    "\n",
    "# Read the CSV file and just list height and weight\n",
    "baseball_csv = pd.read_csv(\"baseball.csv\")\n",
    "\n",
    "# create np_baseball_csv as numpy arrays\n",
    "np_baseball_csv = np.array(baseball_csv)\n",
    "\n",
    "# Create and Read the list combined of height and weight: np_baseball\n",
    "np_baseball = np_baseball_csv[:, 3:5]\n",
    "\n",
    "# Print out the shape of np_baseball\n",
    "print(\"shape of np_baseball:\", np_baseball.shape)"
   ]
  },
  {
   "cell_type": "markdown",
   "id": "1a12f4a2-7fca-40a1-a1be-fa1fdfb7514f",
   "metadata": {},
   "source": [
    "## Subsetting 2D NumPy Arrays"
   ]
  },
  {
   "cell_type": "markdown",
   "id": "069a8680-d75a-4b22-9122-d477969a1caf",
   "metadata": {},
   "source": [
    "If your 2D $\\color{blue}{\\text{numpy}}$ array has a regular structure, i.e. each row and column has a fixed number of values, complicated ways of subsetting become very easy. Have a look at the code below where the elements $\\color{red}{\\text{\"a\"}}$ and $\\color{red}{\\text{\"c\"}}$ are extracted from a **list of lists**."
   ]
  },
  {
   "cell_type": "code",
   "execution_count": 14,
   "id": "3c61b5f2-2bce-42d1-83a8-0d7998906e56",
   "metadata": {
    "tags": []
   },
   "outputs": [
    {
     "data": {
      "text/plain": [
       "['a', 'c']"
      ]
     },
     "execution_count": 14,
     "metadata": {},
     "output_type": "execute_result"
    }
   ],
   "source": [
    "# regular list of lists\n",
    "x = [[\"a\", \"b\"], [\"c\", \"d\"]]\n",
    "[x[0][0], x[1][0]]"
   ]
  },
  {
   "cell_type": "code",
   "execution_count": 15,
   "id": "e856934b-71f3-497c-b843-efea1bf524c8",
   "metadata": {
    "tags": []
   },
   "outputs": [
    {
     "data": {
      "text/plain": [
       "array(['a', 'c'], dtype='<U1')"
      ]
     },
     "execution_count": 15,
     "metadata": {},
     "output_type": "execute_result"
    }
   ],
   "source": [
    "# regular list of lists\n",
    "x = [[\"a\", \"b\"], [\"c\", \"d\"]]\n",
    "\n",
    "# numpy\n",
    "import numpy as np\n",
    "np_x = np.array(x)\n",
    "np_x[:, 0]"
   ]
  },
  {
   "cell_type": "markdown",
   "id": "09991303-57d4-4e45-abee-1ed48aa05edb",
   "metadata": {},
   "source": [
    "For regular Python lists, this is a real pain. For 2D $\\color{blue}{\\text{numpy}}$ arrays, however, it's pretty intuitive! The indexes before the comma refer to the rows, while those after the comma refer to the columns. The $\\color{blue}{\\text{:}}$ is for slicing; in this example, it tells Python to include all rows."
   ]
  },
  {
   "cell_type": "markdown",
   "id": "e3bfa13f-d5d7-433e-88d8-a2245a93c4d4",
   "metadata": {},
   "source": [
    "The code that converts the pre-loaded $\\color{blue}{\\text{baseball}}$ list to a 2D $\\color{blue}{\\text{numpy}}$ array is already in the script. The first column contains the players' height in inches and the second column holds player weight, in pounds. Add some lines to make the correct selections. Remember that in Python, the first element is at index 0! $\\color{blue}{\\text{baseball}}$ is available as a regular list of lists."
   ]
  },
  {
   "cell_type": "code",
   "execution_count": 16,
   "id": "c84f8d0a-cc15-4b56-a717-76fb2414e7fa",
   "metadata": {
    "tags": []
   },
   "outputs": [
    {
     "name": "stdout",
     "output_type": "stream",
     "text": [
      "the 5th row of np_baseball:\n",
      " [[74 180]\n",
      " [74 215]\n",
      " [72 210]\n",
      " [72 210]\n",
      " [73 188]]\n",
      "height of 124th player is 75\n"
     ]
    }
   ],
   "source": [
    "#import pandas\n",
    "import pandas as pd\n",
    "\n",
    "# Import numpy\n",
    "import numpy as np\n",
    "\n",
    "# Read the CSV file and just list height and weight\n",
    "baseball_csv = pd.read_csv(\"baseball.csv\")\n",
    "\n",
    "# create np_baseball_csv as numpy arrays\n",
    "np_baseball_csv = np.array(baseball_csv)\n",
    "\n",
    "# Create and Read the list of height, weight, and age or 2 columns: np_baseball\n",
    "np_baseball = np_baseball_csv[:, 3:5]\n",
    "\n",
    "# Print out the 5th row of np_baseball\n",
    "print(\"the 5th row of np_baseball:\\n\", np_baseball[:5])\n",
    "\n",
    "# Select the entire second column of np_baseball: np_weight_lb\n",
    "np_weight_lb = np_baseball[:, 1]\n",
    "\n",
    "# Print out height of 124th player -> The element of 124th is index 123\n",
    "print(\"height of 124th player is\", np_baseball[123, 0])"
   ]
  },
  {
   "cell_type": "markdown",
   "id": "31eb80ae-af0d-4195-a9f8-8a11d9426606",
   "metadata": {},
   "source": [
    "## 2D Arithmetic"
   ]
  },
  {
   "cell_type": "markdown",
   "id": "f35c5a03-141b-406b-a635-1886219486fa",
   "metadata": {},
   "source": [
    "Remember how you calculated the Body Mass Index for all baseball players? $\\color{blue}{\\text{numpy}}$ was able to perform all calculations element-wise (i.e. element by element). For 2D $\\color{blue}{\\text{numpy}}$ arrays this isn't any different! You can combine matrices with single numbers, with vectors, and with other matrices."
   ]
  },
  {
   "cell_type": "markdown",
   "id": "540c0659-463b-4c21-994a-3594d99a6d27",
   "metadata": {},
   "source": [
    "Execute the code below in the Python and see if you understand:"
   ]
  },
  {
   "cell_type": "code",
   "execution_count": 17,
   "id": "fbded43f-1439-483d-abf6-13a4059b5020",
   "metadata": {
    "tags": []
   },
   "outputs": [
    {
     "data": {
      "text/plain": [
       "array([[ 2,  4],\n",
       "       [ 6,  8],\n",
       "       [10, 12]])"
      ]
     },
     "execution_count": 17,
     "metadata": {},
     "output_type": "execute_result"
    }
   ],
   "source": [
    "import numpy as np\n",
    "np_mat = np.array([[1, 2],\n",
    "                   [3, 4],\n",
    "                   [5, 6]])\n",
    "np_mat * 2"
   ]
  },
  {
   "cell_type": "code",
   "execution_count": 18,
   "id": "61264405-9825-4084-94e6-a3a0faa6f679",
   "metadata": {
    "tags": []
   },
   "outputs": [
    {
     "data": {
      "text/plain": [
       "array([[11, 12],\n",
       "       [13, 14],\n",
       "       [15, 16]])"
      ]
     },
     "execution_count": 18,
     "metadata": {},
     "output_type": "execute_result"
    }
   ],
   "source": [
    "import numpy as np\n",
    "np_mat = np.array([[1, 2],\n",
    "                   [3, 4],\n",
    "                   [5, 6]])\n",
    "np_mat + np.array([10, 10])"
   ]
  },
  {
   "cell_type": "code",
   "execution_count": 19,
   "id": "413dd92d-06de-4efb-aec0-d20b4885176c",
   "metadata": {
    "tags": []
   },
   "outputs": [
    {
     "data": {
      "text/plain": [
       "array([[ 2,  4],\n",
       "       [ 6,  8],\n",
       "       [10, 12]])"
      ]
     },
     "execution_count": 19,
     "metadata": {},
     "output_type": "execute_result"
    }
   ],
   "source": [
    "import numpy as np\n",
    "np_mat = np.array([[1, 2],\n",
    "                   [3, 4],\n",
    "                   [5, 6]])\n",
    "np_mat + np_mat"
   ]
  },
  {
   "cell_type": "markdown",
   "id": "68d03c5d-76b4-413c-b742-bb1dc720a78f",
   "metadata": {},
   "source": [
    "$\\color{blue}{\\text{np\\_baseball}}$ is coded for you; it's again a 2D $\\color{blue}{\\text{numpy}}$ array with **3 columns** representing **height (in inches)**, **weight (in pounds)** and **age (in years)**."
   ]
  },
  {
   "cell_type": "code",
   "execution_count": 20,
   "id": "7a392600-c092-4a9f-a25c-9615f655fb67",
   "metadata": {
    "tags": []
   },
   "outputs": [
    {
     "name": "stdout",
     "output_type": "stream",
     "text": [
      "baseball 3 columns(height, weight, age) conversion:\n",
      " [[ 1.88  81.647 22.99 ]\n",
      " [ 1.88  97.522 34.69 ]\n",
      " [ 1.829 95.254 30.78 ]\n",
      " ...\n",
      " [ 1.905 92.986 25.19 ]\n",
      " [ 1.905 86.182 31.01 ]\n",
      " [ 1.854 88.45  27.92 ]]\n"
     ]
    }
   ],
   "source": [
    "#import pandas\n",
    "import pandas as pd\n",
    "\n",
    "# Import numpy package\n",
    "import numpy as np\n",
    "\n",
    "# Read the CSV file and just list height and weight\n",
    "baseball_csv = pd.read_csv(\"baseball.csv\")\n",
    "\n",
    "# create np_baseball_csv as numpy arrays\n",
    "np_baseball_csv = np.array(baseball_csv)\n",
    "\n",
    "# Create and Read the list of height, weight, and age or 3 columns: np_baseball\n",
    "np_baseball = (np_baseball_csv[:, 3:6]).astype(float)\n",
    "\n",
    "# Create numpy array: conversion\n",
    "conversion = (np.array([0.0254, 0.453592, 1])).astype(float)\n",
    "\n",
    "# Print out product of np_baseball and conversion\n",
    "print(\"baseball 3 columns(height, weight, age) conversion:\\n\", np.round(np_baseball * conversion, decimals=3))"
   ]
  },
  {
   "cell_type": "markdown",
   "id": "05ffc053-4c95-4f7a-9762-a2a7e7128c0f",
   "metadata": {},
   "source": [
    "## Average versus median"
   ]
  },
  {
   "cell_type": "markdown",
   "id": "69dd0c3a-2a05-479a-8550-0253d1af7b2b",
   "metadata": {},
   "source": [
    "You now know how to use $\\color{blue}{\\text{numpy}}$ functions to get a better feeling for your data. It basically comes down to importing $\\color{blue}{\\text{numpy}}$ and then calling several simple functions on the $\\color{blue}{\\text{numpy}}$ arrays:"
   ]
  },
  {
   "cell_type": "code",
   "execution_count": 21,
   "id": "5345000b-1ded-4b99-9a66-0ad0717eea83",
   "metadata": {
    "tags": []
   },
   "outputs": [
    {
     "data": {
      "text/plain": [
       "7.0"
      ]
     },
     "execution_count": 21,
     "metadata": {},
     "output_type": "execute_result"
    }
   ],
   "source": [
    "import numpy as np\n",
    "x = [1, 4, 8, 10, 12]\n",
    "np.mean(x)"
   ]
  },
  {
   "cell_type": "code",
   "execution_count": 22,
   "id": "d2223133-3818-4bf9-a808-19bc538512c7",
   "metadata": {
    "tags": []
   },
   "outputs": [
    {
     "data": {
      "text/plain": [
       "8.0"
      ]
     },
     "execution_count": 22,
     "metadata": {},
     "output_type": "execute_result"
    }
   ],
   "source": [
    "import numpy as np\n",
    "x = [1, 4, 8, 10, 12]\n",
    "np.median(x)"
   ]
  },
  {
   "cell_type": "markdown",
   "id": "6a107d05-2ac0-4b73-8a0c-e172d6d1e774",
   "metadata": {},
   "source": [
    "The baseball data is available as a 2D $\\color{blue}{\\text{numpy}}$ array with 3 columns (height, weight, age) and 1015 rows. The name of this $\\color{blue}{\\text{numpy}}$ array is $\\color{blue}{\\text{np\\_baseball}}$."
   ]
  },
  {
   "cell_type": "code",
   "execution_count": 23,
   "id": "6968d095-2298-49d7-b914-b4828a2f1687",
   "metadata": {
    "tags": []
   },
   "outputs": [
    {
     "name": "stdout",
     "output_type": "stream",
     "text": [
      "73.6896551724138\n",
      "74.0\n"
     ]
    }
   ],
   "source": [
    "#import pandas\n",
    "import pandas as pd\n",
    "\n",
    "# Import numpy package\n",
    "import numpy as np\n",
    "\n",
    "# Read the CSV file and just list height and weight\n",
    "baseball_csv = pd.read_csv(\"baseball.csv\")\n",
    "\n",
    "# create np_baseball_csv as numpy arrays\n",
    "np_baseball_csv = np.array(baseball_csv)\n",
    "\n",
    "# Create and Read the list of height, weight, and age or 3 columns: np_baseball\n",
    "np_baseball = np_baseball_csv[:, 3:6]\n",
    "\n",
    "# Create np_height_in from np_baseball\n",
    "np_height_in = np_baseball[:,0]\n",
    "\n",
    "# Print out the mean of np_height_in\n",
    "print(np.mean(np_height_in))\n",
    "\n",
    "# Print out the median of np_height_in\n",
    "print(np.median(np_height_in))"
   ]
  },
  {
   "cell_type": "markdown",
   "id": "080df67e-6516-4bf6-b163-e9d0307e515e",
   "metadata": {},
   "source": [
    "## Explore the baseball data"
   ]
  },
  {
   "cell_type": "markdown",
   "id": "623d64ae-de9a-4bb2-a95c-7d2783a7a2ff",
   "metadata": {},
   "source": [
    "Because the mean and median are so far apart, you decide to complain to the MLB. They find the error and send the corrected data over to you. It's again available as a 2D NumPy array $\\color{blue}{\\text{np\\_baseball}}$, with three columns."
   ]
  },
  {
   "cell_type": "markdown",
   "id": "481424db-3264-4a59-84b5-46b998d1de05",
   "metadata": {},
   "source": [
    "The Python script in the editor already includes code to print out informative messages with the different summary statistics. Can you finish the job? $\\color{blue}{\\text{np\\_baseball}}$ is available."
   ]
  },
  {
   "cell_type": "code",
   "execution_count": 24,
   "id": "1fbbe0c5-5390-49d8-bde4-03c45e0fc933",
   "metadata": {
    "tags": []
   },
   "outputs": [
    {
     "name": "stdout",
     "output_type": "stream",
     "text": [
      "Average\t\t\t: 73.6896551724138\n",
      "Median\t\t\t: 74.0\n",
      "Standard Deviation\t: 2.312791881046546\n",
      "\n",
      "Correlation:\n",
      "[[1.         0.53153932]\n",
      " [0.53153932 1.        ]]\n"
     ]
    }
   ],
   "source": [
    "#import pandas\n",
    "import pandas as pd\n",
    "\n",
    "# Import numpy package\n",
    "import numpy as np\n",
    "\n",
    "# Read the CSV file and just list height and weight\n",
    "baseball_csv = pd.read_csv(\"baseball.csv\")\n",
    "\n",
    "# create np_baseball_csv as numpy arrays\n",
    "np_baseball_csv = np.array(baseball_csv)\n",
    "\n",
    "# Create and Read the list of height, weight, and age or 3 columns: np_baseball\n",
    "np_baseball = (np_baseball_csv[:, 3:6]).astype(float)\n",
    "\n",
    "# Print mean height (first column)\n",
    "avg = np.mean(np_baseball[:,0])\n",
    "print(\"Average\\t\\t\\t: \" + str(avg))\n",
    "\n",
    "# Print median height. Replace 'None'\n",
    "med = np.median(np_baseball[:,0])\n",
    "print(\"Median\\t\\t\\t: \" + str(med))\n",
    "\n",
    "# Print out the standard deviation on height. Replace 'None'\n",
    "stddev = np.std(np_baseball[:,0])\n",
    "print(\"Standard Deviation\\t: \" + str(stddev))\n",
    "\n",
    "# Print out correlation between first and second column. Replace 'None'\n",
    "corr = np.corrcoef(np_baseball[:,0], np_baseball[:,1])\n",
    "print(\"\\nCorrelation:\\n\" + str(corr))"
   ]
  },
  {
   "cell_type": "markdown",
   "id": "0414705b-e110-4588-94a6-0a6395de4a52",
   "metadata": {},
   "source": [
    "## Blend it all together"
   ]
  },
  {
   "cell_type": "markdown",
   "id": "d981005a-7b6b-4546-acdc-3048dc7584f2",
   "metadata": {},
   "source": [
    "In the last few exercises you've learned everything there is to know about heights and weights of baseball players. Now it's time to dive into another sport: soccer."
   ]
  },
  {
   "cell_type": "markdown",
   "id": "a6b40978-d5b7-4ff6-bb26-a1f880fe0222",
   "metadata": {},
   "source": [
    "You've contacted FIFA for some data and they handed you two lists. The lists are the following:"
   ]
  },
  {
   "cell_type": "markdown",
   "id": "4d06d5ca-2f96-4d8b-9ecb-64284af1743c",
   "metadata": {},
   "source": [
    "positions = ['GK', 'M', 'A', 'D', ...]\n",
    "heights = [191, 184, 185, 180, ...]"
   ]
  },
  {
   "cell_type": "markdown",
   "id": "b2b82dd1-7ada-49fc-b639-4cefc7e40610",
   "metadata": {},
   "source": [
    "Each element in the lists corresponds to a player. The first list, $\\color{blue}{\\text{positions}}$, contains strings representing each player's position. The possible positions are: $\\color{red}{\\text{'GK'}}$ (goalkeeper), $\\color{red}{\\text{'M'}}$ (midfield), $\\color{red}{\\text{'A'}}$ (attack) and $\\color{red}{\\text{'D'}}$ (defense). The second list, $\\color{blue}{\\text{heights}}$, contains integers representing the height of the player in cm. The first player in the lists is a goalkeeper and is pretty tall (191 cm)."
   ]
  },
  {
   "cell_type": "markdown",
   "id": "2e500971-20de-4c5d-8855-d26ba5bb810c",
   "metadata": {},
   "source": [
    "You're fairly confident that the median height of goalkeepers is higher than that of other players on the soccer field. Some of your friends don't believe you, so you are determined to show them using the data you received from FIFA and your newly acquired Python skills. $\\color{blue}{\\text{heights}}$ and $\\color{blue}{\\text{positions}}$ are available as lists"
   ]
  },
  {
   "cell_type": "code",
   "execution_count": 25,
   "id": "bfa8dbba-a247-4b8c-bb0d-dc3f46cf2c5d",
   "metadata": {
    "tags": []
   },
   "outputs": [
    {
     "name": "stdout",
     "output_type": "stream",
     "text": [
      "fifa shape\t\t: (8847, 2)\n",
      "np_positions\t\t: [' GK' ' M' ' A' ... ' D' ' D' ' M']\n",
      "np_heights\t\t: [191 184 185 ... 183 179 179]\n",
      "np_positions_wws\t: ['GK' 'M' 'A' ... 'D' 'D' 'M']\n",
      "\n",
      "Median height of goalkeepers\t: 188.0\n",
      "Median height of other players\t: 181.0\n"
     ]
    }
   ],
   "source": [
    "#import pandas\n",
    "import pandas as pd\n",
    "\n",
    "# Import numpy package\n",
    "import numpy as np\n",
    "\n",
    "# Read the CSV file and just list height and weight\n",
    "fifa_csv = pd.read_csv(\"fifa.csv\")\n",
    "\n",
    "# create np_baseball_csv as numpy arrays\n",
    "np_fifa_csv = np.array(fifa_csv)\n",
    "\n",
    "# Create and Read the list of height, weight, and age or 3 columns: np_baseball\n",
    "np_fifa = np_fifa_csv[:, 3:5]\n",
    "print(\"fifa shape\\t\\t:\", np_fifa.shape)\n",
    "# Convert positions and heights to numpy arrays: np_positions, np_heights\n",
    "np_positions = (np_fifa[:,0]).astype(str)\n",
    "np_heights   = (np_fifa[:,1]).astype(int)\n",
    "\n",
    "# print : np_positions, np_heights\n",
    "print(\"np_positions\\t\\t:\", np_positions)\n",
    "print(\"np_heights\\t\\t:\", np_heights)\n",
    "\n",
    "# because list in np_positions there are white space,\n",
    "# so we can remove white space with np.char.strip()\n",
    "# wws = without white space\n",
    "np_positions_wws = np.char.strip(np_positions)\n",
    "print(\"np_positions_wws\\t:\", np_positions_wws)\n",
    "\n",
    "# Heights of the goalkeepers: gk_heights\n",
    "gk_heights = np_heights[np_positions_wws == \"GK\"]\n",
    "\n",
    "# Heights of the other players: other_heights\n",
    "other_heights = np_heights[np_positions_wws != \"GK\"]\n",
    "\n",
    "# Print out the median height of goalkeepers. Replace 'None'\n",
    "print(\"\\nMedian height of goalkeepers\\t: \" + str(np.median(gk_heights)))\n",
    "\n",
    "# Print out the median height of other players. Replace 'None'\n",
    "print(\"Median height of other players\\t: \" + str(np.median(other_heights)))"
   ]
  }
 ],
 "metadata": {
  "kernelspec": {
   "display_name": "Python 3 (ipykernel)",
   "language": "python",
   "name": "python3"
  },
  "language_info": {
   "codemirror_mode": {
    "name": "ipython",
    "version": 3
   },
   "file_extension": ".py",
   "mimetype": "text/x-python",
   "name": "python",
   "nbconvert_exporter": "python",
   "pygments_lexer": "ipython3",
   "version": "3.11.5"
  }
 },
 "nbformat": 4,
 "nbformat_minor": 5
}
