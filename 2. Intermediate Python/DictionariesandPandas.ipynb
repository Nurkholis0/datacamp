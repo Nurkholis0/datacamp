{
 "cells": [
  {
   "cell_type": "markdown",
   "id": "33b3e55b-961a-4751-9375-52ddfab64bf8",
   "metadata": {},
   "source": [
    "Name  : Nurkholis \\\n",
    "Source: Datacamp"
   ]
  },
  {
   "cell_type": "markdown",
   "id": "5d6e33a7-2767-499f-9231-d019f1acfc9e",
   "metadata": {
    "tags": []
   },
   "source": [
    "# Dictionaries & Pandas"
   ]
  },
  {
   "cell_type": "markdown",
   "id": "8eb03044-9106-4822-97b0-92583db293bf",
   "metadata": {},
   "source": [
    "## Motivation for dictionaries"
   ]
  },
  {
   "cell_type": "markdown",
   "id": "253c3429-62dd-48d1-b7a2-bcd02a64002e",
   "metadata": {},
   "source": [
    "To see why dictionaries are useful, have a look at the two lists defined in the script. $\\color{red}{\\text{countries}}$ contains the names of some European countries. $\\color{red}{\\text{capitals}}$ lists the corresponding names of their capital."
   ]
  },
  {
   "cell_type": "code",
   "execution_count": 2,
   "id": "cf9cc21a-627c-4e12-92db-aedd7c3de4e6",
   "metadata": {
    "tags": []
   },
   "outputs": [
    {
     "name": "stdout",
     "output_type": "stream",
     "text": [
      "the capital of Germany is berlin\n"
     ]
    }
   ],
   "source": [
    "# Definition of countries and capital\n",
    "countries = ['spain', 'france', 'germany', 'norway']\n",
    "capitals = ['madrid', 'paris', 'berlin', 'oslo']\n",
    "\n",
    "# Get index of 'germany': ind_ger\n",
    "ind_ger = countries.index(\"germany\")\n",
    "\n",
    "# Use ind_ger to print out capital of Germany\n",
    "print(\"the capital of Germany is \" + capitals[ind_ger])"
   ]
  },
  {
   "cell_type": "markdown",
   "id": "bbc5cb35-d0bd-421a-9eda-ae3e1b730fe5",
   "metadata": {},
   "source": [
    "## Create dictionary"
   ]
  },
  {
   "cell_type": "markdown",
   "id": "4f829e1e-03ca-4ca2-bea1-0231f5717ddd",
   "metadata": {},
   "source": [
    "The $\\color{red}{\\text{countries}}$ and $\\color{red}{\\text{capitals}}$ lists are again available in the script. It's your job to convert this data to a dictionary where the country names are the keys and the capitals are the corresponding values. As a refresher, here is a recipe for creating a dictionary:"
   ]
  },
  {
   "cell_type": "code",
   "execution_count": null,
   "id": "ab98ec43-5711-429f-850b-cd2f64ae5c77",
   "metadata": {},
   "outputs": [],
   "source": [
    "my_dict = {\n",
    "   \"key1\":\"value1\",\n",
    "   \"key2\":\"value2\",\n",
    "}"
   ]
  },
  {
   "cell_type": "markdown",
   "id": "75f887b2-4171-4fc3-8d6a-c8557ec12287",
   "metadata": {},
   "source": [
    "In this recipe, both the keys and the values are strings. This will also be the case for this exercise."
   ]
  },
  {
   "cell_type": "code",
   "execution_count": 6,
   "id": "27446941-169e-40d4-95ff-de261db28d20",
   "metadata": {
    "tags": []
   },
   "outputs": [
    {
     "name": "stdout",
     "output_type": "stream",
     "text": [
      "europe:\t  {'spain': 'madrid', 'france': 'paris', 'germany': 'berlin', 'norway': 'oslo'}\n"
     ]
    }
   ],
   "source": [
    "# Definition of countries and capital\n",
    "countries = ['spain', 'france', 'germany', 'norway']\n",
    "capitals = ['madrid', 'paris', 'berlin', 'oslo']\n",
    "\n",
    "# From string in countries and capitals, create dictionary europe\n",
    "europe = {'spain':'madrid', 'france':'paris', 'germany':'berlin', 'norway':'oslo'}\n",
    "\n",
    "# Print europe\n",
    "print(\"europe:\\t \", europe)"
   ]
  },
  {
   "cell_type": "markdown",
   "id": "d0a96c54-7184-4074-9661-8d5ba3af72af",
   "metadata": {},
   "source": [
    "## Access dictionary"
   ]
  },
  {
   "cell_type": "markdown",
   "id": "c50f600b-8737-4aa8-8338-67b774dbf330",
   "metadata": {},
   "source": [
    "If the keys of a dictionary are chosen wisely, accessing the values in a dictionary is easy and intuitive. For example, to get the capital for France from $\\color{red}{\\text{europe}}$ you can use:"
   ]
  },
  {
   "cell_type": "code",
   "execution_count": null,
   "id": "6d236427-eb42-45b7-a745-98e985d75f95",
   "metadata": {},
   "outputs": [],
   "source": [
    "europe['france']"
   ]
  },
  {
   "cell_type": "markdown",
   "id": "234ec255-0112-43b6-9d05-9b5093c9a094",
   "metadata": {},
   "source": [
    "Here, $\\color{red}{\\text{'france'}}$ is $\\color{blue}{\\text{the key}}$ and $\\color{red}{\\text{'paris'}}$ $\\color{blue}{\\text{the value}}$ is returned."
   ]
  },
  {
   "cell_type": "code",
   "execution_count": 15,
   "id": "1556fb7e-60a2-45c9-af85-20d25fd34fbe",
   "metadata": {
    "tags": []
   },
   "outputs": [
    {
     "name": "stdout",
     "output_type": "stream",
     "text": [
      "keys in europe \t\t\t: dict_keys(['spain', 'france', 'germany', 'norway'])\n",
      "The value to key 'norway' \t: oslo\n"
     ]
    }
   ],
   "source": [
    "# Definition of dictionary\n",
    "europe = {'spain':'madrid', 'france':'paris', 'germany':'berlin', 'norway':'oslo' }\n",
    "\n",
    "# Print out the keys in europe\n",
    "print(\"keys in europe \\t\\t\\t:\", europe.keys())\n",
    "\n",
    "# Print out value that belongs to key 'norway'\n",
    "print(\"The value to key 'norway' \\t:\", europe[\"norway\"])"
   ]
  },
  {
   "cell_type": "markdown",
   "id": "bf19ccfa-9705-4aa1-9bbb-47fc6851a240",
   "metadata": {},
   "source": [
    "## Dictionary Manipulation (1)"
   ]
  },
  {
   "cell_type": "markdown",
   "id": "be6ea569-4fdd-4f87-9d73-915ec2b7e8bc",
   "metadata": {},
   "source": [
    "If you know how to access a dictionary, you can also assign a new value to it. To **add a new key-value pair to europe** you can use something like this:"
   ]
  },
  {
   "cell_type": "code",
   "execution_count": null,
   "id": "77d1da92-9d0d-484f-a6e6-7dbfc08f5da3",
   "metadata": {},
   "outputs": [],
   "source": [
    "europe['iceland'] = 'reykjavik'"
   ]
  },
  {
   "cell_type": "code",
   "execution_count": 24,
   "id": "701ab4fe-431f-4416-8bd1-cef12bcf3298",
   "metadata": {
    "tags": []
   },
   "outputs": [
    {
     "name": "stdout",
     "output_type": "stream",
     "text": [
      "is Italy in europe?  True\n",
      "{'spain': 'madrid', 'france': 'paris', 'germany': 'berlin', 'norway': 'oslo', 'italy': 'rome', 'poland': 'warsaw'}\n"
     ]
    }
   ],
   "source": [
    "# Definition of dictionary\n",
    "europe = {'spain':'madrid', 'france':'paris', 'germany':'berlin', 'norway':'oslo'}\n",
    "\n",
    "# Add italy to europe\n",
    "europe['italy'] = 'rome'\n",
    "\n",
    "# Print out italy in europe\n",
    "print(\"is Italy in europe? \", \"italy\" in europe)\n",
    "\n",
    "# Add poland to europe\n",
    "europe[\"poland\"] = \"warsaw\"\n",
    "\n",
    "# Print europe\n",
    "print(europe)"
   ]
  },
  {
   "cell_type": "markdown",
   "id": "0d850a15-273d-4551-964b-042b0d08440a",
   "metadata": {},
   "source": [
    "## Dictionary Manipulation (2)"
   ]
  },
  {
   "cell_type": "markdown",
   "id": "9ec61d62-bcbf-47a0-86ff-e09a3b4d0818",
   "metadata": {},
   "source": [
    "Somebody thought it would be funny to mess with your accurately generated dictionary. An adapted version of the $\\color{red}{\\text{europe}}$ dictionary is available in the script."
   ]
  },
  {
   "cell_type": "markdown",
   "id": "37636fc5-0490-4f14-8e75-0b87c4da8580",
   "metadata": {},
   "source": [
    "Can you clean up? Do not do this by adapting the definition of $\\color{red}{\\text{europe}}$, but by adding Python commands to the script to update and remove key:value pairs."
   ]
  },
  {
   "cell_type": "code",
   "execution_count": 25,
   "id": "39ba855c-1c11-4a76-9c6a-aaee7c71cae7",
   "metadata": {
    "tags": []
   },
   "outputs": [
    {
     "name": "stdout",
     "output_type": "stream",
     "text": [
      "{'spain': 'madrid', 'france': 'paris', 'germany': 'berlin', 'norway': 'oslo', 'italy': 'rome', 'poland': 'warsaw'}\n"
     ]
    }
   ],
   "source": [
    "# Definition of dictionary\n",
    "europe = {'spain':'madrid', 'france':'paris', 'germany':'bonn',\n",
    "          'norway':'oslo', 'italy':'rome', 'poland':'warsaw',\n",
    "          'australia':'vienna' }\n",
    "\n",
    "# Update capital of germany\n",
    "europe[\"germany\"] = \"berlin\"\n",
    "\n",
    "# Remove australia\n",
    "del(europe[\"australia\"])\n",
    "\n",
    "# Print europe\n",
    "print(europe)"
   ]
  },
  {
   "cell_type": "markdown",
   "id": "2c3ea4a6-79a9-40bb-8c6a-de895723a262",
   "metadata": {},
   "source": [
    "## Dictionariception"
   ]
  },
  {
   "cell_type": "markdown",
   "id": "298c0547-3a17-4fe8-aeee-c2f49761183c",
   "metadata": {},
   "source": [
    "Remember lists? They could contain anything, even other lists. Well, for dictionaries the same holds. Dictionaries can contain key:value pairs where the values are again dictionaries."
   ]
  },
  {
   "cell_type": "markdown",
   "id": "bff2e149-5fe5-445c-8eb8-92ce8468b8c3",
   "metadata": {},
   "source": [
    "As an example, have a look at the script where another version of $\\color{red}{\\text{europe}}$ - the dictionary you've been working with all along - is coded. The keys are still the country names, but the values are dictionaries that contain more information than just the capital."
   ]
  },
  {
   "cell_type": "markdown",
   "id": "f21a2de1-91e3-4828-aff8-b7f77268dbdb",
   "metadata": {},
   "source": [
    "It's perfectly possible to chain square brackets to select elements. To fetch the population for Spain from $\\color{red}{\\text{europe}}$, for example, you need:"
   ]
  },
  {
   "cell_type": "code",
   "execution_count": null,
   "id": "09829bdb-ffe5-4db6-8013-f398dab6b7c1",
   "metadata": {},
   "outputs": [],
   "source": [
    "europe['spain']['population']"
   ]
  },
  {
   "cell_type": "code",
   "execution_count": 28,
   "id": "77b4e805-84cd-420e-af1b-784ee3713233",
   "metadata": {
    "tags": []
   },
   "outputs": [
    {
     "name": "stdout",
     "output_type": "stream",
     "text": [
      "the capital of France\t: paris\n",
      "{'spain': {'capital': 'madrid', 'population': 46.77}, 'france': {'capital': 'paris', 'population': 66.03}, 'germany': {'capital': 'berlin', 'population': 80.62}, 'norway': {'capital': 'oslo', 'population': 5.084}, 'italy': {'capital': 'rome', 'population': 59.83}}\n"
     ]
    }
   ],
   "source": [
    "# Dictionary of dictionaries\n",
    "europe = { 'spain': { 'capital':'madrid', 'population':46.77 },\n",
    "           'france': { 'capital':'paris', 'population':66.03 },\n",
    "           'germany': { 'capital':'berlin', 'population':80.62 },\n",
    "           'norway': { 'capital':'oslo', 'population':5.084 } }\n",
    "\n",
    "\n",
    "# Print out the capital of France\n",
    "print(\"the capital of France\\t: \" + europe['france']['capital'])\n",
    "\n",
    "# Create sub-dictionary data\n",
    "data = {'capital':'rome', 'population': 59.83}\n",
    "\n",
    "# Add data to europe under key 'italy'\n",
    "europe['italy'] = data\n",
    "\n",
    "# Print europe\n",
    "print(europe)"
   ]
  },
  {
   "cell_type": "markdown",
   "id": "81a1a76c-e1c6-4521-8ce7-9da143522444",
   "metadata": {},
   "source": [
    "## Dictionary to DataFrame (1)"
   ]
  },
  {
   "cell_type": "markdown",
   "id": "c693894d-a599-41b3-9a7a-ae51e6a6bf55",
   "metadata": {},
   "source": [
    "Pandas is an open source library, providing high-performance, easy-to-use data structures and data analysis tools for Python. Sounds promising!"
   ]
  },
  {
   "cell_type": "markdown",
   "id": "66af3232-ecc4-4d14-8769-754ca61abf19",
   "metadata": {},
   "source": [
    "The DataFrame is one of Pandas' most important data structures. It's basically a way to store tabular data where you can label the rows and the columns. One way to build a DataFrame is from a dictionary."
   ]
  },
  {
   "cell_type": "markdown",
   "id": "617c0f0d-154c-49a6-821d-a507f91d3c07",
   "metadata": {},
   "source": [
    "In the exercises that follow you will be working with vehicle data from different countries. Each observation corresponds to a country and the columns give information about the number of vehicles per capita, whether people drive left or right, and so on."
   ]
  },
  {
   "cell_type": "markdown",
   "id": "4c6b226f-80e1-4530-a24f-735511dca08b",
   "metadata": {},
   "source": [
    "Three lists are defined in the script:"
   ]
  },
  {
   "cell_type": "markdown",
   "id": "81f2a524-104a-4599-94ca-738a89772c3a",
   "metadata": {},
   "source": [
    "$\\color{red}{\\text{names}}$, containing the country names for which data is available. \\\n",
    "$\\color{red}{\\text{dr}}$, a list with booleans that tells whether people drive left or right in the corresponding country.\\\n",
    "$\\color{red}{\\text{cpc}}$, the number of motor vehicles per 1000 people in the corresponding country."
   ]
  },
  {
   "cell_type": "markdown",
   "id": "0b5037c4-8940-4632-b9ae-75f791cd9421",
   "metadata": {},
   "source": [
    "Each **dictionary key** is a **column label** and **each value** is a list which contains the **column elements**."
   ]
  },
  {
   "cell_type": "code",
   "execution_count": 43,
   "id": "3efae956-2fd6-487f-99a4-f86333d22991",
   "metadata": {
    "tags": []
   },
   "outputs": [
    {
     "name": "stdout",
     "output_type": "stream",
     "text": [
      "         country  drives_right  cars_per_cap\n",
      "0  United States          True           809\n",
      "1      Australia         False           731\n",
      "2          Japan         False           588\n",
      "3          India         False            18\n",
      "4         Russia          True           200\n",
      "5        Morocco          True            70\n",
      "6          Egypt          True            45\n"
     ]
    }
   ],
   "source": [
    "# Pre-defined lists\n",
    "names = ['United States', 'Australia', 'Japan', 'India', 'Russia', 'Morocco', 'Egypt']\n",
    "dr =  [True, False, False, False, True, True, True]\n",
    "cpc = [809, 731, 588, 18, 200, 70, 45]\n",
    "\n",
    "# Import pandas as pd\n",
    "import pandas as pd\n",
    "\n",
    "# Create dictionary my_dict with three key:value pairs: my_dict\n",
    "my_dict = {'country':['United States', 'Australia', 'Japan', 'India', 'Russia', 'Morocco', 'Egypt'],\n",
    "           'drives_right':[True, False, False, False, True, True, True],\n",
    "           'cars_per_cap':[809, 731, 588, 18, 200, 70, 45]}\n",
    "\n",
    "# Build a DataFrame cars from my_dict: cars\n",
    "cars = pd.DataFrame(my_dict)\n",
    "\n",
    "# Print cars\n",
    "print(cars)"
   ]
  },
  {
   "cell_type": "markdown",
   "id": "f0a1e26b-5e1b-461b-8d23-855a321d930e",
   "metadata": {},
   "source": [
    "## Dictionary to DataFrame (2)"
   ]
  },
  {
   "cell_type": "markdown",
   "id": "f01536af-cfdb-4049-8996-3982afc6a29c",
   "metadata": {},
   "source": [
    "The Python code that solves the previous exercise is included in the script. Have you noticed that the row labels (i.e. the labels for the different observations) were automatically set to integers from 0 up to 6?"
   ]
  },
  {
   "cell_type": "markdown",
   "id": "79304f02-96cb-4ee5-a14a-187c4eb81bed",
   "metadata": {},
   "source": [
    "To solve this a list $\\color{blue}{\\text{row_labels}}$ has been created. You can use it to specify the row labels of the $\\color{red}{\\text{cars}}$ DataFrame. You do this by setting the $\\color{red}{\\text{index}}$ attribute of $\\color{red}{\\text{cars}}$, that you can access as $\\color{red}{\\text{cars.index}}$."
   ]
  },
  {
   "cell_type": "code",
   "execution_count": 54,
   "id": "5143632f-8fd0-45a8-bf2c-3def198759f0",
   "metadata": {
    "tags": []
   },
   "outputs": [
    {
     "name": "stdout",
     "output_type": "stream",
     "text": [
      "         country  drives_right  cars_per_cap\n",
      "0  United States          True           809\n",
      "1      Australia         False           731\n",
      "2          Japan         False           588\n",
      "3          India         False            18\n",
      "4         Russia          True           200\n",
      "5        Morocco          True            70\n",
      "6          Egypt          True            45\n",
      "           country  drives_right  cars_per_cap\n",
      "US   United States          True           809\n",
      "AUS      Australia         False           731\n",
      "JPN          Japan         False           588\n",
      "IN           India         False            18\n",
      "RU          Russia          True           200\n",
      "MOR        Morocco          True            70\n",
      "EG           Egypt          True            45\n"
     ]
    }
   ],
   "source": [
    "# import pandas packages\n",
    "import pandas as pd\n",
    "\n",
    "# Build cars DataFrame\n",
    "names = ['United States', 'Australia', 'Japan', 'India', 'Russia', 'Morocco', 'Egypt']\n",
    "dr =  [True, False, False, False, True, True, True]\n",
    "cpc = [809, 731, 588, 18, 200, 70, 45]\n",
    "cars_dict = { 'country':names, 'drives_right':dr, 'cars_per_cap':cpc }\n",
    "cars = pd.DataFrame(cars_dict)\n",
    "print(cars)\n",
    "\n",
    "# Definition of row_labels\n",
    "row_labels = ['US', 'AUS', 'JPN', 'IN', 'RU', 'MOR', 'EG']\n",
    "\n",
    "# Specify row labels of cars\n",
    "cars.index = row_labels\n",
    "\n",
    "# Print cars again\n",
    "print(cars)"
   ]
  },
  {
   "cell_type": "markdown",
   "id": "ca3edd8a-1edd-40cb-a582-68eaacf02bf7",
   "metadata": {},
   "source": [
    "## CSV to DataFrame (1)"
   ]
  },
  {
   "cell_type": "markdown",
   "id": "89dd112a-5ef4-4cc6-9aff-7a2ec5e84fe3",
   "metadata": {},
   "source": [
    "Putting data in a dictionary and then building a DataFrame works, but it's not very efficient. What if you're dealing with millions of observations? In those cases, the data is typically available as files with a regular structure. One of those file types is the **CSV** file, which is short for **\"comma-separated values\"**."
   ]
  },
  {
   "cell_type": "markdown",
   "id": "80fee27e-352b-4057-bbb7-037752008ea0",
   "metadata": {},
   "source": [
    "To **import CSV** data into **Python** as a **Pandas DataFrame** you can use $\\color{blue}{\\text{read_csv()}}$."
   ]
  },
  {
   "cell_type": "markdown",
   "id": "1a64b858-c18e-4def-a7d4-389abee5dda7",
   "metadata": {},
   "source": [
    "Let's explore this function with the same cars data from the previous exercises. This time, however, the data is available in a **CSV file**, named **cars.csv**. It is available in your current working directory, so the path to the file is simply **'cars.csv'**."
   ]
  },
  {
   "cell_type": "code",
   "execution_count": 63,
   "id": "24731c1c-2936-4a94-8942-b4cbbcacadf9",
   "metadata": {
    "tags": []
   },
   "outputs": [
    {
     "name": "stdout",
     "output_type": "stream",
     "text": [
      "  Unnamed: 0  cars_per_cap        country  drives_right\n",
      "0         US           809  United States          True\n",
      "1        AUS           731      Australia         False\n",
      "2        JAP           588          Japan         False\n",
      "3         IN            18          India         False\n",
      "4         RU           200         Russia          True\n",
      "5        MOR            70        Morocco          True\n",
      "6         EG            45          Egypt          True\n"
     ]
    }
   ],
   "source": [
    "# Import pandas as pd\n",
    "import pandas as pd\n",
    "\n",
    "# Import the cars.csv data: cars\n",
    "cars = pd.read_csv(\"cars.csv\")\n",
    "\n",
    "# Print out cars\n",
    "print(cars)"
   ]
  },
  {
   "cell_type": "markdown",
   "id": "e3fc9e0b-bbd4-4481-a390-b361cf1bab61",
   "metadata": {},
   "source": [
    "## CSV to DataFrame (2)"
   ]
  },
  {
   "cell_type": "markdown",
   "id": "c5ae3415-6199-479b-b206-95b31e4f2f65",
   "metadata": {},
   "source": [
    "Your $\\color{blue}{\\text{read_csv()}}$ call to import the CSV data didn't generate an error, but the output is not entirely what we wanted. The row labels were imported as another column without a name.\n",
    "\n",
    "Remember $\\color{blue}{\\text{index_col}}$, an argument of $\\color{blue}{\\text{read_csv()}}$, that you can use to specify which column in the CSV file should be used as a row label? Well, that's exactly what you need here!\n",
    "\n",
    "Python code that solves the previous exercise is already included; can you make the appropriate changes to fix the data import?"
   ]
  },
  {
   "cell_type": "code",
   "execution_count": 64,
   "id": "3261dbc6-a85e-4975-bbff-3364aeb68a90",
   "metadata": {
    "tags": []
   },
   "outputs": [
    {
     "name": "stdout",
     "output_type": "stream",
     "text": [
      "     cars_per_cap        country  drives_right\n",
      "US            809  United States          True\n",
      "AUS           731      Australia         False\n",
      "JAP           588          Japan         False\n",
      "IN             18          India         False\n",
      "RU            200         Russia          True\n",
      "MOR            70        Morocco          True\n",
      "EG             45          Egypt          True\n"
     ]
    }
   ],
   "source": [
    "# Import pandas as pd\n",
    "import pandas as pd\n",
    "\n",
    "# Fix import by including index_col\n",
    "cars = pd.read_csv('cars.csv', index_col = 0)\n",
    "\n",
    "# Print out cars\n",
    "print(cars)"
   ]
  },
  {
   "cell_type": "markdown",
   "id": "719dc969-c379-4ab4-ac87-6199e999fbbd",
   "metadata": {},
   "source": [
    "## Square Brackets (1)"
   ]
  },
  {
   "cell_type": "markdown",
   "id": "30cd5181-e368-4567-acb8-97eaa68db699",
   "metadata": {},
   "source": [
    "You can index and **select Pandas DataFrames** in many different ways. The simplest, but not the most powerful way, is to **use square brackets**."
   ]
  },
  {
   "cell_type": "markdown",
   "id": "986772dc-655f-4ae1-a9fe-d95700b07780",
   "metadata": {},
   "source": [
    "In the sample code, the same cars data is imported from a **CSV files as a Pandas DataFrame**. To select only the $\\color{blue}{\\text{cars_per_cap}}$ column from cars, you can use:"
   ]
  },
  {
   "cell_type": "code",
   "execution_count": null,
   "id": "bb6cfc61-0ca2-4712-b3ef-8dd939a4ccf5",
   "metadata": {},
   "outputs": [],
   "source": [
    "cars['cars_per_cap']\n",
    "cars[['cars_per_cap']]"
   ]
  },
  {
   "cell_type": "markdown",
   "id": "c9918802-5f8c-4c7c-b4a9-0ff71fd24895",
   "metadata": {},
   "source": [
    "$\\color{red}{\\text{The single bracket}}$ **version gives a Pandas Series**, $\\color{red}{\\text{the double bracket}}$ **version gives a Pandas DataFrame**."
   ]
  },
  {
   "cell_type": "code",
   "execution_count": 71,
   "id": "458f0750-5702-435d-9c21-12dde975f3b6",
   "metadata": {
    "tags": []
   },
   "outputs": [
    {
     "name": "stdout",
     "output_type": "stream",
     "text": [
      "country column as pandas Series:\n",
      " US     United States\n",
      "AUS        Australia\n",
      "JAP            Japan\n",
      "IN             India\n",
      "RU            Russia\n",
      "MOR          Morocco\n",
      "EG             Egypt\n",
      "Name: country, dtype: object\n",
      "\n",
      "country column as pandas DataFrame:\n",
      "            country\n",
      "US   United States\n",
      "AUS      Australia\n",
      "JAP          Japan\n",
      "IN           India\n",
      "RU          Russia\n",
      "MOR        Morocco\n",
      "EG           Egypt\n",
      "\n",
      "DataFrame with country and drives_right columns:\n",
      "            country  drives_right\n",
      "US   United States          True\n",
      "AUS      Australia         False\n",
      "JAP          Japan         False\n",
      "IN           India         False\n",
      "RU          Russia          True\n",
      "MOR        Morocco          True\n",
      "EG           Egypt          True\n"
     ]
    }
   ],
   "source": [
    "# Import cars data\n",
    "import pandas as pd\n",
    "\n",
    "# Create cars to read csv file.\n",
    "cars = pd.read_csv('cars.csv', index_col = 0)\n",
    "\n",
    "# Print out country column as Pandas Series\n",
    "print(\"country column as pandas Series:\\n\", cars['country'])\n",
    "\n",
    "# Print out country column as Pandas DataFrame\n",
    "print(\"\\ncountry column as pandas DataFrame:\\n\", cars[['country']])\n",
    "\n",
    "# Print out DataFrame with country and drives_right columns\n",
    "print(\"\\nDataFrame with country and drives_right columns:\\n\", cars[['country','drives_right']])"
   ]
  },
  {
   "cell_type": "markdown",
   "id": "2039cb76-2591-4c25-b14d-9b6d46679570",
   "metadata": {},
   "source": [
    "## Square Brackets (2)"
   ]
  },
  {
   "cell_type": "markdown",
   "id": "e0f3f741-fd2f-4df8-9e32-3101794cd4e6",
   "metadata": {},
   "source": [
    "Square brackets can do more than just selecting columns. You can also use them to get rows, or observations, from a DataFrame. The following call selects the first five rows from the **cars DataFrame**:"
   ]
  },
  {
   "cell_type": "code",
   "execution_count": null,
   "id": "53eb5285-edc0-45f7-b6b1-269334e0e458",
   "metadata": {},
   "outputs": [],
   "source": [
    "cars[0:5]"
   ]
  },
  {
   "cell_type": "markdown",
   "id": "78ff9a77-f18a-4e2f-9c78-97f5ba08b0e2",
   "metadata": {},
   "source": [
    "**The result is another DataFrame containing only the rows you specified.**"
   ]
  },
  {
   "cell_type": "markdown",
   "id": "30cd5234-0e65-4bbc-8ee7-0607dd7bd5c1",
   "metadata": {},
   "source": [
    "**Pay attention:** You can only select rows using square brackets if you specify a slice, like 0:4. Also, you're using the integer indexes of the rows here, not the row labels!"
   ]
  },
  {
   "cell_type": "code",
   "execution_count": 82,
   "id": "bdeb3a5a-062f-4ce3-b8ce-4b33d3ceaf8c",
   "metadata": {
    "tags": []
   },
   "outputs": [
    {
     "name": "stdout",
     "output_type": "stream",
     "text": [
      "first 3 observations:\n",
      "      cars_per_cap        country  drives_right\n",
      "US            809  United States          True\n",
      "AUS           731      Australia         False\n",
      "JAP           588          Japan         False\n",
      "\n",
      "fourth, fifth and sixth observation:\n",
      "      cars_per_cap  country  drives_right\n",
      "IN             18    India         False\n",
      "RU            200   Russia          True\n",
      "MOR            70  Morocco          True\n"
     ]
    }
   ],
   "source": [
    "# Import cars data\n",
    "import pandas as pd\n",
    "cars = pd.read_csv('cars.csv', index_col = 0)\n",
    "\n",
    "# Print out first 3 observations\n",
    "print(\"first 3 observations:\\n\", cars[:3])\n",
    "\n",
    "# Print out fourth, fifth and sixth observation\n",
    "print(\"\\nfourth, fifth and sixth observation:\\n\", cars[3:6])"
   ]
  },
  {
   "cell_type": "markdown",
   "id": "eb7851f4-3683-42f8-aa8b-fb35b6a0ee64",
   "metadata": {},
   "source": [
    "## loc and iloc (1)"
   ]
  },
  {
   "cell_type": "markdown",
   "id": "63c2f0b7-0342-42d0-9727-dc26231442f4",
   "metadata": {},
   "source": [
    "With **loc** and **iloc** you can do practically any data selection operation on DataFrames you can think of. **loc** is label-based, which means that you have to specify rows and columns based on their row and column labels. **iloc** is integer index based, so you have to specify rows and columns by their integer index like you did in the previous exercise."
   ]
  },
  {
   "cell_type": "code",
   "execution_count": null,
   "id": "e2ed3e65-cc0a-4e78-bc7d-d501cb925063",
   "metadata": {},
   "outputs": [],
   "source": [
    "cars.loc['RU']\n",
    "cars.iloc[4]\n",
    "\n",
    "cars.loc[['RU']]\n",
    "cars.iloc[[4]]\n",
    "\n",
    "cars.loc[['RU', 'AUS']]\n",
    "cars.iloc[[4, 1]]"
   ]
  },
  {
   "cell_type": "markdown",
   "id": "fdccf5c5-3b0c-4dcd-a8ca-e08b788b529c",
   "metadata": {
    "tags": []
   },
   "source": [
    "As before, code is included that imports the cars data as a Pandas DataFrame."
   ]
  },
  {
   "cell_type": "code",
   "execution_count": 94,
   "id": "78eb6b83-d6d2-4482-a6ca-84bad9b8308b",
   "metadata": {
    "tags": []
   },
   "outputs": [
    {
     "name": "stdout",
     "output_type": "stream",
     "text": [
      "observation for Japan:\n",
      " cars_per_cap      588\n",
      "country         Japan\n",
      "drives_right    False\n",
      "Name: JAP, dtype: object\n",
      "\n",
      "observation for for Australia and Egypt:\n",
      "      cars_per_cap    country  drives_right\n",
      "AUS           731  Australia         False\n",
      "EG             45      Egypt          True\n"
     ]
    }
   ],
   "source": [
    "# Import cars data\n",
    "import pandas as pd\n",
    "cars = pd.read_csv('cars.csv', index_col = 0)\n",
    "\n",
    "# Print out observation for Japan\n",
    "print(\"observation for Japan:\\n\", cars.loc['JAP'])\n",
    "\n",
    "# Print out observations for Australia and Egypt\n",
    "print(\"\\nobservation for for Australia and Egypt:\\n\", cars.loc[['AUS','EG']])"
   ]
  },
  {
   "cell_type": "markdown",
   "id": "1c6f3c97-601c-408e-bc3a-4a97c787649e",
   "metadata": {},
   "source": [
    "## loc and iloc (2)"
   ]
  },
  {
   "cell_type": "markdown",
   "id": "de14593b-578e-4a26-8f83-22db78727b51",
   "metadata": {},
   "source": [
    "**loc** and **iloc** also **allow you to select both rows and columns from a DataFrame**. To experiment, try out the following commands in the Python. Again, paired commands produce the same result."
   ]
  },
  {
   "cell_type": "code",
   "execution_count": null,
   "id": "76977d4a-dbf3-4ee6-97de-049e715f89a9",
   "metadata": {},
   "outputs": [],
   "source": [
    "cars.loc['IN', 'cars_per_cap']\n",
    "cars.iloc[3, 0]\n",
    "\n",
    "cars.loc[['IN', 'RU'], 'cars_per_cap']\n",
    "cars.iloc[[3, 4], 0]\n",
    "\n",
    "cars.loc[['IN', 'RU'], ['cars_per_cap', 'country']]\n",
    "cars.iloc[[3, 4], [0, 1]]"
   ]
  },
  {
   "cell_type": "code",
   "execution_count": 101,
   "id": "c9210c8d-d803-4606-a96a-7784e182acaf",
   "metadata": {
    "tags": []
   },
   "outputs": [
    {
     "name": "stdout",
     "output_type": "stream",
     "text": [
      "True\n",
      "     country  drives_right\n",
      "RU    Russia          True\n",
      "MOR  Morocco          True\n"
     ]
    }
   ],
   "source": [
    "# Import cars data\n",
    "import pandas as pd\n",
    "cars = pd.read_csv('cars.csv', index_col = 0)\n",
    "\n",
    "# Print out drives_right value of Morocco\n",
    "print(cars.loc['MOR', 'drives_right'])\n",
    "\n",
    "# Print sub-DataFrame Russia and Morocco with country and drives_right\n",
    "print(cars.iloc[[4,5], [1, 2]])"
   ]
  },
  {
   "cell_type": "markdown",
   "id": "e372d709-7ef5-47e4-81ca-3fd072b391ae",
   "metadata": {},
   "source": [
    "## loc and iloc (3)"
   ]
  },
  {
   "cell_type": "markdown",
   "id": "1bd8dce7-e544-4adc-a250-db90fbc5fca6",
   "metadata": {},
   "source": [
    "It's also possible to **select only columns with loc and iloc**. In both cases, you simply put a **slice going from beginning to end in front of the comma**:"
   ]
  },
  {
   "cell_type": "code",
   "execution_count": null,
   "id": "6116fa22-86e4-46f0-b766-3d5469870047",
   "metadata": {},
   "outputs": [],
   "source": [
    "cars.loc[:, 'country']\n",
    "cars.iloc[:, 1]\n",
    "\n",
    "cars.loc[:, ['country','drives_right']]\n",
    "cars.iloc[:, [1, 2]]"
   ]
  },
  {
   "cell_type": "code",
   "execution_count": 111,
   "id": "df0d2cdc-540c-4109-b137-a09f914d46eb",
   "metadata": {
    "tags": []
   },
   "outputs": [
    {
     "name": "stdout",
     "output_type": "stream",
     "text": [
      "US      True\n",
      "AUS    False\n",
      "JAP    False\n",
      "IN     False\n",
      "RU      True\n",
      "MOR     True\n",
      "EG      True\n",
      "Name: drives_right, dtype: bool\n",
      "     drives_right\n",
      "US           True\n",
      "AUS         False\n",
      "JAP         False\n",
      "IN          False\n",
      "RU           True\n",
      "MOR          True\n",
      "EG           True\n",
      "     cars_per_cap  drives_right\n",
      "US            809          True\n",
      "AUS           731         False\n",
      "JAP           588         False\n",
      "IN             18         False\n",
      "RU            200          True\n",
      "MOR            70          True\n",
      "EG             45          True\n"
     ]
    }
   ],
   "source": [
    "# Import cars data\n",
    "import pandas as pd\n",
    "cars = pd.read_csv('cars.csv', index_col = 0)\n",
    "\n",
    "# Print out drives_right column as Series\n",
    "print(cars.loc[:, \"drives_right\"])\n",
    "\n",
    "# Print out drives_right column as DataFrame\n",
    "print(cars.loc[:, [\"drives_right\"]])\n",
    "\n",
    "# Print out cars_per_cap and drives_right as DataFrame\n",
    "print(cars.iloc[:, [0,2]])"
   ]
  }
 ],
 "metadata": {
  "kernelspec": {
   "display_name": "Python 3 (ipykernel)",
   "language": "python",
   "name": "python3"
  },
  "language_info": {
   "codemirror_mode": {
    "name": "ipython",
    "version": 3
   },
   "file_extension": ".py",
   "mimetype": "text/x-python",
   "name": "python",
   "nbconvert_exporter": "python",
   "pygments_lexer": "ipython3",
   "version": "3.11.5"
  }
 },
 "nbformat": 4,
 "nbformat_minor": 5
}
