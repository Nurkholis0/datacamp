{
 "cells": [
  {
   "cell_type": "markdown",
   "id": "cbd56cb5-c349-45a8-97f5-e89887b11326",
   "metadata": {
    "tags": []
   },
   "source": [
    "Name: Nurkholis \\\n",
    "Source: Datacamp"
   ]
  },
  {
   "cell_type": "markdown",
   "id": "cd2789b4-12da-4ef0-9266-b0d4e8b0ec92",
   "metadata": {},
   "source": [
    "# Loops"
   ]
  },
  {
   "cell_type": "markdown",
   "id": "058b0329-2fdb-4920-84e8-2bbe7bccf77a",
   "metadata": {},
   "source": [
    "There are several techniques you can use to repeatedly execute Python code. While loops are like repeated if statements, the for loop iterates over all kinds of data structures. Learn all about them in this chapter."
   ]
  },
  {
   "cell_type": "markdown",
   "id": "32946e0e-d6bd-4240-8809-2d3f13f33c53",
   "metadata": {},
   "source": [
    "## while: warming up"
   ]
  },
  {
   "cell_type": "markdown",
   "id": "a61fd87b-8ac7-4ec1-8eaf-badf16ddf4cf",
   "metadata": {},
   "source": [
    "The while loop is like a repeated if statement. The code is executed over and over again, as long as the condition is **True**. Have another look at its recipe."
   ]
  },
  {
   "cell_type": "code",
   "execution_count": null,
   "id": "ff210b25-5826-4b10-bfb7-1deecd526e8e",
   "metadata": {},
   "outputs": [],
   "source": [
    "while condition :\n",
    "    expression"
   ]
  },
  {
   "cell_type": "markdown",
   "id": "e99898bb-f0dc-4b62-bf0a-0affe83bfc21",
   "metadata": {},
   "source": [
    "Can you tell how many printouts the following while `loop` will do?"
   ]
  },
  {
   "cell_type": "code",
   "execution_count": 2,
   "id": "136be6eb-dadb-4af9-89c1-9ca968c065eb",
   "metadata": {
    "tags": []
   },
   "outputs": [
    {
     "name": "stdout",
     "output_type": "stream",
     "text": [
      "1\n",
      "2\n",
      "3\n"
     ]
    }
   ],
   "source": [
    "x = 1\n",
    "while x < 4 :\n",
    "    print(x)\n",
    "    x = x + 1"
   ]
  },
  {
   "cell_type": "markdown",
   "id": "e21c73dd-3215-4fd5-91c7-e9f5fe1dda35",
   "metadata": {},
   "source": [
    "**Possible answers:**\n",
    "<ul>\n",
    "    <li><input type=\"checkbox\"> 0</li>\n",
    "    <li><input type=\"checkbox\"> 1</li>\n",
    "    <li><input type=\"checkbox\"> 2</li>\n",
    "    <li><input type=\"checkbox\" checked> $\\color{blue}{\\text{3}}$</li>\n",
    "    <li><input type=\"checkbox\"> 4</li>\n",
    "</ul>"
   ]
  },
  {
   "cell_type": "markdown",
   "id": "a6590acd-5e7e-4e7b-88b1-64365b882c8c",
   "metadata": {},
   "source": [
    "## Basic while loop"
   ]
  },
  {
   "cell_type": "markdown",
   "id": "e862bcfd-ab72-4d9f-a652-d9de22a7b6a7",
   "metadata": {},
   "source": [
    "Below you can find the example from the video where the `error` variable, initially equal to `50.0`, is **divided by 4** and printed out on every run:"
   ]
  },
  {
   "cell_type": "code",
   "execution_count": 3,
   "id": "b05299b7-9c41-4c6c-aceb-6c94671876c1",
   "metadata": {
    "tags": []
   },
   "outputs": [
    {
     "name": "stdout",
     "output_type": "stream",
     "text": [
      "12.5\n",
      "3.125\n",
      "0.78125\n"
     ]
    }
   ],
   "source": [
    "error = 50.0\n",
    "while error > 1 :\n",
    "    error = error / 4\n",
    "    print(error)"
   ]
  },
  {
   "cell_type": "markdown",
   "id": "906ac79e-0143-422f-af79-bcac4024ff47",
   "metadata": {},
   "source": [
    "This example will come in handy, because it's time to build a `while loop` yourself! We're going to code a `while loop` that implements a very basic control system for an **inverted pendulum**. If there's an `offset` from standing perfectly straight, the `while` loop will incrementally fix this `offset`."
   ]
  },
  {
   "cell_type": "markdown",
   "id": "6bfb07a1-efb1-445c-9f55-387d704086b0",
   "metadata": {},
   "source": [
    "Note that if your `while loop` takes too long to run, you might have made a mistake. In particular, remember to **indent** the contents of the loop using four spaces or auto-indentation!"
   ]
  },
  {
   "cell_type": "code",
   "execution_count": 6,
   "id": "c8cfc1c3-5d01-4c00-bc8d-ca17b639b16b",
   "metadata": {
    "tags": []
   },
   "outputs": [
    {
     "name": "stdout",
     "output_type": "stream",
     "text": [
      "correcting...\n",
      "7\n",
      "correcting...\n",
      "6\n",
      "correcting...\n",
      "5\n",
      "correcting...\n",
      "4\n",
      "correcting...\n",
      "3\n",
      "correcting...\n",
      "2\n",
      "correcting...\n",
      "1\n",
      "correcting...\n",
      "0\n"
     ]
    }
   ],
   "source": [
    "# Initialize offset\n",
    "# Create the variable offset with an initial value of 8.\n",
    "offset = 8\n",
    "\n",
    "# Code the while loop\n",
    "# Code a while loop that keeps running as long as offset is not equal to 0. \n",
    "while offset != 0 :\n",
    "    # Inside the while loop:\n",
    "    # Print out the sentence \"correcting...\".\n",
    "    print(\"correcting...\")\n",
    "    # Next, decrease the value of offset by 1. You can do this with offset = offset - 1.\n",
    "    offset = offset - 1\n",
    "    # Finally, still within your loop, print out offset so you can see how it changes.\n",
    "    print(offset)"
   ]
  },
  {
   "cell_type": "markdown",
   "id": "00e21427-da4b-4d43-9adb-e4bbdc45cf7b",
   "metadata": {},
   "source": [
    "## Add conditionals"
   ]
  },
  {
   "cell_type": "markdown",
   "id": "e0d9f26d-2ccd-4d37-944e-ac3729eda374",
   "metadata": {},
   "source": [
    "The while `loop` that corrects the offset is a good start, but what if `offset` is negative? You can try to run the following code where offset is initialized to -6:"
   ]
  },
  {
   "cell_type": "code",
   "execution_count": null,
   "id": "bcb0587c-a41a-4ee0-a1a2-80fdd9190153",
   "metadata": {},
   "outputs": [],
   "source": [
    "# Initialize offset\n",
    "offset = -6\n",
    "\n",
    "# Code the while loop\n",
    "while offset != 0 :\n",
    "    print(\"correcting...\")\n",
    "    offset = offset - 1\n",
    "    print(offset)"
   ]
  },
  {
   "cell_type": "markdown",
   "id": "b83d58b1-3cc8-435c-b49b-f771c4a08122",
   "metadata": {},
   "source": [
    "but your **session will be disconnected**. The `while loop` will **never stop running**, because `offset` **will be further decreased on every run**. `offset != 0` will never become False and the while loop continues forever."
   ]
  },
  {
   "cell_type": "markdown",
   "id": "63d5782f-2547-4b78-b749-dbf1f2f11b5b",
   "metadata": {},
   "source": [
    "**Fix things** by putting an **if-else statement** inside the while loop. If your code is still **taking too long** to run, you probably made a mistake!"
   ]
  },
  {
   "cell_type": "code",
   "execution_count": 1,
   "id": "c44bd07b-e2b8-4a27-966c-90ff8e3c9ba9",
   "metadata": {
    "tags": []
   },
   "outputs": [
    {
     "name": "stdout",
     "output_type": "stream",
     "text": [
      "correcting...\n",
      "-5\n",
      "correcting...\n",
      "-4\n",
      "correcting...\n",
      "-3\n",
      "correcting...\n",
      "-2\n",
      "correcting...\n",
      "-1\n",
      "correcting...\n",
      "0\n"
     ]
    }
   ],
   "source": [
    "# Initialize offset\n",
    "offset = -6\n",
    "\n",
    "# Code the while loop\n",
    "while offset != 0 :\n",
    "    print(\"correcting...\")\n",
    "    # If offset is greater than zero, you should decrease offset by 1.\n",
    "    if offset > 0 :\n",
    "        offset = offset - 1\n",
    "    # Else, you should increase offset by 1.\n",
    "    else : \n",
    "        offset = offset + 1 \n",
    "    print(offset)"
   ]
  },
  {
   "cell_type": "markdown",
   "id": "1420c49a-c129-4d8f-a84a-884dd0172f05",
   "metadata": {},
   "source": [
    "## Loop over a list"
   ]
  },
  {
   "cell_type": "markdown",
   "id": "0ff750c7-eb4f-42cb-81c0-a8c2dc601547",
   "metadata": {},
   "source": [
    "look at the `for` loop in below:"
   ]
  },
  {
   "cell_type": "code",
   "execution_count": 2,
   "id": "515d3f83-e965-419c-8e26-6d528bfdfaa0",
   "metadata": {
    "tags": []
   },
   "outputs": [
    {
     "name": "stdout",
     "output_type": "stream",
     "text": [
      "1.73\n",
      "1.68\n",
      "1.71\n",
      "1.89\n"
     ]
    }
   ],
   "source": [
    "fam = [1.73, 1.68, 1.71, 1.89]\n",
    "for height in fam : \n",
    "    print(height)"
   ]
  },
  {
   "cell_type": "markdown",
   "id": "e629ef0e-7ba2-469b-bb5d-5c20a6178396",
   "metadata": {},
   "source": [
    "As usual, you simply have to indent the code with 4 spaces to tell Python which code should be executed in the `for` loop."
   ]
  },
  {
   "cell_type": "code",
   "execution_count": 3,
   "id": "827008f5-8827-468f-bed0-1458875baf76",
   "metadata": {
    "tags": []
   },
   "outputs": [
    {
     "name": "stdout",
     "output_type": "stream",
     "text": [
      "11.25\n",
      "18.0\n",
      "20.0\n",
      "10.75\n",
      "9.5\n"
     ]
    }
   ],
   "source": [
    "# areas list\n",
    "areas = [11.25, 18.0, 20.0, 10.75, 9.50]\n",
    "\n",
    "# Write a for loop that iterates over all elements of the areas list and \n",
    "# prints out every element separately.\n",
    "# Code the for loop\n",
    "for element in areas:\n",
    "    print(element)"
   ]
  },
  {
   "cell_type": "markdown",
   "id": "f722e93a-f27d-40b9-aa50-1715471aa567",
   "metadata": {},
   "source": [
    "## Indexes and values (1)"
   ]
  },
  {
   "cell_type": "markdown",
   "id": "a9c7e355-7540-4b85-82d3-e9285bc3b16c",
   "metadata": {},
   "source": [
    "Using a `for` loop to iterate over a list only gives you access to every list element in each run, one after the other. If you also want to access the index information, so where the list element you're iterating over is located, you can use `enumerate()`."
   ]
  },
  {
   "cell_type": "markdown",
   "id": "37e80c16-f1f3-4c18-9d4a-637fc9414838",
   "metadata": {},
   "source": [
    "As an example, have a look at how the `for` loop from the video was converted:"
   ]
  },
  {
   "cell_type": "code",
   "execution_count": 4,
   "id": "fe65e7fd-7b45-4943-9d4e-13b59172174a",
   "metadata": {
    "tags": []
   },
   "outputs": [
    {
     "name": "stdout",
     "output_type": "stream",
     "text": [
      "person 0: 1.73\n",
      "person 1: 1.68\n",
      "person 2: 1.71\n",
      "person 3: 1.89\n"
     ]
    }
   ],
   "source": [
    "fam = [1.73, 1.68, 1.71, 1.89]\n",
    "for index, height in enumerate(fam) :\n",
    "    print(\"person \" + str(index) + \": \" + str(height))"
   ]
  },
  {
   "cell_type": "code",
   "execution_count": 8,
   "id": "d0af065e-c581-4509-8dfd-03f52e29740c",
   "metadata": {
    "tags": []
   },
   "outputs": [
    {
     "name": "stdout",
     "output_type": "stream",
     "text": [
      "room 0: 11.25\n",
      "room 1: 18.0\n",
      "room 2: 20.0\n",
      "room 3: 10.75\n",
      "room 4: 9.5\n"
     ]
    }
   ],
   "source": [
    "# areas list\n",
    "areas = [11.25, 18.0, 20.0, 10.75, 9.50]\n",
    "\n",
    "# Adapt the for loop in the sample code to use enumerate() and use two iterator variables.\n",
    "# Change for loop to use enumerate() and update print()\n",
    "for x, y in enumerate(areas) :\n",
    "    # Update the print() statement so that on each run, a line of the form \"room x: y\" should be printed\n",
    "    # where x is the index of the list element and y is the actual list element, i.e. the area.\n",
    "    print(\"room \" + str(x) + \": \" + str(y))"
   ]
  },
  {
   "cell_type": "markdown",
   "id": "db3e4ecf-0b88-4ffc-b18b-558faf8156f8",
   "metadata": {},
   "source": [
    "## Indexes and values (2)"
   ]
  },
  {
   "cell_type": "markdown",
   "id": "f6ad7a8d-be07-4846-b1b1-7791bc3b7de0",
   "metadata": {},
   "source": [
    "For non-programmer folks, **room 0: 11.25** is **strange**. Wouldn't it be better if the count started at 1?"
   ]
  },
  {
   "cell_type": "code",
   "execution_count": 16,
   "id": "bf8b194c-fd3f-4ea6-8be2-3b593ad22fe0",
   "metadata": {
    "tags": []
   },
   "outputs": [
    {
     "name": "stdout",
     "output_type": "stream",
     "text": [
      "room 1: 11.25\n",
      "room 2: 18.0\n",
      "room 3: 20.0\n",
      "room 4: 10.75\n",
      "room 5: 9.5\n"
     ]
    }
   ],
   "source": [
    "# areas list\n",
    "areas = [11.25, 18.0, 20.0, 10.75, 9.50]\n",
    "\n",
    "# Code the for loop\n",
    "for index, area in enumerate(areas) :\n",
    "    # Adapt the print() function in the for loop \n",
    "    # so that the first printout becomes \"room 1: 11.25\", the second one \"room 2: 18.0\" and so on.\n",
    "    print(\"room \" + str(index+1) + \": \" + str(area))"
   ]
  },
  {
   "cell_type": "markdown",
   "id": "a5cdbf44-02c5-46bf-9feb-e6d3c667e558",
   "metadata": {},
   "source": [
    "## Loop over list of lists"
   ]
  },
  {
   "cell_type": "markdown",
   "id": "8c7bc589-6437-49ea-befd-7686fed467bc",
   "metadata": {},
   "source": [
    "Remember the **house** variable from the Intro to Python course? Have a look at its definition in the script. It's basically a **list of lists**, where each sublist contains the name and area of a room in your house."
   ]
  },
  {
   "cell_type": "markdown",
   "id": "d6ed61ac-3c55-4805-a7be-f7a82fbb2315",
   "metadata": {},
   "source": [
    "It's up to you to build a for **loop** from scratch this time!"
   ]
  },
  {
   "cell_type": "code",
   "execution_count": 78,
   "id": "f23918bd-e962-4017-9e8d-4b98f3754709",
   "metadata": {
    "tags": []
   },
   "outputs": [
    {
     "name": "stdout",
     "output_type": "stream",
     "text": [
      "the hallway is 11.25 sqm\n",
      "the kitchen is 18.0 sqm\n",
      "the living room is 20.0 sqm\n",
      "the bedroom is 10.75 sqm\n",
      "the bathroom is 9.5 sqm\n"
     ]
    }
   ],
   "source": [
    "# Write a for loop that goes through each sublist of house and prints out the x is y sqm, \n",
    "# where x is the name of the room and y is the area of the room.\n",
    "\n",
    "# house list of lists\n",
    "house = [[\"hallway\", 11.25], \n",
    "         [\"kitchen\", 18.0], \n",
    "         [\"living room\", 20.0], \n",
    "         [\"bedroom\", 10.75], \n",
    "         [\"bathroom\", 9.50]]\n",
    "         \n",
    "# Build a for loop from scratch #1\n",
    "for x, y in house:\n",
    "    print(\"the \" + x + \" is \"+ str(y) + \" sqm\")"
   ]
  },
  {
   "cell_type": "code",
   "execution_count": 79,
   "id": "34a1eda1-c355-4bcb-80ec-42ee0e5abf8e",
   "metadata": {
    "tags": []
   },
   "outputs": [
    {
     "name": "stdout",
     "output_type": "stream",
     "text": [
      "the hallway is 11.25 sqm\n",
      "the kitchen is 18.0 sqm\n",
      "the living room is 20.0 sqm\n",
      "the bedroom is 10.75 sqm\n",
      "the bathroom is 9.5 sqm\n"
     ]
    }
   ],
   "source": [
    "# Build a for loop from scratch #2\n",
    "for x in house:\n",
    "    print(\"the \" + x[0] + \" is \"+ str(x[1]) + \" sqm\")"
   ]
  },
  {
   "cell_type": "markdown",
   "id": "24fcca26-d637-49c7-a6fd-618096c8e5de",
   "metadata": {},
   "source": [
    "## Loop over dictionary"
   ]
  },
  {
   "cell_type": "markdown",
   "id": "06a24ade-91b7-4d45-83d1-fcaf5c0ebaa0",
   "metadata": {},
   "source": [
    "In **Python 3**, you need the `items()` method to loop over a **dictionary**:"
   ]
  },
  {
   "cell_type": "code",
   "execution_count": 81,
   "id": "d945f4d7-d77d-4062-b490-fced5f8351b5",
   "metadata": {
    "tags": []
   },
   "outputs": [
    {
     "name": "stdout",
     "output_type": "stream",
     "text": [
      "afghanistan -- 30.55\n",
      "albania -- 2.77\n",
      "algeria -- 39.21\n"
     ]
    }
   ],
   "source": [
    "world = { \"afghanistan\":30.55, \n",
    "          \"albania\":2.77,\n",
    "          \"algeria\":39.21 }\n",
    "          \n",
    "for key, value in world.items() :\n",
    "    print(key + \" -- \" + str(value))"
   ]
  },
  {
   "cell_type": "markdown",
   "id": "dd0edf19-1d0c-471d-beda-8f0f08ba67b5",
   "metadata": {},
   "source": [
    "Remember the `europe` **dictionary** that contained the names of some European countries as key and their capitals as corresponding value? Go ahead and write a loop to iterate over it!"
   ]
  },
  {
   "cell_type": "code",
   "execution_count": 84,
   "id": "b499aef9-a211-4e55-a261-2026b9d54e68",
   "metadata": {
    "tags": []
   },
   "outputs": [
    {
     "name": "stdout",
     "output_type": "stream",
     "text": [
      "the capital of spain is madrid\n",
      "the capital of france is paris\n",
      "the capital of germany is berlin\n",
      "the capital of norway is oslo\n",
      "the capital of italy is rome\n",
      "the capital of poland is warsaw\n",
      "the capital of austria is vienna\n"
     ]
    }
   ],
   "source": [
    "# Write a for loop that goes through each key:value pair of europe.\n",
    "# On each iteration, \"the capital of x is y\" should be printed out,\n",
    "# where x is the key and y is the value of the pair.\n",
    "\n",
    "# Definition of dictionary\n",
    "europe = {'spain':'madrid', 'france':'paris', 'germany':'berlin',\n",
    "          'norway':'oslo', 'italy':'rome', 'poland':'warsaw', 'austria':'vienna' }\n",
    "          \n",
    "# Iterate over europe\n",
    "for x, y in europe.items():\n",
    "    print(\"the capital of \" + x + \" is \" + y)"
   ]
  },
  {
   "cell_type": "markdown",
   "id": "05b919ea-b68d-4d8d-965e-64214c048f09",
   "metadata": {},
   "source": [
    "## Loop over NumPy array"
   ]
  },
  {
   "cell_type": "markdown",
   "id": "df5dadd2-f0d7-4cab-a92e-a4a314bfaacd",
   "metadata": {},
   "source": [
    "If you're dealing with a **1D NumPy array**, looping over all elements can be as simple as:"
   ]
  },
  {
   "cell_type": "code",
   "execution_count": null,
   "id": "ed549b14-2300-4eeb-9623-574da4e084f2",
   "metadata": {},
   "outputs": [],
   "source": [
    "for x in my_array :\n",
    "    ..."
   ]
  },
  {
   "cell_type": "markdown",
   "id": "4cccd2d9-a9a4-42c4-83a6-888bca36089d",
   "metadata": {},
   "source": [
    "If you're dealing with a **2D NumPy array**, it's more complicated. A 2D array is built up of multiple 1D arrays. To explicitly iterate over all separate elements of a multi-dimensional array, you'll need this syntax:"
   ]
  },
  {
   "cell_type": "code",
   "execution_count": null,
   "id": "f11594fd-613e-45b7-8d75-5df5694762e5",
   "metadata": {},
   "outputs": [],
   "source": [
    "for x in np.nditer(my_array) :\n",
    "    ..."
   ]
  },
  {
   "cell_type": "markdown",
   "id": "356fecd2-bb9d-4a16-9249-5da4d3029bf4",
   "metadata": {},
   "source": [
    "**Two NumPy arrays** that you might recognize from the intro course are available in your Python session: `np_height`, a NumPy array containing **the heights** of Major League Baseball players, and `np_baseball`, a 2D NumPy array that contains **both the heights (first column) and weights (second column)** of those players."
   ]
  },
  {
   "cell_type": "code",
   "execution_count": 13,
   "id": "a9138423-a235-43fb-89da-adebfb58f10b",
   "metadata": {
    "tags": []
   },
   "outputs": [
    {
     "name": "stdout",
     "output_type": "stream",
     "text": [
      "np_height for 10 index:\n",
      "\n",
      "74 inches\n",
      "74 inches\n",
      "72 inches\n",
      "72 inches\n",
      "73 inches\n",
      "69 inches\n",
      "69 inches\n",
      "71 inches\n",
      "76 inches\n",
      "71 inches\n",
      "\n",
      "np_baseball for 5 indexes every each columns:\n",
      "\n",
      "74\n",
      "74\n",
      "72\n",
      "72\n",
      "73\n",
      "180\n",
      "215\n",
      "210\n",
      "210\n",
      "188\n"
     ]
    }
   ],
   "source": [
    "# Import the numpy package under the local alias np.\n",
    "# Write a for loop that iterates over all elements in np_height and prints out \"x inches\" for each element,\n",
    "# where x is the value in the array.\n",
    "# Write a for loop that visits every element of the np_baseball array and prints it out.\n",
    "\n",
    "# Import numpy as np, pandas as pd\n",
    "import numpy as np; import pandas as pd\n",
    "\n",
    "# import csv_files with pandas packages\n",
    "baseball_csv = pd.read_csv(\"baseball.csv\")\n",
    "np_baseball_csv = np.array(baseball_csv)\n",
    "np_height = np_baseball_csv[:,3]\n",
    "np_baseball = np_baseball_csv[:, 3:5]\n",
    "\n",
    "# For loop over np_height for 10 indexes\n",
    "print (\"np_height for 10 index:\\n\")\n",
    "for x in np_height[:10] :\n",
    "    print (str(x) + \" inches\")\n",
    "\n",
    "# For loop over np_baseball for 5 indexes every each columns\n",
    "print (\"\\nnp_baseball for 5 indexes every each columns:\\n\")\n",
    "for x in np.nditer(np_baseball[:5], flags=([\"refs_ok\"])):\n",
    "    print (x)"
   ]
  },
  {
   "cell_type": "markdown",
   "id": "7bf3fd96-f6b6-47eb-9db5-26d9d2e51df0",
   "metadata": {},
   "source": [
    "## Loop over DataFrame (1)"
   ]
  },
  {
   "cell_type": "markdown",
   "id": "010cecb1-fd45-4640-9e8f-c98ca582e699",
   "metadata": {},
   "source": [
    "terating over a Pandas DataFrame is typically done with the `iterrows()` method. Used in a `for` loop, every observation is iterated over and on every iteration the row label and actual row contents are available:"
   ]
  },
  {
   "cell_type": "markdown",
   "id": "ff95e191-2352-4016-83a4-91a06d384cf7",
   "metadata": {},
   "source": [
    "for lab, row in brics.iterrows() :\n",
    "    ..."
   ]
  },
  {
   "cell_type": "markdown",
   "id": "c93e17f4-0128-4251-8bac-623942711980",
   "metadata": {},
   "source": [
    "In this and the following exercises you will be working on the `cars` DataFrame. It contains information on the cars per capita and whether people drive right or left for seven countries in the world."
   ]
  },
  {
   "cell_type": "code",
   "execution_count": 19,
   "id": "71146406-53e3-474d-baa1-98b2f38427e0",
   "metadata": {
    "tags": []
   },
   "outputs": [
    {
     "name": "stdout",
     "output_type": "stream",
     "text": [
      "US\n",
      "cars_per_cap              809\n",
      "country         United States\n",
      "drives_right             True\n",
      "Name: US, dtype: object\n",
      "AUS\n",
      "cars_per_cap          731\n",
      "country         Australia\n",
      "drives_right        False\n",
      "Name: AUS, dtype: object\n",
      "JAP\n",
      "cars_per_cap      588\n",
      "country         Japan\n",
      "drives_right    False\n",
      "Name: JAP, dtype: object\n",
      "IN\n",
      "cars_per_cap       18\n",
      "country         India\n",
      "drives_right    False\n",
      "Name: IN, dtype: object\n"
     ]
    }
   ],
   "source": [
    "# Write a for loop that iterates over the rows of cars and on each iteration perform two print() calls:\n",
    "# one to print out the row label and one to print out all of the rows contents.\n",
    "\n",
    "\n",
    "# Import cars data\n",
    "import pandas as pd\n",
    "cars = pd.read_csv('cars.csv', index_col = 0)\n",
    "\n",
    "# Iterate over rows of cars for 4 indexes\n",
    "for lab, row in cars[:4].iterrows() :\n",
    "    print(lab)\n",
    "    print(row)"
   ]
  },
  {
   "cell_type": "markdown",
   "id": "61409b45-50ca-43ff-bfef-18de59ce1a2f",
   "metadata": {},
   "source": [
    "## Loop over DataFrame (2)"
   ]
  },
  {
   "cell_type": "markdown",
   "id": "c4e260ec-21f7-4b96-951d-ef1b2c9864b4",
   "metadata": {},
   "source": [
    "The row data that's generated by `iterrows()` on every run is a Pandas Series. This format is not very convenient to print out. Luckily, you can easily select variables from the Pandas Series using square brackets:"
   ]
  },
  {
   "cell_type": "code",
   "execution_count": 21,
   "id": "b63f7c32-316f-48d7-8c1f-330de8db7f2f",
   "metadata": {
    "tags": []
   },
   "outputs": [
    {
     "name": "stdout",
     "output_type": "stream",
     "text": [
      "Brazil\n",
      "Russia\n",
      "India\n",
      "China\n",
      "South Africa\n"
     ]
    }
   ],
   "source": [
    "import pandas as pd\n",
    "brics = pd.read_csv(\"brics.csv\", index_col = 0)\n",
    "\n",
    "for lab, row in brics.iterrows() :\n",
    "    print(row['country'])"
   ]
  },
  {
   "cell_type": "code",
   "execution_count": 31,
   "id": "d30114b6-de60-4ebb-b8f8-e85f4a5b9f34",
   "metadata": {
    "tags": []
   },
   "outputs": [
    {
     "name": "stdout",
     "output_type": "stream",
     "text": [
      "US: 809\n",
      "AUS: 731\n",
      "JAP: 588\n",
      "IN: 18\n",
      "RU: 200\n",
      "MOR: 70\n",
      "EG: 45\n"
     ]
    }
   ],
   "source": [
    "# Using the iterators lab and row, adapt the code in the \n",
    "# for loop such that the first iteration prints out \"US: 809\", the second iteration \"AUS: 731\", and so on.\n",
    "# The output should be in the form \"country: cars_per_cap\".\n",
    "# Make sure to print out this exact string (with the correct spacing).\n",
    "# You can use str() to convert your integer data to a string\n",
    "# so that you can print it in conjunction with the country label.\n",
    "\n",
    "# Import cars data\n",
    "import pandas as pd\n",
    "cars = pd.read_csv('cars.csv', index_col = 0)\n",
    "\n",
    "# Adapt for loop\n",
    "for lab, row in cars.iterrows() :\n",
    "    print(lab + \": \" + str(row[\"cars_per_cap\"]))"
   ]
  },
  {
   "cell_type": "markdown",
   "id": "73092127-93dd-43d6-ac8e-161335ec36b1",
   "metadata": {},
   "source": [
    "## Add column (1)"
   ]
  },
  {
   "cell_type": "markdown",
   "id": "a533d6a6-6990-4b29-b454-202ac5b1b152",
   "metadata": {},
   "source": [
    "how to add the length of the country names of the **brics** DataFrame in a new column:"
   ]
  },
  {
   "cell_type": "code",
   "execution_count": 39,
   "id": "4a60b993-3cf6-4ce0-b783-95d40e53801b",
   "metadata": {
    "tags": []
   },
   "outputs": [
    {
     "data": {
      "text/html": [
       "<div>\n",
       "<style scoped>\n",
       "    .dataframe tbody tr th:only-of-type {\n",
       "        vertical-align: middle;\n",
       "    }\n",
       "\n",
       "    .dataframe tbody tr th {\n",
       "        vertical-align: top;\n",
       "    }\n",
       "\n",
       "    .dataframe thead th {\n",
       "        text-align: right;\n",
       "    }\n",
       "</style>\n",
       "<table border=\"1\" class=\"dataframe\">\n",
       "  <thead>\n",
       "    <tr style=\"text-align: right;\">\n",
       "      <th></th>\n",
       "      <th>country</th>\n",
       "      <th>capital</th>\n",
       "      <th>area</th>\n",
       "      <th>population</th>\n",
       "      <th>name_length</th>\n",
       "    </tr>\n",
       "  </thead>\n",
       "  <tbody>\n",
       "    <tr>\n",
       "      <th>BR</th>\n",
       "      <td>Brazil</td>\n",
       "      <td>Brasilia</td>\n",
       "      <td>8.516</td>\n",
       "      <td>200.40</td>\n",
       "      <td>6.0</td>\n",
       "    </tr>\n",
       "    <tr>\n",
       "      <th>RU</th>\n",
       "      <td>Russia</td>\n",
       "      <td>Moscow</td>\n",
       "      <td>17.100</td>\n",
       "      <td>143.50</td>\n",
       "      <td>6.0</td>\n",
       "    </tr>\n",
       "    <tr>\n",
       "      <th>IN</th>\n",
       "      <td>India</td>\n",
       "      <td>New Delhi</td>\n",
       "      <td>3.286</td>\n",
       "      <td>1252.00</td>\n",
       "      <td>5.0</td>\n",
       "    </tr>\n",
       "    <tr>\n",
       "      <th>CH</th>\n",
       "      <td>China</td>\n",
       "      <td>Beijing</td>\n",
       "      <td>9.597</td>\n",
       "      <td>1357.00</td>\n",
       "      <td>5.0</td>\n",
       "    </tr>\n",
       "    <tr>\n",
       "      <th>SA</th>\n",
       "      <td>South Africa</td>\n",
       "      <td>Pretoria</td>\n",
       "      <td>1.221</td>\n",
       "      <td>52.98</td>\n",
       "      <td>12.0</td>\n",
       "    </tr>\n",
       "  </tbody>\n",
       "</table>\n",
       "</div>"
      ],
      "text/plain": [
       "         country    capital    area  population  name_length\n",
       "BR        Brazil   Brasilia   8.516      200.40          6.0\n",
       "RU        Russia     Moscow  17.100      143.50          6.0\n",
       "IN         India  New Delhi   3.286     1252.00          5.0\n",
       "CH         China    Beijing   9.597     1357.00          5.0\n",
       "SA  South Africa   Pretoria   1.221       52.98         12.0"
      ]
     },
     "execution_count": 39,
     "metadata": {},
     "output_type": "execute_result"
    }
   ],
   "source": [
    "import pandas as pd\n",
    "brics = pd.read_csv(\"brics.csv\", index_col = 0)\n",
    "\n",
    "for lab, row in brics.iterrows() :\n",
    "    brics.loc[lab, \"name_length\"] = len(row[\"country\"])\n",
    "    \n",
    "brics"
   ]
  },
  {
   "cell_type": "markdown",
   "id": "cc0778ce-069e-46f7-84be-5e1cc8d2e21b",
   "metadata": {
    "tags": []
   },
   "source": [
    "You can do similar things on the cars DataFrame."
   ]
  },
  {
   "cell_type": "code",
   "execution_count": 37,
   "id": "b17ecb58-d6cc-46d5-a1f2-3af31c80c65d",
   "metadata": {
    "tags": []
   },
   "outputs": [
    {
     "name": "stdout",
     "output_type": "stream",
     "text": [
      "     cars_per_cap        country  drives_right        COUNTRY\n",
      "US            809  United States          True  UNITED STATES\n",
      "AUS           731      Australia         False      AUSTRALIA\n",
      "JAP           588          Japan         False          JAPAN\n",
      "IN             18          India         False          INDIA\n",
      "RU            200         Russia          True         RUSSIA\n",
      "MOR            70        Morocco          True        MOROCCO\n",
      "EG             45          Egypt          True          EGYPT\n"
     ]
    }
   ],
   "source": [
    "#Use a for loop to add a new column, named COUNTRY,\n",
    "# that contains a uppercase version of the country names in the \"country\" column.\n",
    "# You can use the string method upper() for this.\n",
    "#To see if your code worked, print out cars. Don't indent this code, so that it's not part of the for loop.\n",
    "\n",
    "# Import cars data\n",
    "import pandas as pd\n",
    "cars = pd.read_csv('cars.csv', index_col = 0)\n",
    "\n",
    "# Code for loop that adds COUNTRY column\n",
    "for lab, row in cars.iterrows():\n",
    "    cars.loc[lab, \"COUNTRY\"] = row[\"country\"].upper()\n",
    "\n",
    "# Print cars\n",
    "print(cars)"
   ]
  },
  {
   "cell_type": "markdown",
   "id": "83e5a735-ad60-4461-8c73-c0c8e6ab0f99",
   "metadata": {},
   "source": [
    "## Add column (2)"
   ]
  },
  {
   "cell_type": "markdown",
   "id": "c6fef596-7266-46ea-859a-91945d392583",
   "metadata": {},
   "source": [
    "Using `iterrows()` to iterate over every observation of a Pandas DataFrame is easy to understand, but not very efficient. On every iteration, you're creating a new Pandas Series."
   ]
  },
  {
   "cell_type": "markdown",
   "id": "6be131bd-a945-48ef-8683-655026f20ab8",
   "metadata": {},
   "source": [
    "If you want to add a column to a DataFrame by calling a function on another column, the `iterrows()` method in combination with a for loop is not the preferred way to go. Instead, you'll want to use `apply()`."
   ]
  },
  {
   "cell_type": "markdown",
   "id": "632e365c-8e17-48f3-bd5e-6f258eb2fb4b",
   "metadata": {},
   "source": [
    "Compare the *iterrows()* version with the *apply()* version to get the same result in the brics DataFrame:"
   ]
  },
  {
   "cell_type": "code",
   "execution_count": 44,
   "id": "b43e0da1-6df6-4192-8df5-f723e89b0114",
   "metadata": {
    "tags": []
   },
   "outputs": [],
   "source": [
    "import pandas as pd\n",
    "brics = pd.read_csv(\"brics.csv\", index_col = 0)\n"
   ]
  },
  {
   "cell_type": "code",
   "execution_count": 45,
   "id": "a55cc807-9d25-45d4-bbf3-4428d6758639",
   "metadata": {
    "tags": []
   },
   "outputs": [
    {
     "data": {
      "text/html": [
       "<div>\n",
       "<style scoped>\n",
       "    .dataframe tbody tr th:only-of-type {\n",
       "        vertical-align: middle;\n",
       "    }\n",
       "\n",
       "    .dataframe tbody tr th {\n",
       "        vertical-align: top;\n",
       "    }\n",
       "\n",
       "    .dataframe thead th {\n",
       "        text-align: right;\n",
       "    }\n",
       "</style>\n",
       "<table border=\"1\" class=\"dataframe\">\n",
       "  <thead>\n",
       "    <tr style=\"text-align: right;\">\n",
       "      <th></th>\n",
       "      <th>country</th>\n",
       "      <th>capital</th>\n",
       "      <th>area</th>\n",
       "      <th>population</th>\n",
       "      <th>name_length</th>\n",
       "    </tr>\n",
       "  </thead>\n",
       "  <tbody>\n",
       "    <tr>\n",
       "      <th>BR</th>\n",
       "      <td>Brazil</td>\n",
       "      <td>Brasilia</td>\n",
       "      <td>8.516</td>\n",
       "      <td>200.40</td>\n",
       "      <td>6.0</td>\n",
       "    </tr>\n",
       "    <tr>\n",
       "      <th>RU</th>\n",
       "      <td>Russia</td>\n",
       "      <td>Moscow</td>\n",
       "      <td>17.100</td>\n",
       "      <td>143.50</td>\n",
       "      <td>6.0</td>\n",
       "    </tr>\n",
       "    <tr>\n",
       "      <th>IN</th>\n",
       "      <td>India</td>\n",
       "      <td>New Delhi</td>\n",
       "      <td>3.286</td>\n",
       "      <td>1252.00</td>\n",
       "      <td>5.0</td>\n",
       "    </tr>\n",
       "    <tr>\n",
       "      <th>CH</th>\n",
       "      <td>China</td>\n",
       "      <td>Beijing</td>\n",
       "      <td>9.597</td>\n",
       "      <td>1357.00</td>\n",
       "      <td>5.0</td>\n",
       "    </tr>\n",
       "    <tr>\n",
       "      <th>SA</th>\n",
       "      <td>South Africa</td>\n",
       "      <td>Pretoria</td>\n",
       "      <td>1.221</td>\n",
       "      <td>52.98</td>\n",
       "      <td>12.0</td>\n",
       "    </tr>\n",
       "  </tbody>\n",
       "</table>\n",
       "</div>"
      ],
      "text/plain": [
       "         country    capital    area  population  name_length\n",
       "BR        Brazil   Brasilia   8.516      200.40          6.0\n",
       "RU        Russia     Moscow  17.100      143.50          6.0\n",
       "IN         India  New Delhi   3.286     1252.00          5.0\n",
       "CH         China    Beijing   9.597     1357.00          5.0\n",
       "SA  South Africa   Pretoria   1.221       52.98         12.0"
      ]
     },
     "execution_count": 45,
     "metadata": {},
     "output_type": "execute_result"
    }
   ],
   "source": [
    "for lab, row in brics.iterrows() :\n",
    "    brics.loc[lab, \"name_length\"] = len(row[\"country\"])\n",
    "    \n",
    "brics"
   ]
  },
  {
   "cell_type": "code",
   "execution_count": 46,
   "id": "d73f4b97-aa13-4f91-96be-74df9ee5b374",
   "metadata": {
    "tags": []
   },
   "outputs": [
    {
     "data": {
      "text/html": [
       "<div>\n",
       "<style scoped>\n",
       "    .dataframe tbody tr th:only-of-type {\n",
       "        vertical-align: middle;\n",
       "    }\n",
       "\n",
       "    .dataframe tbody tr th {\n",
       "        vertical-align: top;\n",
       "    }\n",
       "\n",
       "    .dataframe thead th {\n",
       "        text-align: right;\n",
       "    }\n",
       "</style>\n",
       "<table border=\"1\" class=\"dataframe\">\n",
       "  <thead>\n",
       "    <tr style=\"text-align: right;\">\n",
       "      <th></th>\n",
       "      <th>country</th>\n",
       "      <th>capital</th>\n",
       "      <th>area</th>\n",
       "      <th>population</th>\n",
       "      <th>name_length</th>\n",
       "    </tr>\n",
       "  </thead>\n",
       "  <tbody>\n",
       "    <tr>\n",
       "      <th>BR</th>\n",
       "      <td>Brazil</td>\n",
       "      <td>Brasilia</td>\n",
       "      <td>8.516</td>\n",
       "      <td>200.40</td>\n",
       "      <td>6</td>\n",
       "    </tr>\n",
       "    <tr>\n",
       "      <th>RU</th>\n",
       "      <td>Russia</td>\n",
       "      <td>Moscow</td>\n",
       "      <td>17.100</td>\n",
       "      <td>143.50</td>\n",
       "      <td>6</td>\n",
       "    </tr>\n",
       "    <tr>\n",
       "      <th>IN</th>\n",
       "      <td>India</td>\n",
       "      <td>New Delhi</td>\n",
       "      <td>3.286</td>\n",
       "      <td>1252.00</td>\n",
       "      <td>5</td>\n",
       "    </tr>\n",
       "    <tr>\n",
       "      <th>CH</th>\n",
       "      <td>China</td>\n",
       "      <td>Beijing</td>\n",
       "      <td>9.597</td>\n",
       "      <td>1357.00</td>\n",
       "      <td>5</td>\n",
       "    </tr>\n",
       "    <tr>\n",
       "      <th>SA</th>\n",
       "      <td>South Africa</td>\n",
       "      <td>Pretoria</td>\n",
       "      <td>1.221</td>\n",
       "      <td>52.98</td>\n",
       "      <td>12</td>\n",
       "    </tr>\n",
       "  </tbody>\n",
       "</table>\n",
       "</div>"
      ],
      "text/plain": [
       "         country    capital    area  population  name_length\n",
       "BR        Brazil   Brasilia   8.516      200.40            6\n",
       "RU        Russia     Moscow  17.100      143.50            6\n",
       "IN         India  New Delhi   3.286     1252.00            5\n",
       "CH         China    Beijing   9.597     1357.00            5\n",
       "SA  South Africa   Pretoria   1.221       52.98           12"
      ]
     },
     "execution_count": 46,
     "metadata": {},
     "output_type": "execute_result"
    }
   ],
   "source": [
    "brics[\"name_length\"] = brics[\"country\"].apply(len)\n",
    "brics"
   ]
  },
  {
   "cell_type": "markdown",
   "id": "e195458f-c852-48e8-9b07-ac1f5e2473e3",
   "metadata": {},
   "source": [
    "We can do a similar thing to call `the upper()` method on every name in the country column. However, `upper()` is a method, so we'll need a slightly different approach:"
   ]
  },
  {
   "cell_type": "code",
   "execution_count": 52,
   "id": "abe187a8-8ee5-47d8-b242-919b241aa996",
   "metadata": {
    "tags": []
   },
   "outputs": [
    {
     "name": "stdout",
     "output_type": "stream",
     "text": [
      "     cars_per_cap        country  drives_right        COUNTRY\n",
      "US            809  United States          True  UNITED STATES\n",
      "AUS           731      Australia         False      AUSTRALIA\n",
      "JAP           588          Japan         False          JAPAN\n",
      "IN             18          India         False          INDIA\n",
      "RU            200         Russia          True         RUSSIA\n",
      "MOR            70        Morocco          True        MOROCCO\n",
      "EG             45          Egypt          True          EGYPT\n"
     ]
    }
   ],
   "source": [
    "# Replace the for loop with a one-liner that uses .apply(str.upper).\n",
    "# The call should give the same result: a column COUNTRY should be added to cars,\n",
    "# containing an uppercase version of the country names.\n",
    "# As usual, print out cars to see the fruits of your hard labor\n",
    "\n",
    "# Import cars data\n",
    "import pandas as pd\n",
    "cars = pd.read_csv('cars.csv', index_col = 0)\n",
    "\n",
    "# Use .apply(str.upper)\n",
    "cars[\"COUNTRY\"] = cars[\"country\"].apply(str.upper)\n",
    "\n",
    "print(cars)"
   ]
  }
 ],
 "metadata": {
  "kernelspec": {
   "display_name": "Python 3 (ipykernel)",
   "language": "python",
   "name": "python3"
  },
  "language_info": {
   "codemirror_mode": {
    "name": "ipython",
    "version": 3
   },
   "file_extension": ".py",
   "mimetype": "text/x-python",
   "name": "python",
   "nbconvert_exporter": "python",
   "pygments_lexer": "ipython3",
   "version": "3.11.5"
  }
 },
 "nbformat": 4,
 "nbformat_minor": 5
}
