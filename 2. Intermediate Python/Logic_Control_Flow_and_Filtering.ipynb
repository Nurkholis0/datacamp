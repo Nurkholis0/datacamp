{
 "cells": [
  {
   "cell_type": "markdown",
   "id": "3728d1c1-e6dd-4d46-9ddd-45276cabd1eb",
   "metadata": {
    "tags": []
   },
   "source": [
    "Name: Nurkholis \\\n",
    "source: Datacamp"
   ]
  },
  {
   "cell_type": "markdown",
   "id": "3db6e062-f063-42bc-80bb-812b72ed2d1f",
   "metadata": {},
   "source": [
    "## Equality"
   ]
  },
  {
   "cell_type": "markdown",
   "id": "02c0d8b4-7cd1-4a6f-b790-be15c75de562",
   "metadata": {},
   "source": [
    "To check if two Python values, or variables, are **equal you can use ==**. To check for **inequality, you need !=**. As a refresher, have a look at the following examples that all result in **True**. Feel free to try them out in the IPython Shell."
   ]
  },
  {
   "cell_type": "code",
   "execution_count": 2,
   "id": "7b7ef00d-2f50-4580-bb17-651e4151afc9",
   "metadata": {
    "tags": []
   },
   "outputs": [
    {
     "data": {
      "text/plain": [
       "True"
      ]
     },
     "execution_count": 2,
     "metadata": {},
     "output_type": "execute_result"
    }
   ],
   "source": [
    "2 == (1 + 1)"
   ]
  },
  {
   "cell_type": "code",
   "execution_count": 3,
   "id": "8711ddd1-2bf1-4d3a-ac16-bf0efd49425c",
   "metadata": {
    "tags": []
   },
   "outputs": [
    {
     "data": {
      "text/plain": [
       "True"
      ]
     },
     "execution_count": 3,
     "metadata": {},
     "output_type": "execute_result"
    }
   ],
   "source": [
    "\"intermediate\" != \"python\""
   ]
  },
  {
   "cell_type": "code",
   "execution_count": 4,
   "id": "2e4a906a-0e66-4967-974b-172be7a5c08f",
   "metadata": {
    "tags": []
   },
   "outputs": [
    {
     "data": {
      "text/plain": [
       "True"
      ]
     },
     "execution_count": 4,
     "metadata": {},
     "output_type": "execute_result"
    }
   ],
   "source": [
    "True != False"
   ]
  },
  {
   "cell_type": "code",
   "execution_count": 5,
   "id": "73002213-63de-4f25-9f75-d2278918f618",
   "metadata": {
    "tags": []
   },
   "outputs": [
    {
     "data": {
      "text/plain": [
       "True"
      ]
     },
     "execution_count": 5,
     "metadata": {},
     "output_type": "execute_result"
    }
   ],
   "source": [
    "\"Python\" != \"python\""
   ]
  },
  {
   "cell_type": "markdown",
   "id": "fb5c249a-b6b9-447a-821f-6500d9b66485",
   "metadata": {},
   "source": [
    "When you write these comparisons in a script, you will need to wrap a **print()** function around them to see the output."
   ]
  },
  {
   "cell_type": "code",
   "execution_count": 15,
   "id": "a75a4f16-9d16-4cf1-b5fb-18287057fb08",
   "metadata": {
    "tags": []
   },
   "outputs": [
    {
     "name": "stdout",
     "output_type": "stream",
     "text": [
      "True == False\t\t\t: False\n",
      "-5 * 15 != 75\t\t\t: True\n",
      "'pyscript' == 'PyScript'\t: False\n",
      "True == 1\t\t\t: True\n"
     ]
    }
   ],
   "source": [
    "# Comparison of booleans\n",
    "# write code to see if True equals False.\n",
    "print(\"True == False\\t\\t\\t:\", True == False)\n",
    "\n",
    "# Comparison of integers\n",
    "# Write Python code to check if -5 * 15 is not equal to 75.\n",
    "print(\"-5 * 15 != 75\\t\\t\\t:\", -5 * 15 != 75)\n",
    "\n",
    "# Comparison of strings\n",
    "# Ask Python whether the strings \"pyscript\" and \"PyScript\" are equal.\n",
    "print(\"'pyscript' == 'PyScript'\\t:\", \"pyscript\" == \"PyScript\")\n",
    "\n",
    "# Compare a boolean with an integer\n",
    "# What happens if you compare booleans and integers? Write code to see if True and 1 are equal\n",
    "print(\"True == 1\\t\\t\\t:\", True == 1)"
   ]
  },
  {
   "cell_type": "markdown",
   "id": "0e6b531b-02c7-4fc4-90f6-eed72b30b5a6",
   "metadata": {},
   "source": [
    "## Greater and less than"
   ]
  },
  {
   "cell_type": "markdown",
   "id": "218e1553-eeee-4785-8c23-f106a1cd5440",
   "metadata": {},
   "source": [
    "**the less than** and **greater than** signs, **<** and **>** in Python. You can **combine them** with an **equals** sign: **<= and >=**. \\\n",
    "**Pay attention**: **<= is valid syntax**, but **=< is not**."
   ]
  },
  {
   "cell_type": "markdown",
   "id": "b337ba70-cc6d-4fe1-9b91-08f9556caada",
   "metadata": {},
   "source": [
    "All Python expressions in the following code chunk evaluate to **True**:"
   ]
  },
  {
   "cell_type": "code",
   "execution_count": 16,
   "id": "42a62d83-31bf-4fe9-88d4-829f473ed18f",
   "metadata": {
    "tags": []
   },
   "outputs": [
    {
     "data": {
      "text/plain": [
       "True"
      ]
     },
     "execution_count": 16,
     "metadata": {},
     "output_type": "execute_result"
    }
   ],
   "source": [
    "3 < 4"
   ]
  },
  {
   "cell_type": "code",
   "execution_count": 17,
   "id": "9b5e69a3-afec-4a42-9bd4-cb94fc417bea",
   "metadata": {
    "tags": []
   },
   "outputs": [
    {
     "data": {
      "text/plain": [
       "True"
      ]
     },
     "execution_count": 17,
     "metadata": {},
     "output_type": "execute_result"
    }
   ],
   "source": [
    "3 <= 4"
   ]
  },
  {
   "cell_type": "code",
   "execution_count": 22,
   "id": "f6c5fd57-3f2a-4e15-ba10-0f6cc2a5d2aa",
   "metadata": {
    "tags": []
   },
   "outputs": [
    {
     "data": {
      "text/plain": [
       "True"
      ]
     },
     "execution_count": 22,
     "metadata": {},
     "output_type": "execute_result"
    }
   ],
   "source": [
    "\"alpha\" <= \"beta\""
   ]
  },
  {
   "cell_type": "markdown",
   "id": "ca154256-f990-4ae5-914e-c1cd55d540bc",
   "metadata": {},
   "source": [
    "Remember that for **string comparison**, Python determines the relationship based on **alphabetical order**."
   ]
  },
  {
   "cell_type": "code",
   "execution_count": 24,
   "id": "3c38a431-8ed0-44d9-b164-30830a2f6dfe",
   "metadata": {
    "tags": []
   },
   "outputs": [
    {
     "name": "stdout",
     "output_type": "stream",
     "text": [
      "x is greater than or equal to -10\t\t: False\n",
      "'test' is less than or equal to y\t\t: True\n",
      "True is greater than False\t\t\t: True\n"
     ]
    }
   ],
   "source": [
    "# Comparison of integers\n",
    "# x is greater than or equal to -10. x has already been defined for you.\n",
    "x = -3 * 6\n",
    "print(\"x is greater than or equal to -10\\t\\t:\", x >= -10)\n",
    "\n",
    "# Comparison of strings\n",
    "# \"test\" is less than or equal to y. y has already been defined for you.\n",
    "y = \"test\"\n",
    "print(\"'test' is less than or equal to y\\t\\t:\", \"test\" <= y)\n",
    "\n",
    "# Comparison of booleans\n",
    "# True is greater than False.\n",
    "print(\"True is greater than False\\t\\t\\t:\", True > False)"
   ]
  },
  {
   "cell_type": "markdown",
   "id": "d6673b7e-8389-405a-9fd2-fdfd7910a570",
   "metadata": {},
   "source": [
    "## Compare arrays"
   ]
  },
  {
   "cell_type": "markdown",
   "id": "a1a426d8-fcfc-4a33-ad94-10d5360e0da6",
   "metadata": {},
   "source": [
    "Out of the box, you can also use **comparison operators** with **NumPy arrays**."
   ]
  },
  {
   "cell_type": "markdown",
   "id": "9fde07d7-74d5-42e7-be4d-dcfd8a0dfa0c",
   "metadata": {},
   "source": [
    "Remember **areas**, the list of area measurements for different rooms in your house from Introduction to Python? This time there's **two NumPy arrays: my_house** and **your_house**. They both contain the areas for the kitchen, living room, bedroom and bathroom in the same order, so you can compare them."
   ]
  },
  {
   "cell_type": "code",
   "execution_count": 27,
   "id": "cb52f131-5b74-490b-aa8e-1d0dc8963aa4",
   "metadata": {
    "tags": []
   },
   "outputs": [
    {
     "name": "stdout",
     "output_type": "stream",
     "text": [
      "my_house >= 18 \t\t: [ True  True False False]\n",
      "my_house <= your_house \t: [False  True  True False]\n"
     ]
    }
   ],
   "source": [
    "# Create arrays \n",
    "import numpy as np\n",
    "my_house = np.array([18.0, 20.0, 10.75, 9.50])\n",
    "your_house = np.array([14.0, 24.0, 14.25, 9.0])\n",
    "\n",
    "# Which areas in my_house are greater than or equal to 18?\n",
    "# my_house greater than or equal to 18\n",
    "print(\"my_house >= 18 \\t\\t:\", my_house >= 18)\n",
    "\n",
    "# You can also compare two NumPy arrays element-wise.\n",
    "# Which areas in my_house are smaller than the ones in your_house?\n",
    "# my_house less than your_house\n",
    "print(\"my_house <= your_house \\t:\", my_house <= your_house)"
   ]
  },
  {
   "cell_type": "markdown",
   "id": "993fcabc-ee08-4b13-9126-379cdaae5c2b",
   "metadata": {},
   "source": [
    "## and, or, not (1)"
   ]
  },
  {
   "cell_type": "markdown",
   "id": "cdfdee99-2582-456d-8f90-a5d2e3cf0f69",
   "metadata": {},
   "source": [
    "A boolean is either **1 or 0**, **True or False**. With **boolean operators** such as **and**, **or** and **not**, you can **combine these booleans** to perform more **advanced queries on your data**."
   ]
  },
  {
   "cell_type": "markdown",
   "id": "373a1ffb-90a1-4043-b911-8f6d84c67357",
   "metadata": {},
   "source": [
    "In the sample code, two variables are defined: **my_kitchen** and **your_kitchen**, representing **areas**."
   ]
  },
  {
   "cell_type": "code",
   "execution_count": 33,
   "id": "6cf32480-64c0-4901-a7e9-4902b78b5aa3",
   "metadata": {
    "tags": []
   },
   "outputs": [
    {
     "name": "stdout",
     "output_type": "stream",
     "text": [
      "my_kitchen > 10 and my_kitchen < 18\t: False\n",
      "my_kitchen < 14 or my_kitchen > 17\t: True\n",
      "double my_kitchen < triple your_kitchen\t: True\n"
     ]
    }
   ],
   "source": [
    "# Define variables\n",
    "my_kitchen = 18.0\n",
    "your_kitchen = 14.0\n",
    "\n",
    "# my_kitchen bigger than 10 and smaller than 18?\n",
    "# my_kitchen is bigger than 10 and smaller than 18.\n",
    "print(\"my_kitchen > 10 and my_kitchen < 18\\t:\", my_kitchen > 10 and my_kitchen < 18)\n",
    "\n",
    "# my_kitchen smaller than 14 or bigger than 17?\n",
    "# my_kitchen is smaller than 14 or bigger than 17.\n",
    "print(\"my_kitchen < 14 or my_kitchen > 17\\t:\", my_kitchen < 14 or my_kitchen > 17)\n",
    "\n",
    "# Double my_kitchen smaller than triple your_kitchen?\n",
    "# double the area of my_kitchen is smaller than triple the area of your_kitchen.\n",
    "print(\"double my_kitchen < triple your_kitchen\\t:\", 2 * my_kitchen < 3 * your_kitchen)"
   ]
  },
  {
   "cell_type": "markdown",
   "id": "1ba2b936-1882-4012-a841-7dad584ef07a",
   "metadata": {},
   "source": [
    "## and, or, not (2)"
   ]
  },
  {
   "cell_type": "markdown",
   "id": "0aa37e11-3236-4d70-88c0-478fac884c57",
   "metadata": {},
   "source": [
    "To see if you completely understood the boolean operators, have a look at the following piece of Python code:"
   ]
  },
  {
   "cell_type": "code",
   "execution_count": 36,
   "id": "d42ed336-269d-4d54-b373-60df9fdd628a",
   "metadata": {
    "tags": []
   },
   "outputs": [
    {
     "data": {
      "text/plain": [
       "False"
      ]
     },
     "execution_count": 36,
     "metadata": {},
     "output_type": "execute_result"
    }
   ],
   "source": [
    "x = 8\n",
    "y = 9\n",
    "not(not(x < 3) and not(y > 14 or y > 10))"
   ]
  },
  {
   "cell_type": "code",
   "execution_count": 55,
   "id": "08d007d2-00c2-4773-a098-df8d7318e734",
   "metadata": {
    "tags": []
   },
   "outputs": [
    {
     "name": "stdout",
     "output_type": "stream",
     "text": [
      "not(x < 3)\t\t\t\t\t: True\n",
      "not(y > 14 or y > 10)\t\t\t\t: True\n",
      "not(x < 3) and not(y > 14 or y > 10)\t\t: True\n",
      "not(not(x < 3) and not(y > 14 or y > 10))\t: False\n"
     ]
    }
   ],
   "source": [
    "# explain for not(not(x < 3) and not(y > 14 or y > 10))\n",
    "x = 8\n",
    "y = 9\n",
    "\n",
    "print(\"not(x < 3)\\t\\t\\t\\t\\t:\", not(x < 3))\n",
    "print(\"not(y > 14 or y > 10)\\t\\t\\t\\t:\", not(y > 14 or y > 10))\n",
    "print(\"not(x < 3) and not(y > 14 or y > 10)\\t\\t:\", \n",
    "      not(x < 3) and not(y > 14 or y > 10))\n",
    "print(\"not(not(x < 3) and not(y > 14 or y > 10))\\t:\",\n",
    "      not(not(x < 3) and not(y > 14 or y > 10)))"
   ]
  },
  {
   "cell_type": "markdown",
   "id": "4649213c-5ea5-4360-b3f6-620c81d95ae6",
   "metadata": {},
   "source": [
    "What will the result be if you execute these three commands in the Python?"
   ]
  },
  {
   "cell_type": "markdown",
   "id": "8fa59e0c-f485-49ae-a615-11c3aa9bd819",
   "metadata": {},
   "source": [
    "NB: Notice that **not** has a higher priority than **and** and **or**, it is executed first."
   ]
  },
  {
   "cell_type": "markdown",
   "id": "99d46c69-008b-4325-b86c-71b4f1907d1f",
   "metadata": {},
   "source": [
    "**Possible answers:**\n",
    "<ul>\n",
    "    <li><input type=\"checkbox\"> True</li>\n",
    "    <li><input type=\"checkbox\" checked> $\\color{blue}{\\text{False}}$</li>\n",
    "    <li><input type=\"checkbox\"> Running these commands will result in an error</li>\n",
    "</ul>"
   ]
  },
  {
   "cell_type": "markdown",
   "id": "981d9372-4568-4409-96a5-3b14b267b77c",
   "metadata": {},
   "source": [
    "## Boolean operators with NumPy"
   ]
  },
  {
   "cell_type": "markdown",
   "id": "386c8ffe-f679-4763-924a-67badeb19730",
   "metadata": {},
   "source": [
    "Before, **the operational operators** like **< and >=** worked with NumPy arrays out of the box. Unfortunately, this is **not true** for the boolean operators **and**, **or**, and **not**."
   ]
  },
  {
   "cell_type": "markdown",
   "id": "e5254bf4-58f0-48f8-98b9-4b5787d374d6",
   "metadata": {},
   "source": [
    "To use these operators with NumPy, you will need **np.logical_and()**, **np.logical_or()** and **np.logical_not()**. Here's an example on the **my_house** and **your_house** arrays from before to give you an idea:"
   ]
  },
  {
   "cell_type": "code",
   "execution_count": null,
   "id": "5d72a877-fe84-4769-b06e-1da6ce7de27b",
   "metadata": {},
   "outputs": [],
   "source": [
    "np.logical_and(my_house > 13, \n",
    "               your_house < 15)"
   ]
  },
  {
   "cell_type": "code",
   "execution_count": 60,
   "id": "67ba585c-0714-4e7d-9b32-3e5dd98d883a",
   "metadata": {
    "tags": []
   },
   "outputs": [
    {
     "name": "stdout",
     "output_type": "stream",
     "text": [
      "my_house > 18.5 or my_house < 10\t: [False  True False  True]\n",
      "my_house < 11 or your_house < 11\t: [False False False  True]\n"
     ]
    }
   ],
   "source": [
    "# Create arrays\n",
    "import numpy as np\n",
    "my_house = np.array([18.0, 20.0, 10.75, 9.50])\n",
    "your_house = np.array([14.0, 24.0, 14.25, 9.0])\n",
    "\n",
    "# my_house greater than 18.5 or smaller than 10\n",
    "print(\"my_house > 18.5 or my_house < 10\\t:\", np.logical_or(my_house > 18.5, my_house < 10))\n",
    "\n",
    "# Both my_house and your_house smaller than 11\n",
    "print(\"my_house < 11 or your_house < 11\\t:\", np.logical_and(my_house < 11, your_house < 10))"
   ]
  },
  {
   "cell_type": "markdown",
   "id": "bfd27688-cb00-4e24-abc6-04aa2535e86c",
   "metadata": {},
   "source": [
    "## Warmup"
   ]
  },
  {
   "cell_type": "markdown",
   "id": "fe4c526b-7840-4096-bb87-c9c1515cccdd",
   "metadata": {},
   "source": [
    "To experiment with **if** and **else** a bit, have a look at this code sample:"
   ]
  },
  {
   "cell_type": "code",
   "execution_count": 61,
   "id": "525f617c-b9c1-4453-8098-4245672be015",
   "metadata": {
    "tags": []
   },
   "outputs": [
    {
     "name": "stdout",
     "output_type": "stream",
     "text": [
      "medium\n"
     ]
    }
   ],
   "source": [
    "area = 10.0\n",
    "if(area < 9) :\n",
    "    print(\"small\")\n",
    "elif(area < 12) :\n",
    "    print(\"medium\")\n",
    "else :\n",
    "    print(\"large\")"
   ]
  },
  {
   "cell_type": "markdown",
   "id": "1dfd535c-ba9d-4154-9a71-3b7c0785bec3",
   "metadata": {},
   "source": [
    "What will **the output** be if you run this piece of code in the Python?"
   ]
  },
  {
   "cell_type": "markdown",
   "id": "4c526bff-716d-41ef-ac42-d54e9689f435",
   "metadata": {},
   "source": [
    "**Possible answers:**\n",
    "<ul>\n",
    "    <li><input type=\"checkbox\"> small</li>\n",
    "    <li><input type=\"checkbox\" checked> $\\color{blue}{\\text{medium}}$</li>\n",
    "    <li><input type=\"checkbox\"> large</li>\n",
    "    <li><input type=\"checkbox\"> The syntax is incorrect; this code will produce an error.</li>\n",
    "</ul>"
   ]
  },
  {
   "cell_type": "markdown",
   "id": "fd647809-1607-477b-90bd-01976baf6bfb",
   "metadata": {},
   "source": [
    "## if"
   ]
  },
  {
   "cell_type": "markdown",
   "id": "ef67866d-3d18-4002-a4f7-56e3bdc4d29b",
   "metadata": {},
   "source": [
    "It's time to take a closer look around in your house."
   ]
  },
  {
   "cell_type": "markdown",
   "id": "4583391c-d16a-40c2-8773-752f1e7989c5",
   "metadata": {},
   "source": [
    "Two variables are defined in the sample code: **room**, a string that tells you which room of the house we're looking at, and **area**, the area of that room."
   ]
  },
  {
   "cell_type": "code",
   "execution_count": 62,
   "id": "a842e743-2efb-4484-b280-1f199ecba972",
   "metadata": {
    "tags": []
   },
   "outputs": [
    {
     "name": "stdout",
     "output_type": "stream",
     "text": [
      "looking around in the kitchen.\n"
     ]
    }
   ],
   "source": [
    "# Define variables\n",
    "room = \"kit\"\n",
    "area = 14.0\n",
    "\n",
    "# if statement for room\n",
    "if room == \"kit\" :\n",
    "    print(\"looking around in the kitchen.\")\n",
    "\n",
    "# if statement for area\n",
    "if area > 15 :\n",
    "    print(\"big place!\")"
   ]
  },
  {
   "cell_type": "markdown",
   "id": "2765563e-5447-4eb8-bb9f-cd910838337f",
   "metadata": {},
   "source": [
    "## Add else"
   ]
  },
  {
   "cell_type": "markdown",
   "id": "14f864a5-397a-4773-afef-17d6ecd51849",
   "metadata": {},
   "source": [
    "In the script, the if construct for room has been extended with an else statement so that **\"looking around elsewhere.\"** is printed if the condition **room == \"kit\"** evaluates to **False**."
   ]
  },
  {
   "cell_type": "markdown",
   "id": "a17817b0-6557-4e04-b0b0-471449212a7a",
   "metadata": {},
   "source": [
    "Can you do a similar thing to add more functionality to the **if** construct for **area**?"
   ]
  },
  {
   "cell_type": "code",
   "execution_count": 64,
   "id": "a10c2869-6f47-45f2-980f-ce4e01219821",
   "metadata": {
    "tags": []
   },
   "outputs": [
    {
     "name": "stdout",
     "output_type": "stream",
     "text": [
      "looking around in the kitchen.\n",
      "pretty small.\n"
     ]
    }
   ],
   "source": [
    "# Define variables\n",
    "room = \"kit\"\n",
    "area = 14.0\n",
    "\n",
    "# if-else construct for room\n",
    "if room == \"kit\" :\n",
    "    print(\"looking around in the kitchen.\")\n",
    "else :\n",
    "    print(\"looking around elsewhere.\")\n",
    "\n",
    "# if-else construct for area\n",
    "if area > 15 :\n",
    "    print(\"big place!\")\n",
    "else :\n",
    "    print(\"pretty small.\")"
   ]
  },
  {
   "cell_type": "markdown",
   "id": "cd9fccfe-09b8-4ea8-93b3-4ec2ef20907d",
   "metadata": {},
   "source": [
    "## Customize further: elif"
   ]
  },
  {
   "cell_type": "markdown",
   "id": "0384acf8-79ef-45eb-a04a-4559fc28a1e1",
   "metadata": {},
   "source": [
    "It's also possible to have a look around in the bedroom. The sample code contains an **elif** part that checks if **room** equals \"bed\". In that case, \"looking around in the bedroom.\" is printed out."
   ]
  },
  {
   "cell_type": "markdown",
   "id": "7bc09402-0c67-4d54-ba6b-40a05b391236",
   "metadata": {},
   "source": [
    "It's up to you now! Make a similar addition to the second control structure to further customize the messages for different values of **area**."
   ]
  },
  {
   "cell_type": "code",
   "execution_count": 67,
   "id": "f0fbcdac-bcad-4647-a225-4c47c6fb2522",
   "metadata": {
    "tags": []
   },
   "outputs": [
    {
     "name": "stdout",
     "output_type": "stream",
     "text": [
      "looking around in the bedroom.\n",
      "medium size, nice!\n"
     ]
    }
   ],
   "source": [
    "# Define variables\n",
    "room = \"bed\"\n",
    "area = 14.0\n",
    "\n",
    "# if-elif-else construct for room\n",
    "if room == \"kit\" :\n",
    "    print(\"looking around in the kitchen.\")\n",
    "elif room == \"bed\":\n",
    "    print(\"looking around in the bedroom.\")\n",
    "else :\n",
    "    print(\"looking around elsewhere.\")\n",
    "\n",
    "# if-elif-else construct for area\n",
    "if area > 15 :\n",
    "    print(\"big place!\")\n",
    "elif area > 10 :\n",
    "    print(\"medium size, nice!\")\n",
    "else :\n",
    "    print(\"pretty small.\")"
   ]
  },
  {
   "cell_type": "markdown",
   "id": "dff8d9fc-dade-4c1b-a389-6900a7dc00ac",
   "metadata": {},
   "source": [
    "## Driving right (1)"
   ]
  },
  {
   "cell_type": "markdown",
   "id": "a77e78b3-56d8-460c-a36f-2613407e5b44",
   "metadata": {},
   "source": [
    "Remember that **cars dataset**, containing the **cars per 1000 people (cars_per_cap)** and whether people **drive right (drives_right)** for **different countries (country)**? The code that imports this data in **CSV format** into Python as a DataFrame is included in the script."
   ]
  },
  {
   "cell_type": "markdown",
   "id": "a68db30a-48f9-480f-b48b-fe3c04c56ec8",
   "metadata": {},
   "source": [
    "Let's start simple and try to find all observations in cars where **drives_right is True**."
   ]
  },
  {
   "cell_type": "markdown",
   "id": "f7149584-48fb-4adc-a780-1090e63571f2",
   "metadata": {},
   "source": [
    "**drives_right** is a boolean column, so you'll have to extract it as a Series and then use this boolean Series to select observations from **cars**."
   ]
  },
  {
   "cell_type": "code",
   "execution_count": 86,
   "id": "a3602ba1-1a6b-4a5d-b3b2-3a16016ac86b",
   "metadata": {
    "tags": []
   },
   "outputs": [
    {
     "name": "stdout",
     "output_type": "stream",
     "text": [
      "assert that drives_right is True for all observations:\n",
      "      cars_per_cap        country  drives_right\n",
      "US            809  United States          True\n",
      "RU            200         Russia          True\n",
      "MOR            70        Morocco          True\n",
      "EG             45          Egypt          True\n"
     ]
    }
   ],
   "source": [
    "# Import cars data\n",
    "import pandas as pd\n",
    "cars = pd.read_csv('cars.csv', index_col = 0)\n",
    "\n",
    "# Extract drives_right column as Series: dr\n",
    "dr = cars[\"drives_right\"]\n",
    "# Use dr to subset cars: sel\n",
    "sel = cars[dr[:] == True]\n",
    "\n",
    "# Print sel\n",
    "print(\"assert that drives_right is True for all observations:\\n\", sel)"
   ]
  },
  {
   "cell_type": "markdown",
   "id": "edc29895-c35d-4bfb-a183-2f03e71d5a0e",
   "metadata": {},
   "source": [
    "## Driving right (2)"
   ]
  },
  {
   "cell_type": "markdown",
   "id": "9abcbb22-02b1-4536-a93c-87a87e1a0159",
   "metadata": {},
   "source": [
    "The code in the previous example worked fine, but you actually unnecessarily created a new variable **dr**. You can achieve the same result without this intermediate variable. Put the code that computes **dr** straight into the square brackets that select observations from **cars**."
   ]
  },
  {
   "cell_type": "code",
   "execution_count": 87,
   "id": "5feb345a-f5f9-48c9-b726-3b024f5e19ae",
   "metadata": {
    "tags": []
   },
   "outputs": [
    {
     "name": "stdout",
     "output_type": "stream",
     "text": [
      "assert that drives_right is True for all observations:\n",
      "      cars_per_cap        country  drives_right\n",
      "US            809  United States          True\n",
      "RU            200         Russia          True\n",
      "MOR            70        Morocco          True\n",
      "EG             45          Egypt          True\n"
     ]
    }
   ],
   "source": [
    "# Import cars data\n",
    "import pandas as pd\n",
    "cars = pd.read_csv('cars.csv', index_col = 0)\n",
    "\n",
    "# Convert code to a one-liner\n",
    "sel = cars[cars['drives_right']]\n",
    "\n",
    "# Print sel\n",
    "print(\"assert that drives_right is True for all observations:\\n\", sel)"
   ]
  },
  {
   "cell_type": "markdown",
   "id": "d1122fb9-6ba3-4e84-a16d-f36ec3455a3e",
   "metadata": {},
   "source": [
    "## Cars per capita (1)"
   ]
  },
  {
   "cell_type": "markdown",
   "id": "564c9f69-6cb6-443e-9ab3-16f7ca103133",
   "metadata": {},
   "source": [
    "Let's stick to the **cars** data some more. This time you want to find out which countries have a high cars per capita figure. In other words, in which countries do many people have a car, or maybe multiple cars."
   ]
  },
  {
   "cell_type": "markdown",
   "id": "17f776f3-4d0e-4682-aaae-18b0380b613f",
   "metadata": {},
   "source": [
    "Similar to the previous example, you'll want to build up a boolean Series, that you can then use to subset the **cars** DataFrame to select certain observations. If you want to do this in a one-liner, that's perfectly fine!"
   ]
  },
  {
   "cell_type": "code",
   "execution_count": 97,
   "id": "8d28fe64-4e49-457f-87b6-07a5750b5bc1",
   "metadata": {
    "tags": []
   },
   "outputs": [
    {
     "name": "stdout",
     "output_type": "stream",
     "text": [
      "observations that have a cars_per_cap over 500:\n",
      "      cars_per_cap        country  drives_right\n",
      "US            809  United States          True\n",
      "AUS           731      Australia         False\n",
      "JAP           588          Japan         False\n"
     ]
    }
   ],
   "source": [
    "# Import cars data\n",
    "import pandas as pd\n",
    "cars = pd.read_csv('cars.csv', index_col = 0)\n",
    "\n",
    "# Create car_maniac: observations that have a cars_per_cap over 500\n",
    "cpc = cars[\"cars_per_cap\"]\n",
    "car_maniach = cars[cpc > 500]\n",
    "many_cars = cars[cpc <= 500]\n",
    "\n",
    "# Print car_maniac\n",
    "print(\"observations that have a cars_per_cap over 500:\\n\", car_maniach)"
   ]
  },
  {
   "cell_type": "markdown",
   "id": "a05afa55-0da6-4d55-95a1-d18af6078dcf",
   "metadata": {},
   "source": [
    "## Cars per capita (2)"
   ]
  },
  {
   "cell_type": "markdown",
   "id": "542ca0f4-b9de-4d5c-94d5-fbc024836a09",
   "metadata": {},
   "source": [
    "Remember about **np.logical_and()**, **np.logical_or()** and **np.logical_not()**, the NumPy variants of the and, or and not operators? You can also **use them on Pandas Series** to do more advanced filtering operations."
   ]
  },
  {
   "cell_type": "markdown",
   "id": "43eabe8e-1c32-41bd-90ad-7cfb1e039473",
   "metadata": {},
   "source": [
    "Take this example that selects the observations that have a cars_per_cap between 10 and 80. Try out these lines of code step by step to see what's happening."
   ]
  },
  {
   "cell_type": "code",
   "execution_count": null,
   "id": "858501fa-d7ce-48c8-829a-13dd63949289",
   "metadata": {
    "tags": []
   },
   "outputs": [],
   "source": [
    "cpc = cars['cars_per_cap']\n",
    "between = np.logical_and(cpc > 10, cpc < 80)\n",
    "medium = cars[between]"
   ]
  },
  {
   "cell_type": "code",
   "execution_count": 107,
   "id": "0d703cdf-f6e2-4a21-a8e7-bab4fea95974",
   "metadata": {
    "tags": []
   },
   "outputs": [
    {
     "name": "stdout",
     "output_type": "stream",
     "text": [
      "observations with cars_per_cap between 100 and 500:\n",
      "     cars_per_cap country  drives_right\n",
      "RU           200  Russia          True\n"
     ]
    }
   ],
   "source": [
    "# Import cars data\n",
    "import pandas as pd\n",
    "cars = pd.read_csv('cars.csv', index_col = 0)\n",
    "\n",
    "# Import numpy, you'll need this\n",
    "import numpy as np\n",
    "\n",
    "# Create medium: observations with cars_per_cap between 100 and 500\n",
    "cpc = cars[\"cars_per_cap\"]\n",
    "between = np.logical_and(cpc >= 100, cpc <= 500)\n",
    "medium = cars[between]\n",
    "\n",
    "# Print medium\n",
    "print(\"observations with cars_per_cap between 100 and 500:\\n\", medium)"
   ]
  }
 ],
 "metadata": {
  "kernelspec": {
   "display_name": "Python 3 (ipykernel)",
   "language": "python",
   "name": "python3"
  },
  "language_info": {
   "codemirror_mode": {
    "name": "ipython",
    "version": 3
   },
   "file_extension": ".py",
   "mimetype": "text/x-python",
   "name": "python",
   "nbconvert_exporter": "python",
   "pygments_lexer": "ipython3",
   "version": "3.11.5"
  }
 },
 "nbformat": 4,
 "nbformat_minor": 5
}
