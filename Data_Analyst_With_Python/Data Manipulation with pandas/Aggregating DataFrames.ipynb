{
 "cells": [
  {
   "cell_type": "markdown",
   "id": "6f9ec73c-51b6-434b-8563-4fb2b6dd5ec8",
   "metadata": {
    "tags": []
   },
   "source": [
    "Nama: Nurkholis \\\n",
    "Source: Datacamp"
   ]
  },
  {
   "cell_type": "markdown",
   "id": "b1c632f7-e1ee-4110-977e-69c7848cb945",
   "metadata": {
    "tags": []
   },
   "source": [
    "# Aggregating DataFrames"
   ]
  },
  {
   "cell_type": "markdown",
   "id": "d7e33a2c-1ab7-47df-bb7a-2d5e995905d0",
   "metadata": {},
   "source": [
    "In this chapter, you’ll calculate summary statistics on DataFrame columns, and master grouped summary statistics and pivot tables."
   ]
  },
  {
   "cell_type": "markdown",
   "id": "c30a9fb3-f3c8-4ddf-8ca7-eb161d7aa1f2",
   "metadata": {},
   "source": [
    "## Mean and median"
   ]
  },
  {
   "cell_type": "markdown",
   "id": "e35060b8-a269-43c8-979e-48fd03abff8b",
   "metadata": {},
   "source": [
    "Summary statistics** are exactly what they sound like - they summarize many numbers in one statistic. For example, **mean**, **median**, **minimum**, **aximum**, and **standard deviation** are summary statistics. Calculating summary statistics allows you to get a better sense of your data, even if there's a lot of it.\n",
    "\n",
    "`**sales`** is available and `**pandas`** is loaded as `**pd`**."
   ]
  },
  {
   "cell_type": "code",
   "execution_count": 2,
   "id": "65683ff8-a737-4b99-ab79-29a8ee31666e",
   "metadata": {
    "tags": []
   },
   "outputs": [],
   "source": [
    "import pandas as pd\n",
    "sales = pd.read_csv(\"sales_subset.csv\", index_col=0)"
   ]
  },
  {
   "cell_type": "code",
   "execution_count": 4,
   "id": "612748f4-9492-4b40-80e4-d3a8b89e749a",
   "metadata": {
    "tags": []
   },
   "outputs": [
    {
     "name": "stdout",
     "output_type": "stream",
     "text": [
      "   store type  department        date  weekly_sales  is_holiday  \\\n",
      "0      1    A           1  2010-02-05      24924.50       False   \n",
      "1      1    A           1  2010-03-05      21827.90       False   \n",
      "2      1    A           1  2010-04-02      57258.43       False   \n",
      "3      1    A           1  2010-05-07      17413.94       False   \n",
      "4      1    A           1  2010-06-04      17558.09       False   \n",
      "\n",
      "   temperature_c  fuel_price_usd_per_l  unemployment  \n",
      "0       5.727778              0.679451         8.106  \n",
      "1       8.055556              0.693452         8.106  \n",
      "2      16.816667              0.718284         7.808  \n",
      "3      22.527778              0.748928         7.808  \n",
      "4      27.050000              0.714586         7.808  \n"
     ]
    }
   ],
   "source": [
    "# Explore your new DataFrame first by printing the first few rows of the sales DataFrame.\n",
    "# Print information about the columns in sales.\n",
    "# Print the mean of the weekly_sales column.\n",
    "# Print the median of the weekly_sales column.\n",
    "\n",
    "\n",
    "\n",
    "# Print the head of the sales DataFrame\n",
    "print(sales.head())"
   ]
  },
  {
   "cell_type": "code",
   "execution_count": 5,
   "id": "21949361-4773-418c-b305-86176a6aac9e",
   "metadata": {
    "tags": []
   },
   "outputs": [
    {
     "name": "stdout",
     "output_type": "stream",
     "text": [
      "<class 'pandas.core.frame.DataFrame'>\n",
      "Index: 10774 entries, 0 to 10773\n",
      "Data columns (total 9 columns):\n",
      " #   Column                Non-Null Count  Dtype  \n",
      "---  ------                --------------  -----  \n",
      " 0   store                 10774 non-null  int64  \n",
      " 1   type                  10774 non-null  object \n",
      " 2   department            10774 non-null  int64  \n",
      " 3   date                  10774 non-null  object \n",
      " 4   weekly_sales          10774 non-null  float64\n",
      " 5   is_holiday            10774 non-null  bool   \n",
      " 6   temperature_c         10774 non-null  float64\n",
      " 7   fuel_price_usd_per_l  10774 non-null  float64\n",
      " 8   unemployment          10774 non-null  float64\n",
      "dtypes: bool(1), float64(4), int64(2), object(2)\n",
      "memory usage: 768.1+ KB\n",
      "None\n"
     ]
    }
   ],
   "source": [
    "# Print the info about the sales DataFrame\n",
    "print(sales.info())"
   ]
  },
  {
   "cell_type": "code",
   "execution_count": 6,
   "id": "c39d5516-cea1-4c5d-a9c7-c4cb7e9ca3a4",
   "metadata": {
    "tags": []
   },
   "outputs": [
    {
     "name": "stdout",
     "output_type": "stream",
     "text": [
      "23843.95014850566\n"
     ]
    }
   ],
   "source": [
    "# Print the mean of weekly_sales\n",
    "print(sales[\"weekly_sales\"].mean())"
   ]
  },
  {
   "cell_type": "code",
   "execution_count": 7,
   "id": "390311c7-711a-443e-99c8-92d5b0cc0406",
   "metadata": {
    "tags": []
   },
   "outputs": [
    {
     "name": "stdout",
     "output_type": "stream",
     "text": [
      "12049.064999999999\n"
     ]
    }
   ],
   "source": [
    "# Print the median of weekly_sales\n",
    "print(sales[\"weekly_sales\"].median())"
   ]
  },
  {
   "cell_type": "markdown",
   "id": "a7898084-7da2-4dc9-a506-0651855b17b7",
   "metadata": {},
   "source": [
    "## Summarizing dates"
   ]
  },
  {
   "cell_type": "markdown",
   "id": "0d1cf9a5-1a13-42f9-9fdf-45a16701b8f3",
   "metadata": {},
   "source": [
    "**Summary statistics** can also be calculated on date columns that have values with the **data type datetime64**. Some **summary statistics** — like mean — don't make a ton of **sense on dates**, but others are **super helpful**, for example, minimum and maximum, which allow you to see what time range your data covers.\n",
    "\n",
    "`sales` is available and `pandas` is loaded as pd."
   ]
  },
  {
   "cell_type": "code",
   "execution_count": 8,
   "id": "11815294-3e75-4403-a1d3-8df78aba921a",
   "metadata": {
    "tags": []
   },
   "outputs": [],
   "source": [
    "import pandas as pd\n",
    "sales = pd.read_csv(\"sales_subset.csv\", index_col=0)"
   ]
  },
  {
   "cell_type": "code",
   "execution_count": null,
   "id": "124a9884-acb0-4818-a394-c65d40101500",
   "metadata": {},
   "outputs": [],
   "source": [
    "# Print the maximum of the date column.\n",
    "# Print the minimum of the date column."
   ]
  },
  {
   "cell_type": "code",
   "execution_count": 9,
   "id": "3115f745-50bf-4421-8e5f-f8ffaa65faf0",
   "metadata": {
    "tags": []
   },
   "outputs": [
    {
     "name": "stdout",
     "output_type": "stream",
     "text": [
      "2012-10-26\n"
     ]
    }
   ],
   "source": [
    "# Print the maximum of the date column.\n",
    "print(sales[\"date\"].max())"
   ]
  },
  {
   "cell_type": "code",
   "execution_count": 11,
   "id": "c50a3066-4b58-423f-80b5-25262235367d",
   "metadata": {
    "tags": []
   },
   "outputs": [
    {
     "name": "stdout",
     "output_type": "stream",
     "text": [
      "2010-02-05\n"
     ]
    }
   ],
   "source": [
    "# Print the minimum of the date column.\n",
    "print(sales[\"date\"].min())"
   ]
  },
  {
   "cell_type": "markdown",
   "id": "a27075c3-c456-4d22-8df4-1052b9e2d657",
   "metadata": {},
   "source": [
    "## Efficient summaries"
   ]
  },
  {
   "cell_type": "markdown",
   "id": "1d5382e9-cdbe-4937-8e3b-0c47f82d95d8",
   "metadata": {},
   "source": [
    "While `pandas` and `NumPy` have **tons of functions**, sometimes, you may need a different function to summarize your data.\n",
    "\n",
    "The **.agg()** method allows you to apply your own custom functions to a DataFrame, as well as apply functions to more than one column of a DataFrame at once, making your aggregations super-efficient. For example,\n",
    "\n",
    "`df['column'].agg(function)`\n",
    "\n",
    "In the custom function for this exercise, **\"IQR\"** is short for **inter-quartile range**, which is the 75th percentile minus the 25th percentile. It's an alternative to standard deviation that is helpful if your data contains outliers.\n",
    "\n",
    "`sales` is available and `pandas` is loaded as pd."
   ]
  },
  {
   "cell_type": "code",
   "execution_count": 12,
   "id": "7cc7e0a9-e798-4251-8f4e-9c6d381eefe1",
   "metadata": {
    "tags": []
   },
   "outputs": [],
   "source": [
    "import pandas as pd\n",
    "sales = pd.read_csv(\"sales_subset.csv\", index_col=0)"
   ]
  },
  {
   "cell_type": "code",
   "execution_count": null,
   "id": "9d619a80-73e0-42b0-9aaf-5fa03cc222bd",
   "metadata": {},
   "outputs": [],
   "source": [
    "# Use the custom iqr function defined for you along with\n",
    "#-.agg() to print the IQR of the temperature_c column of sales.\n",
    "# Update the column selection to use the custom iqr function with\n",
    "#-.agg() to print the IQR of temperature_c, fuel_price_usd_per_l,\n",
    "#-and unemployment, in that order.\n",
    "# Update the aggregation functions called by .agg(): include iqr and np.median in that order."
   ]
  },
  {
   "cell_type": "code",
   "execution_count": 15,
   "id": "059e981e-e360-4440-9b79-e69dd083d4bd",
   "metadata": {
    "tags": []
   },
   "outputs": [
    {
     "name": "stdout",
     "output_type": "stream",
     "text": [
      "16.583333333333336\n"
     ]
    }
   ],
   "source": [
    "# Use the custom iqr function defined for you along with\n",
    "#-.agg() to print the IQR of the temperature_c column of sales.\n",
    "\n",
    "# A custom IQR function\n",
    "def iqr(column):\n",
    "    return column.quantile(0.75) - column.quantile(0.25)\n",
    "    \n",
    "# Print IQR of the temperature_c column\n",
    "print(sales[\"temperature_c\"].agg(iqr))"
   ]
  },
  {
   "cell_type": "code",
   "execution_count": 16,
   "id": "1fc63640-59fa-49f0-a9c2-38535363965d",
   "metadata": {
    "tags": []
   },
   "outputs": [
    {
     "name": "stdout",
     "output_type": "stream",
     "text": [
      "temperature_c           16.583333\n",
      "fuel_price_usd_per_l     0.073176\n",
      "unemployment             0.565000\n",
      "dtype: float64\n"
     ]
    }
   ],
   "source": [
    "# Update the column selection to use the custom iqr function with\n",
    "#-.agg() to print the IQR of temperature_c, fuel_price_usd_per_l,\n",
    "#-and unemployment, in that order.\n",
    "\n",
    "# A custom IQR function\n",
    "def iqr(column):\n",
    "    return column.quantile(0.75) - column.quantile(0.25)\n",
    "\n",
    "# Update to print IQR of temperature_c, fuel_price_usd_per_l, & unemployment\n",
    "print(sales[[\"temperature_c\", \"fuel_price_usd_per_l\", \"unemployment\"]].agg(iqr))"
   ]
  },
  {
   "cell_type": "code",
   "execution_count": 28,
   "id": "5cd77e21-9bec-4a5d-a8b3-753a60f9b7af",
   "metadata": {
    "tags": []
   },
   "outputs": [
    {
     "name": "stdout",
     "output_type": "stream",
     "text": [
      "        temperature_c  fuel_price_usd_per_l  unemployment\n",
      "iqr         16.583333              0.073176         0.565\n",
      "median      16.966667              0.743381         8.099\n"
     ]
    }
   ],
   "source": [
    "# Update the aggregation functions called by .agg(): include iqr and np.median in that order.\n",
    "\n",
    "# Import NumPy and create custom IQR function\n",
    "import numpy as np\n",
    "def iqr(column):\n",
    "    return column.quantile(0.75) - column.quantile(0.25)\n",
    "\n",
    "# Update to print IQR and median of temperature_c, fuel_price_usd_per_l, & unemployment\n",
    "print(sales[[\"temperature_c\", \"fuel_price_usd_per_l\", \"unemployment\"]].agg([iqr, np.median]))"
   ]
  },
  {
   "cell_type": "markdown",
   "id": "61e503c4-4596-47ae-987d-0b0c355e86ba",
   "metadata": {},
   "source": [
    "## Cumulative statistics"
   ]
  },
  {
   "cell_type": "markdown",
   "id": "0e440530-9ac9-4a24-a78b-970bbd622f88",
   "metadata": {},
   "source": [
    "**Cumulative statistics** can also be helpful in **tracking summary statistics over time**. In this exercise, you'll calculate the **cumulative sum** and **cumulative max** of a department's weekly sales, which will allow you to identify what the total sales were so far as well as what the highest weekly sales were so far.\n",
    "\n",
    "A DataFrame called **sales_1_1** has been created for you, which **contains the sales data for department 1 of store 1**. `pandas` is loaded as pd."
   ]
  },
  {
   "cell_type": "code",
   "execution_count": 40,
   "id": "497197de-66d2-478b-969b-b26036b170ea",
   "metadata": {
    "tags": []
   },
   "outputs": [],
   "source": [
    "import pandas as pd\n",
    "sales = pd.read_csv(\"sales_subset.csv\", index_col=0)\n",
    "sales_1_1 = sales[(sales[\"department\"] == 1) & (sales[\"store\"] == 1)]"
   ]
  },
  {
   "cell_type": "code",
   "execution_count": null,
   "id": "345c0c38-a8b1-48eb-8272-6b7b5cc27550",
   "metadata": {},
   "outputs": [],
   "source": [
    "# Sort the rows of sales_1_1 by the date column in ascending order.\n",
    "# Get the cumulative sum of weekly_sales and\n",
    "#-add it as a new column of sales_1_1 called cum_weekly_sales.\n",
    "# Get the cumulative maximum of weekly_sales, and add it as a column called cum_max_sales.\n",
    "# Print the date, weekly_sales, cum_weekly_sales, and cum_max_sales columns."
   ]
  },
  {
   "cell_type": "code",
   "execution_count": 67,
   "id": "f77debdd-2812-4930-a14b-73d12304c0bf",
   "metadata": {
    "tags": []
   },
   "outputs": [],
   "source": [
    "# Sort sales_1_1 by date\n",
    "sales_1_1 = sales_1_1.sort_values(\"date\", ascending=True)"
   ]
  },
  {
   "cell_type": "code",
   "execution_count": 68,
   "id": "52f29136-4ace-4705-831d-a28aefcc5331",
   "metadata": {
    "tags": []
   },
   "outputs": [],
   "source": [
    "# Get the cumulative sum of weekly_sales, add as cum_weekly_sales col\n",
    "sales_1_1[\"cum_weekly_sales\"] = sales_1_1[\"weekly_sales\"].cumsum()"
   ]
  },
  {
   "cell_type": "code",
   "execution_count": 69,
   "id": "c653c603-878b-47e8-9984-a32ff9f616bc",
   "metadata": {
    "tags": []
   },
   "outputs": [],
   "source": [
    "# Get the cumulative max of weekly_sales, add as cum_max_sales col\n",
    "sales_1_1[\"cum_max_sales\"] = sales_1_1[\"weekly_sales\"].cummax()"
   ]
  },
  {
   "cell_type": "code",
   "execution_count": 70,
   "id": "bf31553e-c34c-41d3-9abf-c4a090bf95b9",
   "metadata": {
    "tags": []
   },
   "outputs": [
    {
     "name": "stdout",
     "output_type": "stream",
     "text": [
      "             date  weekly_sales  cum_weekly_sales  cum_max_sales\n",
      "0      2010-02-05      24924.50      2.492450e+04       24924.50\n",
      "6437   2010-02-05      38597.52      6.352202e+04       38597.52\n",
      "1249   2010-02-05       3840.21      6.736223e+04       38597.52\n",
      "6449   2010-02-05      17590.59      8.495282e+04       38597.52\n",
      "6461   2010-02-05       4929.87      8.988269e+04       38597.52\n",
      "...           ...           ...               ...            ...\n",
      "3592   2012-10-05        440.00      2.568932e+08      293966.05\n",
      "8108   2012-10-05        660.00      2.568938e+08      293966.05\n",
      "10773  2012-10-05        915.00      2.568947e+08      293966.05\n",
      "6257   2012-10-12          3.00      2.568947e+08      293966.05\n",
      "3384   2012-10-26        -21.63      2.568947e+08      293966.05\n",
      "\n",
      "[10774 rows x 4 columns]\n"
     ]
    }
   ],
   "source": [
    "# See the columns you calculated\n",
    "print(sales_1_1[[\"date\", \"weekly_sales\", \"cum_weekly_sales\", \"cum_max_sales\"]])"
   ]
  },
  {
   "cell_type": "markdown",
   "id": "81a11029-9878-4704-8ad0-086298360e95",
   "metadata": {},
   "source": [
    "## Dropping duplicates"
   ]
  },
  {
   "cell_type": "markdown",
   "id": "2b23566d-339b-4d64-ba14-4ccd7d851edd",
   "metadata": {},
   "source": [
    "**Removing duplicates** is an essential skill to get **accurate counts** because often, you **don't** want to count the same thing multiple times. In this exercise, you'll create some new DataFrames using unique values from sales.\n",
    "\n",
    "`sales` is available and `pandas` is imported as pd."
   ]
  },
  {
   "cell_type": "code",
   "execution_count": 71,
   "id": "1d52a1e0-102f-4017-b6f8-9b2784d369a4",
   "metadata": {
    "tags": []
   },
   "outputs": [],
   "source": [
    "import pandas as pd\n",
    "sales = pd.read_csv(\"sales_subset.csv\", index_col=0)"
   ]
  },
  {
   "cell_type": "code",
   "execution_count": null,
   "id": "53aea13d-fc71-40d3-9bf9-40ce597754f3",
   "metadata": {},
   "outputs": [],
   "source": [
    "# Remove rows of sales with duplicate pairs of store and type\n",
    "#-and save as store_types and print the head.\n",
    "# Remove rows of sales with duplicate pairs of store\n",
    "#-and department and save as store_depts and print the head.\n",
    "# Subset the rows that are holiday weeks using the is_holiday column,\n",
    "#-and drop the duplicate dates, saving as holiday_dates.\n",
    "# Select the date column of holiday_dates, and print."
   ]
  },
  {
   "cell_type": "code",
   "execution_count": 72,
   "id": "b290c56e-9380-4d27-a5c6-50696a1a6409",
   "metadata": {
    "tags": []
   },
   "outputs": [
    {
     "name": "stdout",
     "output_type": "stream",
     "text": [
      "      store type  department        date  weekly_sales  is_holiday  \\\n",
      "0         1    A           1  2010-02-05      24924.50       False   \n",
      "901       2    A           1  2010-02-05      35034.06       False   \n",
      "1798      4    A           1  2010-02-05      38724.42       False   \n",
      "2699      6    A           1  2010-02-05      25619.00       False   \n",
      "3593     10    B           1  2010-02-05      40212.84       False   \n",
      "\n",
      "      temperature_c  fuel_price_usd_per_l  unemployment  \n",
      "0          5.727778              0.679451         8.106  \n",
      "901        4.550000              0.679451         8.324  \n",
      "1798       6.533333              0.686319         8.623  \n",
      "2699       4.683333              0.679451         7.259  \n",
      "3593      12.411111              0.782478         9.765  \n"
     ]
    }
   ],
   "source": [
    "# Remove rows of sales with duplicate pairs of store and type\n",
    "#-and save as store_types and print the head.\n",
    "\n",
    "# Drop duplicate store/type combinations\n",
    "store_types = sales.drop_duplicates(subset=[\"store\" , \"type\"])\n",
    "print(store_types.head())"
   ]
  },
  {
   "cell_type": "code",
   "execution_count": 73,
   "id": "69522f0a-e72d-48ea-830f-a1cdaf632f0e",
   "metadata": {
    "tags": []
   },
   "outputs": [
    {
     "name": "stdout",
     "output_type": "stream",
     "text": [
      "    store type  department        date  weekly_sales  is_holiday  \\\n",
      "0       1    A           1  2010-02-05      24924.50       False   \n",
      "12      1    A           2  2010-02-05      50605.27       False   \n",
      "24      1    A           3  2010-02-05      13740.12       False   \n",
      "36      1    A           4  2010-02-05      39954.04       False   \n",
      "48      1    A           5  2010-02-05      32229.38       False   \n",
      "\n",
      "    temperature_c  fuel_price_usd_per_l  unemployment  \n",
      "0        5.727778              0.679451         8.106  \n",
      "12       5.727778              0.679451         8.106  \n",
      "24       5.727778              0.679451         8.106  \n",
      "36       5.727778              0.679451         8.106  \n",
      "48       5.727778              0.679451         8.106  \n"
     ]
    }
   ],
   "source": [
    "# Remove rows of sales with duplicate pairs of store\n",
    "#-and department and save as store_depts and print the head.\n",
    "\n",
    "# Drop duplicate store/department combinations\n",
    "store_depts = sales.drop_duplicates(subset=[\"store\", \"department\"])\n",
    "print(store_depts.head())"
   ]
  },
  {
   "cell_type": "code",
   "execution_count": 76,
   "id": "605c085f-20f2-468b-835e-2976893bc5df",
   "metadata": {
    "tags": []
   },
   "outputs": [],
   "source": [
    "# Subset the rows that are holiday weeks using the is_holiday column,\n",
    "#-and drop the duplicate dates, saving as holiday_dates.\n",
    "\n",
    "# Subset the rows where is_holiday is True and drop duplicate dates\n",
    "holiday_dates = sales[sales[\"is_holiday\"] == True].drop_duplicates(subset=\"date\")"
   ]
  },
  {
   "cell_type": "code",
   "execution_count": 77,
   "id": "18fe0a10-6f4c-4d87-9dac-49b930d55a05",
   "metadata": {
    "tags": []
   },
   "outputs": [
    {
     "name": "stdout",
     "output_type": "stream",
     "text": [
      "498     2010-09-10\n",
      "691     2011-11-25\n",
      "2315    2010-02-12\n",
      "6735    2012-09-07\n",
      "6810    2010-12-31\n",
      "6815    2012-02-10\n",
      "6820    2011-09-09\n",
      "Name: date, dtype: object\n"
     ]
    }
   ],
   "source": [
    "# Select the date column of holiday_dates, and print.\n",
    "\n",
    "# Print date col of holiday_dates\n",
    "print(holiday_dates[\"date\"])"
   ]
  },
  {
   "cell_type": "markdown",
   "id": "6e573c8f-8350-4031-96eb-a45d2be7bd32",
   "metadata": {},
   "source": [
    "## Counting categorical variables"
   ]
  },
  {
   "cell_type": "markdown",
   "id": "f8895ffd-f279-4f7b-898f-a2ea533f2051",
   "metadata": {},
   "source": [
    "Counting is a great way to get an overview of your data and to spot curiosities that you might not notice otherwise. In this exercise, you'll count the number of each type of store and the number of each department number using the DataFrames you created in the previous exercise:"
   ]
  },
  {
   "cell_type": "code",
   "execution_count": 80,
   "id": "b3c08898-6cdf-4059-be61-f68a4830ec90",
   "metadata": {
    "tags": []
   },
   "outputs": [],
   "source": [
    "import pandas as pd\n",
    "sales = pd.read_csv(\"sales_subset.csv\", index_col=0)\n",
    "\n",
    "# Drop duplicate store/type combinations\n",
    "store_types = sales.drop_duplicates(subset=[\"store\", \"type\"])\n",
    "\n",
    "# Drop duplicate store/department combinations\n",
    "store_depts = sales.drop_duplicates(subset=[\"store\", \"department\"])"
   ]
  },
  {
   "cell_type": "markdown",
   "id": "a8eeb407-217c-4b23-ae4d-6e9c25e43fe7",
   "metadata": {},
   "source": [
    "The **store_types** and **store_depts** DataFrames you created in the last exercise are available, and `pandas` is imported as `pd`."
   ]
  },
  {
   "cell_type": "code",
   "execution_count": null,
   "id": "95807a20-feb2-4b52-87f6-9be7356fd9c4",
   "metadata": {},
   "outputs": [],
   "source": [
    "# Count the number of stores of each store type in store_types.\n",
    "# Count the proportion of stores of each store type in store_types.\n",
    "# Count the number of different departments in store_depts,\n",
    "#-sorting the counts in descending order.\n",
    "# Count the proportion of different departments in store_depts,\n",
    "#-sorting the proportions in descending order."
   ]
  },
  {
   "cell_type": "code",
   "execution_count": 88,
   "id": "dc4e0f72-abfa-4d4d-9e98-2e42e8dfc348",
   "metadata": {
    "tags": []
   },
   "outputs": [
    {
     "name": "stdout",
     "output_type": "stream",
     "text": [
      "type\n",
      "A    11\n",
      "B     1\n",
      "Name: count, dtype: int64\n"
     ]
    }
   ],
   "source": [
    "# Count the number of stores of each store type in store_types.\n",
    "\n",
    "# Count the number of stores of each type\n",
    "store_counts = store_types[\"type\"].value_counts()\n",
    "print(store_counts)"
   ]
  },
  {
   "cell_type": "code",
   "execution_count": 89,
   "id": "f0a8dc77-8bdf-428d-90ac-35c1d214e4d8",
   "metadata": {
    "tags": []
   },
   "outputs": [
    {
     "name": "stdout",
     "output_type": "stream",
     "text": [
      "type\n",
      "A    0.916667\n",
      "B    0.083333\n",
      "Name: proportion, dtype: float64\n"
     ]
    }
   ],
   "source": [
    "# Count the proportion of stores of each store type in store_types.\n",
    "\n",
    "# Get the proportion of stores of each type\n",
    "store_props = store_types[\"type\"].value_counts(normalize=True)\n",
    "print(store_props)"
   ]
  },
  {
   "cell_type": "code",
   "execution_count": 90,
   "id": "71f83827-2c85-4e25-ab87-b6779ee30700",
   "metadata": {
    "tags": []
   },
   "outputs": [
    {
     "name": "stdout",
     "output_type": "stream",
     "text": [
      "department\n",
      "1     12\n",
      "55    12\n",
      "72    12\n",
      "71    12\n",
      "67    12\n",
      "      ..\n",
      "37    10\n",
      "48     8\n",
      "50     6\n",
      "39     4\n",
      "43     2\n",
      "Name: count, Length: 80, dtype: int64\n"
     ]
    }
   ],
   "source": [
    "# Count the number of different departments in store_depts,\n",
    "#-sorting the counts in descending order.\n",
    "\n",
    "# Count the number of each department number and sort\n",
    "dept_counts_sorted = store_depts[\"department\"].value_counts(sort=True)\n",
    "print(dept_counts_sorted)"
   ]
  },
  {
   "cell_type": "code",
   "execution_count": 95,
   "id": "3a5505a9-34b2-461b-932e-abfbf23ff961",
   "metadata": {
    "tags": []
   },
   "outputs": [
    {
     "name": "stdout",
     "output_type": "stream",
     "text": [
      "department\n",
      "1     0.012917\n",
      "55    0.012917\n",
      "72    0.012917\n",
      "71    0.012917\n",
      "67    0.012917\n",
      "        ...   \n",
      "37    0.010764\n",
      "48    0.008611\n",
      "50    0.006459\n",
      "39    0.004306\n",
      "43    0.002153\n",
      "Name: proportion, Length: 80, dtype: float64\n"
     ]
    }
   ],
   "source": [
    "# Count the proportion of different departments in store_depts,\n",
    "#-sorting the proportions in descending order.\n",
    "\n",
    "# Get the proportion of departments of each number and sort\n",
    "dept_props_sorted = store_depts[\"department\"].value_counts(sort=True, normalize=True)\n",
    "print(dept_props_sorted)"
   ]
  },
  {
   "cell_type": "markdown",
   "id": "052cfdb7-934d-44b4-b308-9768b8f7badb",
   "metadata": {},
   "source": [
    "## What percent of sales occurred at each store type?"
   ]
  },
  {
   "cell_type": "markdown",
   "id": "0c135cf8-24e0-4232-bc35-14bdb3ec46c8",
   "metadata": {},
   "source": [
    "While **.groupby()** is useful, you can calculate grouped summary statistics without it.\n",
    "\n",
    "Walmart distinguishes three types of stores: **\"supercenters,\"** **\"discount stores,\"** and **\"neighborhood markets,\"** encoded in this dataset as type \"A,\" \"B,\" and \"C.\" In this exercise, you'll calculate the total sales made at each store type, without using **.groupby()**. You can then use these numbers to see what proportion of Walmart's total sales were made at each type.\n",
    "\n",
    "`sales` is available and `pandas` is imported as pd."
   ]
  },
  {
   "cell_type": "code",
   "execution_count": 107,
   "id": "ff4379f8-f422-43f6-bd18-77122934aded",
   "metadata": {
    "tags": []
   },
   "outputs": [],
   "source": [
    "import pandas as pd\n",
    "sales = pd.read_csv(\"sales_subset.csv\", index_col=0)"
   ]
  },
  {
   "cell_type": "code",
   "execution_count": null,
   "id": "b49cbf2f-dc9e-4312-9614-9b92642cc48d",
   "metadata": {},
   "outputs": [],
   "source": [
    "# Calculate the total weekly_sales over the whole dataset.\n",
    "# Subset for type \"A\" stores, and calculate their total weekly sales.\n",
    "# Do the same for type \"B\" and type \"C\" stores.\n",
    "# Combine the A/B/C results into a list,\n",
    "#-and divide by sales_all to get the proportion of sales by type."
   ]
  },
  {
   "cell_type": "code",
   "execution_count": 102,
   "id": "4044601d-2dd3-40b5-ac58-3849447ac6b9",
   "metadata": {
    "tags": []
   },
   "outputs": [
    {
     "data": {
      "text/plain": [
       "256894718.89999998"
      ]
     },
     "execution_count": 102,
     "metadata": {},
     "output_type": "execute_result"
    }
   ],
   "source": [
    "# Calc total weekly sales\n",
    "sales_all = sales[\"weekly_sales\"].sum()\n",
    "sales_all"
   ]
  },
  {
   "cell_type": "code",
   "execution_count": 103,
   "id": "fdd6f173-81a3-4cd3-9741-7fbf17b59aea",
   "metadata": {
    "tags": []
   },
   "outputs": [
    {
     "data": {
      "text/plain": [
       "233716315.01"
      ]
     },
     "execution_count": 103,
     "metadata": {},
     "output_type": "execute_result"
    }
   ],
   "source": [
    "# Subset for type A stores, calc total weekly sales\n",
    "sales_A = sales[sales[\"type\"] == \"A\"][\"weekly_sales\"].sum()\n",
    "sales_A"
   ]
  },
  {
   "cell_type": "code",
   "execution_count": 104,
   "id": "2e136c27-16d0-4fa5-9f50-b635e119d457",
   "metadata": {
    "tags": []
   },
   "outputs": [
    {
     "data": {
      "text/plain": [
       "23178403.89"
      ]
     },
     "execution_count": 104,
     "metadata": {},
     "output_type": "execute_result"
    }
   ],
   "source": [
    "# Subset for type B stores, calc total weekly sales\n",
    "sales_B = sales[sales[\"type\"] == \"B\"][\"weekly_sales\"].sum()\n",
    "sales_B"
   ]
  },
  {
   "cell_type": "code",
   "execution_count": 106,
   "id": "b9d44b28-4903-450b-8791-21a8259e0429",
   "metadata": {
    "tags": []
   },
   "outputs": [
    {
     "data": {
      "text/plain": [
       "0.0"
      ]
     },
     "execution_count": 106,
     "metadata": {},
     "output_type": "execute_result"
    }
   ],
   "source": [
    "# Subset for type C stores, calc total weekly sales\n",
    "sales_C = sales[sales[\"type\"] == \"C\"][\"weekly_sales\"].sum()\n",
    "sales_C"
   ]
  },
  {
   "cell_type": "code",
   "execution_count": 101,
   "id": "81dd841f-b50e-4c6c-b307-cb41b1b62388",
   "metadata": {
    "tags": []
   },
   "outputs": [
    {
     "name": "stdout",
     "output_type": "stream",
     "text": [
      "[0.9097747 0.0902253 0.       ]\n"
     ]
    }
   ],
   "source": [
    "# Get proportion for each type\n",
    "sales_propn_by_type = [sales_A, sales_B, sales_C] / sales_all\n",
    "print(sales_propn_by_type)"
   ]
  },
  {
   "cell_type": "markdown",
   "id": "b6e5f01f-9dc0-4c5c-ad1e-f936bf120768",
   "metadata": {},
   "source": [
    "## Calculations with .groupby()"
   ]
  },
  {
   "cell_type": "markdown",
   "id": "935fe3a6-af15-44eb-b838-c8fec88980e4",
   "metadata": {},
   "source": [
    "The **.groupby()** method makes life much easier. In this exercise, you'll perform the same calculations as last time, except you'll use the **.groupby()** method. You'll also perform calculations on data grouped by two variables to see if sales differ by store type depending on if it's a holiday week or not.\n",
    "\n",
    "`sales` is available and `pandas` is loaded as pd."
   ]
  },
  {
   "cell_type": "code",
   "execution_count": 108,
   "id": "59b629ae-609e-4143-8224-fe5f0f0c4642",
   "metadata": {
    "tags": []
   },
   "outputs": [],
   "source": [
    "import pandas as pd\n",
    "sales = pd.read_csv(\"sales_subset.csv\", index_col=0)"
   ]
  },
  {
   "cell_type": "code",
   "execution_count": null,
   "id": "f512d377-3824-4494-8301-dfdceae1bfe6",
   "metadata": {},
   "outputs": [],
   "source": [
    "# Group sales by \"type\", take the sum of \"weekly_sales\", and store as sales_by_type.\n",
    "# Calculate the proportion of sales at each store type\n",
    "#-by dividing by the sum of sales_by_type. Assign to sales_propn_by_type.\n",
    "\n",
    "# Group sales by \"type\" and \"is_holiday\", take the sum of weekly_sales,\n",
    "#-and store as sales_by_type_is_holiday."
   ]
  },
  {
   "cell_type": "code",
   "execution_count": 112,
   "id": "cd4f85b6-3e21-4b40-ac4a-506eb77b8a30",
   "metadata": {
    "tags": []
   },
   "outputs": [
    {
     "data": {
      "text/plain": [
       "type\n",
       "A    2.337163e+08\n",
       "B    2.317840e+07\n",
       "Name: weekly_sales, dtype: float64"
      ]
     },
     "execution_count": 112,
     "metadata": {},
     "output_type": "execute_result"
    }
   ],
   "source": [
    "# Group by type; calc total weekly sales\n",
    "sales_by_type = sales.groupby(\"type\")[\"weekly_sales\"].sum()\n",
    "sales_by_type"
   ]
  },
  {
   "cell_type": "code",
   "execution_count": 113,
   "id": "4fecdf74-1739-4565-a520-fdbeee32761c",
   "metadata": {
    "tags": []
   },
   "outputs": [
    {
     "name": "stdout",
     "output_type": "stream",
     "text": [
      "type\n",
      "A    0.909775\n",
      "B    0.090225\n",
      "Name: weekly_sales, dtype: float64\n"
     ]
    }
   ],
   "source": [
    "# Get proportion for each type\n",
    "sales_propn_by_type = sales_by_type / sum(sales_by_type)\n",
    "print(sales_propn_by_type)"
   ]
  },
  {
   "cell_type": "code",
   "execution_count": 114,
   "id": "7b12e203-ab3c-467b-9e35-2f630d79e817",
   "metadata": {
    "tags": []
   },
   "outputs": [
    {
     "name": "stdout",
     "output_type": "stream",
     "text": [
      "type  is_holiday\n",
      "A     False         2.336927e+08\n",
      "      True          2.360181e+04\n",
      "B     False         2.317678e+07\n",
      "      True          1.621410e+03\n",
      "Name: weekly_sales, dtype: float64\n"
     ]
    }
   ],
   "source": [
    "# From previous step\n",
    "sales_by_type = sales.groupby(\"type\")[\"weekly_sales\"].sum()\n",
    "\n",
    "# Group by type and is_holiday; calc total weekly sales\n",
    "sales_by_type_is_holiday = sales.groupby([\"type\", \"is_holiday\"])[\"weekly_sales\"].sum()\n",
    "print(sales_by_type_is_holiday)"
   ]
  },
  {
   "cell_type": "markdown",
   "id": "e8cec6d4-a5b2-4add-b2a5-7b378bb607de",
   "metadata": {},
   "source": [
    "## Multiple grouped summaries"
   ]
  },
  {
   "cell_type": "markdown",
   "id": "c61a4e2e-89ba-45da-befe-8bfac564f9e0",
   "metadata": {},
   "source": [
    "Earlier in this chapter, you saw that the **.agg()** method is useful to compute multiple statistics on multiple variables. It also works with grouped data. **NumPy**, which is imported as **np**, has many different summary statistics functions, including: **np.min**, **np.max**, **np.mean**, and **np.median**.\n",
    "\n",
    "`sales` is available and `pandas` is imported as `pd`."
   ]
  },
  {
   "cell_type": "code",
   "execution_count": 117,
   "id": "1a640b51-00dd-4afa-85fb-7e84020988dc",
   "metadata": {
    "tags": []
   },
   "outputs": [],
   "source": [
    "import pandas as pd\n",
    "sales = pd.read_csv(\"sales_subset.csv\", index_col=0)"
   ]
  },
  {
   "cell_type": "code",
   "execution_count": null,
   "id": "546e1fb4-441b-4c5a-86c4-e32811ad37a6",
   "metadata": {},
   "outputs": [],
   "source": [
    "# Import numpy with the alias np.\n",
    "# Get the min, max, mean, and median of weekly_sales for each store type using .groupby()\n",
    "#-and .agg(). Store this as sales_stats. Make sure to use numpy functions!\n",
    "# Get the min, max, mean, and median of unemployment and\n",
    "#-fuel_price_usd_per_l for each store type. Store this as unemp_fuel_stats."
   ]
  },
  {
   "cell_type": "code",
   "execution_count": 118,
   "id": "8cb84d62-9b4e-4958-a512-41e237612261",
   "metadata": {
    "tags": []
   },
   "outputs": [],
   "source": [
    "# Import numpy with the alias np\n",
    "import numpy as np"
   ]
  },
  {
   "cell_type": "code",
   "execution_count": 119,
   "id": "c39ff4e0-b70a-4e6c-9ba0-276f1cb3d15e",
   "metadata": {
    "tags": []
   },
   "outputs": [
    {
     "name": "stdout",
     "output_type": "stream",
     "text": [
      "         min        max          mean    median\n",
      "type                                           \n",
      "A    -1098.0  293966.05  23674.667242  11943.92\n",
      "B     -798.0  232558.51  25696.678370  13336.08\n"
     ]
    }
   ],
   "source": [
    "# For each store type, aggregate weekly_sales: get min, max, mean, and median\n",
    "sales_stats = sales.groupby(\"type\")[\"weekly_sales\"].agg([min,max,np.mean,np.median])\n",
    "\n",
    "# Print sales_stats\n",
    "print(sales_stats)"
   ]
  },
  {
   "cell_type": "code",
   "execution_count": 120,
   "id": "1827e9d2-39af-48e6-8cf5-d73fd2c19503",
   "metadata": {
    "tags": []
   },
   "outputs": [
    {
     "name": "stdout",
     "output_type": "stream",
     "text": [
      "     unemployment                         fuel_price_usd_per_l            \\\n",
      "              min    max      mean median                  min       max   \n",
      "type                                                                       \n",
      "A           3.879  8.992  7.972611  8.067             0.664129  1.107410   \n",
      "B           7.170  9.765  9.279323  9.199             0.760023  1.107674   \n",
      "\n",
      "                          \n",
      "          mean    median  \n",
      "type                      \n",
      "A     0.744619  0.735455  \n",
      "B     0.805858  0.803348  \n"
     ]
    }
   ],
   "source": [
    "# For each store type, aggregate unemployment and fuel_price_usd_per_l: get min, max, mean, and median\n",
    "unemp_fuel_stats = sales.groupby(\"type\")[[\"unemployment\",\"fuel_price_usd_per_l\"]].agg([min,max,np.mean,np.median])\n",
    "\n",
    "# Print unemp_fuel_stats\n",
    "print(unemp_fuel_stats)"
   ]
  },
  {
   "cell_type": "markdown",
   "id": "781ae0b1-80cb-4f7c-aff1-f07e6e4c1b7d",
   "metadata": {},
   "source": [
    "## Pivoting on one variable"
   ]
  },
  {
   "cell_type": "markdown",
   "id": "cc732127-ac78-4a28-9028-846b97407c34",
   "metadata": {},
   "source": [
    "**Pivot table**s are the standard way of **aggregating data** in **spreadsheets**.\n",
    "\n",
    "**In pandas**, **pivot tables** are essentially another way of **performing grouped calculations**. That is, the **.pivot_table()** method is an alternative to **.groupby()**.\n",
    "\n",
    "In this exercise, you'll perform calculations using **.pivot_table()** to replicate the calculations you performed in the last lesson using **.groupby()**.\n",
    "\n",
    "`sales` is available and `pandas` is imported as pd."
   ]
  },
  {
   "cell_type": "code",
   "execution_count": 130,
   "id": "e8321faf-5da6-465a-a706-eee976912880",
   "metadata": {
    "tags": []
   },
   "outputs": [],
   "source": [
    "import pandas as pd\n",
    "sales = pd.read_csv(\"sales_subset.csv\", index_col=0)"
   ]
  },
  {
   "cell_type": "code",
   "execution_count": null,
   "id": "859492d3-efae-416d-b3b0-35aa53b583ba",
   "metadata": {},
   "outputs": [],
   "source": [
    "# Get the mean weekly_sales by type using .pivot_table() and store as mean_sales_by_type.\n",
    "# Get the mean and median (using NumPy functions) of weekly_sales by type\n",
    "#-using .pivot_table() and store as mean_med_sales_by_type.\n",
    "# Get the mean of weekly_sales by type and is_holiday \n",
    "#-using .pivot_table() and store as mean_sales_by_type_holiday."
   ]
  },
  {
   "cell_type": "code",
   "execution_count": 123,
   "id": "fe37416a-b79a-4b6f-96a0-95af4ae459b7",
   "metadata": {
    "tags": []
   },
   "outputs": [
    {
     "name": "stdout",
     "output_type": "stream",
     "text": [
      "      weekly_sales\n",
      "type              \n",
      "A     23674.667242\n",
      "B     25696.678370\n"
     ]
    }
   ],
   "source": [
    "# Pivot for mean weekly_sales for each store type\n",
    "mean_sales_by_type = sales.pivot_table(values=\"weekly_sales\", index=\"type\")\n",
    "\n",
    "# Print mean_sales_by_type\n",
    "print(mean_sales_by_type)"
   ]
  },
  {
   "cell_type": "code",
   "execution_count": 124,
   "id": "1410b735-a42e-4bbc-b8bb-fd48a492b0fb",
   "metadata": {
    "tags": []
   },
   "outputs": [
    {
     "name": "stdout",
     "output_type": "stream",
     "text": [
      "              mean       median\n",
      "      weekly_sales weekly_sales\n",
      "type                           \n",
      "A     23674.667242     11943.92\n",
      "B     25696.678370     13336.08\n"
     ]
    }
   ],
   "source": [
    "# Import NumPy as np\n",
    "import numpy as np\n",
    "\n",
    "# Pivot for mean and median weekly_sales for each store type\n",
    "mean_med_sales_by_type = sales.pivot_table(values=\"weekly_sales\", index=\"type\", aggfunc=[np.mean,np.median])\n",
    "\n",
    "# Print mean_med_sales_by_type\n",
    "print(mean_med_sales_by_type)"
   ]
  },
  {
   "cell_type": "code",
   "execution_count": 129,
   "id": "dfbc426b-172c-4520-9c49-6972e7d35003",
   "metadata": {
    "tags": []
   },
   "outputs": [
    {
     "name": "stdout",
     "output_type": "stream",
     "text": [
      "is_holiday         False      True \n",
      "type                               \n",
      "A           23768.583523  590.04525\n",
      "B           25751.980533  810.70500\n"
     ]
    }
   ],
   "source": [
    "# Pivot for mean weekly_sales by store type and holiday \n",
    "mean_sales_by_type_holiday = sales.pivot_table(values=\"weekly_sales\", columns=\"is_holiday\" ,index=\"type\", aggfunc=np.mean)\n",
    "\n",
    "# Print mean_sales_by_type_holiday\n",
    "print(mean_sales_by_type_holiday)"
   ]
  },
  {
   "cell_type": "markdown",
   "id": "0bbedb9e-d024-4976-b021-cbd1e01557c6",
   "metadata": {},
   "source": [
    "## Fill in missing values and sum values with pivot tables"
   ]
  },
  {
   "cell_type": "markdown",
   "id": "dc84fa73-29d5-4a04-abbe-b1d937d2d0b1",
   "metadata": {},
   "source": [
    "The **.pivot_table()** method has several useful **arguments**, including **fill_value** and **margins**.\n",
    "\n",
    "- **fill_value** replaces missing values with a real value (known as imputation). What to replace missing values with is a topic big enough to have its own course (Dealing with Missing Data in Python), but the simplest thing to do is to substitute a dummy value.\n",
    "- **margins** is a shortcut for when you pivoted by two variables, but also wanted to pivot by each of those variables separately: it gives the row and column totals of the pivot table contents.\n",
    "In this exercise, you'll practice using these arguments to up your pivot table skills, which will help you crunch numbers more efficiently!\n",
    "\n",
    "`sales` is available and `pandas` is imported as pd."
   ]
  },
  {
   "cell_type": "code",
   "execution_count": 131,
   "id": "0d74ec91-9998-4eed-93ca-4773fae3f80d",
   "metadata": {
    "tags": []
   },
   "outputs": [],
   "source": [
    "import pandas as pd\n",
    "sales = pd.read_csv(\"sales_subset.csv\", index_col=0)"
   ]
  },
  {
   "cell_type": "code",
   "execution_count": null,
   "id": "d909d90b-e383-4207-b18f-26556de972e1",
   "metadata": {},
   "outputs": [],
   "source": [
    "# Print the mean weekly_sales by department and type, filling in any missing values with 0.\n",
    "# Print the mean weekly_sales by department and type, filling in any missing values with 0\n",
    "#-and summing all rows and columns."
   ]
  },
  {
   "cell_type": "code",
   "execution_count": 132,
   "id": "53a1a4d9-31ce-4562-91cc-59222913af79",
   "metadata": {
    "tags": []
   },
   "outputs": [
    {
     "name": "stdout",
     "output_type": "stream",
     "text": [
      "department            1              2             3             4   \\\n",
      "type                                                                  \n",
      "A           30961.725379   67600.158788  17160.002955  44285.399091   \n",
      "B           44050.626667  112958.526667  30580.655000  51219.654167   \n",
      "\n",
      "department            5             6             7             8   \\\n",
      "type                                                                 \n",
      "A           34821.011364   7136.292652  38454.336818  48583.475303   \n",
      "B           63236.875000  10717.297500  52909.653333  90733.753333   \n",
      "\n",
      "department            9             10  ...            90            91  \\\n",
      "type                                    ...                               \n",
      "A           30120.449924  30930.456364  ...  85776.905909  70423.165227   \n",
      "B           66679.301667  48595.126667  ...  14780.210000  13199.602500   \n",
      "\n",
      "department             92            93            94             95  \\\n",
      "type                                                                   \n",
      "A           139722.204773  53413.633939  60081.155303  123933.787121   \n",
      "B            50859.278333   1466.274167    161.445833   77082.102500   \n",
      "\n",
      "department            96            97            98          99  \n",
      "type                                                              \n",
      "A           21367.042857  28471.266970  12875.423182  379.123659  \n",
      "B            9528.538333   5828.873333    217.428333    0.000000  \n",
      "\n",
      "[2 rows x 80 columns]\n"
     ]
    }
   ],
   "source": [
    "# Print mean weekly_sales by department and type; fill missing values with 0\n",
    "print(sales.pivot_table(values=\"weekly_sales\", columns=\"department\" ,index=\"type\", aggfunc=np.mean, fill_value=0))"
   ]
  },
  {
   "cell_type": "code",
   "execution_count": 135,
   "id": "cd545b3a-28c8-4d17-894e-670551e8acee",
   "metadata": {
    "tags": []
   },
   "outputs": [
    {
     "name": "stdout",
     "output_type": "stream",
     "text": [
      "type                   A              B           All\n",
      "department                                           \n",
      "1           30961.725379   44050.626667  32052.467153\n",
      "2           67600.158788  112958.526667  71380.022778\n",
      "3           17160.002955   30580.655000  18278.390625\n",
      "4           44285.399091   51219.654167  44863.253681\n",
      "5           34821.011364   63236.875000  37189.000000\n",
      "...                  ...            ...           ...\n",
      "96          21367.042857    9528.538333  20337.607681\n",
      "97          28471.266970    5828.873333  26584.400833\n",
      "98          12875.423182     217.428333  11820.590278\n",
      "99            379.123659       0.000000    379.123659\n",
      "All         23674.667242   25696.678370  23843.950149\n",
      "\n",
      "[81 rows x 3 columns]\n"
     ]
    }
   ],
   "source": [
    "# Print the mean weekly_sales by department and type; fill missing values with 0s; sum all rows and cols\n",
    "print(sales.pivot_table(values=\"weekly_sales\", index=\"department\", columns=\"type\", fill_value=0, margins=True))"
   ]
  }
 ],
 "metadata": {
  "kernelspec": {
   "display_name": "Python 3 (ipykernel)",
   "language": "python",
   "name": "python3"
  },
  "language_info": {
   "codemirror_mode": {
    "name": "ipython",
    "version": 3
   },
   "file_extension": ".py",
   "mimetype": "text/x-python",
   "name": "python",
   "nbconvert_exporter": "python",
   "pygments_lexer": "ipython3",
   "version": "3.11.5"
  }
 },
 "nbformat": 4,
 "nbformat_minor": 5
}
