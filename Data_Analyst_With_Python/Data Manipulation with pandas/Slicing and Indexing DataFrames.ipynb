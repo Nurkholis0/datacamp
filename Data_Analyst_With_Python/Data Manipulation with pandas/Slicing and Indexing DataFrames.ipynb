{
 "cells": [
  {
   "cell_type": "markdown",
   "id": "5ff1262f-b08b-4fc9-b708-e7fa1e4867d3",
   "metadata": {
    "tags": []
   },
   "source": [
    "Nama: Nurkholis \\\n",
    "Source: Datacamp"
   ]
  },
  {
   "cell_type": "markdown",
   "id": "9a13db40-80db-47db-96aa-18efcaeb7f4d",
   "metadata": {},
   "source": [
    "# Slicing and Indexing DataFrames"
   ]
  },
  {
   "cell_type": "markdown",
   "id": "b948bf92-12c9-477b-8424-a3708a269a80",
   "metadata": {},
   "source": [
    "Indexes are supercharged row and column names. Learn how they can be combined with slicing for powerful DataFrame subsetting."
   ]
  },
  {
   "cell_type": "markdown",
   "id": "9b451eda-a33e-49da-80de-e11e7d899710",
   "metadata": {},
   "source": [
    "## Setting and removing indexes"
   ]
  },
  {
   "cell_type": "markdown",
   "id": "219f4c7e-2ec5-4b30-a2a6-36921b5ceb4a",
   "metadata": {},
   "source": [
    "pandas allows you to designate **columns** as an **index**. This enables cleaner code when taking subsets (as well as providing more efficient lookup under some circumstances).\n",
    "\n",
    "In this chapter, you'll be exploring **temperatures**, a DataFrame of average temperatures in cities around the world. pandas is loaded as pd."
   ]
  },
  {
   "cell_type": "code",
   "execution_count": 11,
   "id": "2bd2f844-7098-48c2-82e4-1de4473874a0",
   "metadata": {
    "tags": []
   },
   "outputs": [
    {
     "name": "stdout",
     "output_type": "stream",
     "text": [
      "         date     city        country  avg_temp_c\n",
      "0  2000-01-01  Abidjan  Côte D'Ivoire      27.293\n",
      "1  2000-02-01  Abidjan  Côte D'Ivoire      27.685\n",
      "2  2000-03-01  Abidjan  Côte D'Ivoire      29.061\n",
      "3  2000-04-01  Abidjan  Côte D'Ivoire      28.162\n",
      "4  2000-05-01  Abidjan  Côte D'Ivoire      27.547\n"
     ]
    }
   ],
   "source": [
    "import pandas as pd\n",
    "temperatures = pd.read_csv(\"temperatures.csv\", index_col=0)\n",
    "print(temperatures.head())"
   ]
  },
  {
   "cell_type": "markdown",
   "id": "a532a088-d427-4e14-94d6-c70364b53f64",
   "metadata": {},
   "source": [
    "### Set the index of `temperatures` to **\"city\"**, assigning to `temperatures_ind`."
   ]
  },
  {
   "cell_type": "code",
   "execution_count": 14,
   "id": "49a60ec1-ccff-4b63-b8fc-7bf5fc9963cf",
   "metadata": {
    "tags": []
   },
   "outputs": [],
   "source": [
    "temperatures_ind = temperatures.set_index(\"city\")"
   ]
  },
  {
   "cell_type": "markdown",
   "id": "e8fa7781-4f2f-4832-b4c9-4644e347881d",
   "metadata": {},
   "source": [
    "###  Look at `temperatures_ind`. How is it different from `temperatures`?"
   ]
  },
  {
   "cell_type": "code",
   "execution_count": 15,
   "id": "ccd46829-78fd-4cdd-ae9b-d961c43fb89d",
   "metadata": {
    "tags": []
   },
   "outputs": [
    {
     "name": "stdout",
     "output_type": "stream",
     "text": [
      "               date        country  avg_temp_c\n",
      "city                                          \n",
      "Abidjan  2000-01-01  Côte D'Ivoire      27.293\n",
      "Abidjan  2000-02-01  Côte D'Ivoire      27.685\n",
      "Abidjan  2000-03-01  Côte D'Ivoire      29.061\n",
      "Abidjan  2000-04-01  Côte D'Ivoire      28.162\n",
      "Abidjan  2000-05-01  Côte D'Ivoire      27.547\n"
     ]
    }
   ],
   "source": [
    "print(temperatures_ind.head())"
   ]
  },
  {
   "cell_type": "markdown",
   "id": "230e75a0-7cb2-4f0e-ba3a-4d2bbeab88fa",
   "metadata": {
    "tags": []
   },
   "source": [
    "###  **Reset the index** of `temperatures_ind`, **keeping** its contents."
   ]
  },
  {
   "cell_type": "code",
   "execution_count": 17,
   "id": "203426df-ede9-4179-bdd3-9816542b7d5a",
   "metadata": {
    "tags": []
   },
   "outputs": [
    {
     "name": "stdout",
     "output_type": "stream",
     "text": [
      "      city        date        country  avg_temp_c\n",
      "0  Abidjan  2000-01-01  Côte D'Ivoire      27.293\n",
      "1  Abidjan  2000-02-01  Côte D'Ivoire      27.685\n",
      "2  Abidjan  2000-03-01  Côte D'Ivoire      29.061\n",
      "3  Abidjan  2000-04-01  Côte D'Ivoire      28.162\n",
      "4  Abidjan  2000-05-01  Côte D'Ivoire      27.547\n"
     ]
    }
   ],
   "source": [
    "print(temperatures_ind.reset_index().head())"
   ]
  },
  {
   "cell_type": "markdown",
   "id": "1263dd15-9c92-42af-9ff4-9e6bf202a1a3",
   "metadata": {
    "tags": []
   },
   "source": [
    "### **Reset the index** of `temperatures_ind`, **dropping** its contents."
   ]
  },
  {
   "cell_type": "code",
   "execution_count": 20,
   "id": "f590f50e-65af-410c-b367-315061f2e23c",
   "metadata": {
    "tags": []
   },
   "outputs": [
    {
     "name": "stdout",
     "output_type": "stream",
     "text": [
      "         date        country  avg_temp_c\n",
      "0  2000-01-01  Côte D'Ivoire      27.293\n",
      "1  2000-02-01  Côte D'Ivoire      27.685\n",
      "2  2000-03-01  Côte D'Ivoire      29.061\n",
      "3  2000-04-01  Côte D'Ivoire      28.162\n",
      "4  2000-05-01  Côte D'Ivoire      27.547\n"
     ]
    }
   ],
   "source": [
    "print(temperatures_ind.reset_index(drop=True).head())"
   ]
  },
  {
   "cell_type": "markdown",
   "id": "9bb67993-3892-4329-b2c6-5ac35eca1a30",
   "metadata": {},
   "source": [
    "## Subsetting with .loc[]"
   ]
  },
  {
   "cell_type": "markdown",
   "id": "916763d9-1edd-48b1-9d46-031d5ac64f95",
   "metadata": {},
   "source": [
    "**The killer feature** for indexes is `.loc[]`: a subsetting method that **accepts index values**. When you pass it a **single argument**, it will take a **subset of rows**.\n",
    "\n",
    "The code for subsetting using `.loc[]` can be **easier to read** than **standard square bracket** subsetting, which can make your code less burdensome to maintain.\n",
    "\n",
    "`pandas` is loaded as pd. `temperatures` and `temperatures_ind` are available; the latter is indexed by city."
   ]
  },
  {
   "cell_type": "code",
   "execution_count": 21,
   "id": "fdb168ee-2de9-40ca-ae22-551138ae3a47",
   "metadata": {
    "tags": []
   },
   "outputs": [],
   "source": [
    "import pandas as pd\n",
    "temperatures = pd.read_csv(\"temperatures.csv\", index_col=0)\n",
    "temperatures_ind = temperatures.set_index(\"city\")"
   ]
  },
  {
   "cell_type": "markdown",
   "id": "18017c82-3492-43e2-8ff7-a063d8e0fa99",
   "metadata": {},
   "source": [
    "### Create a list called `cities` that contains `\"Moscow\"`and `\"Saint Petersburg\"`."
   ]
  },
  {
   "cell_type": "code",
   "execution_count": 26,
   "id": "428bae65-9cd3-4af8-8c71-0eb42c86bee5",
   "metadata": {
    "tags": []
   },
   "outputs": [],
   "source": [
    "cities = [\"Moscow\", \"Saint Petersburg\"]"
   ]
  },
  {
   "cell_type": "markdown",
   "id": "3bb672ae-3427-42e0-abe0-38273d6fdec6",
   "metadata": {},
   "source": [
    "### Use [] subsetting to filter `temperatures` for rows where the **city column** takes a value in the **cities list**."
   ]
  },
  {
   "cell_type": "code",
   "execution_count": 29,
   "id": "40a527b7-867f-4a3d-a3d2-a26e636c03c9",
   "metadata": {
    "tags": []
   },
   "outputs": [
    {
     "name": "stdout",
     "output_type": "stream",
     "text": [
      "             date              city country  avg_temp_c\n",
      "10725  2000-01-01            Moscow  Russia      -7.313\n",
      "10726  2000-02-01            Moscow  Russia      -3.551\n",
      "10727  2000-03-01            Moscow  Russia      -1.661\n",
      "10728  2000-04-01            Moscow  Russia      10.096\n",
      "10729  2000-05-01            Moscow  Russia      10.357\n",
      "...           ...               ...     ...         ...\n",
      "13360  2013-05-01  Saint Petersburg  Russia      12.355\n",
      "13361  2013-06-01  Saint Petersburg  Russia      17.185\n",
      "13362  2013-07-01  Saint Petersburg  Russia      17.234\n",
      "13363  2013-08-01  Saint Petersburg  Russia      17.153\n",
      "13364  2013-09-01  Saint Petersburg  Russia         NaN\n",
      "\n",
      "[330 rows x 4 columns]\n"
     ]
    }
   ],
   "source": [
    "print(temperatures[temperatures[\"city\"].isin(cities)])"
   ]
  },
  {
   "cell_type": "markdown",
   "id": "83e83c55-8e64-4111-8f88-35e2d9670a4f",
   "metadata": {},
   "source": [
    "### Use `.loc[]` subsetting to filter `temperatures_ind` for rows where the city is in the cities list."
   ]
  },
  {
   "cell_type": "code",
   "execution_count": 30,
   "id": "798a3a49-532d-46fa-be8d-cac9b01edbc1",
   "metadata": {
    "tags": []
   },
   "outputs": [
    {
     "name": "stdout",
     "output_type": "stream",
     "text": [
      "                        date country  avg_temp_c\n",
      "city                                            \n",
      "Moscow            2000-01-01  Russia      -7.313\n",
      "Moscow            2000-02-01  Russia      -3.551\n",
      "Moscow            2000-03-01  Russia      -1.661\n",
      "Moscow            2000-04-01  Russia      10.096\n",
      "Moscow            2000-05-01  Russia      10.357\n",
      "...                      ...     ...         ...\n",
      "Saint Petersburg  2013-05-01  Russia      12.355\n",
      "Saint Petersburg  2013-06-01  Russia      17.185\n",
      "Saint Petersburg  2013-07-01  Russia      17.234\n",
      "Saint Petersburg  2013-08-01  Russia      17.153\n",
      "Saint Petersburg  2013-09-01  Russia         NaN\n",
      "\n",
      "[330 rows x 3 columns]\n"
     ]
    }
   ],
   "source": [
    "print(temperatures_ind.loc[cities])"
   ]
  },
  {
   "cell_type": "markdown",
   "id": "309ab786-7b55-47e8-be01-2631a25c9130",
   "metadata": {},
   "source": [
    "## Setting multi-level indexes"
   ]
  },
  {
   "cell_type": "markdown",
   "id": "c3f5c852-0215-4bd4-8191-e98af3f63b82",
   "metadata": {},
   "source": [
    "Indexes can also be made out of multiple columns, forming a multi-level index (sometimes called a hierarchical index). There is a trade-off to using these.\n",
    "\n",
    "The benefit is that multi-level indexes make it more natural to reason about nested categorical variables. For example, in a clinical trial, you might have control and treatment groups. Then each test subject belongs to one or another group, and we can say that a test subject is nested inside the treatment group. Similarly, in the temperature dataset, the city is located in the country, so we can say a city is nested inside the country.\n",
    "\n",
    "The main downside is that the code for manipulating indexes is different from the code for manipulating columns, so you have to learn two syntaxes and keep track of how your data is represented.\n",
    "\n",
    "`pandas` is loaded as pd. `temperatures` is available."
   ]
  },
  {
   "cell_type": "code",
   "execution_count": 31,
   "id": "15654dd8-832d-4433-9c86-41cdd5026655",
   "metadata": {
    "tags": []
   },
   "outputs": [],
   "source": [
    "import pandas as pd\n",
    "temperatures = pd.read_csv(\"temperatures.csv\", index_col=0)"
   ]
  },
  {
   "cell_type": "markdown",
   "id": "affeb7e5-2f4c-4769-bb06-a14e0c9a1133",
   "metadata": {},
   "source": [
    "### **Set the index** of `temperatures` to the `\"country\"` and `\"city\"` columns, and assign this to `temperatures_ind`."
   ]
  },
  {
   "cell_type": "code",
   "execution_count": 57,
   "id": "4cbe76a9-8b52-430e-b534-586de6dc695c",
   "metadata": {
    "tags": []
   },
   "outputs": [
    {
     "data": {
      "text/html": [
       "<div>\n",
       "<style scoped>\n",
       "    .dataframe tbody tr th:only-of-type {\n",
       "        vertical-align: middle;\n",
       "    }\n",
       "\n",
       "    .dataframe tbody tr th {\n",
       "        vertical-align: top;\n",
       "    }\n",
       "\n",
       "    .dataframe thead th {\n",
       "        text-align: right;\n",
       "    }\n",
       "</style>\n",
       "<table border=\"1\" class=\"dataframe\">\n",
       "  <thead>\n",
       "    <tr style=\"text-align: right;\">\n",
       "      <th></th>\n",
       "      <th></th>\n",
       "      <th>date</th>\n",
       "      <th>avg_temp_c</th>\n",
       "    </tr>\n",
       "    <tr>\n",
       "      <th>country</th>\n",
       "      <th>city</th>\n",
       "      <th></th>\n",
       "      <th></th>\n",
       "    </tr>\n",
       "  </thead>\n",
       "  <tbody>\n",
       "    <tr>\n",
       "      <th rowspan=\"5\" valign=\"top\">Côte D'Ivoire</th>\n",
       "      <th>Abidjan</th>\n",
       "      <td>2000-01-01</td>\n",
       "      <td>27.293</td>\n",
       "    </tr>\n",
       "    <tr>\n",
       "      <th>Abidjan</th>\n",
       "      <td>2000-02-01</td>\n",
       "      <td>27.685</td>\n",
       "    </tr>\n",
       "    <tr>\n",
       "      <th>Abidjan</th>\n",
       "      <td>2000-03-01</td>\n",
       "      <td>29.061</td>\n",
       "    </tr>\n",
       "    <tr>\n",
       "      <th>Abidjan</th>\n",
       "      <td>2000-04-01</td>\n",
       "      <td>28.162</td>\n",
       "    </tr>\n",
       "    <tr>\n",
       "      <th>Abidjan</th>\n",
       "      <td>2000-05-01</td>\n",
       "      <td>27.547</td>\n",
       "    </tr>\n",
       "    <tr>\n",
       "      <th>...</th>\n",
       "      <th>...</th>\n",
       "      <td>...</td>\n",
       "      <td>...</td>\n",
       "    </tr>\n",
       "    <tr>\n",
       "      <th rowspan=\"5\" valign=\"top\">China</th>\n",
       "      <th>Xian</th>\n",
       "      <td>2013-05-01</td>\n",
       "      <td>18.979</td>\n",
       "    </tr>\n",
       "    <tr>\n",
       "      <th>Xian</th>\n",
       "      <td>2013-06-01</td>\n",
       "      <td>23.522</td>\n",
       "    </tr>\n",
       "    <tr>\n",
       "      <th>Xian</th>\n",
       "      <td>2013-07-01</td>\n",
       "      <td>25.251</td>\n",
       "    </tr>\n",
       "    <tr>\n",
       "      <th>Xian</th>\n",
       "      <td>2013-08-01</td>\n",
       "      <td>24.528</td>\n",
       "    </tr>\n",
       "    <tr>\n",
       "      <th>Xian</th>\n",
       "      <td>2013-09-01</td>\n",
       "      <td>NaN</td>\n",
       "    </tr>\n",
       "  </tbody>\n",
       "</table>\n",
       "<p>16500 rows × 2 columns</p>\n",
       "</div>"
      ],
      "text/plain": [
       "                             date  avg_temp_c\n",
       "country       city                           \n",
       "Côte D'Ivoire Abidjan  2000-01-01      27.293\n",
       "              Abidjan  2000-02-01      27.685\n",
       "              Abidjan  2000-03-01      29.061\n",
       "              Abidjan  2000-04-01      28.162\n",
       "              Abidjan  2000-05-01      27.547\n",
       "...                           ...         ...\n",
       "China         Xian     2013-05-01      18.979\n",
       "              Xian     2013-06-01      23.522\n",
       "              Xian     2013-07-01      25.251\n",
       "              Xian     2013-08-01      24.528\n",
       "              Xian     2013-09-01         NaN\n",
       "\n",
       "[16500 rows x 2 columns]"
      ]
     },
     "execution_count": 57,
     "metadata": {},
     "output_type": "execute_result"
    }
   ],
   "source": [
    "temperatures_ind = temperatures.set_index([\"country\", \"city\"])\n",
    "temperatures_ind"
   ]
  },
  {
   "cell_type": "markdown",
   "id": "0bfbd646-d08a-4e52-b820-7dc53184ae10",
   "metadata": {},
   "source": [
    "### Specify two country/city pairs to keep: `\"Brazil\"/\"Rio De Janeiro\"` and `\"Pakistan\"/\"Lahore\"`, assigning to `rows_to_keep`."
   ]
  },
  {
   "cell_type": "code",
   "execution_count": 53,
   "id": "497fd5ec-44e3-4980-a19e-d4629b31ed9e",
   "metadata": {
    "tags": []
   },
   "outputs": [],
   "source": [
    "rows_to_keep = [(\"Brazil\", \"Rio De Janeiro\"), (\"Pakistan\", \"Lahore\")]"
   ]
  },
  {
   "cell_type": "markdown",
   "id": "56471329-a5e7-4a05-b907-6adfeb4a8dc3",
   "metadata": {},
   "source": [
    "### **Print** and **subset** `temperatures_ind` for `rows_to_keep` using `.loc[]`."
   ]
  },
  {
   "cell_type": "code",
   "execution_count": 54,
   "id": "b3d691f9-e770-4b52-8101-7a44d91c39dd",
   "metadata": {
    "tags": []
   },
   "outputs": [
    {
     "name": "stdout",
     "output_type": "stream",
     "text": [
      "                               date  avg_temp_c\n",
      "country  city                                  \n",
      "Brazil   Rio De Janeiro  2000-01-01      25.974\n",
      "         Rio De Janeiro  2000-02-01      26.699\n",
      "         Rio De Janeiro  2000-03-01      26.270\n",
      "         Rio De Janeiro  2000-04-01      25.750\n",
      "         Rio De Janeiro  2000-05-01      24.356\n",
      "...                             ...         ...\n",
      "Pakistan Lahore          2013-05-01      33.457\n",
      "         Lahore          2013-06-01      34.456\n",
      "         Lahore          2013-07-01      33.279\n",
      "         Lahore          2013-08-01      31.511\n",
      "         Lahore          2013-09-01         NaN\n",
      "\n",
      "[330 rows x 2 columns]\n"
     ]
    }
   ],
   "source": [
    "print(temperatures_ind.loc[rows_to_keep])"
   ]
  },
  {
   "cell_type": "markdown",
   "id": "8a202a20-54df-4c73-9d91-42babc88322a",
   "metadata": {},
   "source": [
    "## Sorting by index values"
   ]
  },
  {
   "cell_type": "markdown",
   "id": "6817ac05-48fd-4f69-8b97-65e34f85532d",
   "metadata": {},
   "source": [
    "Previously, you changed the order of the rows in a DataFrame by calling `.sort_values()`. It's also useful to be able to sort by elements in the index. For this, you need to use `.sort_index()`.\n",
    "\n",
    "`pandas` is loaded as pd. `temperatures_ind` has a multi-level index of country and city, and is available."
   ]
  },
  {
   "cell_type": "code",
   "execution_count": 58,
   "id": "ab75d29d-418f-44da-830a-eb1ee733341e",
   "metadata": {
    "tags": []
   },
   "outputs": [],
   "source": [
    "import pandas as pd\n",
    "temperatures = pd.read_csv(\"temperatures.csv\", index_col=0)\n",
    "temperatures_ind = temperatures.set_index([\"country\", \"city\"])"
   ]
  },
  {
   "cell_type": "markdown",
   "id": "4b8cc267-8951-4e3b-b40c-9b036e2e1162",
   "metadata": {},
   "source": [
    "### Sort `temperatures_ind` by the index values."
   ]
  },
  {
   "cell_type": "code",
   "execution_count": 62,
   "id": "d03c9150-dc7f-4d29-a439-55b6d020adb3",
   "metadata": {
    "tags": []
   },
   "outputs": [
    {
     "name": "stdout",
     "output_type": "stream",
     "text": [
      "                          date  avg_temp_c\n",
      "country     city                          \n",
      "Afghanistan Kabul   2000-01-01       3.326\n",
      "            Kabul   2000-02-01       3.454\n",
      "            Kabul   2000-03-01       9.612\n",
      "            Kabul   2000-04-01      17.925\n",
      "            Kabul   2000-05-01      24.658\n",
      "...                        ...         ...\n",
      "Zimbabwe    Harare  2013-05-01      18.298\n",
      "            Harare  2013-06-01      17.020\n",
      "            Harare  2013-07-01      16.299\n",
      "            Harare  2013-08-01      19.232\n",
      "            Harare  2013-09-01         NaN\n",
      "\n",
      "[16500 rows x 2 columns]\n"
     ]
    }
   ],
   "source": [
    "print(temperatures_ind.sort_index())"
   ]
  },
  {
   "cell_type": "markdown",
   "id": "be01c7dd-0f93-4d97-8d5b-006a5265d830",
   "metadata": {},
   "source": [
    "### Sort `temperatures_ind` by the index values at the `\"city\"` level."
   ]
  },
  {
   "cell_type": "code",
   "execution_count": 68,
   "id": "5cfcacb5-8d94-4d53-abb7-fbc7c9bd3796",
   "metadata": {
    "tags": []
   },
   "outputs": [
    {
     "name": "stdout",
     "output_type": "stream",
     "text": [
      "                             date  avg_temp_c\n",
      "country       city                           \n",
      "Côte D'Ivoire Abidjan  2000-01-01      27.293\n",
      "              Abidjan  2000-02-01      27.685\n",
      "              Abidjan  2000-03-01      29.061\n",
      "              Abidjan  2000-04-01      28.162\n",
      "              Abidjan  2000-05-01      27.547\n",
      "...                           ...         ...\n",
      "China         Xian     2013-05-01      18.979\n",
      "              Xian     2013-06-01      23.522\n",
      "              Xian     2013-07-01      25.251\n",
      "              Xian     2013-08-01      24.528\n",
      "              Xian     2013-09-01         NaN\n",
      "\n",
      "[16500 rows x 2 columns]\n"
     ]
    }
   ],
   "source": [
    "print(temperatures_ind.sort_index(level=\"city\"))"
   ]
  },
  {
   "cell_type": "markdown",
   "id": "f303de92-e1cf-4fd5-9509-270fb86a0eb0",
   "metadata": {},
   "source": [
    "### Sort `temperatures_ind` by `ascending country` then `descending city`."
   ]
  },
  {
   "cell_type": "code",
   "execution_count": 69,
   "id": "5197d9b6-8c96-4ffe-90a1-2baaf8a300e3",
   "metadata": {
    "tags": []
   },
   "outputs": [
    {
     "name": "stdout",
     "output_type": "stream",
     "text": [
      "                          date  avg_temp_c\n",
      "country     city                          \n",
      "Afghanistan Kabul   2000-01-01       3.326\n",
      "            Kabul   2000-02-01       3.454\n",
      "            Kabul   2000-03-01       9.612\n",
      "            Kabul   2000-04-01      17.925\n",
      "            Kabul   2000-05-01      24.658\n",
      "...                        ...         ...\n",
      "Zimbabwe    Harare  2013-05-01      18.298\n",
      "            Harare  2013-06-01      17.020\n",
      "            Harare  2013-07-01      16.299\n",
      "            Harare  2013-08-01      19.232\n",
      "            Harare  2013-09-01         NaN\n",
      "\n",
      "[16500 rows x 2 columns]\n"
     ]
    }
   ],
   "source": [
    "print(temperatures_ind.sort_index(level=(\"country\",\"city\"), ascending=(True, False)))"
   ]
  },
  {
   "cell_type": "markdown",
   "id": "0aa9d214-5600-4a39-b7b9-301116c06142",
   "metadata": {},
   "source": [
    "## Slicing index values"
   ]
  },
  {
   "cell_type": "markdown",
   "id": "52079bd2-907e-46fb-939c-387996baa83d",
   "metadata": {},
   "source": [
    "Slicing lets you select consecutive elements of an object using `first:last` syntax. DataFrames can be sliced by index values or by row/column number; we'll start with the first case. This involves slicing inside the `.loc[]` method.\n",
    "\n",
    "Compared to slicing lists, there are a few things to remember.\n",
    "\n",
    "- You can only slice an index if the index is sorted (using `.sort_index()`).\n",
    "- To slice at the outer level, `first` and `last` can be strings.\n",
    "- To slice at inner levels, `first` and `last` should be tuples.\n",
    "- If you pass a single slice to `.loc[]`, it will slice the rows.\n",
    "\n",
    "`pandas` is loaded as pd. `temperatures_ind` has country and city in the index, and is available."
   ]
  },
  {
   "cell_type": "code",
   "execution_count": 70,
   "id": "80a35841-834e-46d5-b68a-0d07cdcd3c7f",
   "metadata": {
    "tags": []
   },
   "outputs": [],
   "source": [
    "import pandas as pd\n",
    "temperatures = pd.read_csv(\"temperatures.csv\", index_col=0)\n",
    "temperatures_ind = temperatures.set_index([\"country\", \"city\"])"
   ]
  },
  {
   "cell_type": "markdown",
   "id": "67d7bdd8-f6ac-435c-829e-221a30d0c746",
   "metadata": {
    "tags": []
   },
   "source": [
    "### Sort the index of `temperatures_ind`."
   ]
  },
  {
   "cell_type": "code",
   "execution_count": 72,
   "id": "98a01c23-b488-4cf5-873a-c09d86f3719b",
   "metadata": {
    "tags": []
   },
   "outputs": [],
   "source": [
    "temperatures_srt = temperatures_ind.sort_index()"
   ]
  },
  {
   "cell_type": "markdown",
   "id": "a09142c8-6a70-4a7d-b859-120938f0a12d",
   "metadata": {
    "tags": []
   },
   "source": [
    "### Use slicing with .loc[] to get these subsets:"
   ]
  },
  {
   "cell_type": "markdown",
   "id": "1140ad0f-07b6-4747-aac2-41f69488c0e4",
   "metadata": {},
   "source": [
    "#### 1. from Pakistan to Russia.; "
   ]
  },
  {
   "cell_type": "code",
   "execution_count": 74,
   "id": "3ccf7d43-4f48-4818-9eff-21548b545f89",
   "metadata": {
    "tags": []
   },
   "outputs": [
    {
     "name": "stdout",
     "output_type": "stream",
     "text": [
      "                                 date  avg_temp_c\n",
      "country  city                                    \n",
      "Pakistan Faisalabad        2000-01-01      12.792\n",
      "         Faisalabad        2000-02-01      14.339\n",
      "         Faisalabad        2000-03-01      20.309\n",
      "         Faisalabad        2000-04-01      29.072\n",
      "         Faisalabad        2000-05-01      34.845\n",
      "...                               ...         ...\n",
      "Russia   Saint Petersburg  2013-05-01      12.355\n",
      "         Saint Petersburg  2013-06-01      17.185\n",
      "         Saint Petersburg  2013-07-01      17.234\n",
      "         Saint Petersburg  2013-08-01      17.153\n",
      "         Saint Petersburg  2013-09-01         NaN\n",
      "\n",
      "[1155 rows x 2 columns]\n"
     ]
    }
   ],
   "source": [
    "print(temperatures_srt.loc[\"Pakistan\":\"Russia\"])"
   ]
  },
  {
   "cell_type": "markdown",
   "id": "bee584d5-f47e-4330-a960-380f27e2935c",
   "metadata": {},
   "source": [
    "#### 2. from Lahore to Moscow. (This will return nonsense.);"
   ]
  },
  {
   "cell_type": "code",
   "execution_count": 89,
   "id": "7d2dc666-4189-4eb9-9c1f-db29d2acba0b",
   "metadata": {
    "tags": []
   },
   "outputs": [
    {
     "name": "stdout",
     "output_type": "stream",
     "text": [
      "                          date  avg_temp_c\n",
      "country city                              \n",
      "Mexico  Mexico      2000-01-01      12.694\n",
      "        Mexico      2000-02-01      14.677\n",
      "        Mexico      2000-03-01      17.376\n",
      "        Mexico      2000-04-01      18.294\n",
      "        Mexico      2000-05-01      18.562\n",
      "...                        ...         ...\n",
      "Morocco Casablanca  2013-05-01      19.217\n",
      "        Casablanca  2013-06-01      23.649\n",
      "        Casablanca  2013-07-01      27.488\n",
      "        Casablanca  2013-08-01      27.952\n",
      "        Casablanca  2013-09-01         NaN\n",
      "\n",
      "[330 rows x 2 columns]\n"
     ]
    }
   ],
   "source": [
    "print(temperatures_srt.loc[\"Lahore\":\"Moscow\"])"
   ]
  },
  {
   "cell_type": "markdown",
   "id": "18ef3aac-415e-4113-937b-34a95f66d52b",
   "metadata": {},
   "source": [
    "3. from Pakistan, Lahore to Russia, Moscow."
   ]
  },
  {
   "cell_type": "code",
   "execution_count": 86,
   "id": "de989146-7fee-47b8-8e79-ee0be2351324",
   "metadata": {
    "tags": []
   },
   "outputs": [
    {
     "name": "stdout",
     "output_type": "stream",
     "text": [
      "                       date  avg_temp_c\n",
      "country  city                          \n",
      "Pakistan Lahore  2000-01-01      12.792\n",
      "         Lahore  2000-02-01      14.339\n",
      "         Lahore  2000-03-01      20.309\n",
      "         Lahore  2000-04-01      29.072\n",
      "         Lahore  2000-05-01      34.845\n",
      "...                     ...         ...\n",
      "Russia   Moscow  2013-05-01      16.152\n",
      "         Moscow  2013-06-01      18.718\n",
      "         Moscow  2013-07-01      18.136\n",
      "         Moscow  2013-08-01      17.485\n",
      "         Moscow  2013-09-01         NaN\n",
      "\n",
      "[660 rows x 2 columns]\n"
     ]
    }
   ],
   "source": [
    "print(temperatures_srt.loc[(\"Pakistan\",\"Lahore\"):(\"Russia\",\"Moscow\")])"
   ]
  },
  {
   "cell_type": "markdown",
   "id": "f9c213e5-6674-45dd-99be-75e6ae81f798",
   "metadata": {},
   "source": [
    "## Slicing in both directions"
   ]
  },
  {
   "cell_type": "markdown",
   "id": "ca8c0e39-225a-4aa5-8822-c45973f94676",
   "metadata": {},
   "source": [
    "You've seen slicing DataFrames by rows and by columns, but since DataFrames are two-dimensional objects, it is often natural to slice both dimensions at once. That is, by passing two arguments to `.loc[]`, you can subset by rows and columns in one go.\n",
    "\n",
    "`pandas` is loaded as pd. `temperatures_srt` is indexed by country and city, has a sorted index, and is available."
   ]
  },
  {
   "cell_type": "code",
   "execution_count": 90,
   "id": "cb4c6b62-b98f-4709-bcfd-390704eaf763",
   "metadata": {
    "tags": []
   },
   "outputs": [],
   "source": [
    "import pandas as pd\n",
    "temperatures = pd.read_csv(\"temperatures.csv\", index_col=0)\n",
    "temperatures_srt = temperatures.set_index([\"country\", \"city\"]).sort_index()"
   ]
  },
  {
   "cell_type": "markdown",
   "id": "4114cbdf-51cb-45a1-9253-eb596094a997",
   "metadata": {},
   "source": [
    "### Use `.loc[]` slicing to subset rows from India, Hyderabad to Iraq, Baghdad."
   ]
  },
  {
   "cell_type": "code",
   "execution_count": 102,
   "id": "1389aba6-dee8-419f-9647-40d4754e1d7c",
   "metadata": {
    "tags": []
   },
   "outputs": [
    {
     "name": "stdout",
     "output_type": "stream",
     "text": [
      "                         date  avg_temp_c\n",
      "country city                             \n",
      "India   Hyderabad  2000-01-01      23.779\n",
      "        Hyderabad  2000-02-01      25.826\n",
      "        Hyderabad  2000-03-01      28.821\n",
      "        Hyderabad  2000-04-01      32.698\n",
      "        Hyderabad  2000-05-01      32.438\n",
      "...                       ...         ...\n",
      "Iraq    Baghdad    2013-05-01      28.673\n",
      "        Baghdad    2013-06-01      33.803\n",
      "        Baghdad    2013-07-01      36.392\n",
      "        Baghdad    2013-08-01      35.463\n",
      "        Baghdad    2013-09-01         NaN\n",
      "\n",
      "[2145 rows x 2 columns]\n"
     ]
    }
   ],
   "source": [
    "print(temperatures_srt.loc[(\"India\", \"Hyderabad\"):(\"Iraq\", \"Baghdad\")])"
   ]
  },
  {
   "cell_type": "markdown",
   "id": "c33ab768-1241-446c-a396-7b561e429f39",
   "metadata": {},
   "source": [
    "### Use `.loc[]` slicing to subset columns from `date` to `avg_temp_c`."
   ]
  },
  {
   "cell_type": "code",
   "execution_count": 103,
   "id": "4585ae3f-02ae-4e59-844e-2649584e7d5a",
   "metadata": {
    "tags": []
   },
   "outputs": [
    {
     "name": "stdout",
     "output_type": "stream",
     "text": [
      "                          date  avg_temp_c\n",
      "country     city                          \n",
      "Afghanistan Kabul   2000-01-01       3.326\n",
      "            Kabul   2000-02-01       3.454\n",
      "            Kabul   2000-03-01       9.612\n",
      "            Kabul   2000-04-01      17.925\n",
      "            Kabul   2000-05-01      24.658\n",
      "...                        ...         ...\n",
      "Zimbabwe    Harare  2013-05-01      18.298\n",
      "            Harare  2013-06-01      17.020\n",
      "            Harare  2013-07-01      16.299\n",
      "            Harare  2013-08-01      19.232\n",
      "            Harare  2013-09-01         NaN\n",
      "\n",
      "[16500 rows x 2 columns]\n"
     ]
    }
   ],
   "source": [
    "print(temperatures_srt.loc[:,\"date\":\"avg_temp_c\"])"
   ]
  },
  {
   "cell_type": "markdown",
   "id": "e8a6a421-fc6a-403c-9f7b-a054f7115702",
   "metadata": {},
   "source": [
    "### Slice in both directions at once from Hyderabad to Baghdad, and `date` to `avg_temp_c`."
   ]
  },
  {
   "cell_type": "code",
   "execution_count": 105,
   "id": "cc4cfda4-d077-43f1-b546-274a3ffa4ef0",
   "metadata": {
    "tags": []
   },
   "outputs": [
    {
     "name": "stdout",
     "output_type": "stream",
     "text": [
      "                         date  avg_temp_c\n",
      "country city                             \n",
      "India   Hyderabad  2000-01-01      23.779\n",
      "        Hyderabad  2000-02-01      25.826\n",
      "        Hyderabad  2000-03-01      28.821\n",
      "        Hyderabad  2000-04-01      32.698\n",
      "        Hyderabad  2000-05-01      32.438\n",
      "...                       ...         ...\n",
      "Iraq    Baghdad    2013-05-01      28.673\n",
      "        Baghdad    2013-06-01      33.803\n",
      "        Baghdad    2013-07-01      36.392\n",
      "        Baghdad    2013-08-01      35.463\n",
      "        Baghdad    2013-09-01         NaN\n",
      "\n",
      "[2145 rows x 2 columns]\n"
     ]
    }
   ],
   "source": [
    "print(temperatures_srt.loc[(\"India\",\"Hyderabad\"):(\"Iraq\",\"Baghdad\"),\"date\":\"avg_temp_c\"])"
   ]
  },
  {
   "cell_type": "markdown",
   "id": "ffcbdadd-0b22-431e-b374-a6b0bdf2c4a3",
   "metadata": {},
   "source": [
    "## Slicing time series"
   ]
  },
  {
   "cell_type": "markdown",
   "id": "6f8f9032-e4d6-4a98-8c29-49ddb139c869",
   "metadata": {},
   "source": [
    "Slicing is particularly useful for time series since it's a common thing to want to filter for data within a date range. Add the date column to the index, then use .loc[] to perform the subsetting. The important thing to remember is to keep your dates in ISO 8601 format, that is, `\"yyyy-mm-dd\"` for `year-month-day`, `\"yyyy-mm\"` for `year-month`, and `\"yyyy\"` for `year`.\n",
    "\n",
    "Recall from Chapter 1 that you can combine multiple Boolean conditions using logical operators, such as &. To do so in one line of code, you'll need to add parentheses () around each condition.\n",
    "\n",
    "`pandas` is loaded as pd and temperatures, with no index, is available."
   ]
  },
  {
   "cell_type": "code",
   "execution_count": 118,
   "id": "e8bdc036-6933-4b29-84d5-0a98f1a95957",
   "metadata": {
    "tags": []
   },
   "outputs": [],
   "source": [
    "import pandas as pd\n",
    "temperatures = pd.read_csv(\"temperatures.csv\", index_col=0)"
   ]
  },
  {
   "cell_type": "markdown",
   "id": "d56428c1-aa6a-4e5a-8b52-b6f307b396cf",
   "metadata": {},
   "source": [
    "### Use Boolean conditions, not .isin() or .loc[], and the full date \"yyyy-mm-dd\", to subset temperatures for rows in 2010 and 2011 and print the results."
   ]
  },
  {
   "cell_type": "code",
   "execution_count": 123,
   "id": "d427ab97-fb2e-4a79-a0ac-411e13b3a5fa",
   "metadata": {
    "tags": []
   },
   "outputs": [
    {
     "name": "stdout",
     "output_type": "stream",
     "text": [
      "             date     city        country  avg_temp_c\n",
      "120    2010-01-01  Abidjan  Côte D'Ivoire      28.270\n",
      "121    2010-02-01  Abidjan  Côte D'Ivoire      29.262\n",
      "122    2010-03-01  Abidjan  Côte D'Ivoire      29.596\n",
      "123    2010-04-01  Abidjan  Côte D'Ivoire      29.068\n",
      "124    2010-05-01  Abidjan  Côte D'Ivoire      28.258\n",
      "...           ...      ...            ...         ...\n",
      "16474  2011-08-01     Xian          China      23.069\n",
      "16475  2011-09-01     Xian          China      16.775\n",
      "16476  2011-10-01     Xian          China      12.587\n",
      "16477  2011-11-01     Xian          China       7.543\n",
      "16478  2011-12-01     Xian          China      -0.490\n",
      "\n",
      "[2400 rows x 4 columns]\n"
     ]
    }
   ],
   "source": [
    "temperatures_bool = temperatures[(temperatures[\"date\"] >= \"2010-01-01\") & (temperatures[\"date\"] <= \"2011-12-31\")]\n",
    "print(temperatures_bool)"
   ]
  },
  {
   "cell_type": "markdown",
   "id": "c1c143cd-635c-4adc-b015-44a27c77afd7",
   "metadata": {},
   "source": [
    "### Set the index of temperatures to the date column and sort it."
   ]
  },
  {
   "cell_type": "code",
   "execution_count": 121,
   "id": "b5326943-471e-452e-a090-d9503bb85272",
   "metadata": {
    "tags": []
   },
   "outputs": [],
   "source": [
    "temperatures_ind = temperatures.set_index(\"date\").sort_index()"
   ]
  },
  {
   "cell_type": "markdown",
   "id": "573c09a0-c6ec-4f4c-81af-83e09f6f8b54",
   "metadata": {},
   "source": [
    "### Use .loc[] to subset temperatures_ind for rows in 2010 and 2011."
   ]
  },
  {
   "cell_type": "code",
   "execution_count": 124,
   "id": "bc13599d-0003-43ac-a7a0-3fc5b3437e53",
   "metadata": {
    "tags": []
   },
   "outputs": [
    {
     "name": "stdout",
     "output_type": "stream",
     "text": [
      "                  city    country  avg_temp_c\n",
      "date                                         \n",
      "2010-01-01  Faisalabad   Pakistan      11.810\n",
      "2010-01-01   Melbourne  Australia      20.016\n",
      "2010-01-01   Chongqing      China       7.921\n",
      "2010-01-01   São Paulo     Brazil      23.738\n",
      "2010-01-01   Guangzhou      China      14.136\n",
      "...                ...        ...         ...\n",
      "2011-12-01      Nagoya      Japan       6.476\n",
      "2011-12-01   Hyderabad      India      23.613\n",
      "2011-12-01        Cali   Colombia      21.559\n",
      "2011-12-01        Lima       Peru      18.293\n",
      "2011-12-01     Bangkok   Thailand      25.021\n",
      "\n",
      "[2400 rows x 3 columns]\n"
     ]
    }
   ],
   "source": [
    "print(temperatures_ind.loc[\"2010-01-01\":\"2011-12-31\"])"
   ]
  },
  {
   "cell_type": "markdown",
   "id": "0d9291ee-3564-485a-94ac-c7402d97100a",
   "metadata": {},
   "source": [
    "### Use .loc[] to subset temperatures_ind for rows from Aug 2010 to Feb 2011."
   ]
  },
  {
   "cell_type": "code",
   "execution_count": 125,
   "id": "737498ca-bfeb-4377-8235-fc30bb62b3fb",
   "metadata": {
    "tags": []
   },
   "outputs": [
    {
     "name": "stdout",
     "output_type": "stream",
     "text": [
      "                city        country  avg_temp_c\n",
      "date                                           \n",
      "2010-08-01  Calcutta          India      30.226\n",
      "2010-08-01      Pune          India      24.941\n",
      "2010-08-01     Izmir         Turkey      28.352\n",
      "2010-08-01   Tianjin          China      25.543\n",
      "2010-08-01    Manila    Philippines      27.101\n",
      "...              ...            ...         ...\n",
      "2011-02-01     Kabul    Afghanistan       3.914\n",
      "2011-02-01   Chicago  United States       0.276\n",
      "2011-02-01    Aleppo          Syria       8.246\n",
      "2011-02-01     Delhi          India      18.136\n",
      "2011-02-01   Rangoon          Burma      26.631\n",
      "\n",
      "[700 rows x 3 columns]\n"
     ]
    }
   ],
   "source": [
    "print(temperatures_ind.loc[\"2010-08-01\":\"2011-02-28\"])"
   ]
  },
  {
   "cell_type": "markdown",
   "id": "1b6c3350-ce68-4063-bf9f-52fae95fb1f6",
   "metadata": {},
   "source": [
    "## Subsetting by row/column number"
   ]
  },
  {
   "cell_type": "markdown",
   "id": "dc38b13f-a09d-469a-8389-9af86ee98204",
   "metadata": {},
   "source": [
    "The most common ways to subset rows are the ways we've previously discussed: using a Boolean condition or by index labels. However, it is also occasionally useful to pass row numbers.\n",
    "\n",
    "This is done using `.iloc[]`, and like `.loc[]`, it can take two arguments to let you subset by rows and columns.\n",
    "\n",
    "`pandas` is loaded as pd. temperatures (without an index) is available."
   ]
  },
  {
   "cell_type": "code",
   "execution_count": 126,
   "id": "ad3c2152-76a1-4296-a04f-31734fb1bbc7",
   "metadata": {
    "tags": []
   },
   "outputs": [],
   "source": [
    "import pandas as pd\n",
    "temperatures = pd.read_csv(\"temperatures.csv\", index_col=0)"
   ]
  },
  {
   "cell_type": "markdown",
   "id": "520391c9-ba5f-45ae-854a-7a17e52a287e",
   "metadata": {},
   "source": [
    "### Use `.iloc[]` on temperatures to take subsets."
   ]
  },
  {
   "cell_type": "markdown",
   "id": "fb7cd307-c46d-49bf-b4aa-7fb76e177f98",
   "metadata": {},
   "source": [
    "#### Get the 23rd row, 2nd column (index positions 22 and 1)."
   ]
  },
  {
   "cell_type": "code",
   "execution_count": 127,
   "id": "5fcc3a2e-d345-4d34-8954-9c634adc0013",
   "metadata": {
    "tags": []
   },
   "outputs": [
    {
     "name": "stdout",
     "output_type": "stream",
     "text": [
      "Abidjan\n"
     ]
    }
   ],
   "source": [
    "print(temperatures.iloc[22, 1])"
   ]
  },
  {
   "cell_type": "markdown",
   "id": "191a186c-62f0-4cb4-8beb-4c747c2736da",
   "metadata": {},
   "source": [
    "#### Get the first 5 rows (index positions 0 to 5)."
   ]
  },
  {
   "cell_type": "code",
   "execution_count": 128,
   "id": "c3c54ab1-b925-47e5-9770-ec80642975a9",
   "metadata": {
    "tags": []
   },
   "outputs": [
    {
     "name": "stdout",
     "output_type": "stream",
     "text": [
      "         date     city        country  avg_temp_c\n",
      "0  2000-01-01  Abidjan  Côte D'Ivoire      27.293\n",
      "1  2000-02-01  Abidjan  Côte D'Ivoire      27.685\n",
      "2  2000-03-01  Abidjan  Côte D'Ivoire      29.061\n",
      "3  2000-04-01  Abidjan  Côte D'Ivoire      28.162\n",
      "4  2000-05-01  Abidjan  Côte D'Ivoire      27.547\n"
     ]
    }
   ],
   "source": [
    "print(temperatures.iloc[:5])"
   ]
  },
  {
   "cell_type": "markdown",
   "id": "a268689f-fd08-4af2-aa4b-8d1596ad2f64",
   "metadata": {},
   "source": [
    "#### Get all rows, columns 3 and 4 (index positions 2 to 4)."
   ]
  },
  {
   "cell_type": "code",
   "execution_count": 133,
   "id": "a5d93580-4c15-40de-b2c3-eae177532ffe",
   "metadata": {
    "tags": []
   },
   "outputs": [
    {
     "name": "stdout",
     "output_type": "stream",
     "text": [
      "             country  avg_temp_c\n",
      "0      Côte D'Ivoire      27.293\n",
      "1      Côte D'Ivoire      27.685\n",
      "2      Côte D'Ivoire      29.061\n",
      "3      Côte D'Ivoire      28.162\n",
      "4      Côte D'Ivoire      27.547\n",
      "...              ...         ...\n",
      "16495          China      18.979\n",
      "16496          China      23.522\n",
      "16497          China      25.251\n",
      "16498          China      24.528\n",
      "16499          China         NaN\n",
      "\n",
      "[16500 rows x 2 columns]\n"
     ]
    }
   ],
   "source": [
    "print(temperatures.iloc[:, 2:4])"
   ]
  },
  {
   "cell_type": "markdown",
   "id": "053aef68-ca6c-45f8-ae56-8e406d99ccb0",
   "metadata": {},
   "source": [
    "#### Get the first 5 rows, columns 3 and 4."
   ]
  },
  {
   "cell_type": "code",
   "execution_count": 134,
   "id": "a0835ac2-805c-48c0-b6c7-a51c30bcdc51",
   "metadata": {
    "tags": []
   },
   "outputs": [
    {
     "name": "stdout",
     "output_type": "stream",
     "text": [
      "         country  avg_temp_c\n",
      "0  Côte D'Ivoire      27.293\n",
      "1  Côte D'Ivoire      27.685\n",
      "2  Côte D'Ivoire      29.061\n",
      "3  Côte D'Ivoire      28.162\n",
      "4  Côte D'Ivoire      27.547\n"
     ]
    }
   ],
   "source": [
    "print(temperatures.iloc[:5, 2:4])"
   ]
  },
  {
   "cell_type": "markdown",
   "id": "ce39cc8c-4874-4940-9b1e-3ab92af0c7be",
   "metadata": {},
   "source": [
    "## Pivot temperature by city and year"
   ]
  },
  {
   "cell_type": "markdown",
   "id": "961b605d-264d-47f8-a62f-2cb5dab87d60",
   "metadata": {},
   "source": [
    "It's interesting to see how temperatures for each city change over time—looking at every month results in a big table, which can be tricky to reason about. Instead, let's look at how temperatures change by year.\n",
    "\n",
    "You can access the components of a **date (year, month and day)** using code of the form `dataframe[\"column\"].dt.component`. For example, the month component is `dataframe[\"column\"].dt.month`, and the year component is `dataframe[\"column\"].dt.year`.\n",
    "\n",
    "Once you have the year column, you can create a **pivot table** with the data aggregated by city and year, which you'll explore in the coming exercises.\n",
    "\n",
    "`pandas` is loaded as pd. `temperatures` is available."
   ]
  },
  {
   "cell_type": "code",
   "execution_count": 151,
   "id": "20237218-0a97-455c-99a9-ef7b6d0d31a4",
   "metadata": {
    "tags": []
   },
   "outputs": [],
   "source": [
    "import pandas as pd\n",
    "\n",
    "temperatures = pd.read_csv(\"temperatures.csv\", index_col=0)\n",
    "temperatures[\"date\"] = pd.to_datetime(temperatures[\"date\"])"
   ]
  },
  {
   "cell_type": "markdown",
   "id": "6882b526-a3fc-4c6e-9f7c-0167682b90ce",
   "metadata": {},
   "source": [
    "### Add a `year` column to `temperatures`, from the `year` component of the `date` column."
   ]
  },
  {
   "cell_type": "code",
   "execution_count": 152,
   "id": "7188d983-a30d-4ccd-b54b-513a839f11df",
   "metadata": {
    "tags": []
   },
   "outputs": [],
   "source": [
    "temperatures[\"year\"] = temperatures['date'].dt.year"
   ]
  },
  {
   "cell_type": "markdown",
   "id": "43a61f8b-bd66-4fdc-9a16-bdf534d226c3",
   "metadata": {},
   "source": [
    "### Make a pivot table of the `avg_temp_c` column, with `country` and `city` as rows, and `year` as columns. Assign to `temp_by_country_city_vs_year`, and look at the result."
   ]
  },
  {
   "cell_type": "code",
   "execution_count": 154,
   "id": "52e7d645-e04e-4570-a4f6-0cbfa41aa6d7",
   "metadata": {
    "tags": []
   },
   "outputs": [
    {
     "name": "stdout",
     "output_type": "stream",
     "text": [
      "year                                 2000       2001       2002       2003  \\\n",
      "country       city                                                           \n",
      "Afghanistan   Kabul             15.822667  15.847917  15.714583  15.132583   \n",
      "Angola        Luanda            24.410333  24.427083  24.790917  24.867167   \n",
      "Australia     Melbourne         14.320083  14.180000  14.075833  13.985583   \n",
      "              Sydney            17.567417  17.854500  17.733833  17.592333   \n",
      "Bangladesh    Dhaka             25.905250  25.931250  26.095000  25.927417   \n",
      "...                                   ...        ...        ...        ...   \n",
      "United States Chicago           11.089667  11.703083  11.532083  10.481583   \n",
      "              Los Angeles       16.643333  16.466250  16.430250  16.944667   \n",
      "              New York           9.969083  10.931000  11.252167   9.836000   \n",
      "Vietnam       Ho Chi Minh City  27.588917  27.831750  28.064750  27.827667   \n",
      "Zimbabwe      Harare            20.283667  20.861000  21.079333  20.889167   \n",
      "\n",
      "year                                 2004       2005       2006       2007  \\\n",
      "country       city                                                           \n",
      "Afghanistan   Kabul             16.128417  14.847500  15.798500  15.518000   \n",
      "Angola        Luanda            24.216167  24.414583  24.138417  24.241583   \n",
      "Australia     Melbourne         13.742083  14.378500  13.991083  14.991833   \n",
      "              Sydney            17.869667  18.028083  17.749500  18.020833   \n",
      "Bangladesh    Dhaka             26.136083  26.193333  26.440417  25.951333   \n",
      "...                                   ...        ...        ...        ...   \n",
      "United States Chicago           10.943417  11.583833  11.870500  11.448333   \n",
      "              Los Angeles       16.552833  16.431417  16.623083  16.699917   \n",
      "              New York          10.389500  10.681417  11.519250  10.627333   \n",
      "Vietnam       Ho Chi Minh City  27.686583  27.884000  28.044000  27.866667   \n",
      "Zimbabwe      Harare            20.307667  21.487417  20.699750  20.746250   \n",
      "\n",
      "year                                 2008       2009       2010       2011  \\\n",
      "country       city                                                           \n",
      "Afghanistan   Kabul             15.479250  15.093333  15.676000  15.812167   \n",
      "Angola        Luanda            24.266333  24.325083  24.440250  24.150750   \n",
      "Australia     Melbourne         14.110583  14.647417  14.231667  14.190917   \n",
      "              Sydney            17.321083  18.175833  17.999000  17.713333   \n",
      "Bangladesh    Dhaka             26.004500  26.535583  26.648167  25.803250   \n",
      "...                                   ...        ...        ...        ...   \n",
      "United States Chicago           10.242417  10.298333  11.815917  11.214250   \n",
      "              Los Angeles       17.014750  16.677000  15.887000  15.874833   \n",
      "              New York          10.641667  10.141833  11.357583  11.272250   \n",
      "Vietnam       Ho Chi Minh City  27.611417  27.853333  28.281750  27.675417   \n",
      "Zimbabwe      Harare            20.680500  20.523833  21.165833  20.781750   \n",
      "\n",
      "year                                 2012       2013  \n",
      "country       city                                    \n",
      "Afghanistan   Kabul             14.510333  16.206125  \n",
      "Angola        Luanda            24.240083  24.553875  \n",
      "Australia     Melbourne         14.268667  14.741500  \n",
      "              Sydney            17.474333  18.089750  \n",
      "Bangladesh    Dhaka             26.283583  26.587000  \n",
      "...                                   ...        ...  \n",
      "United States Chicago           12.821250  11.586889  \n",
      "              Los Angeles       17.089583  18.120667  \n",
      "              New York          11.971500  12.163889  \n",
      "Vietnam       Ho Chi Minh City  28.248750  28.455000  \n",
      "Zimbabwe      Harare            20.523333  19.756500  \n",
      "\n",
      "[100 rows x 14 columns]\n"
     ]
    }
   ],
   "source": [
    "temp_by_country_city_vs_year = temperatures.pivot_table(\"avg_temp_c\", index=(\"country\", \"city\"), columns=\"year\")\n",
    "print(temp_by_country_city_vs_year)"
   ]
  },
  {
   "cell_type": "markdown",
   "id": "ae9cf626-2c73-4de0-a94d-154f5c5bdc95",
   "metadata": {},
   "source": [
    "## Subsetting pivot tables"
   ]
  },
  {
   "cell_type": "markdown",
   "id": "caff2b86-03a6-4a4d-90a0-14bfb384a766",
   "metadata": {},
   "source": [
    "A pivot table is just a DataFrame with sorted indexes, so the techniques you have learned already can be used to subset them. In particular, the `.loc[]` + slicing combination is often helpful.\n",
    "\n",
    "`pandas` is loaded as pd. `temp_by_country_city_vs_year` is available."
   ]
  },
  {
   "cell_type": "markdown",
   "id": "5990ee12-b6d8-483a-89f5-5e7a90b37194",
   "metadata": {},
   "source": [
    "### Use .loc[] on temp_by_country_city_vs_year to take subsets."
   ]
  },
  {
   "cell_type": "markdown",
   "id": "1ceb1641-34ac-47aa-930e-7d15a4fdecb9",
   "metadata": {},
   "source": [
    "#### From Egypt to India."
   ]
  },
  {
   "cell_type": "code",
   "execution_count": 155,
   "id": "47275065-3bec-4b87-b55d-5477ec8b63fb",
   "metadata": {
    "tags": []
   },
   "outputs": [
    {
     "name": "stdout",
     "output_type": "stream",
     "text": [
      "year                       2000       2001       2002       2003       2004  \\\n",
      "country  city                                                                 \n",
      "Egypt    Alexandria   20.744500  21.454583  21.456167  21.221417  21.064167   \n",
      "         Cairo        21.486167  22.330833  22.414083  22.170500  22.081917   \n",
      "         Gizeh        21.486167  22.330833  22.414083  22.170500  22.081917   \n",
      "Ethiopia Addis Abeba  18.241250  18.296417  18.469750  18.320917  18.292750   \n",
      "France   Paris        11.739667  11.371250  11.871333  11.909500  11.338833   \n",
      "Germany  Berlin       10.963667   9.690250  10.264417  10.065750   9.822583   \n",
      "India    Ahmadabad    27.436000  27.198083  27.719083  27.403833  27.628333   \n",
      "         Bangalore    25.337917  25.528167  25.755333  25.924750  25.252083   \n",
      "         Bombay       27.203667  27.243667  27.628667  27.578417  27.318750   \n",
      "         Calcutta     26.491333  26.515167  26.703917  26.561333  26.634333   \n",
      "         Delhi        26.048333  25.862917  26.634333  25.721083  26.239917   \n",
      "         Hyderabad    27.231833  27.555167  27.665167  27.844583  27.228500   \n",
      "         Jaipur       26.430250  26.023000  27.031667  26.027417  26.642167   \n",
      "         Kanpur       25.353917  25.326500  26.116833  25.409083  25.586500   \n",
      "         Lakhnau      25.353917  25.326500  26.116833  25.409083  25.586500   \n",
      "         Madras       28.811667  29.162917  29.246500  29.273083  28.810917   \n",
      "         Nagpur       26.181417  26.321667  26.753000  26.503833  26.406333   \n",
      "         New Delhi    26.048333  25.862917  26.634333  25.721083  26.239917   \n",
      "         Pune         25.110917  25.337833  25.583000  25.748417  25.316167   \n",
      "         Surat        27.029000  26.897250  27.347750  27.230917  27.290583   \n",
      "\n",
      "year                       2005       2006       2007       2008       2009  \\\n",
      "country  city                                                                 \n",
      "Egypt    Alexandria   21.082333  21.148167  21.507750  21.739000  21.670500   \n",
      "         Cairo        22.006500  22.050000  22.361000  22.644500  22.625000   \n",
      "         Gizeh        22.006500  22.050000  22.361000  22.644500  22.625000   \n",
      "Ethiopia Addis Abeba  18.312833  18.427083  18.142583  18.165000  18.765333   \n",
      "France   Paris        11.552917  11.788500  11.750833  11.278250  11.464083   \n",
      "Germany  Berlin        9.919083  10.545333  10.883167  10.657750  10.062500   \n",
      "India    Ahmadabad    26.828083  27.282833  27.511167  27.048500  28.095833   \n",
      "         Bangalore    25.476500  25.418250  25.464333  25.352583  25.725750   \n",
      "         Bombay       27.035750  27.381500  27.634667  27.177750  27.844500   \n",
      "         Calcutta     26.729167  26.986250  26.584583  26.522333  27.153250   \n",
      "         Delhi        25.716083  26.365917  26.145667  25.675000  26.554250   \n",
      "         Hyderabad    27.488833  27.471000  27.545333  27.446667  28.026500   \n",
      "         Jaipur       25.772250  26.429833  26.267000  25.877583  26.919500   \n",
      "         Kanpur       25.621500  25.848833  25.436083  25.109750  25.987083   \n",
      "         Lakhnau      25.621500  25.848833  25.436083  25.109750  25.987083   \n",
      "         Madras       29.099417  29.073250  28.970167  29.024083  29.417417   \n",
      "         Nagpur       26.229167  26.374833  26.393667  26.188000  27.138917   \n",
      "         New Delhi    25.716083  26.365917  26.145667  25.675000  26.554250   \n",
      "         Pune         25.085583  25.310167  25.584833  25.230250  25.868250   \n",
      "         Surat        26.724500  27.149417  27.311750  26.828750  27.819833   \n",
      "\n",
      "year                       2010       2011       2012       2013  \n",
      "country  city                                                     \n",
      "Egypt    Alexandria   22.459583  21.181500  21.552583  21.438500  \n",
      "         Cairo        23.718250  21.986917  22.484250  22.907000  \n",
      "         Gizeh        23.718250  21.986917  22.484250  22.907000  \n",
      "Ethiopia Addis Abeba  18.298250  18.606750  18.448583  19.539000  \n",
      "France   Paris        10.409833  12.325750  11.219917  11.011625  \n",
      "Germany  Berlin        8.606833  10.556417   9.964333  10.121500  \n",
      "India    Ahmadabad    28.017833  27.290417  27.027250  27.608625  \n",
      "         Bangalore    25.705250  25.362083  26.042333  26.610500  \n",
      "         Bombay       27.765417  27.384917  27.192500  26.713000  \n",
      "         Calcutta     27.288833  26.406917  26.935083  27.369250  \n",
      "         Delhi        26.520250  25.629500  25.889417  26.709250  \n",
      "         Hyderabad    27.693417  27.408833  28.018583  28.851250  \n",
      "         Jaipur       26.818417  25.916500  25.884500  26.844125  \n",
      "         Kanpur       26.021750  25.062083  25.445417  26.121250  \n",
      "         Lakhnau      26.021750  25.062083  25.445417  26.121250  \n",
      "         Madras       29.047333  29.063167  29.778417  30.411750  \n",
      "         Nagpur       26.927000  26.004667  26.327917  27.112375  \n",
      "         New Delhi    26.520250  25.629500  25.889417  26.709250  \n",
      "         Pune         25.749167  25.161417  25.296833  25.847625  \n",
      "         Surat        27.681667  27.016583  26.889250  27.437750  \n"
     ]
    }
   ],
   "source": [
    "print(temp_by_country_city_vs_year.loc[\"Egypt\":\"India\"])"
   ]
  },
  {
   "cell_type": "markdown",
   "id": "1769ba49-aa08-473d-837a-ae9199ba4962",
   "metadata": {},
   "source": [
    "#### From Egypt, Cairo to India, Delhi."
   ]
  },
  {
   "cell_type": "code",
   "execution_count": 157,
   "id": "4370d52d-2848-4995-8c95-2916477620d8",
   "metadata": {
    "tags": []
   },
   "outputs": [
    {
     "name": "stdout",
     "output_type": "stream",
     "text": [
      "year                       2000       2001       2002       2003       2004  \\\n",
      "country  city                                                                 \n",
      "Egypt    Cairo        21.486167  22.330833  22.414083  22.170500  22.081917   \n",
      "         Gizeh        21.486167  22.330833  22.414083  22.170500  22.081917   \n",
      "Ethiopia Addis Abeba  18.241250  18.296417  18.469750  18.320917  18.292750   \n",
      "France   Paris        11.739667  11.371250  11.871333  11.909500  11.338833   \n",
      "Germany  Berlin       10.963667   9.690250  10.264417  10.065750   9.822583   \n",
      "India    Ahmadabad    27.436000  27.198083  27.719083  27.403833  27.628333   \n",
      "         Bangalore    25.337917  25.528167  25.755333  25.924750  25.252083   \n",
      "         Bombay       27.203667  27.243667  27.628667  27.578417  27.318750   \n",
      "         Calcutta     26.491333  26.515167  26.703917  26.561333  26.634333   \n",
      "         Delhi        26.048333  25.862917  26.634333  25.721083  26.239917   \n",
      "\n",
      "year                       2005       2006       2007       2008       2009  \\\n",
      "country  city                                                                 \n",
      "Egypt    Cairo        22.006500  22.050000  22.361000  22.644500  22.625000   \n",
      "         Gizeh        22.006500  22.050000  22.361000  22.644500  22.625000   \n",
      "Ethiopia Addis Abeba  18.312833  18.427083  18.142583  18.165000  18.765333   \n",
      "France   Paris        11.552917  11.788500  11.750833  11.278250  11.464083   \n",
      "Germany  Berlin        9.919083  10.545333  10.883167  10.657750  10.062500   \n",
      "India    Ahmadabad    26.828083  27.282833  27.511167  27.048500  28.095833   \n",
      "         Bangalore    25.476500  25.418250  25.464333  25.352583  25.725750   \n",
      "         Bombay       27.035750  27.381500  27.634667  27.177750  27.844500   \n",
      "         Calcutta     26.729167  26.986250  26.584583  26.522333  27.153250   \n",
      "         Delhi        25.716083  26.365917  26.145667  25.675000  26.554250   \n",
      "\n",
      "year                       2010       2011       2012       2013  \n",
      "country  city                                                     \n",
      "Egypt    Cairo        23.718250  21.986917  22.484250  22.907000  \n",
      "         Gizeh        23.718250  21.986917  22.484250  22.907000  \n",
      "Ethiopia Addis Abeba  18.298250  18.606750  18.448583  19.539000  \n",
      "France   Paris        10.409833  12.325750  11.219917  11.011625  \n",
      "Germany  Berlin        8.606833  10.556417   9.964333  10.121500  \n",
      "India    Ahmadabad    28.017833  27.290417  27.027250  27.608625  \n",
      "         Bangalore    25.705250  25.362083  26.042333  26.610500  \n",
      "         Bombay       27.765417  27.384917  27.192500  26.713000  \n",
      "         Calcutta     27.288833  26.406917  26.935083  27.369250  \n",
      "         Delhi        26.520250  25.629500  25.889417  26.709250  \n"
     ]
    }
   ],
   "source": [
    "print(temp_by_country_city_vs_year.loc[(\"Egypt\",\"Cairo\"):(\"India\",\"Delhi\")])"
   ]
  },
  {
   "cell_type": "markdown",
   "id": "c5affaf8-4466-4aea-a046-1e390287f873",
   "metadata": {},
   "source": [
    "#### From Egypt, Cairo to India, Delhi, and 2005 to 2010."
   ]
  },
  {
   "cell_type": "code",
   "execution_count": 158,
   "id": "b49a7ee9-36c2-4146-9382-63c4cf4b627c",
   "metadata": {
    "tags": []
   },
   "outputs": [
    {
     "name": "stdout",
     "output_type": "stream",
     "text": [
      "year                       2005       2006       2007       2008       2009  \\\n",
      "country  city                                                                 \n",
      "Egypt    Cairo        22.006500  22.050000  22.361000  22.644500  22.625000   \n",
      "         Gizeh        22.006500  22.050000  22.361000  22.644500  22.625000   \n",
      "Ethiopia Addis Abeba  18.312833  18.427083  18.142583  18.165000  18.765333   \n",
      "France   Paris        11.552917  11.788500  11.750833  11.278250  11.464083   \n",
      "Germany  Berlin        9.919083  10.545333  10.883167  10.657750  10.062500   \n",
      "India    Ahmadabad    26.828083  27.282833  27.511167  27.048500  28.095833   \n",
      "         Bangalore    25.476500  25.418250  25.464333  25.352583  25.725750   \n",
      "         Bombay       27.035750  27.381500  27.634667  27.177750  27.844500   \n",
      "         Calcutta     26.729167  26.986250  26.584583  26.522333  27.153250   \n",
      "         Delhi        25.716083  26.365917  26.145667  25.675000  26.554250   \n",
      "\n",
      "year                       2010  \n",
      "country  city                    \n",
      "Egypt    Cairo        23.718250  \n",
      "         Gizeh        23.718250  \n",
      "Ethiopia Addis Abeba  18.298250  \n",
      "France   Paris        10.409833  \n",
      "Germany  Berlin        8.606833  \n",
      "India    Ahmadabad    28.017833  \n",
      "         Bangalore    25.705250  \n",
      "         Bombay       27.765417  \n",
      "         Calcutta     27.288833  \n",
      "         Delhi        26.520250  \n"
     ]
    }
   ],
   "source": [
    "print(temp_by_country_city_vs_year.loc[(\"Egypt\",\"Cairo\"):(\"India\",\"Delhi\"), 2005:2010])"
   ]
  },
  {
   "cell_type": "markdown",
   "id": "833da28c-1e86-48f3-b994-7b2abb1953c8",
   "metadata": {},
   "source": [
    "## Calculating on a pivot table"
   ]
  },
  {
   "cell_type": "markdown",
   "id": "3101d177-28e0-4306-a786-3ed2b840f357",
   "metadata": {},
   "source": [
    "**Pivot tables** are filled with summary statistics, but they are only a first step to finding something insightful. Often you'll need to perform further calculations on them. A common thing to do is to find the rows or columns where the highest or lowest value occurs.\n",
    "\n",
    "Recall from Chapter 1 that you can easily subset a Series or DataFrame to find rows of interest using a logical condition inside of square brackets. For example: `series[series > value]`.\n",
    "\n",
    "`pandas` is loaded as pd and the DataFrame `temp_by_country_city_vs_year` is available."
   ]
  },
  {
   "cell_type": "markdown",
   "id": "00654061-78fd-4172-b304-6206edc7406a",
   "metadata": {},
   "source": [
    "### Calculate the mean temperature for each year, assigning to `mean_temp_by_year`."
   ]
  },
  {
   "cell_type": "code",
   "execution_count": 162,
   "id": "930dd9c8-c850-4992-8b2b-3fcb097025aa",
   "metadata": {
    "tags": []
   },
   "outputs": [
    {
     "name": "stdout",
     "output_type": "stream",
     "text": [
      "year\n",
      "2000    19.506243\n",
      "2001    19.679352\n",
      "2002    19.855685\n",
      "2003    19.630197\n",
      "2004    19.672204\n",
      "2005    19.607239\n",
      "2006    19.793993\n",
      "2007    19.854270\n",
      "2008    19.608778\n",
      "2009    19.833752\n",
      "2010    19.911734\n",
      "2011    19.549197\n",
      "2012    19.668239\n",
      "2013    20.312285\n",
      "dtype: float64\n"
     ]
    }
   ],
   "source": [
    "mean_temp_by_year = temp_by_country_city_vs_year.mean()\n",
    "print(mean_temp_by_year)"
   ]
  },
  {
   "cell_type": "markdown",
   "id": "366e0040-2aeb-4cb5-8391-64e4c82aac62",
   "metadata": {},
   "source": [
    "### Filter `mean_temp_by_year` for the year that had the highest mean temperature."
   ]
  },
  {
   "cell_type": "code",
   "execution_count": 172,
   "id": "202a87b8-4aa1-4a50-bd93-938ffe6ed131",
   "metadata": {
    "tags": []
   },
   "outputs": [
    {
     "name": "stdout",
     "output_type": "stream",
     "text": [
      "year\n",
      "2013    20.312285\n",
      "dtype: float64\n"
     ]
    }
   ],
   "source": [
    "print(mean_temp_by_year[mean_temp_by_year == mean_temp_by_year.max()])"
   ]
  },
  {
   "cell_type": "markdown",
   "id": "ff3bc15a-c091-4ca9-b957-4ffb8b8501e0",
   "metadata": {},
   "source": [
    "### Calculate the mean temperature for each city (across columns), assigning to `mean_temp_by_city`."
   ]
  },
  {
   "cell_type": "code",
   "execution_count": 167,
   "id": "facf372e-f105-45b3-a093-700da7a2d949",
   "metadata": {
    "tags": []
   },
   "outputs": [
    {
     "data": {
      "text/plain": [
       "country        city            \n",
       "Afghanistan    Kabul               15.541955\n",
       "Angola         Luanda              24.391616\n",
       "Australia      Melbourne           14.275411\n",
       "               Sydney              17.799250\n",
       "Bangladesh     Dhaka               26.174440\n",
       "                                     ...    \n",
       "United States  Chicago             11.330825\n",
       "               Los Angeles         16.675399\n",
       "               New York            10.911034\n",
       "Vietnam        Ho Chi Minh City    27.922857\n",
       "Zimbabwe       Harare              20.699000\n",
       "Length: 100, dtype: float64"
      ]
     },
     "execution_count": 167,
     "metadata": {},
     "output_type": "execute_result"
    }
   ],
   "source": [
    "mean_temp_by_city = temp_by_country_city_vs_year.mean(axis=\"columns\")\n",
    "mean_temp_by_city"
   ]
  },
  {
   "cell_type": "markdown",
   "id": "828785c1-fd1b-4b68-8e9b-d71da27b7b97",
   "metadata": {},
   "source": [
    "### Filter mean_temp_by_city for the city that had the lowest mean temperature."
   ]
  },
  {
   "cell_type": "code",
   "execution_count": 170,
   "id": "b72c5740-5304-4fd5-a922-e305d088516b",
   "metadata": {
    "tags": []
   },
   "outputs": [
    {
     "name": "stdout",
     "output_type": "stream",
     "text": [
      "country  city  \n",
      "China    Harbin    4.876551\n",
      "dtype: float64\n"
     ]
    }
   ],
   "source": [
    "print(mean_temp_by_city[mean_temp_by_city == mean_temp_by_city.min()])"
   ]
  }
 ],
 "metadata": {
  "kernelspec": {
   "display_name": "Python 3 (ipykernel)",
   "language": "python",
   "name": "python3"
  },
  "language_info": {
   "codemirror_mode": {
    "name": "ipython",
    "version": 3
   },
   "file_extension": ".py",
   "mimetype": "text/x-python",
   "name": "python",
   "nbconvert_exporter": "python",
   "pygments_lexer": "ipython3",
   "version": "3.11.5"
  }
 },
 "nbformat": 4,
 "nbformat_minor": 5
}
